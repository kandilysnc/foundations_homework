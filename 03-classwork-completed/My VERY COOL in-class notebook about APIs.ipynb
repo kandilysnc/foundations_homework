{
 "cells": [
  {
   "cell_type": "code",
   "execution_count": 1,
   "metadata": {},
   "outputs": [
    {
     "name": "stdout",
     "output_type": "stream",
     "text": [
      "Hello world\n"
     ]
    }
   ],
   "source": [
    "print(\"Hello world\")"
   ]
  },
  {
   "cell_type": "code",
   "execution_count": 18,
   "metadata": {},
   "outputs": [
    {
     "data": {
      "text/plain": [
       "8"
      ]
     },
     "execution_count": 18,
     "metadata": {},
     "output_type": "execute_result"
    }
   ],
   "source": [
    "4+4"
   ]
  },
  {
   "cell_type": "code",
   "execution_count": 4,
   "metadata": {},
   "outputs": [
    {
     "name": "stdout",
     "output_type": "stream",
     "text": [
      "Hello world\n"
     ]
    },
    {
     "data": {
      "text/plain": [
       "8"
      ]
     },
     "execution_count": 4,
     "metadata": {},
     "output_type": "execute_result"
    }
   ],
   "source": [
    "# Select your cell (green highlight)\n",
    "# hold shift, press enter\n",
    "print(\"Hello world\")\n",
    "4+4"
   ]
  },
  {
   "cell_type": "code",
   "execution_count": 5,
   "metadata": {},
   "outputs": [
    {
     "name": "stdout",
     "output_type": "stream",
     "text": [
      "Hello world\n"
     ]
    }
   ],
   "source": [
    "4+4\n",
    "print(\"Hello world\")"
   ]
  },
  {
   "cell_type": "code",
   "execution_count": 6,
   "metadata": {},
   "outputs": [
    {
     "data": {
      "text/plain": [
       "'Hello world'"
      ]
     },
     "execution_count": 6,
     "metadata": {},
     "output_type": "execute_result"
    }
   ],
   "source": [
    "4+4\n",
    "\"Hello world\""
   ]
  },
  {
   "cell_type": "code",
   "execution_count": 7,
   "metadata": {},
   "outputs": [
    {
     "name": "stdout",
     "output_type": "stream",
     "text": [
      "8\n"
     ]
    },
    {
     "data": {
      "text/plain": [
       "'Hello world'"
      ]
     },
     "execution_count": 7,
     "metadata": {},
     "output_type": "execute_result"
    }
   ],
   "source": [
    "print(4+4)\n",
    "\"Hello world\""
   ]
  },
  {
   "cell_type": "code",
   "execution_count": 8,
   "metadata": {},
   "outputs": [
    {
     "data": {
      "text/plain": [
       "{'title': 'The Empire Strikes Back',\n",
       " 'episode_id': 5,\n",
       " 'opening_crawl': 'It is a dark time for the\\r\\nRebellion. Although the Death\\r\\nStar has been destroyed,\\r\\nImperial troops have driven the\\r\\nRebel forces from their hidden\\r\\nbase and pursued them across\\r\\nthe galaxy.\\r\\n\\r\\nEvading the dreaded Imperial\\r\\nStarfleet, a group of freedom\\r\\nfighters led by Luke Skywalker\\r\\nhas established a new secret\\r\\nbase on the remote ice world\\r\\nof Hoth.\\r\\n\\r\\nThe evil lord Darth Vader,\\r\\nobsessed with finding young\\r\\nSkywalker, has dispatched\\r\\nthousands of remote probes into\\r\\nthe far reaches of space....',\n",
       " 'director': 'Irvin Kershner',\n",
       " 'producer': 'Gary Kurtz, Rick McCallum',\n",
       " 'release_date': '1980-05-17',\n",
       " 'characters': ['https://swapi.co/api/people/1/',\n",
       "  'https://swapi.co/api/people/2/',\n",
       "  'https://swapi.co/api/people/3/',\n",
       "  'https://swapi.co/api/people/4/',\n",
       "  'https://swapi.co/api/people/5/',\n",
       "  'https://swapi.co/api/people/10/',\n",
       "  'https://swapi.co/api/people/13/',\n",
       "  'https://swapi.co/api/people/14/',\n",
       "  'https://swapi.co/api/people/18/',\n",
       "  'https://swapi.co/api/people/20/',\n",
       "  'https://swapi.co/api/people/21/',\n",
       "  'https://swapi.co/api/people/22/',\n",
       "  'https://swapi.co/api/people/23/',\n",
       "  'https://swapi.co/api/people/24/',\n",
       "  'https://swapi.co/api/people/25/',\n",
       "  'https://swapi.co/api/people/26/'],\n",
       " 'planets': ['https://swapi.co/api/planets/4/',\n",
       "  'https://swapi.co/api/planets/5/',\n",
       "  'https://swapi.co/api/planets/6/',\n",
       "  'https://swapi.co/api/planets/27/'],\n",
       " 'starships': ['https://swapi.co/api/starships/15/',\n",
       "  'https://swapi.co/api/starships/10/',\n",
       "  'https://swapi.co/api/starships/11/',\n",
       "  'https://swapi.co/api/starships/12/',\n",
       "  'https://swapi.co/api/starships/21/',\n",
       "  'https://swapi.co/api/starships/22/',\n",
       "  'https://swapi.co/api/starships/23/',\n",
       "  'https://swapi.co/api/starships/3/',\n",
       "  'https://swapi.co/api/starships/17/'],\n",
       " 'vehicles': ['https://swapi.co/api/vehicles/8/',\n",
       "  'https://swapi.co/api/vehicles/14/',\n",
       "  'https://swapi.co/api/vehicles/16/',\n",
       "  'https://swapi.co/api/vehicles/18/',\n",
       "  'https://swapi.co/api/vehicles/19/',\n",
       "  'https://swapi.co/api/vehicles/20/'],\n",
       " 'species': ['https://swapi.co/api/species/6/',\n",
       "  'https://swapi.co/api/species/7/',\n",
       "  'https://swapi.co/api/species/3/',\n",
       "  'https://swapi.co/api/species/2/',\n",
       "  'https://swapi.co/api/species/1/'],\n",
       " 'created': '2014-12-12T11:26:24.656000Z',\n",
       " 'edited': '2017-04-19T10:57:29.544256Z',\n",
       " 'url': 'https://swapi.co/api/films/2/'}"
      ]
     },
     "execution_count": 8,
     "metadata": {},
     "output_type": "execute_result"
    }
   ],
   "source": [
    "import requests\n",
    "\n",
    "response = requests.get('https://swapi.co/api/films/2/')\n",
    "film = response.json()\n",
    "film"
   ]
  },
  {
   "cell_type": "code",
   "execution_count": 9,
   "metadata": {},
   "outputs": [
    {
     "data": {
      "text/plain": [
       "dict_keys(['title', 'episode_id', 'opening_crawl', 'director', 'producer', 'release_date', 'characters', 'planets', 'starships', 'vehicles', 'species', 'created', 'edited', 'url'])"
      ]
     },
     "execution_count": 9,
     "metadata": {},
     "output_type": "execute_result"
    }
   ],
   "source": [
    "film.keys()"
   ]
  },
  {
   "cell_type": "code",
   "execution_count": 11,
   "metadata": {},
   "outputs": [
    {
     "data": {
      "text/plain": [
       "['https://swapi.co/api/people/1/',\n",
       " 'https://swapi.co/api/people/2/',\n",
       " 'https://swapi.co/api/people/3/',\n",
       " 'https://swapi.co/api/people/4/',\n",
       " 'https://swapi.co/api/people/5/',\n",
       " 'https://swapi.co/api/people/10/',\n",
       " 'https://swapi.co/api/people/13/',\n",
       " 'https://swapi.co/api/people/14/',\n",
       " 'https://swapi.co/api/people/18/',\n",
       " 'https://swapi.co/api/people/20/',\n",
       " 'https://swapi.co/api/people/21/',\n",
       " 'https://swapi.co/api/people/22/',\n",
       " 'https://swapi.co/api/people/23/',\n",
       " 'https://swapi.co/api/people/24/',\n",
       " 'https://swapi.co/api/people/25/',\n",
       " 'https://swapi.co/api/people/26/']"
      ]
     },
     "execution_count": 11,
     "metadata": {},
     "output_type": "execute_result"
    }
   ],
   "source": [
    "film['characters']"
   ]
  },
  {
   "cell_type": "code",
   "execution_count": 13,
   "metadata": {},
   "outputs": [
    {
     "data": {
      "text/plain": [
       "16"
      ]
     },
     "execution_count": 13,
     "metadata": {},
     "output_type": "execute_result"
    }
   ],
   "source": [
    "# I'm curious about how many people are in this film\n",
    "len(film['characters'])"
   ]
  },
  {
   "cell_type": "code",
   "execution_count": 14,
   "metadata": {},
   "outputs": [],
   "source": [
    "#\n",
    "# HOMEWORK!!!\n",
    "# PART !!!!\n",
    "# 1!!!!\n",
    "#"
   ]
  },
  {
   "cell_type": "code",
   "execution_count": 15,
   "metadata": {},
   "outputs": [
    {
     "name": "stdout",
     "output_type": "stream",
     "text": [
      "Hello world\n"
     ]
    }
   ],
   "source": [
    "print(\"Hello world\")"
   ]
  },
  {
   "cell_type": "code",
   "execution_count": 16,
   "metadata": {},
   "outputs": [],
   "source": [
    "#\n",
    "# HOMEWORK !!!\n",
    "# PART !!!\n",
    "# 2 !!!\n",
    "#"
   ]
  },
  {
   "cell_type": "markdown",
   "metadata": {},
   "source": [
    "# Homework Part 1\n",
    "\n",
    "## I don't know what I'm doing\n",
    "\n",
    "It's impossible and **weird** and *nothing* [works](http://google.com)"
   ]
  },
  {
   "cell_type": "code",
   "execution_count": null,
   "metadata": {},
   "outputs": [],
   "source": []
  }
 ],
 "metadata": {
  "kernelspec": {
   "display_name": "Python 3",
   "language": "python",
   "name": "python3"
  },
  "language_info": {
   "codemirror_mode": {
    "name": "ipython",
    "version": 3
   },
   "file_extension": ".py",
   "mimetype": "text/x-python",
   "name": "python",
   "nbconvert_exporter": "python",
   "pygments_lexer": "ipython3",
   "version": "3.6.7"
  }
 },
 "nbformat": 4,
 "nbformat_minor": 2
}
