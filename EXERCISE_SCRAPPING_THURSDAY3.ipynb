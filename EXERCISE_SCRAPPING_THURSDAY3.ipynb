{
 "cells": [
  {
   "cell_type": "code",
   "execution_count": 1,
   "metadata": {},
   "outputs": [],
   "source": [
    "import pandas as pd\n",
    "import requests\n",
    "from bs4 import BeautifulSoup"
   ]
  },
  {
   "cell_type": "code",
   "execution_count": 2,
   "metadata": {},
   "outputs": [
    {
     "data": {
      "text/html": [
       "<div>\n",
       "<style scoped>\n",
       "    .dataframe tbody tr th:only-of-type {\n",
       "        vertical-align: middle;\n",
       "    }\n",
       "\n",
       "    .dataframe tbody tr th {\n",
       "        vertical-align: top;\n",
       "    }\n",
       "\n",
       "    .dataframe thead th {\n",
       "        text-align: right;\n",
       "    }\n",
       "</style>\n",
       "<table border=\"1\" class=\"dataframe\">\n",
       "  <thead>\n",
       "    <tr style=\"text-align: right;\">\n",
       "      <th></th>\n",
       "      <th>name</th>\n",
       "      <th>slug</th>\n",
       "    </tr>\n",
       "  </thead>\n",
       "  <tbody>\n",
       "    <tr>\n",
       "      <th>0</th>\n",
       "      <td>Senator Abdnor, James</td>\n",
       "      <td>james-abdnor/A000009</td>\n",
       "    </tr>\n",
       "    <tr>\n",
       "      <th>1</th>\n",
       "      <td>Representative Abercrombie, Neil</td>\n",
       "      <td>neil-abercrombie/A000014</td>\n",
       "    </tr>\n",
       "    <tr>\n",
       "      <th>2</th>\n",
       "      <td>Senator Abourezk, James</td>\n",
       "      <td>james-abourezk/A000017</td>\n",
       "    </tr>\n",
       "    <tr>\n",
       "      <th>3</th>\n",
       "      <td>Representative Abraham, Ralph Lee</td>\n",
       "      <td>ralph-abraham/A000374</td>\n",
       "    </tr>\n",
       "    <tr>\n",
       "      <th>4</th>\n",
       "      <td>Senator Abraham, Spencer</td>\n",
       "      <td>spencer-abraham/A000355</td>\n",
       "    </tr>\n",
       "  </tbody>\n",
       "</table>\n",
       "</div>"
      ],
      "text/plain": [
       "                                name                      slug\n",
       "0              Senator Abdnor, James      james-abdnor/A000009\n",
       "1   Representative Abercrombie, Neil  neil-abercrombie/A000014\n",
       "2            Senator Abourezk, James    james-abourezk/A000017\n",
       "3  Representative Abraham, Ralph Lee     ralph-abraham/A000374\n",
       "4           Senator Abraham, Spencer   spencer-abraham/A000355"
      ]
     },
     "execution_count": 2,
     "metadata": {},
     "output_type": "execute_result"
    }
   ],
   "source": [
    "df = pd.read_csv(\"congress.csv\")\n",
    "# Removing the URL column just to make things harder for us\n",
    "# (BUT THE THINGS WE'LL LEARN!!!)\n",
    "df = df.drop(columns='url')\n",
    "df.head()"
   ]
  },
  {
   "cell_type": "code",
   "execution_count": 3,
   "metadata": {},
   "outputs": [],
   "source": [
    "url = \"https://www.congress.gov/member/james-abdnor/A000009\"\n",
    "response = requests.get(url)\n",
    "doc = BeautifulSoup(response.text)"
   ]
  },
  {
   "cell_type": "code",
   "execution_count": 6,
   "metadata": {},
   "outputs": [
    {
     "data": {
      "text/plain": [
       "<h1 class=\"legDetail\">Senator James Abdnor<span class=\"birthdate\"> (1923 - 2012)</span><span>In Congress 1973 - 1987</span></h1>"
      ]
     },
     "execution_count": 6,
     "metadata": {},
     "output_type": "execute_result"
    }
   ],
   "source": [
    "doc.find(class_='legDetail')\n"
   ]
  },
  {
   "cell_type": "code",
   "execution_count": 7,
   "metadata": {},
   "outputs": [
    {
     "data": {
      "text/plain": [
       "'Senator James Abdnor'"
      ]
     },
     "execution_count": 7,
     "metadata": {},
     "output_type": "execute_result"
    }
   ],
   "source": [
    "doc.find(class_='legDetail').next_element #name, next elemen untuk print elemen setelah class_='legDetail'"
   ]
  },
  {
   "cell_type": "code",
   "execution_count": 9,
   "metadata": {},
   "outputs": [
    {
     "name": "stdout",
     "output_type": "stream",
     "text": [
      "Senator James Abdnor  (1923 - 2012)\n"
     ]
    }
   ],
   "source": [
    "name = doc.find(class_='legDetail').next_element\n",
    "birthdate = doc.find(class_='birthdate').text\n",
    "print(name, birthdate)\n",
    "\n"
   ]
  },
  {
   "cell_type": "code",
   "execution_count": 16,
   "metadata": {},
   "outputs": [
    {
     "data": {
      "text/plain": [
       "'In Congress 1973 - 1987'"
      ]
     },
     "execution_count": 16,
     "metadata": {},
     "output_type": "execute_result"
    }
   ],
   "source": [
    "congress_year = doc.find(class_='birthdate').find_next_sibling('span').text\n",
    "congress_year"
   ]
  },
  {
   "cell_type": "code",
   "execution_count": 17,
   "metadata": {},
   "outputs": [
    {
     "name": "stdout",
     "output_type": "stream",
     "text": [
      "Senator James Abdnor  (1923 - 2012) In Congress 1973 - 1987\n"
     ]
    }
   ],
   "source": [
    "doc.find(class_='birthdate').next_element\n",
    "print(name, birthdate, congress_year)"
   ]
  },
  {
   "cell_type": "code",
   "execution_count": 19,
   "metadata": {},
   "outputs": [
    {
     "data": {
      "text/plain": [
       "<span class=\"results-number\">\n",
       "<strong>\n",
       "                    1-100                </strong>\n",
       "                of 1,949            </span>"
      ]
     },
     "execution_count": 19,
     "metadata": {},
     "output_type": "execute_result"
    }
   ],
   "source": [
    "doc.select_one('#searchTune > div.basic-search-tune-number > span')"
   ]
  },
  {
   "cell_type": "code",
   "execution_count": 18,
   "metadata": {},
   "outputs": [
    {
     "name": "stdout",
     "output_type": "stream",
     "text": [
      "Senator James Abdnor  (1923 - 2012) In Congress 1973 - 1987 1-100                \r\n",
      "                of 1,949\n"
     ]
    }
   ],
   "source": [
    "# find and print out his name\n",
    "# doc.find, not doc.find_all, because there is only ONE name\n",
    "name = doc.find(class_='legDetail').next_element\n",
    "birthdate = doc.find(class_='birthdate').text\n",
    "in_congress = doc.find(class_='birthdate').find_next_sibling('span').text\n",
    "bill_count = doc.select_one('#searchTune > div.basic-search-tune-number > span').text.strip()\n",
    "print(name, birthdate, in_congress, bill_count)"
   ]
  },
  {
   "cell_type": "markdown",
   "metadata": {},
   "source": [
    "***TURN INTO DICTIONARY***"
   ]
  },
  {
   "cell_type": "code",
   "execution_count": 20,
   "metadata": {},
   "outputs": [
    {
     "name": "stdout",
     "output_type": "stream",
     "text": [
      "{'name': 'Senator James Abdnor', 'birthdate': ' (1923 - 2012)', 'in_congress': 'In Congress 1973 - 1987', 'bill_count': '1-100                \\r\\n                of 1,949'}\n"
     ]
    }
   ],
   "source": [
    "# find and print out his name\n",
    "# doc.find, not doc.find_all, because there is only ONE name\n",
    "page = {}\n",
    "\n",
    "page['name'] = doc.find(class_='legDetail').next_element\n",
    "page['birthdate'] = doc.find(class_='birthdate').text\n",
    "page['in_congress'] = doc.find(class_='birthdate').find_next_sibling('span').text\n",
    "page['bill_count'] = doc.select_one('#searchTune > div.basic-search-tune-number > span').text.strip()\n",
    "print(page)"
   ]
  },
  {
   "cell_type": "code",
   "execution_count": 22,
   "metadata": {},
   "outputs": [
    {
     "name": "stdout",
     "output_type": "stream",
     "text": [
      "We are scraping https://www.congress.gov/member/james-abdnor/A000009\n",
      "{'name': 'Senator James Abdnor', 'birthdate': ' (1923 - 2012)', 'in_congress': 'In Congress 1973 - 1987', 'bill_count': '1-100                \\r\\n                of 1,949'}\n"
     ]
    }
   ],
   "source": [
    "# Put *everything* in here\n",
    "# Also add in the code where we downloaded the page\n",
    "url = \"https://www.congress.gov/member/james-abdnor/A000009\"\n",
    "print(\"We are scraping\", url)\n",
    "\n",
    "response = requests.get(url)\n",
    "doc = BeautifulSoup(response.text)\n",
    "\n",
    "# find and print out his name\n",
    "# doc.find, not doc.find_all, because there is only ONE name\n",
    "page = {}\n",
    "\n",
    "page['name'] = doc.find(class_='legDetail').next_element\n",
    "page['birthdate'] = doc.find(class_='birthdate').text\n",
    "page['in_congress'] = doc.find(class_='birthdate').find_next_sibling('span').text\n",
    "page['bill_count'] = doc.select_one('#searchTune > div.basic-search-tune-number > span').text.strip()\n",
    "print(page) "
   ]
  },
  {
   "cell_type": "markdown",
   "metadata": {},
   "source": [
    "***LET'S BUILD A FUNCTION***"
   ]
  },
  {
   "cell_type": "code",
   "execution_count": 32,
   "metadata": {},
   "outputs": [],
   "source": [
    "def scrape_page(row):\n",
    "    print(\"Scraping\", row['slug'])\n"
   ]
  },
  {
   "cell_type": "code",
   "execution_count": 33,
   "metadata": {},
   "outputs": [
    {
     "data": {
      "text/plain": [
       "(10, 2)"
      ]
     },
     "execution_count": 33,
     "metadata": {},
     "output_type": "execute_result"
    }
   ],
   "source": [
    "df = df.head(10)\n",
    "df.shape"
   ]
  },
  {
   "cell_type": "code",
   "execution_count": 34,
   "metadata": {},
   "outputs": [
    {
     "name": "stdout",
     "output_type": "stream",
     "text": [
      "Scraping james-abdnor/A000009\n",
      "Scraping neil-abercrombie/A000014\n",
      "Scraping james-abourezk/A000017\n",
      "Scraping ralph-abraham/A000374\n",
      "Scraping spencer-abraham/A000355\n",
      "Scraping bella-abzug/A000018\n",
      "Scraping anibal-acevedo-vila/A000359\n",
      "Scraping gary-ackerman/A000022\n",
      "Scraping alma-adams/A000370\n",
      "Scraping brockman-adams/A000031\n"
     ]
    },
    {
     "data": {
      "text/plain": [
       "0    None\n",
       "1    None\n",
       "2    None\n",
       "3    None\n",
       "4    None\n",
       "5    None\n",
       "6    None\n",
       "7    None\n",
       "8    None\n",
       "9    None\n",
       "dtype: object"
      ]
     },
     "execution_count": 34,
     "metadata": {},
     "output_type": "execute_result"
    }
   ],
   "source": [
    "# YO!\n",
    "# Take my dataframe - df.\n",
    "# Go through every single row - axis=1\n",
    "# And feed it to scrape_page - .apply(scrape_page\n",
    "df.apply(scrape_page, axis=1)"
   ]
  },
  {
   "cell_type": "code",
   "execution_count": 35,
   "metadata": {},
   "outputs": [],
   "source": [
    "def scrape_page(row):\n",
    "    # These both work the same\n",
    "    url = f\"https://www.congress.gov/member/\" + row['slug']\n",
    "    url = f\"https://www.congress.gov/member/{row['slug']}\"\n",
    "    # Print out the 'slug' column\n",
    "    # print(\"Scraping\", row['slug'])\n",
    "    print(\"Scraping\", url)"
   ]
  },
  {
   "cell_type": "code",
   "execution_count": 36,
   "metadata": {},
   "outputs": [
    {
     "name": "stdout",
     "output_type": "stream",
     "text": [
      "Scraping https://www.congress.gov/member/james-abdnor/A000009\n",
      "Scraping https://www.congress.gov/member/neil-abercrombie/A000014\n",
      "Scraping https://www.congress.gov/member/james-abourezk/A000017\n",
      "Scraping https://www.congress.gov/member/ralph-abraham/A000374\n",
      "Scraping https://www.congress.gov/member/spencer-abraham/A000355\n",
      "Scraping https://www.congress.gov/member/bella-abzug/A000018\n",
      "Scraping https://www.congress.gov/member/anibal-acevedo-vila/A000359\n",
      "Scraping https://www.congress.gov/member/gary-ackerman/A000022\n",
      "Scraping https://www.congress.gov/member/alma-adams/A000370\n",
      "Scraping https://www.congress.gov/member/brockman-adams/A000031\n"
     ]
    },
    {
     "data": {
      "text/plain": [
       "0    None\n",
       "1    None\n",
       "2    None\n",
       "3    None\n",
       "4    None\n",
       "5    None\n",
       "6    None\n",
       "7    None\n",
       "8    None\n",
       "9    None\n",
       "dtype: object"
      ]
     },
     "execution_count": 36,
     "metadata": {},
     "output_type": "execute_result"
    }
   ],
   "source": [
    "# YO!\n",
    "# Take my dataframe - df.\n",
    "# Go through every single row - axis=1\n",
    "# And feed it to scrape_page - .apply(scrape_page\n",
    "df.apply(scrape_page, axis=1)"
   ]
  },
  {
   "cell_type": "code",
   "execution_count": 37,
   "metadata": {},
   "outputs": [
    {
     "name": "stdout",
     "output_type": "stream",
     "text": [
      "Scraping https://www.congress.gov/member/james-abdnor/A000009\n",
      "Scraping https://www.congress.gov/member/neil-abercrombie/A000014\n",
      "Scraping https://www.congress.gov/member/james-abourezk/A000017\n",
      "Scraping https://www.congress.gov/member/ralph-abraham/A000374\n",
      "Scraping https://www.congress.gov/member/spencer-abraham/A000355\n",
      "Scraping https://www.congress.gov/member/bella-abzug/A000018\n",
      "Scraping https://www.congress.gov/member/anibal-acevedo-vila/A000359\n",
      "Scraping https://www.congress.gov/member/gary-ackerman/A000022\n",
      "Scraping https://www.congress.gov/member/alma-adams/A000370\n",
      "Scraping https://www.congress.gov/member/brockman-adams/A000031\n"
     ]
    },
    {
     "data": {
      "text/plain": [
       "0    None\n",
       "1    None\n",
       "2    None\n",
       "3    None\n",
       "4    None\n",
       "5    None\n",
       "6    None\n",
       "7    None\n",
       "8    None\n",
       "9    None\n",
       "dtype: object"
      ]
     },
     "execution_count": 37,
     "metadata": {},
     "output_type": "execute_result"
    }
   ],
   "source": [
    "df.apply(scrape_page, axis=1)"
   ]
  },
  {
   "cell_type": "code",
   "execution_count": 39,
   "metadata": {},
   "outputs": [
    {
     "data": {
      "text/plain": [
       "name    Senator Abdnor, James\n",
       "slug     james-abdnor/A000009\n",
       "Name: 0, dtype: object"
      ]
     },
     "execution_count": 39,
     "metadata": {},
     "output_type": "execute_result"
    }
   ],
   "source": [
    "df.loc[0] #ngasih hanya first row saja"
   ]
  },
  {
   "cell_type": "code",
   "execution_count": 41,
   "metadata": {},
   "outputs": [],
   "source": [
    "def scrape_page(row):\n",
    "    # These both work the same\n",
    "    url = f\"https://www.congress.gov/member/\" + row['slug']\n",
    "    url = f\"https://www.congress.gov/member/{row['slug']}\"\n",
    "    # Print out the 'slug' column\n",
    "    print(\"Scraping\", url)\n",
    "\n",
    "    # Steal all of our scraping code from before\n",
    "    response = requests.get(url)\n",
    "    doc = BeautifulSoup(response.text)\n",
    "\n",
    "    # find and print out his name\n",
    "    # doc.find, not doc.find_all, because there is only ONE name\n",
    "    page = {}\n",
    "\n",
    "    page['name'] = doc.find(class_='legDetail').next_element\n",
    "    page['birthdate'] = doc.find(class_='birthdate').text\n",
    "    page['in_congress'] = doc.find(class_='birthdate').find_next_sibling('span').text\n",
    "    page['bill_count'] = doc.select_one('#searchTune > div.basic-search-tune-number > span').text.strip()\n",
    "\n",
    "    # In your function, always return pd.Series(page)\n",
    "    # It converts what you've scraped into a dataframe\n",
    "    return pd.Series(page)\n"
   ]
  },
  {
   "cell_type": "code",
   "execution_count": 43,
   "metadata": {},
   "outputs": [
    {
     "name": "stdout",
     "output_type": "stream",
     "text": [
      "Scraping https://www.congress.gov/member/james-abdnor/A000009\n",
      "Scraping https://www.congress.gov/member/james-abdnor/A000009\n",
      "Scraping https://www.congress.gov/member/neil-abercrombie/A000014\n",
      "Scraping https://www.congress.gov/member/james-abourezk/A000017\n",
      "Scraping https://www.congress.gov/member/ralph-abraham/A000374\n",
      "Scraping https://www.congress.gov/member/spencer-abraham/A000355\n",
      "Scraping https://www.congress.gov/member/bella-abzug/A000018\n",
      "Scraping https://www.congress.gov/member/anibal-acevedo-vila/A000359\n",
      "Scraping https://www.congress.gov/member/gary-ackerman/A000022\n",
      "Scraping https://www.congress.gov/member/alma-adams/A000370\n",
      "Scraping https://www.congress.gov/member/brockman-adams/A000031\n"
     ]
    }
   ],
   "source": [
    "scraped_df = df.apply(scrape_page, axis=1)"
   ]
  },
  {
   "cell_type": "code",
   "execution_count": 44,
   "metadata": {},
   "outputs": [
    {
     "data": {
      "text/html": [
       "<div>\n",
       "<style scoped>\n",
       "    .dataframe tbody tr th:only-of-type {\n",
       "        vertical-align: middle;\n",
       "    }\n",
       "\n",
       "    .dataframe tbody tr th {\n",
       "        vertical-align: top;\n",
       "    }\n",
       "\n",
       "    .dataframe thead th {\n",
       "        text-align: right;\n",
       "    }\n",
       "</style>\n",
       "<table border=\"1\" class=\"dataframe\">\n",
       "  <thead>\n",
       "    <tr style=\"text-align: right;\">\n",
       "      <th></th>\n",
       "      <th>name_x</th>\n",
       "      <th>slug</th>\n",
       "      <th>name_y</th>\n",
       "      <th>birthdate</th>\n",
       "      <th>in_congress</th>\n",
       "      <th>bill_count</th>\n",
       "    </tr>\n",
       "  </thead>\n",
       "  <tbody>\n",
       "    <tr>\n",
       "      <th>0</th>\n",
       "      <td>Senator Abdnor, James</td>\n",
       "      <td>james-abdnor/A000009</td>\n",
       "      <td>Senator James Abdnor</td>\n",
       "      <td>(1923 - 2012)</td>\n",
       "      <td>In Congress 1973 - 1987</td>\n",
       "      <td>1-100                \\r\\n                of 1,949</td>\n",
       "    </tr>\n",
       "    <tr>\n",
       "      <th>1</th>\n",
       "      <td>Representative Abercrombie, Neil</td>\n",
       "      <td>neil-abercrombie/A000014</td>\n",
       "      <td>Representative Neil Abercrombie</td>\n",
       "      <td>(1938 - )</td>\n",
       "      <td>In Congress 1985 - 1987, 1991 - 2011</td>\n",
       "      <td>1-100                \\r\\n                of 4,472</td>\n",
       "    </tr>\n",
       "    <tr>\n",
       "      <th>2</th>\n",
       "      <td>Senator Abourezk, James</td>\n",
       "      <td>james-abourezk/A000017</td>\n",
       "      <td>Senator James Abourezk</td>\n",
       "      <td>(1931 - )</td>\n",
       "      <td>In Congress 1971 - 1979</td>\n",
       "      <td>1-100                \\r\\n                of 875</td>\n",
       "    </tr>\n",
       "    <tr>\n",
       "      <th>3</th>\n",
       "      <td>Representative Abraham, Ralph Lee</td>\n",
       "      <td>ralph-abraham/A000374</td>\n",
       "      <td>Representative Ralph Lee Abraham</td>\n",
       "      <td>(1954 - )</td>\n",
       "      <td>In Congress 2015 - Present |  \\n\\n        $(do...</td>\n",
       "      <td>1-100                \\r\\n                of 637</td>\n",
       "    </tr>\n",
       "    <tr>\n",
       "      <th>4</th>\n",
       "      <td>Senator Abraham, Spencer</td>\n",
       "      <td>spencer-abraham/A000355</td>\n",
       "      <td>Senator Spencer Abraham</td>\n",
       "      <td>(1952 - )</td>\n",
       "      <td>In Congress 1995 - 2001</td>\n",
       "      <td>1-100                \\r\\n                of 1,227</td>\n",
       "    </tr>\n",
       "    <tr>\n",
       "      <th>5</th>\n",
       "      <td>Representative Abzug, Bella S.</td>\n",
       "      <td>bella-abzug/A000018</td>\n",
       "      <td>Representative Bella S. Abzug</td>\n",
       "      <td>(1920 - 1998)</td>\n",
       "      <td>In Congress 1971 - 1977</td>\n",
       "      <td>1-100                \\r\\n                of 1,437</td>\n",
       "    </tr>\n",
       "    <tr>\n",
       "      <th>6</th>\n",
       "      <td>Representative Acevedo-Vila, Anibal</td>\n",
       "      <td>anibal-acevedo-vila/A000359</td>\n",
       "      <td>Representative Anibal Acevedo-Vila</td>\n",
       "      <td>(1962 - )</td>\n",
       "      <td>In Congress 2001 - 2005</td>\n",
       "      <td>1-100                \\r\\n                of 503</td>\n",
       "    </tr>\n",
       "    <tr>\n",
       "      <th>7</th>\n",
       "      <td>Representative Ackerman, Gary L.</td>\n",
       "      <td>gary-ackerman/A000022</td>\n",
       "      <td>Representative Gary L. Ackerman</td>\n",
       "      <td>(1942 - )</td>\n",
       "      <td>In Congress 1983 - 2013</td>\n",
       "      <td>1-100                \\r\\n                of 7,315</td>\n",
       "    </tr>\n",
       "    <tr>\n",
       "      <th>8</th>\n",
       "      <td>Representative Adams, Alma S.</td>\n",
       "      <td>alma-adams/A000370</td>\n",
       "      <td>Representative Alma S. Adams</td>\n",
       "      <td>(1946 - )</td>\n",
       "      <td>In Congress 2014 - Present |  \\n\\n        $(do...</td>\n",
       "      <td>1-100                \\r\\n                of 809</td>\n",
       "    </tr>\n",
       "    <tr>\n",
       "      <th>9</th>\n",
       "      <td>Senator Adams, Brock</td>\n",
       "      <td>brockman-adams/A000031</td>\n",
       "      <td>Senator Brock Adams</td>\n",
       "      <td>(1927 - 2004)</td>\n",
       "      <td>In Congress 1965 - 1979, 1987 - 1993</td>\n",
       "      <td>1-100                \\r\\n                of 1,716</td>\n",
       "    </tr>\n",
       "  </tbody>\n",
       "</table>\n",
       "</div>"
      ],
      "text/plain": [
       "                                name_x                         slug  \\\n",
       "0                Senator Abdnor, James         james-abdnor/A000009   \n",
       "1     Representative Abercrombie, Neil     neil-abercrombie/A000014   \n",
       "2              Senator Abourezk, James       james-abourezk/A000017   \n",
       "3    Representative Abraham, Ralph Lee        ralph-abraham/A000374   \n",
       "4             Senator Abraham, Spencer      spencer-abraham/A000355   \n",
       "5       Representative Abzug, Bella S.          bella-abzug/A000018   \n",
       "6  Representative Acevedo-Vila, Anibal  anibal-acevedo-vila/A000359   \n",
       "7     Representative Ackerman, Gary L.        gary-ackerman/A000022   \n",
       "8        Representative Adams, Alma S.           alma-adams/A000370   \n",
       "9                 Senator Adams, Brock       brockman-adams/A000031   \n",
       "\n",
       "                               name_y       birthdate  \\\n",
       "0                Senator James Abdnor   (1923 - 2012)   \n",
       "1     Representative Neil Abercrombie       (1938 - )   \n",
       "2              Senator James Abourezk       (1931 - )   \n",
       "3    Representative Ralph Lee Abraham       (1954 - )   \n",
       "4             Senator Spencer Abraham       (1952 - )   \n",
       "5       Representative Bella S. Abzug   (1920 - 1998)   \n",
       "6  Representative Anibal Acevedo-Vila       (1962 - )   \n",
       "7     Representative Gary L. Ackerman       (1942 - )   \n",
       "8        Representative Alma S. Adams       (1946 - )   \n",
       "9                 Senator Brock Adams   (1927 - 2004)   \n",
       "\n",
       "                                         in_congress  \\\n",
       "0                            In Congress 1973 - 1987   \n",
       "1               In Congress 1985 - 1987, 1991 - 2011   \n",
       "2                            In Congress 1971 - 1979   \n",
       "3  In Congress 2015 - Present |  \\n\\n        $(do...   \n",
       "4                            In Congress 1995 - 2001   \n",
       "5                            In Congress 1971 - 1977   \n",
       "6                            In Congress 2001 - 2005   \n",
       "7                            In Congress 1983 - 2013   \n",
       "8  In Congress 2014 - Present |  \\n\\n        $(do...   \n",
       "9               In Congress 1965 - 1979, 1987 - 1993   \n",
       "\n",
       "                                          bill_count  \n",
       "0  1-100                \\r\\n                of 1,949  \n",
       "1  1-100                \\r\\n                of 4,472  \n",
       "2    1-100                \\r\\n                of 875  \n",
       "3    1-100                \\r\\n                of 637  \n",
       "4  1-100                \\r\\n                of 1,227  \n",
       "5  1-100                \\r\\n                of 1,437  \n",
       "6    1-100                \\r\\n                of 503  \n",
       "7  1-100                \\r\\n                of 7,315  \n",
       "8    1-100                \\r\\n                of 809  \n",
       "9  1-100                \\r\\n                of 1,716  "
      ]
     },
     "execution_count": 44,
     "metadata": {},
     "output_type": "execute_result"
    }
   ],
   "source": [
    "df.merge(scraped_df, left_index=True, right_index=True)"
   ]
  },
  {
   "cell_type": "code",
   "execution_count": 45,
   "metadata": {},
   "outputs": [
    {
     "data": {
      "text/html": [
       "<div>\n",
       "<style scoped>\n",
       "    .dataframe tbody tr th:only-of-type {\n",
       "        vertical-align: middle;\n",
       "    }\n",
       "\n",
       "    .dataframe tbody tr th {\n",
       "        vertical-align: top;\n",
       "    }\n",
       "\n",
       "    .dataframe thead th {\n",
       "        text-align: right;\n",
       "    }\n",
       "</style>\n",
       "<table border=\"1\" class=\"dataframe\">\n",
       "  <thead>\n",
       "    <tr style=\"text-align: right;\">\n",
       "      <th></th>\n",
       "      <th>name</th>\n",
       "      <th>slug</th>\n",
       "      <th>name_scraped</th>\n",
       "      <th>birthdate</th>\n",
       "      <th>in_congress</th>\n",
       "      <th>bill_count</th>\n",
       "    </tr>\n",
       "  </thead>\n",
       "  <tbody>\n",
       "    <tr>\n",
       "      <th>0</th>\n",
       "      <td>Senator Abdnor, James</td>\n",
       "      <td>james-abdnor/A000009</td>\n",
       "      <td>Senator James Abdnor</td>\n",
       "      <td>(1923 - 2012)</td>\n",
       "      <td>In Congress 1973 - 1987</td>\n",
       "      <td>1-100                \\r\\n                of 1,949</td>\n",
       "    </tr>\n",
       "    <tr>\n",
       "      <th>1</th>\n",
       "      <td>Representative Abercrombie, Neil</td>\n",
       "      <td>neil-abercrombie/A000014</td>\n",
       "      <td>Representative Neil Abercrombie</td>\n",
       "      <td>(1938 - )</td>\n",
       "      <td>In Congress 1985 - 1987, 1991 - 2011</td>\n",
       "      <td>1-100                \\r\\n                of 4,472</td>\n",
       "    </tr>\n",
       "    <tr>\n",
       "      <th>2</th>\n",
       "      <td>Senator Abourezk, James</td>\n",
       "      <td>james-abourezk/A000017</td>\n",
       "      <td>Senator James Abourezk</td>\n",
       "      <td>(1931 - )</td>\n",
       "      <td>In Congress 1971 - 1979</td>\n",
       "      <td>1-100                \\r\\n                of 875</td>\n",
       "    </tr>\n",
       "    <tr>\n",
       "      <th>3</th>\n",
       "      <td>Representative Abraham, Ralph Lee</td>\n",
       "      <td>ralph-abraham/A000374</td>\n",
       "      <td>Representative Ralph Lee Abraham</td>\n",
       "      <td>(1954 - )</td>\n",
       "      <td>In Congress 2015 - Present |  \\n\\n        $(do...</td>\n",
       "      <td>1-100                \\r\\n                of 637</td>\n",
       "    </tr>\n",
       "    <tr>\n",
       "      <th>4</th>\n",
       "      <td>Senator Abraham, Spencer</td>\n",
       "      <td>spencer-abraham/A000355</td>\n",
       "      <td>Senator Spencer Abraham</td>\n",
       "      <td>(1952 - )</td>\n",
       "      <td>In Congress 1995 - 2001</td>\n",
       "      <td>1-100                \\r\\n                of 1,227</td>\n",
       "    </tr>\n",
       "    <tr>\n",
       "      <th>5</th>\n",
       "      <td>Representative Abzug, Bella S.</td>\n",
       "      <td>bella-abzug/A000018</td>\n",
       "      <td>Representative Bella S. Abzug</td>\n",
       "      <td>(1920 - 1998)</td>\n",
       "      <td>In Congress 1971 - 1977</td>\n",
       "      <td>1-100                \\r\\n                of 1,437</td>\n",
       "    </tr>\n",
       "    <tr>\n",
       "      <th>6</th>\n",
       "      <td>Representative Acevedo-Vila, Anibal</td>\n",
       "      <td>anibal-acevedo-vila/A000359</td>\n",
       "      <td>Representative Anibal Acevedo-Vila</td>\n",
       "      <td>(1962 - )</td>\n",
       "      <td>In Congress 2001 - 2005</td>\n",
       "      <td>1-100                \\r\\n                of 503</td>\n",
       "    </tr>\n",
       "    <tr>\n",
       "      <th>7</th>\n",
       "      <td>Representative Ackerman, Gary L.</td>\n",
       "      <td>gary-ackerman/A000022</td>\n",
       "      <td>Representative Gary L. Ackerman</td>\n",
       "      <td>(1942 - )</td>\n",
       "      <td>In Congress 1983 - 2013</td>\n",
       "      <td>1-100                \\r\\n                of 7,315</td>\n",
       "    </tr>\n",
       "    <tr>\n",
       "      <th>8</th>\n",
       "      <td>Representative Adams, Alma S.</td>\n",
       "      <td>alma-adams/A000370</td>\n",
       "      <td>Representative Alma S. Adams</td>\n",
       "      <td>(1946 - )</td>\n",
       "      <td>In Congress 2014 - Present |  \\n\\n        $(do...</td>\n",
       "      <td>1-100                \\r\\n                of 809</td>\n",
       "    </tr>\n",
       "    <tr>\n",
       "      <th>9</th>\n",
       "      <td>Senator Adams, Brock</td>\n",
       "      <td>brockman-adams/A000031</td>\n",
       "      <td>Senator Brock Adams</td>\n",
       "      <td>(1927 - 2004)</td>\n",
       "      <td>In Congress 1965 - 1979, 1987 - 1993</td>\n",
       "      <td>1-100                \\r\\n                of 1,716</td>\n",
       "    </tr>\n",
       "  </tbody>\n",
       "</table>\n",
       "</div>"
      ],
      "text/plain": [
       "                                  name                         slug  \\\n",
       "0                Senator Abdnor, James         james-abdnor/A000009   \n",
       "1     Representative Abercrombie, Neil     neil-abercrombie/A000014   \n",
       "2              Senator Abourezk, James       james-abourezk/A000017   \n",
       "3    Representative Abraham, Ralph Lee        ralph-abraham/A000374   \n",
       "4             Senator Abraham, Spencer      spencer-abraham/A000355   \n",
       "5       Representative Abzug, Bella S.          bella-abzug/A000018   \n",
       "6  Representative Acevedo-Vila, Anibal  anibal-acevedo-vila/A000359   \n",
       "7     Representative Ackerman, Gary L.        gary-ackerman/A000022   \n",
       "8        Representative Adams, Alma S.           alma-adams/A000370   \n",
       "9                 Senator Adams, Brock       brockman-adams/A000031   \n",
       "\n",
       "                         name_scraped       birthdate  \\\n",
       "0                Senator James Abdnor   (1923 - 2012)   \n",
       "1     Representative Neil Abercrombie       (1938 - )   \n",
       "2              Senator James Abourezk       (1931 - )   \n",
       "3    Representative Ralph Lee Abraham       (1954 - )   \n",
       "4             Senator Spencer Abraham       (1952 - )   \n",
       "5       Representative Bella S. Abzug   (1920 - 1998)   \n",
       "6  Representative Anibal Acevedo-Vila       (1962 - )   \n",
       "7     Representative Gary L. Ackerman       (1942 - )   \n",
       "8        Representative Alma S. Adams       (1946 - )   \n",
       "9                 Senator Brock Adams   (1927 - 2004)   \n",
       "\n",
       "                                         in_congress  \\\n",
       "0                            In Congress 1973 - 1987   \n",
       "1               In Congress 1985 - 1987, 1991 - 2011   \n",
       "2                            In Congress 1971 - 1979   \n",
       "3  In Congress 2015 - Present |  \\n\\n        $(do...   \n",
       "4                            In Congress 1995 - 2001   \n",
       "5                            In Congress 1971 - 1977   \n",
       "6                            In Congress 2001 - 2005   \n",
       "7                            In Congress 1983 - 2013   \n",
       "8  In Congress 2014 - Present |  \\n\\n        $(do...   \n",
       "9               In Congress 1965 - 1979, 1987 - 1993   \n",
       "\n",
       "                                          bill_count  \n",
       "0  1-100                \\r\\n                of 1,949  \n",
       "1  1-100                \\r\\n                of 4,472  \n",
       "2    1-100                \\r\\n                of 875  \n",
       "3    1-100                \\r\\n                of 637  \n",
       "4  1-100                \\r\\n                of 1,227  \n",
       "5  1-100                \\r\\n                of 1,437  \n",
       "6    1-100                \\r\\n                of 503  \n",
       "7  1-100                \\r\\n                of 7,315  \n",
       "8    1-100                \\r\\n                of 809  \n",
       "9  1-100                \\r\\n                of 1,716  "
      ]
     },
     "execution_count": 45,
     "metadata": {},
     "output_type": "execute_result"
    }
   ],
   "source": [
    "df.join(scraped_df, rsuffix='_scraped')"
   ]
  },
  {
   "cell_type": "code",
   "execution_count": null,
   "metadata": {},
   "outputs": [],
   "source": []
  }
 ],
 "metadata": {
  "kernelspec": {
   "display_name": "Python 3",
   "language": "python",
   "name": "python3"
  },
  "language_info": {
   "codemirror_mode": {
    "name": "ipython",
    "version": 3
   },
   "file_extension": ".py",
   "mimetype": "text/x-python",
   "name": "python",
   "nbconvert_exporter": "python",
   "pygments_lexer": "ipython3",
   "version": "3.6.5"
  }
 },
 "nbformat": 4,
 "nbformat_minor": 2
}
