{
 "cells": [
  {
   "cell_type": "code",
   "execution_count": 66,
   "metadata": {},
   "outputs": [],
   "source": [
    "import requests\n",
    "from bs4 import BeautifulSoup\n",
    "import pandas as pd"
   ]
  },
  {
   "cell_type": "code",
   "execution_count": 2,
   "metadata": {},
   "outputs": [],
   "source": [
    "headers = {\n",
    "    'User-Agent': 'Mozilla/5.0 (Macintosh; Intel Mac OS X 10_10_1) AppleWebKit/537.36 (KHTML, like Gecko) Chrome/39.0.2171.95 Safari/537.36'\n",
    "}\n",
    "\n",
    "response = requests.get('https://www.billboard.com/charts/hot-100', headers=headers)\n",
    "doc = BeautifulSoup(response.text, 'html.parser')"
   ]
  },
  {
   "cell_type": "code",
   "execution_count": 158,
   "metadata": {},
   "outputs": [],
   "source": [
    "titles = doc.find_all('span', class_='chart-list-item__title-text')\n",
    "\n",
    "   "
   ]
  },
  {
   "cell_type": "code",
   "execution_count": 159,
   "metadata": {},
   "outputs": [
    {
     "name": "stdout",
     "output_type": "stream",
     "text": [
      "Old Town Road\n",
      "Bad Guy\n",
      "Talk\n",
      "Sucker\n",
      "I Don't Care\n",
      "Wow.\n",
      "Sunflower (Spider-Man: Into The Spider-Verse)\n",
      "Suge\n",
      "No Guidance\n",
      "Dancing With A Stranger\n",
      "Pop Out\n",
      "If I Can't Have You\n",
      "Sweet But Psycho\n",
      "ME!\n",
      "Without Me\n",
      "7 Rings\n",
      "Truth Hurts\n",
      "Happier\n",
      "God's Country\n",
      "Whiskey Glasses\n",
      "High Hopes\n",
      "Beer Never Broke My Heart\n",
      "Con Calma\n",
      "The London\n",
      "Middle Child\n",
      "Act Up\n",
      "Eastside\n",
      "Never Really Over\n",
      "Pure Water\n",
      "Earfquake\n",
      "Hey Look Ma, I Made It\n",
      "Going Bad\n",
      "Speechless\n",
      "Shallow\n",
      "Better\n",
      "Rumor\n",
      "Break Up With Your Girlfriend, I'm Bored\n",
      "Sicko Mode\n",
      "Look What God Gave Her\n",
      "Look Back At It\n",
      "Envy Me\n",
      "When The Party's Over\n",
      "Nightmare\n",
      "Cool\n",
      "Beautiful Crazy\n",
      "Good As You\n",
      "Press\n",
      "Close Friends\n",
      "Cross Me\n",
      "Go Loko\n",
      "Please Me\n",
      "Love Someone\n",
      "Clout\n",
      "Worth It\n",
      "Someone You Loved\n",
      "Miss Me More\n",
      "Walk Me Home\n",
      "Bury A Friend\n",
      "GIRL\n",
      "Just Us\n",
      "Knockin' Boots\n",
      "Even Though I'm Leaving\n",
      "Easier\n",
      "Girls Need Love\n",
      "Ran$om\n",
      "The Git Up\n",
      "24/7\n",
      "Rearview Town\n",
      "Callaita\n",
      "Wish Wish\n",
      "All To Myself\n",
      "Eyes On You\n",
      "Before I Let Go\n",
      "Some Of It\n",
      "Here With Me\n",
      "Sanguine Paradise\n",
      "Soltera\n",
      "Talk You Out Of It\n",
      "Put A Date On It\n",
      "Love Ain't\n",
      "Shotta Flow\n",
      "Calma\n",
      "Heaven\n",
      "Call You Mine\n",
      "Ocean Eyes\n",
      "Big Ole Freak\n",
      "Please Tell Me\n",
      "On My Way To You\n",
      "Trampoline\n",
      "Raised On Country\n",
      "Te Robare\n",
      "Amor Genuino\n",
      "Only Human\n",
      "Bacc At It Again\n",
      "La La Land\n",
      "Robbery\n",
      "Baila Baila Baila\n",
      "XanaX Damage\n",
      "Government Official\n",
      "Otro Trago\n"
     ]
    }
   ],
   "source": [
    "for title in titles:\n",
    "    print(title.text.strip())\n"
   ]
  },
  {
   "cell_type": "code",
   "execution_count": 160,
   "metadata": {},
   "outputs": [],
   "source": [
    "artists = doc.find_all('div', class_='chart-list-item__artist')\n"
   ]
  },
  {
   "cell_type": "code",
   "execution_count": 161,
   "metadata": {},
   "outputs": [
    {
     "name": "stdout",
     "output_type": "stream",
     "text": [
      "Lil Nas X Featuring Billy Ray Cyrus\n",
      "Billie Eilish\n",
      "Khalid\n",
      "Jonas Brothers\n",
      "Ed Sheeran & Justin Bieber\n",
      "Post Malone\n",
      "Post Malone & Swae Lee\n",
      "DaBaby\n",
      "Chris Brown Featuring Drake\n",
      "Sam Smith & Normani\n",
      "Polo G Featuring Lil Tjay\n",
      "Shawn Mendes\n",
      "Ava Max\n",
      "Taylor Swift Featuring Brendon Urie\n",
      "Halsey\n",
      "Ariana Grande\n",
      "Lizzo\n",
      "Marshmello & Bastille\n",
      "Blake Shelton\n",
      "Morgan Wallen\n",
      "Panic! At The Disco\n",
      "Luke Combs\n",
      "Daddy Yankee & Katy Perry Featuring Snow\n",
      "Young Thug, J. Cole & Travis Scott\n",
      "J. Cole\n",
      "City Girls\n",
      "benny blanco, Halsey & Khalid\n",
      "Katy Perry\n",
      "Mustard & Migos\n",
      "Tyler, The Creator\n",
      "Panic! At The Disco\n",
      "Meek Mill Featuring Drake\n",
      "Dan + Shay\n",
      "Lady Gaga & Bradley Cooper\n",
      "Khalid\n",
      "Lee Brice\n",
      "Ariana Grande\n",
      "Travis Scott\n",
      "Thomas Rhett\n",
      "A Boogie Wit da Hoodie\n",
      "Calboy\n",
      "Billie Eilish\n",
      "Halsey\n",
      "Jonas Brothers\n",
      "Luke Combs\n",
      "Kane Brown\n",
      "Cardi B\n",
      "Lil Baby\n",
      "Ed Sheeran Featuring Chance The Rapper & PnB Rock\n",
      "YG, Tyga & Jon Z\n",
      "Cardi B & Bruno Mars\n",
      "Brett Eldredge\n",
      "Offset Featuring Cardi B\n",
      "YK Osiris\n",
      "Lewis Capaldi\n",
      "Kelsea Ballerini\n",
      "P!nk\n",
      "Billie Eilish\n",
      "Maren Morris\n",
      "DJ Khaled Featuring SZA\n",
      "Luke Bryan\n",
      "Luke Combs\n",
      "5 Seconds Of Summer\n",
      "Summer Walker X Drake\n",
      "Lil Tecca\n",
      "Blanco Brown\n",
      "Meek Mill Featuring Ella Mai\n",
      "Jason Aldean\n",
      "Bad Bunny & Tainy\n",
      "DJ Khaled Featuring Cardi B & 21 Savage\n",
      "Dan + Shay\n",
      "Chase Rice\n",
      "Beyonce\n",
      "Eric Church\n",
      "Marshmello Featuring CHVRCHES\n",
      "Lil Uzi Vert\n",
      "Lunay, Daddy Yankee & Bad Bunny\n",
      "Florida Georgia Line\n",
      "Yo Gotti Featuring Lil Baby\n",
      "Eli Young Band\n",
      "NLE Choppa\n",
      "Pedro Capo X Farruko\n",
      "Avicii\n",
      "The Chainsmokers & Bebe Rexha\n",
      "Billie Eilish\n",
      "Megan Thee Stallion\n",
      "Future\n",
      "Cody Johnson\n",
      "SHAED\n",
      "Chris Young\n",
      "Nicky Jam X Ozuna\n",
      "Ozuna\n",
      "Jonas Brothers\n",
      "Yella Beezy, Gucci Mane & Quavo\n",
      "Bryce Vine Featuring YG\n",
      "Juice WRLD\n",
      "Ozuna x Daddy Yankee x J Balvin x Farruko x Anuel AA\n",
      "Future\n",
      "Future\n",
      "Sech Featuring Darell\n"
     ]
    }
   ],
   "source": [
    "artists = doc.find_all('div', class_='chart-list-item__artist')\n",
    "for artist in artists:\n",
    "    print(artist.text.strip())\n",
    "    \n",
    "   "
   ]
  },
  {
   "cell_type": "code",
   "execution_count": 162,
   "metadata": {},
   "outputs": [],
   "source": [
    "ranks = doc.find_all('div', class_='chart-list-item__first-row chart-list-item__cursor-pointer')\n"
   ]
  },
  {
   "cell_type": "code",
   "execution_count": 163,
   "metadata": {},
   "outputs": [
    {
     "name": "stdout",
     "output_type": "stream",
     "text": [
      "1\n",
      "2\n",
      "3\n",
      "4\n",
      "5\n",
      "6\n",
      "7\n",
      "8\n",
      "9\n",
      "10\n",
      "11\n",
      "12\n",
      "13\n",
      "14\n",
      "15\n",
      "16\n",
      "17\n",
      "18\n",
      "19\n",
      "20\n",
      "21\n",
      "22\n",
      "23\n",
      "24\n",
      "25\n",
      "26\n",
      "27\n",
      "28\n",
      "29\n",
      "30\n",
      "31\n",
      "32\n",
      "33\n",
      "34\n",
      "35\n",
      "36\n",
      "37\n",
      "38\n",
      "39\n",
      "40\n",
      "41\n",
      "42\n",
      "43\n",
      "44\n",
      "45\n",
      "46\n",
      "47\n",
      "48\n",
      "49\n",
      "50\n",
      "51\n",
      "52\n",
      "53\n",
      "54\n",
      "55\n",
      "56\n",
      "57\n",
      "58\n",
      "59\n",
      "60\n",
      "61\n",
      "62\n",
      "63\n",
      "64\n",
      "65\n",
      "66\n",
      "67\n",
      "68\n",
      "69\n",
      "70\n",
      "71\n",
      "72\n",
      "73\n",
      "74\n",
      "75\n",
      "76\n",
      "77\n",
      "78\n",
      "79\n",
      "80\n",
      "81\n",
      "82\n",
      "83\n",
      "84\n",
      "85\n",
      "86\n",
      "87\n",
      "88\n",
      "89\n",
      "90\n",
      "91\n",
      "92\n",
      "93\n",
      "94\n",
      "95\n",
      "96\n",
      "97\n",
      "98\n",
      "99\n",
      "100\n"
     ]
    }
   ],
   "source": [
    "ranks = doc.find_all('div', class_='chart-list-item__first-row chart-list-item__cursor-pointer')\n",
    "for rank in ranks:\n",
    "    rank = rank.find('div', class_='chart-list-item__rank')\n",
    "    print(rank.text.strip())\n"
   ]
  },
  {
   "cell_type": "code",
   "execution_count": 144,
   "metadata": {},
   "outputs": [
    {
     "name": "stdout",
     "output_type": "stream",
     "text": [
      "['1', '2', '3', '4', '5', '6', '7', '8', '9', '10', '11', '12', '13', '14', '15', '16', '17', '18', '19', '20', '21', '22', '23', '24', '25', '26', '27', '28', '29', '30', '31', '32', '33', '34', '35', '36', '37', '38', '39', '40', '41', '42', '43', '44', '45', '46', '47', '48', '49', '50', '51', '52', '53', '54', '55', '56', '57', '58', '59', '60', '61', '62', '63', '64', '65', '66', '67', '68', '69', '70', '71', '72', '73', '74', '75', '76', '77', '78', '79', '80', '81', '82', '83', '84', '85', '86', '87', '88', '89', '90', '91', '92', '93', '94', '95', '96', '97', '98', '99', '100']\n"
     ]
    }
   ],
   "source": [
    "artist_ranks=[]\n",
    "for rank in ranks:\n",
    "    rank = rank.find('div', class_='chart-list-item__rank')\n",
    "    artist_ranks.append(rank.text.strip())\n",
    "print(artist_ranks)\n"
   ]
  },
  {
   "cell_type": "code",
   "execution_count": 138,
   "metadata": {},
   "outputs": [
    {
     "name": "stdout",
     "output_type": "stream",
     "text": [
      "['Lil Nas X Featuring Billy Ray Cyrus', 'Billie Eilish', 'Khalid', 'Jonas Brothers', 'Ed Sheeran & Justin Bieber', 'Post Malone', 'Post Malone & Swae Lee', 'DaBaby', 'Chris Brown Featuring Drake', 'Sam Smith & Normani', 'Polo G Featuring Lil Tjay', 'Shawn Mendes', 'Ava Max', 'Taylor Swift Featuring Brendon Urie', 'Halsey', 'Ariana Grande', 'Lizzo', 'Marshmello & Bastille', 'Blake Shelton', 'Morgan Wallen', 'Panic! At The Disco', 'Luke Combs', 'Daddy Yankee & Katy Perry Featuring Snow', 'Young Thug, J. Cole & Travis Scott', 'J. Cole', 'City Girls', 'benny blanco, Halsey & Khalid', 'Katy Perry', 'Mustard & Migos', 'Tyler, The Creator', 'Panic! At The Disco', 'Meek Mill Featuring Drake', 'Dan + Shay', 'Lady Gaga & Bradley Cooper', 'Khalid', 'Lee Brice', 'Ariana Grande', 'Travis Scott', 'Thomas Rhett', 'A Boogie Wit da Hoodie', 'Calboy', 'Billie Eilish', 'Halsey', 'Jonas Brothers', 'Luke Combs', 'Kane Brown', 'Cardi B', 'Lil Baby', 'Ed Sheeran Featuring Chance The Rapper & PnB Rock', 'YG, Tyga & Jon Z', 'Cardi B & Bruno Mars', 'Brett Eldredge', 'Offset Featuring Cardi B', 'YK Osiris', 'Lewis Capaldi', 'Kelsea Ballerini', 'P!nk', 'Billie Eilish', 'Maren Morris', 'DJ Khaled Featuring SZA', 'Luke Bryan', 'Luke Combs', '5 Seconds Of Summer', 'Summer Walker X Drake', 'Lil Tecca', 'Blanco Brown', 'Meek Mill Featuring Ella Mai', 'Jason Aldean', 'Bad Bunny & Tainy', 'DJ Khaled Featuring Cardi B & 21 Savage', 'Dan + Shay', 'Chase Rice', 'Beyonce', 'Eric Church', 'Marshmello Featuring CHVRCHES', 'Lil Uzi Vert', 'Lunay, Daddy Yankee & Bad Bunny', 'Florida Georgia Line', 'Yo Gotti Featuring Lil Baby', 'Eli Young Band', 'NLE Choppa', 'Pedro Capo X Farruko', 'Avicii', 'The Chainsmokers & Bebe Rexha', 'Billie Eilish', 'Megan Thee Stallion', 'Future', 'Cody Johnson', 'SHAED', 'Chris Young', 'Nicky Jam X Ozuna', 'Ozuna', 'Jonas Brothers', 'Yella Beezy, Gucci Mane & Quavo', 'Bryce Vine Featuring YG', 'Juice WRLD', 'Ozuna x Daddy Yankee x J Balvin x Farruko x Anuel AA', 'Future', 'Future', 'Sech Featuring Darell']\n"
     ]
    }
   ],
   "source": [
    "artist_names=[]\n",
    "for artist in artists:\n",
    "    artist_names.append(artist.text.strip())\n",
    "print(artist_names)\n"
   ]
  },
  {
   "cell_type": "code",
   "execution_count": 139,
   "metadata": {},
   "outputs": [
    {
     "name": "stdout",
     "output_type": "stream",
     "text": [
      "['Old Town Road', 'Bad Guy', 'Talk', 'Sucker', \"I Don't Care\", 'Wow.', 'Sunflower (Spider-Man: Into The Spider-Verse)', 'Suge', 'No Guidance', 'Dancing With A Stranger', 'Pop Out', \"If I Can't Have You\", 'Sweet But Psycho', 'ME!', 'Without Me', '7 Rings', 'Truth Hurts', 'Happier', \"God's Country\", 'Whiskey Glasses', 'High Hopes', 'Beer Never Broke My Heart', 'Con Calma', 'The London', 'Middle Child', 'Act Up', 'Eastside', 'Never Really Over', 'Pure Water', 'Earfquake', 'Hey Look Ma, I Made It', 'Going Bad', 'Speechless', 'Shallow', 'Better', 'Rumor', \"Break Up With Your Girlfriend, I'm Bored\", 'Sicko Mode', 'Look What God Gave Her', 'Look Back At It', 'Envy Me', \"When The Party's Over\", 'Nightmare', 'Cool', 'Beautiful Crazy', 'Good As You', 'Press', 'Close Friends', 'Cross Me', 'Go Loko', 'Please Me', 'Love Someone', 'Clout', 'Worth It', 'Someone You Loved', 'Miss Me More', 'Walk Me Home', 'Bury A Friend', 'GIRL', 'Just Us', \"Knockin' Boots\", \"Even Though I'm Leaving\", 'Easier', 'Girls Need Love', 'Ran$om', 'The Git Up', '24/7', 'Rearview Town', 'Callaita', 'Wish Wish', 'All To Myself', 'Eyes On You', 'Before I Let Go', 'Some Of It', 'Here With Me', 'Sanguine Paradise', 'Soltera', 'Talk You Out Of It', 'Put A Date On It', \"Love Ain't\", 'Shotta Flow', 'Calma', 'Heaven', 'Call You Mine', 'Ocean Eyes', 'Big Ole Freak', 'Please Tell Me', 'On My Way To You', 'Trampoline', 'Raised On Country', 'Te Robare', 'Amor Genuino', 'Only Human', 'Bacc At It Again', 'La La Land', 'Robbery', 'Baila Baila Baila', 'XanaX Damage', 'Government Official', 'Otro Trago']\n"
     ]
    }
   ],
   "source": [
    "artist_songs=[]\n",
    "for title in titles:\n",
    "    artist_songs.append(title.text.strip())\n",
    "print(artist_songs)\n",
    "\n"
   ]
  },
  {
   "cell_type": "code",
   "execution_count": 153,
   "metadata": {},
   "outputs": [],
   "source": [
    "columns = {\"rank\":artist_ranks, \n",
    "         \"song\": artist_songs,\"name\":artist_names}"
   ]
  },
  {
   "cell_type": "code",
   "execution_count": 154,
   "metadata": {},
   "outputs": [
    {
     "name": "stdout",
     "output_type": "stream",
     "text": [
      "{'rank': ['1', '2', '3', '4', '5', '6', '7', '8', '9', '10', '11', '12', '13', '14', '15', '16', '17', '18', '19', '20', '21', '22', '23', '24', '25', '26', '27', '28', '29', '30', '31', '32', '33', '34', '35', '36', '37', '38', '39', '40', '41', '42', '43', '44', '45', '46', '47', '48', '49', '50', '51', '52', '53', '54', '55', '56', '57', '58', '59', '60', '61', '62', '63', '64', '65', '66', '67', '68', '69', '70', '71', '72', '73', '74', '75', '76', '77', '78', '79', '80', '81', '82', '83', '84', '85', '86', '87', '88', '89', '90', '91', '92', '93', '94', '95', '96', '97', '98', '99', '100'], 'song': ['Old Town Road', 'Bad Guy', 'Talk', 'Sucker', \"I Don't Care\", 'Wow.', 'Sunflower (Spider-Man: Into The Spider-Verse)', 'Suge', 'No Guidance', 'Dancing With A Stranger', 'Pop Out', \"If I Can't Have You\", 'Sweet But Psycho', 'ME!', 'Without Me', '7 Rings', 'Truth Hurts', 'Happier', \"God's Country\", 'Whiskey Glasses', 'High Hopes', 'Beer Never Broke My Heart', 'Con Calma', 'The London', 'Middle Child', 'Act Up', 'Eastside', 'Never Really Over', 'Pure Water', 'Earfquake', 'Hey Look Ma, I Made It', 'Going Bad', 'Speechless', 'Shallow', 'Better', 'Rumor', \"Break Up With Your Girlfriend, I'm Bored\", 'Sicko Mode', 'Look What God Gave Her', 'Look Back At It', 'Envy Me', \"When The Party's Over\", 'Nightmare', 'Cool', 'Beautiful Crazy', 'Good As You', 'Press', 'Close Friends', 'Cross Me', 'Go Loko', 'Please Me', 'Love Someone', 'Clout', 'Worth It', 'Someone You Loved', 'Miss Me More', 'Walk Me Home', 'Bury A Friend', 'GIRL', 'Just Us', \"Knockin' Boots\", \"Even Though I'm Leaving\", 'Easier', 'Girls Need Love', 'Ran$om', 'The Git Up', '24/7', 'Rearview Town', 'Callaita', 'Wish Wish', 'All To Myself', 'Eyes On You', 'Before I Let Go', 'Some Of It', 'Here With Me', 'Sanguine Paradise', 'Soltera', 'Talk You Out Of It', 'Put A Date On It', \"Love Ain't\", 'Shotta Flow', 'Calma', 'Heaven', 'Call You Mine', 'Ocean Eyes', 'Big Ole Freak', 'Please Tell Me', 'On My Way To You', 'Trampoline', 'Raised On Country', 'Te Robare', 'Amor Genuino', 'Only Human', 'Bacc At It Again', 'La La Land', 'Robbery', 'Baila Baila Baila', 'XanaX Damage', 'Government Official', 'Otro Trago'], 'name': ['Lil Nas X Featuring Billy Ray Cyrus', 'Billie Eilish', 'Khalid', 'Jonas Brothers', 'Ed Sheeran & Justin Bieber', 'Post Malone', 'Post Malone & Swae Lee', 'DaBaby', 'Chris Brown Featuring Drake', 'Sam Smith & Normani', 'Polo G Featuring Lil Tjay', 'Shawn Mendes', 'Ava Max', 'Taylor Swift Featuring Brendon Urie', 'Halsey', 'Ariana Grande', 'Lizzo', 'Marshmello & Bastille', 'Blake Shelton', 'Morgan Wallen', 'Panic! At The Disco', 'Luke Combs', 'Daddy Yankee & Katy Perry Featuring Snow', 'Young Thug, J. Cole & Travis Scott', 'J. Cole', 'City Girls', 'benny blanco, Halsey & Khalid', 'Katy Perry', 'Mustard & Migos', 'Tyler, The Creator', 'Panic! At The Disco', 'Meek Mill Featuring Drake', 'Dan + Shay', 'Lady Gaga & Bradley Cooper', 'Khalid', 'Lee Brice', 'Ariana Grande', 'Travis Scott', 'Thomas Rhett', 'A Boogie Wit da Hoodie', 'Calboy', 'Billie Eilish', 'Halsey', 'Jonas Brothers', 'Luke Combs', 'Kane Brown', 'Cardi B', 'Lil Baby', 'Ed Sheeran Featuring Chance The Rapper & PnB Rock', 'YG, Tyga & Jon Z', 'Cardi B & Bruno Mars', 'Brett Eldredge', 'Offset Featuring Cardi B', 'YK Osiris', 'Lewis Capaldi', 'Kelsea Ballerini', 'P!nk', 'Billie Eilish', 'Maren Morris', 'DJ Khaled Featuring SZA', 'Luke Bryan', 'Luke Combs', '5 Seconds Of Summer', 'Summer Walker X Drake', 'Lil Tecca', 'Blanco Brown', 'Meek Mill Featuring Ella Mai', 'Jason Aldean', 'Bad Bunny & Tainy', 'DJ Khaled Featuring Cardi B & 21 Savage', 'Dan + Shay', 'Chase Rice', 'Beyonce', 'Eric Church', 'Marshmello Featuring CHVRCHES', 'Lil Uzi Vert', 'Lunay, Daddy Yankee & Bad Bunny', 'Florida Georgia Line', 'Yo Gotti Featuring Lil Baby', 'Eli Young Band', 'NLE Choppa', 'Pedro Capo X Farruko', 'Avicii', 'The Chainsmokers & Bebe Rexha', 'Billie Eilish', 'Megan Thee Stallion', 'Future', 'Cody Johnson', 'SHAED', 'Chris Young', 'Nicky Jam X Ozuna', 'Ozuna', 'Jonas Brothers', 'Yella Beezy, Gucci Mane & Quavo', 'Bryce Vine Featuring YG', 'Juice WRLD', 'Ozuna x Daddy Yankee x J Balvin x Farruko x Anuel AA', 'Future', 'Future', 'Sech Featuring Darell']}\n"
     ]
    }
   ],
   "source": [
    "print(columns)"
   ]
  },
  {
   "cell_type": "code",
   "execution_count": 155,
   "metadata": {},
   "outputs": [
    {
     "data": {
      "text/html": [
       "<div>\n",
       "<style scoped>\n",
       "    .dataframe tbody tr th:only-of-type {\n",
       "        vertical-align: middle;\n",
       "    }\n",
       "\n",
       "    .dataframe tbody tr th {\n",
       "        vertical-align: top;\n",
       "    }\n",
       "\n",
       "    .dataframe thead th {\n",
       "        text-align: right;\n",
       "    }\n",
       "</style>\n",
       "<table border=\"1\" class=\"dataframe\">\n",
       "  <thead>\n",
       "    <tr style=\"text-align: right;\">\n",
       "      <th></th>\n",
       "      <th>rank</th>\n",
       "      <th>song</th>\n",
       "      <th>name</th>\n",
       "    </tr>\n",
       "  </thead>\n",
       "  <tbody>\n",
       "    <tr>\n",
       "      <th>0</th>\n",
       "      <td>1</td>\n",
       "      <td>Old Town Road</td>\n",
       "      <td>Lil Nas X Featuring Billy Ray Cyrus</td>\n",
       "    </tr>\n",
       "    <tr>\n",
       "      <th>1</th>\n",
       "      <td>2</td>\n",
       "      <td>Bad Guy</td>\n",
       "      <td>Billie Eilish</td>\n",
       "    </tr>\n",
       "    <tr>\n",
       "      <th>2</th>\n",
       "      <td>3</td>\n",
       "      <td>Talk</td>\n",
       "      <td>Khalid</td>\n",
       "    </tr>\n",
       "    <tr>\n",
       "      <th>3</th>\n",
       "      <td>4</td>\n",
       "      <td>Sucker</td>\n",
       "      <td>Jonas Brothers</td>\n",
       "    </tr>\n",
       "    <tr>\n",
       "      <th>4</th>\n",
       "      <td>5</td>\n",
       "      <td>I Don't Care</td>\n",
       "      <td>Ed Sheeran &amp; Justin Bieber</td>\n",
       "    </tr>\n",
       "  </tbody>\n",
       "</table>\n",
       "</div>"
      ],
      "text/plain": [
       "  rank           song                                 name\n",
       "0    1  Old Town Road  Lil Nas X Featuring Billy Ray Cyrus\n",
       "1    2        Bad Guy                        Billie Eilish\n",
       "2    3           Talk                               Khalid\n",
       "3    4         Sucker                       Jonas Brothers\n",
       "4    5   I Don't Care           Ed Sheeran & Justin Bieber"
      ]
     },
     "execution_count": 155,
     "metadata": {},
     "output_type": "execute_result"
    }
   ],
   "source": [
    "df = pd.DataFrame(columns)\n",
    "df.head()"
   ]
  },
  {
   "cell_type": "code",
   "execution_count": 156,
   "metadata": {},
   "outputs": [
    {
     "data": {
      "text/plain": [
       "'/Users/dronejournalismlab/Desktop/FOUNDATIONS/foundations_homework/08-homework'"
      ]
     },
     "execution_count": 156,
     "metadata": {},
     "output_type": "execute_result"
    }
   ],
   "source": [
    "pwd"
   ]
  },
  {
   "cell_type": "code",
   "execution_count": 157,
   "metadata": {},
   "outputs": [],
   "source": [
    "df.to_csv(r'/Users/dronejournalismlab/Desktop/FOUNDATIONS/foundations_homework/08-homework/BILLBOARD.csv')"
   ]
  },
  {
   "cell_type": "code",
   "execution_count": null,
   "metadata": {},
   "outputs": [],
   "source": []
  }
 ],
 "metadata": {
  "kernelspec": {
   "display_name": "Python 3",
   "language": "python",
   "name": "python3"
  },
  "language_info": {
   "codemirror_mode": {
    "name": "ipython",
    "version": 3
   },
   "file_extension": ".py",
   "mimetype": "text/x-python",
   "name": "python",
   "nbconvert_exporter": "python",
   "pygments_lexer": "ipython3",
   "version": "3.6.5"
  }
 },
 "nbformat": 4,
 "nbformat_minor": 2
}
