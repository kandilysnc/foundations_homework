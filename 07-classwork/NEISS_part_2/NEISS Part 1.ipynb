{
 "cells": [
  {
   "cell_type": "markdown",
   "metadata": {},
   "source": [
    "# NEISS, Part 1 (Mostly cleaning, from last class)\n",
    "\n",
    "* **Dataset:** `neiss2017.tsv` - NEISS, again! But an old one, because the newer one is too nice.\n",
    "* **Source:** https://www.cpsc.gov/Research--Statistics/NEISS-Injury-Data\n",
    "* **Topics:**\n",
    "    - `.dropna(subset=...)` to remove rows with missing data\n",
    "    - `.replace` for exact value replacements\n",
    "    - `.str.replace` to replace partial strings\n",
    "    - `np.nan` to replace data with `NaN`\n",
    "    - different `read_csv` options\n",
    "    - `normalize` and `dropna` in `value_counts()`\n",
    "    - inexact matching with `.str.contains`"
   ]
  },
  {
   "cell_type": "markdown",
   "metadata": {},
   "source": [
    "## Import what we need"
   ]
  },
  {
   "cell_type": "code",
   "execution_count": 2,
   "metadata": {},
   "outputs": [],
   "source": [
    "import pandas as pd\n",
    "import numpy as np\n",
    "\n",
    "%matplotlib inline"
   ]
  },
  {
   "cell_type": "code",
   "execution_count": 3,
   "metadata": {},
   "outputs": [
    {
     "data": {
      "text/plain": [
       "nan"
      ]
     },
     "execution_count": 3,
     "metadata": {},
     "output_type": "execute_result"
    }
   ],
   "source": [
    "#gak bisa cuma nulis\"Nan\"\n",
    "#\"tapi harus diganti dengan np.nan\"\n",
    "np.nan"
   ]
  },
  {
   "cell_type": "markdown",
   "metadata": {},
   "source": [
    "#string.contains(\", NY\").unique() #unique untuk menghilangkan duplicate"
   ]
  },
  {
   "cell_type": "code",
   "execution_count": 5,
   "metadata": {},
   "outputs": [
    {
     "name": "stdout",
     "output_type": "stream",
     "text": [
      "\"CPSC_Case_Number\"\t\"Treatment_Date\"\t\"Age\"\t\"Sex\"\t\"Race\"\t\"Other_Race\"\t\"Body_Part\"\t\"Diagnosis\"\t\"Other_Diagnosis\"\t\"Disposition\"\t\"Location\"\t\"Fire_Involvement\"\t\"Product_1\"\t\"Product_2\"\t\"Narrative_1\"\t\"Narrative_2\"\t\"Stratum\"\t\"PSU\"\t\"Weight\"\r",
      "\r\n",
      "170100733\t01/01/2017\t21\t1\t1\t\t75\t62\t\t1\t1\t0\t1207\t0\t21YOM WAS BOXING WITH FRIEND WHILE DRINKING AND GOT PUNCHED IN THE FACE\t. BAC= 93.6 DX HEAD INJURY AND ALCOHOL INTOXICATION\tS\t46\t77.6641\r",
      "\r\n",
      "170100734\t01/01/2017\t71\t1\t1\t\t31\t53\t\t1\t5\t0\t1807\t0\t71YOM FELL ON FLOOR IN BATHROOM. DX RIB CONTUSION\t\tS\t46\t77.6641\r",
      "\r\n"
     ]
    }
   ],
   "source": [
    "# Drop to the command line, and say\n",
    "# show me the first 3 rows of this file\n",
    "!head -n 3 neiss2017.tsv"
   ]
  },
  {
   "cell_type": "markdown",
   "metadata": {},
   "source": [
    "# Read in our file, inspect our data\n",
    "\n",
    "* Check out the first few lines, the last few lines\n",
    "* See how many rows and columns it is\n",
    "* Check data types to be sure they are what you think they are"
   ]
  },
  {
   "cell_type": "code",
   "execution_count": 6,
   "metadata": {},
   "outputs": [
    {
     "name": "stderr",
     "output_type": "stream",
     "text": [
      "/Users/dronejournalismlab/.pyenv/versions/3.6.5/lib/python3.6/site-packages/IPython/core/interactiveshell.py:3049: DtypeWarning: Columns (0,2) have mixed types. Specify dtype option on import or set low_memory=False.\n",
      "  interactivity=interactivity, compiler=compiler, result=result)\n"
     ]
    },
    {
     "data": {
      "text/html": [
       "<div>\n",
       "<style scoped>\n",
       "    .dataframe tbody tr th:only-of-type {\n",
       "        vertical-align: middle;\n",
       "    }\n",
       "\n",
       "    .dataframe tbody tr th {\n",
       "        vertical-align: top;\n",
       "    }\n",
       "\n",
       "    .dataframe thead th {\n",
       "        text-align: right;\n",
       "    }\n",
       "</style>\n",
       "<table border=\"1\" class=\"dataframe\">\n",
       "  <thead>\n",
       "    <tr style=\"text-align: right;\">\n",
       "      <th></th>\n",
       "      <th>CPSC_Case_Number</th>\n",
       "      <th>Treatment_Date</th>\n",
       "      <th>Age</th>\n",
       "      <th>Sex</th>\n",
       "      <th>Race</th>\n",
       "      <th>Other_Race</th>\n",
       "      <th>Body_Part</th>\n",
       "      <th>Diagnosis</th>\n",
       "      <th>Other_Diagnosis</th>\n",
       "      <th>Disposition</th>\n",
       "      <th>Location</th>\n",
       "      <th>Fire_Involvement</th>\n",
       "      <th>Product_1</th>\n",
       "      <th>Product_2</th>\n",
       "      <th>Narrative_1</th>\n",
       "      <th>Narrative_2</th>\n",
       "      <th>Stratum</th>\n",
       "      <th>PSU</th>\n",
       "      <th>Weight</th>\n",
       "    </tr>\n",
       "  </thead>\n",
       "  <tbody>\n",
       "    <tr>\n",
       "      <th>0</th>\n",
       "      <td>170100733</td>\n",
       "      <td>01/01/2017</td>\n",
       "      <td>21</td>\n",
       "      <td>1.0</td>\n",
       "      <td>1.0</td>\n",
       "      <td>NaN</td>\n",
       "      <td>75.0</td>\n",
       "      <td>62.0</td>\n",
       "      <td>NaN</td>\n",
       "      <td>1.0</td>\n",
       "      <td>1.0</td>\n",
       "      <td>NaN</td>\n",
       "      <td>1207.0</td>\n",
       "      <td>NaN</td>\n",
       "      <td>21YOM WAS BOXING WITH FRIEND WHILE DRINKING AN...</td>\n",
       "      <td>. BAC= 93.6 DX HEAD INJURY AND ALCOHOL INTOXIC...</td>\n",
       "      <td>S</td>\n",
       "      <td>46.0</td>\n",
       "      <td>77.6641</td>\n",
       "    </tr>\n",
       "    <tr>\n",
       "      <th>1</th>\n",
       "      <td>170100734</td>\n",
       "      <td>01/01/2017</td>\n",
       "      <td>71</td>\n",
       "      <td>1.0</td>\n",
       "      <td>1.0</td>\n",
       "      <td>NaN</td>\n",
       "      <td>31.0</td>\n",
       "      <td>53.0</td>\n",
       "      <td>NaN</td>\n",
       "      <td>1.0</td>\n",
       "      <td>5.0</td>\n",
       "      <td>NaN</td>\n",
       "      <td>1807.0</td>\n",
       "      <td>NaN</td>\n",
       "      <td>71YOM FELL ON FLOOR IN BATHROOM. DX RIB CONTUSION</td>\n",
       "      <td>NaN</td>\n",
       "      <td>S</td>\n",
       "      <td>46.0</td>\n",
       "      <td>77.6641</td>\n",
       "    </tr>\n",
       "  </tbody>\n",
       "</table>\n",
       "</div>"
      ],
      "text/plain": [
       "  CPSC_Case_Number Treatment_Date Age  Sex  Race Other_Race  Body_Part  \\\n",
       "0        170100733     01/01/2017  21  1.0   1.0        NaN       75.0   \n",
       "1        170100734     01/01/2017  71  1.0   1.0        NaN       31.0   \n",
       "\n",
       "   Diagnosis Other_Diagnosis  Disposition  Location  Fire_Involvement  \\\n",
       "0       62.0             NaN          1.0       1.0               NaN   \n",
       "1       53.0             NaN          1.0       5.0               NaN   \n",
       "\n",
       "   Product_1  Product_2                                        Narrative_1  \\\n",
       "0     1207.0        NaN  21YOM WAS BOXING WITH FRIEND WHILE DRINKING AN...   \n",
       "1     1807.0        NaN  71YOM FELL ON FLOOR IN BATHROOM. DX RIB CONTUSION   \n",
       "\n",
       "                                         Narrative_2 Stratum   PSU   Weight  \n",
       "0  . BAC= 93.6 DX HEAD INJURY AND ALCOHOL INTOXIC...       S  46.0  77.6641  \n",
       "1                                                NaN       S  46.0  77.6641  "
      ]
     },
     "execution_count": 6,
     "metadata": {},
     "output_type": "execute_result"
    }
   ],
   "source": [
    "# \\t means 'the tab character'\n",
    "# \\n means 'a new line'\n",
    "#\n",
    "# sep=        means \"this is what separated our stuff\"\n",
    "# encoding=   says \"this is the encoding I want to use\"\n",
    "#             since unicode/utf-8 doesn't work, we'll try latin-1\n",
    "# na_values=  tells you what counts as missing data\n",
    "#\n",
    "\n",
    "df = pd.read_csv(\"neiss2017.tsv\", sep='\\t', encoding='latin-1', na_values=[0, \"UNKNOWN\"])\n",
    "df.head(2)"
   ]
  },
  {
   "cell_type": "markdown",
   "metadata": {},
   "source": [
    "How many rows (and columns) do we have?"
   ]
  },
  {
   "cell_type": "code",
   "execution_count": 7,
   "metadata": {},
   "outputs": [
    {
     "data": {
      "text/plain": [
       "(386907, 19)"
      ]
     },
     "execution_count": 7,
     "metadata": {},
     "output_type": "execute_result"
    }
   ],
   "source": [
    "df.shape"
   ]
  },
  {
   "cell_type": "markdown",
   "metadata": {},
   "source": [
    "What do the last few rows look like?"
   ]
  },
  {
   "cell_type": "code",
   "execution_count": 8,
   "metadata": {},
   "outputs": [
    {
     "data": {
      "text/html": [
       "<div>\n",
       "<style scoped>\n",
       "    .dataframe tbody tr th:only-of-type {\n",
       "        vertical-align: middle;\n",
       "    }\n",
       "\n",
       "    .dataframe tbody tr th {\n",
       "        vertical-align: top;\n",
       "    }\n",
       "\n",
       "    .dataframe thead th {\n",
       "        text-align: right;\n",
       "    }\n",
       "</style>\n",
       "<table border=\"1\" class=\"dataframe\">\n",
       "  <thead>\n",
       "    <tr style=\"text-align: right;\">\n",
       "      <th></th>\n",
       "      <th>CPSC_Case_Number</th>\n",
       "      <th>Treatment_Date</th>\n",
       "      <th>Age</th>\n",
       "      <th>Sex</th>\n",
       "      <th>Race</th>\n",
       "      <th>Other_Race</th>\n",
       "      <th>Body_Part</th>\n",
       "      <th>Diagnosis</th>\n",
       "      <th>Other_Diagnosis</th>\n",
       "      <th>Disposition</th>\n",
       "      <th>Location</th>\n",
       "      <th>Fire_Involvement</th>\n",
       "      <th>Product_1</th>\n",
       "      <th>Product_2</th>\n",
       "      <th>Narrative_1</th>\n",
       "      <th>Narrative_2</th>\n",
       "      <th>Stratum</th>\n",
       "      <th>PSU</th>\n",
       "      <th>Weight</th>\n",
       "    </tr>\n",
       "  </thead>\n",
       "  <tbody>\n",
       "    <tr>\n",
       "      <th>386905</th>\n",
       "      <td>180309765</td>\n",
       "      <td>12/31/2017</td>\n",
       "      <td>202</td>\n",
       "      <td>1.0</td>\n",
       "      <td>1.0</td>\n",
       "      <td>NaN</td>\n",
       "      <td>75.0</td>\n",
       "      <td>57.0</td>\n",
       "      <td>NaN</td>\n",
       "      <td>4.0</td>\n",
       "      <td>1.0</td>\n",
       "      <td>NaN</td>\n",
       "      <td>1842.0</td>\n",
       "      <td>NaN</td>\n",
       "      <td>2MO M DAD FELL ON STAIRS WHILE HOLDING BABY;DX...</td>\n",
       "      <td>NaN</td>\n",
       "      <td>C</td>\n",
       "      <td>20.0</td>\n",
       "      <td>4.757</td>\n",
       "    </tr>\n",
       "    <tr>\n",
       "      <th>386906</th>\n",
       "      <td>180309766</td>\n",
       "      <td>12/31/2017</td>\n",
       "      <td>2</td>\n",
       "      <td>2.0</td>\n",
       "      <td>1.0</td>\n",
       "      <td>NaN</td>\n",
       "      <td>85.0</td>\n",
       "      <td>68.0</td>\n",
       "      <td>NaN</td>\n",
       "      <td>4.0</td>\n",
       "      <td>1.0</td>\n",
       "      <td>NaN</td>\n",
       "      <td>1931.0</td>\n",
       "      <td>NaN</td>\n",
       "      <td>2YR F GOT INTO DAD'S ***;DX ACCIDENTAL DRUG IN...</td>\n",
       "      <td>NaN</td>\n",
       "      <td>C</td>\n",
       "      <td>20.0</td>\n",
       "      <td>4.757</td>\n",
       "    </tr>\n",
       "  </tbody>\n",
       "</table>\n",
       "</div>"
      ],
      "text/plain": [
       "       CPSC_Case_Number Treatment_Date  Age  Sex  Race Other_Race  Body_Part  \\\n",
       "386905        180309765     12/31/2017  202  1.0   1.0        NaN       75.0   \n",
       "386906        180309766     12/31/2017    2  2.0   1.0        NaN       85.0   \n",
       "\n",
       "        Diagnosis Other_Diagnosis  Disposition  Location  Fire_Involvement  \\\n",
       "386905       57.0             NaN          4.0       1.0               NaN   \n",
       "386906       68.0             NaN          4.0       1.0               NaN   \n",
       "\n",
       "        Product_1  Product_2  \\\n",
       "386905     1842.0        NaN   \n",
       "386906     1931.0        NaN   \n",
       "\n",
       "                                              Narrative_1 Narrative_2 Stratum  \\\n",
       "386905  2MO M DAD FELL ON STAIRS WHILE HOLDING BABY;DX...         NaN       C   \n",
       "386906  2YR F GOT INTO DAD'S ***;DX ACCIDENTAL DRUG IN...         NaN       C   \n",
       "\n",
       "         PSU  Weight  \n",
       "386905  20.0   4.757  \n",
       "386906  20.0   4.757  "
      ]
     },
     "execution_count": 8,
     "metadata": {},
     "output_type": "execute_result"
    }
   ],
   "source": [
    "df.tail(2)"
   ]
  },
  {
   "cell_type": "markdown",
   "metadata": {},
   "source": [
    "What do our columns look like?"
   ]
  },
  {
   "cell_type": "code",
   "execution_count": 9,
   "metadata": {},
   "outputs": [
    {
     "data": {
      "text/plain": [
       "CPSC_Case_Number     object\n",
       "Treatment_Date       object\n",
       "Age                  object\n",
       "Sex                 float64\n",
       "Race                float64\n",
       "Other_Race           object\n",
       "Body_Part           float64\n",
       "Diagnosis           float64\n",
       "Other_Diagnosis      object\n",
       "Disposition         float64\n",
       "Location            float64\n",
       "Fire_Involvement    float64\n",
       "Product_1           float64\n",
       "Product_2           float64\n",
       "Narrative_1          object\n",
       "Narrative_2          object\n",
       "Stratum              object\n",
       "PSU                 float64\n",
       "Weight              float64\n",
       "dtype: object"
      ]
     },
     "execution_count": 9,
     "metadata": {},
     "output_type": "execute_result"
    }
   ],
   "source": [
    "df.dtypes"
   ]
  },
  {
   "cell_type": "markdown",
   "metadata": {},
   "source": [
    "## Remove dirty data\n",
    "\n",
    "Last time we discovered the row where Treatment Date is missing is bad, so let's remove it"
   ]
  },
  {
   "cell_type": "code",
   "execution_count": 23,
   "metadata": {},
   "outputs": [],
   "source": [
    "df = df.dropna(subset=['Treatment_Date']) #bisa pakai subset hanya untuk milih specific column"
   ]
  },
  {
   "cell_type": "markdown",
   "metadata": {},
   "source": [
    "## Take a look at the `Sex` column\n",
    "\n",
    "We read in the PDF about what the different values for `Sex` should be instead of numbers, so let's replace them"
   ]
  },
  {
   "cell_type": "code",
   "execution_count": 24,
   "metadata": {},
   "outputs": [
    {
     "data": {
      "text/plain": [
       "Male      208695\n",
       "Female    178203\n",
       "Name: Sex, dtype: int64"
      ]
     },
     "execution_count": 24,
     "metadata": {},
     "output_type": "execute_result"
    }
   ],
   "source": [
    "df.Sex.value_counts()"
   ]
  },
  {
   "cell_type": "code",
   "execution_count": 25,
   "metadata": {},
   "outputs": [],
   "source": [
    "df['Sex'] = df.Sex.replace({\n",
    "    1: 'Male',\n",
    "    2: 'Female',\n",
    "    0: 'Not recorded'\n",
    "})"
   ]
  },
  {
   "cell_type": "code",
   "execution_count": 26,
   "metadata": {},
   "outputs": [
    {
     "data": {
      "text/plain": [
       "Male      208695\n",
       "Female    178203\n",
       "Name: Sex, dtype: int64"
      ]
     },
     "execution_count": 26,
     "metadata": {},
     "output_type": "execute_result"
    }
   ],
   "source": [
    "df.Sex.value_counts()"
   ]
  },
  {
   "cell_type": "markdown",
   "metadata": {},
   "source": [
    "## Dealing with Age"
   ]
  },
  {
   "cell_type": "code",
   "execution_count": 27,
   "metadata": {},
   "outputs": [],
   "source": [
    "#int('5')\n",
    "# PERMANENTLY change the Age into an integer\n",
    "df['Age'] = df.Age.astype(float)\n"
   ]
  },
  {
   "cell_type": "markdown",
   "metadata": {},
   "source": [
    "#gak bisa pakai integer dalam missing data mesti pakai float krn numpy gak bisa baca"
   ]
  },
  {
   "cell_type": "code",
   "execution_count": 28,
   "metadata": {},
   "outputs": [],
   "source": [
    "# Remove anyone older than 200 by only selecting ones with age under 200\n",
    "# The .copy() stops the 'setting values on a slice'\n",
    "# warning that some people were getting\n",
    "df = df[df.Age < 200].copy()"
   ]
  },
  {
   "cell_type": "code",
   "execution_count": 29,
   "metadata": {},
   "outputs": [
    {
     "data": {
      "text/plain": [
       "<matplotlib.axes._subplots.AxesSubplot at 0x10da17278>"
      ]
     },
     "execution_count": 29,
     "metadata": {},
     "output_type": "execute_result"
    },
    {
     "data": {
      "image/png": "[encoded data removed]",
      "text/plain": [
       "<Figure size 432x288 with 1 Axes>"
      ]
     },
     "metadata": {
      "needs_background": "light"
     },
     "output_type": "display_data"
    }
   ],
   "source": [
    "df.Age.hist(bins=50)"
   ]
  },
  {
   "cell_type": "code",
   "execution_count": 30,
   "metadata": {},
   "outputs": [
    {
     "data": {
      "text/plain": [
       "Sex\n",
       "Female    32.0\n",
       "Male      21.0\n",
       "Name: Age, dtype: float64"
      ]
     },
     "execution_count": 30,
     "metadata": {},
     "output_type": "execute_result"
    }
   ],
   "source": [
    "df.groupby('Sex').Age.median()"
   ]
  },
  {
   "cell_type": "code",
   "execution_count": 45,
   "metadata": {},
   "outputs": [
    {
     "data": {
      "text/plain": [
       "Sex\n",
       "Female    AxesSubplot(0.125,0.125;0.775x0.755)\n",
       "Male      AxesSubplot(0.125,0.125;0.775x0.755)\n",
       "Name: Age, dtype: object"
      ]
     },
     "execution_count": 45,
     "metadata": {},
     "output_type": "execute_result"
    },
    {
     "data": {
      "image/png": "[encoded data removed]",
      "text/plain": [
       "<Figure size 432x288 with 1 Axes>"
      ]
     },
     "metadata": {
      "needs_background": "light"
     },
     "output_type": "display_data"
    }
   ],
   "source": [
    "df.groupby('Sex').Age.hist(alpha=0.5, bins=25)"
   ]
  },
  {
   "cell_type": "markdown",
   "metadata": {},
   "source": [
    "## Decoding the race column"
   ]
  },
  {
   "cell_type": "code",
   "execution_count": 46,
   "metadata": {},
   "outputs": [],
   "source": [
    "# Make sure you do df['Race'] = to update the column with the replacements\n",
    "df['Race'] = df.Race.replace({\n",
    "    1: 'White',\n",
    "    2: 'Black',\n",
    "    4: 'Asian',\n",
    "    5: 'American Indian',\n",
    "    6: 'Pacific Islander',\n",
    "    3: 'Other',\n",
    "    0: 'Not Stated'\n",
    "})"
   ]
  },
  {
   "cell_type": "code",
   "execution_count": 47,
   "metadata": {},
   "outputs": [
    {
     "data": {
      "text/html": [
       "<div>\n",
       "<style scoped>\n",
       "    .dataframe tbody tr th:only-of-type {\n",
       "        vertical-align: middle;\n",
       "    }\n",
       "\n",
       "    .dataframe tbody tr th {\n",
       "        vertical-align: top;\n",
       "    }\n",
       "\n",
       "    .dataframe thead th {\n",
       "        text-align: right;\n",
       "    }\n",
       "</style>\n",
       "<table border=\"1\" class=\"dataframe\">\n",
       "  <thead>\n",
       "    <tr style=\"text-align: right;\">\n",
       "      <th></th>\n",
       "      <th>CPSC_Case_Number</th>\n",
       "      <th>Treatment_Date</th>\n",
       "      <th>Age</th>\n",
       "      <th>Sex</th>\n",
       "      <th>Race</th>\n",
       "      <th>Other_Race</th>\n",
       "      <th>Body_Part</th>\n",
       "      <th>Diagnosis</th>\n",
       "      <th>Other_Diagnosis</th>\n",
       "      <th>Disposition</th>\n",
       "      <th>Location</th>\n",
       "      <th>Fire_Involvement</th>\n",
       "      <th>Product_1</th>\n",
       "      <th>Product_2</th>\n",
       "      <th>Narrative_1</th>\n",
       "      <th>Narrative_2</th>\n",
       "      <th>Stratum</th>\n",
       "      <th>PSU</th>\n",
       "      <th>Weight</th>\n",
       "    </tr>\n",
       "  </thead>\n",
       "  <tbody>\n",
       "    <tr>\n",
       "      <th>0</th>\n",
       "      <td>170100733</td>\n",
       "      <td>01/01/2017</td>\n",
       "      <td>21.0</td>\n",
       "      <td>Male</td>\n",
       "      <td>White</td>\n",
       "      <td>NaN</td>\n",
       "      <td>75.0</td>\n",
       "      <td>62.0</td>\n",
       "      <td>NaN</td>\n",
       "      <td>1.0</td>\n",
       "      <td>1.0</td>\n",
       "      <td>NaN</td>\n",
       "      <td>1207.0</td>\n",
       "      <td>NaN</td>\n",
       "      <td>21YOM WAS BOXING WITH FRIEND WHILE DRINKING AN...</td>\n",
       "      <td>. BAC= 93.6 DX HEAD INJURY AND ALCOHOL INTOXIC...</td>\n",
       "      <td>S</td>\n",
       "      <td>46.0</td>\n",
       "      <td>77.6641</td>\n",
       "    </tr>\n",
       "    <tr>\n",
       "      <th>1</th>\n",
       "      <td>170100734</td>\n",
       "      <td>01/01/2017</td>\n",
       "      <td>71.0</td>\n",
       "      <td>Male</td>\n",
       "      <td>White</td>\n",
       "      <td>NaN</td>\n",
       "      <td>31.0</td>\n",
       "      <td>53.0</td>\n",
       "      <td>NaN</td>\n",
       "      <td>1.0</td>\n",
       "      <td>5.0</td>\n",
       "      <td>NaN</td>\n",
       "      <td>1807.0</td>\n",
       "      <td>NaN</td>\n",
       "      <td>71YOM FELL ON FLOOR IN BATHROOM. DX RIB CONTUSION</td>\n",
       "      <td>NaN</td>\n",
       "      <td>S</td>\n",
       "      <td>46.0</td>\n",
       "      <td>77.6641</td>\n",
       "    </tr>\n",
       "  </tbody>\n",
       "</table>\n",
       "</div>"
      ],
      "text/plain": [
       "  CPSC_Case_Number Treatment_Date   Age   Sex   Race Other_Race  Body_Part  \\\n",
       "0        170100733     01/01/2017  21.0  Male  White        NaN       75.0   \n",
       "1        170100734     01/01/2017  71.0  Male  White        NaN       31.0   \n",
       "\n",
       "   Diagnosis Other_Diagnosis  Disposition  Location  Fire_Involvement  \\\n",
       "0       62.0             NaN          1.0       1.0               NaN   \n",
       "1       53.0             NaN          1.0       5.0               NaN   \n",
       "\n",
       "   Product_1  Product_2                                        Narrative_1  \\\n",
       "0     1207.0        NaN  21YOM WAS BOXING WITH FRIEND WHILE DRINKING AN...   \n",
       "1     1807.0        NaN  71YOM FELL ON FLOOR IN BATHROOM. DX RIB CONTUSION   \n",
       "\n",
       "                                         Narrative_2 Stratum   PSU   Weight  \n",
       "0  . BAC= 93.6 DX HEAD INJURY AND ALCOHOL INTOXIC...       S  46.0  77.6641  \n",
       "1                                                NaN       S  46.0  77.6641  "
      ]
     },
     "execution_count": 47,
     "metadata": {},
     "output_type": "execute_result"
    }
   ],
   "source": [
    "df.head(2)"
   ]
  },
  {
   "cell_type": "markdown",
   "metadata": {},
   "source": [
    "# Bar chart of the number of times each race shows up in our dataset"
   ]
  },
  {
   "cell_type": "code",
   "execution_count": 48,
   "metadata": {},
   "outputs": [
    {
     "data": {
      "text/plain": [
       "<matplotlib.axes._subplots.AxesSubplot at 0x1120df630>"
      ]
     },
     "execution_count": 48,
     "metadata": {},
     "output_type": "execute_result"
    },
    {
     "data": {
      "image/png": "[encoded data removed]",
      "text/plain": [
       "<Figure size 432x288 with 1 Axes>"
      ]
     },
     "metadata": {
      "needs_background": "light"
     },
     "output_type": "display_data"
    }
   ],
   "source": [
    "df.Race.value_counts().sort_values().plot(kind='barh')"
   ]
  },
  {
   "cell_type": "code",
   "execution_count": 49,
   "metadata": {},
   "outputs": [
    {
     "data": {
      "text/plain": [
       "White               0.666106\n",
       "Black               0.225171\n",
       "Other               0.083243\n",
       "Asian               0.018597\n",
       "American Indian     0.005174\n",
       "Pacific Islander    0.001709\n",
       "Name: Race, dtype: float64"
      ]
     },
     "execution_count": 49,
     "metadata": {},
     "output_type": "execute_result"
    }
   ],
   "source": [
    "df.Race.value_counts(normalize=True)"
   ]
  },
  {
   "cell_type": "markdown",
   "metadata": {},
   "source": [
    "## `normalize` when doing `value_counts()`"
   ]
  },
  {
   "cell_type": "code",
   "execution_count": 52,
   "metadata": {},
   "outputs": [
    {
     "data": {
      "text/plain": [
       "Male      196165\n",
       "Female    167898\n",
       "Name: Sex, dtype: int64"
      ]
     },
     "execution_count": 52,
     "metadata": {},
     "output_type": "execute_result"
    }
   ],
   "source": [
    "df.Sex.value_counts()"
   ]
  },
  {
   "cell_type": "code",
   "execution_count": 31,
   "metadata": {},
   "outputs": [
    {
     "data": {
      "text/plain": [
       "Male      0.538814\n",
       "Female    0.461172\n",
       "NaN       0.000014\n",
       "Name: Sex, dtype: float64"
      ]
     },
     "execution_count": 31,
     "metadata": {},
     "output_type": "execute_result"
    }
   ],
   "source": [
    "df.Sex.value_counts(normalize=True, dropna=False)\n",
    "#dropna=False kalau mau cek missing data"
   ]
  },
  {
   "cell_type": "markdown",
   "metadata": {},
   "source": [
    "## `dropna` when doing `value_counts()`"
   ]
  },
  {
   "cell_type": "code",
   "execution_count": 54,
   "metadata": {},
   "outputs": [
    {
     "data": {
      "text/plain": [
       "Male      196165\n",
       "Female    167898\n",
       "Name: Sex, dtype: int64"
      ]
     },
     "execution_count": 54,
     "metadata": {},
     "output_type": "execute_result"
    }
   ],
   "source": [
    "df.Sex.value_counts()"
   ]
  },
  {
   "cell_type": "code",
   "execution_count": 55,
   "metadata": {},
   "outputs": [
    {
     "data": {
      "text/plain": [
       "Male      196165\n",
       "Female    167898\n",
       "NaN            5\n",
       "Name: Sex, dtype: int64"
      ]
     },
     "execution_count": 55,
     "metadata": {},
     "output_type": "execute_result"
    }
   ],
   "source": [
    "df.Sex.value_counts(dropna=False)"
   ]
  },
  {
   "cell_type": "markdown",
   "metadata": {},
   "source": [
    "# String manipulation\n",
    "\n",
    "## `Other_Race` column"
   ]
  },
  {
   "cell_type": "code",
   "execution_count": 56,
   "metadata": {},
   "outputs": [
    {
     "data": {
      "text/plain": [
       "HISPANIC        15728\n",
       "MULTI-RACIAL     2004\n",
       "HISP              760\n",
       "SOMALI            361\n",
       "NS                300\n",
       "UNKN              118\n",
       "BIRACIAL           37\n",
       "NEPALI             36\n",
       "MULTIRACIAL        28\n",
       "MULTI RACIAL       24\n",
       "Name: Other_Race, dtype: int64"
      ]
     },
     "execution_count": 56,
     "metadata": {},
     "output_type": "execute_result"
    }
   ],
   "source": [
    "df.Other_Race.value_counts().head(10)"
   ]
  },
  {
   "cell_type": "code",
   "execution_count": null,
   "metadata": {},
   "outputs": [],
   "source": [
    "#1.replace value ke other value misalnya code ganti sama string, 2. untuk replace NaN atau null dengan np.nan"
   ]
  },
  {
   "cell_type": "markdown",
   "metadata": {},
   "source": [
    "`NaN` is NOT the same as `\"NaN\"`. You can't do `df.Other_Race == \"NaN\"` - it looks like a string but it isn't! You can only do `df.Other_Race.isna()`."
   ]
  },
  {
   "cell_type": "code",
   "execution_count": 57,
   "metadata": {},
   "outputs": [
    {
     "data": {
      "text/plain": [
       "HISPANIC        15728\n",
       "MULTI-RACIAL     2004\n",
       "HISP              760\n",
       "SOMALI            361\n",
       "BIRACIAL           37\n",
       "NEPALI             36\n",
       "MULTIRACIAL        28\n",
       "MULTI RACIAL       24\n",
       "NON HISPANIC       14\n",
       "ARAB               13\n",
       "PUERTO RICAN       13\n",
       "MEXICAN            13\n",
       "DECLINE            12\n",
       "`                  11\n",
       "DO NOT KNOW        11\n",
       "UNK                10\n",
       "SPANISH             8\n",
       "HISPAINC            8\n",
       "DECLINED            7\n",
       "HISAPNIC            6\n",
       "Name: Other_Race, dtype: int64"
      ]
     },
     "execution_count": 57,
     "metadata": {},
     "output_type": "execute_result"
    }
   ],
   "source": [
    "df['Other_Race'] = df.Other_Race.replace([\"NS\", \"UNKN\"], np.nan)\n",
    "df.Other_Race.value_counts().head(20)"
   ]
  },
  {
   "cell_type": "code",
   "execution_count": 60,
   "metadata": {},
   "outputs": [
    {
     "data": {
      "text/html": [
       "<div>\n",
       "<style scoped>\n",
       "    .dataframe tbody tr th:only-of-type {\n",
       "        vertical-align: middle;\n",
       "    }\n",
       "\n",
       "    .dataframe tbody tr th {\n",
       "        vertical-align: top;\n",
       "    }\n",
       "\n",
       "    .dataframe thead th {\n",
       "        text-align: right;\n",
       "    }\n",
       "</style>\n",
       "<table border=\"1\" class=\"dataframe\">\n",
       "  <thead>\n",
       "    <tr style=\"text-align: right;\">\n",
       "      <th></th>\n",
       "      <th>CPSC_Case_Number</th>\n",
       "      <th>Treatment_Date</th>\n",
       "      <th>Age</th>\n",
       "      <th>Sex</th>\n",
       "      <th>Race</th>\n",
       "      <th>Other_Race</th>\n",
       "      <th>Body_Part</th>\n",
       "      <th>Diagnosis</th>\n",
       "      <th>Other_Diagnosis</th>\n",
       "      <th>Disposition</th>\n",
       "      <th>Location</th>\n",
       "      <th>Fire_Involvement</th>\n",
       "      <th>Product_1</th>\n",
       "      <th>Product_2</th>\n",
       "      <th>Narrative_1</th>\n",
       "      <th>Narrative_2</th>\n",
       "      <th>Stratum</th>\n",
       "      <th>PSU</th>\n",
       "      <th>Weight</th>\n",
       "    </tr>\n",
       "  </thead>\n",
       "  <tbody>\n",
       "    <tr>\n",
       "      <th>117</th>\n",
       "      <td>170106102</td>\n",
       "      <td>01/01/2017</td>\n",
       "      <td>4.0</td>\n",
       "      <td>Male</td>\n",
       "      <td>Other</td>\n",
       "      <td>HISPANIC</td>\n",
       "      <td>75.0</td>\n",
       "      <td>59.0</td>\n",
       "      <td>NaN</td>\n",
       "      <td>1.0</td>\n",
       "      <td>NaN</td>\n",
       "      <td>NaN</td>\n",
       "      <td>379.0</td>\n",
       "      <td>NaN</td>\n",
       "      <td>4 YOM FELL AND HIT RADIATOR.  DX SCALP LACERATION</td>\n",
       "      <td>NaN</td>\n",
       "      <td>C</td>\n",
       "      <td>31.0</td>\n",
       "      <td>4.7570</td>\n",
       "    </tr>\n",
       "    <tr>\n",
       "      <th>156</th>\n",
       "      <td>170106239</td>\n",
       "      <td>01/02/2017</td>\n",
       "      <td>10.0</td>\n",
       "      <td>Female</td>\n",
       "      <td>Other</td>\n",
       "      <td>HISPANIC</td>\n",
       "      <td>36.0</td>\n",
       "      <td>59.0</td>\n",
       "      <td>NaN</td>\n",
       "      <td>1.0</td>\n",
       "      <td>1.0</td>\n",
       "      <td>NaN</td>\n",
       "      <td>1842.0</td>\n",
       "      <td>NaN</td>\n",
       "      <td>10YOF WITH LAC TO LOWER LEG FROM ON STEPS</td>\n",
       "      <td>NaN</td>\n",
       "      <td>V</td>\n",
       "      <td>61.0</td>\n",
       "      <td>16.1828</td>\n",
       "    </tr>\n",
       "  </tbody>\n",
       "</table>\n",
       "</div>"
      ],
      "text/plain": [
       "    CPSC_Case_Number Treatment_Date   Age     Sex   Race Other_Race  \\\n",
       "117        170106102     01/01/2017   4.0    Male  Other   HISPANIC   \n",
       "156        170106239     01/02/2017  10.0  Female  Other   HISPANIC   \n",
       "\n",
       "     Body_Part  Diagnosis Other_Diagnosis  Disposition  Location  \\\n",
       "117       75.0       59.0             NaN          1.0       NaN   \n",
       "156       36.0       59.0             NaN          1.0       1.0   \n",
       "\n",
       "     Fire_Involvement  Product_1  Product_2  \\\n",
       "117               NaN      379.0        NaN   \n",
       "156               NaN     1842.0        NaN   \n",
       "\n",
       "                                           Narrative_1 Narrative_2 Stratum  \\\n",
       "117  4 YOM FELL AND HIT RADIATOR.  DX SCALP LACERATION         NaN       C   \n",
       "156          10YOF WITH LAC TO LOWER LEG FROM ON STEPS         NaN       V   \n",
       "\n",
       "      PSU   Weight  \n",
       "117  31.0   4.7570  \n",
       "156  61.0  16.1828  "
      ]
     },
     "execution_count": 60,
     "metadata": {},
     "output_type": "execute_result"
    }
   ],
   "source": [
    "# Exact match\n",
    "df[df.Other_Race == \"HISPANIC\"].head(2)"
   ]
  },
  {
   "cell_type": "code",
   "execution_count": 32,
   "metadata": {},
   "outputs": [
    {
     "data": {
      "text/html": [
       "<div>\n",
       "<style scoped>\n",
       "    .dataframe tbody tr th:only-of-type {\n",
       "        vertical-align: middle;\n",
       "    }\n",
       "\n",
       "    .dataframe tbody tr th {\n",
       "        vertical-align: top;\n",
       "    }\n",
       "\n",
       "    .dataframe thead th {\n",
       "        text-align: right;\n",
       "    }\n",
       "</style>\n",
       "<table border=\"1\" class=\"dataframe\">\n",
       "  <thead>\n",
       "    <tr style=\"text-align: right;\">\n",
       "      <th></th>\n",
       "      <th>CPSC_Case_Number</th>\n",
       "      <th>Treatment_Date</th>\n",
       "      <th>Age</th>\n",
       "      <th>Sex</th>\n",
       "      <th>Race</th>\n",
       "      <th>Other_Race</th>\n",
       "      <th>Body_Part</th>\n",
       "      <th>Diagnosis</th>\n",
       "      <th>Other_Diagnosis</th>\n",
       "      <th>Disposition</th>\n",
       "      <th>Location</th>\n",
       "      <th>Fire_Involvement</th>\n",
       "      <th>Product_1</th>\n",
       "      <th>Product_2</th>\n",
       "      <th>Narrative_1</th>\n",
       "      <th>Narrative_2</th>\n",
       "      <th>Stratum</th>\n",
       "      <th>PSU</th>\n",
       "      <th>Weight</th>\n",
       "    </tr>\n",
       "  </thead>\n",
       "  <tbody>\n",
       "    <tr>\n",
       "      <th>117</th>\n",
       "      <td>170106102</td>\n",
       "      <td>01/01/2017</td>\n",
       "      <td>4.0</td>\n",
       "      <td>Male</td>\n",
       "      <td>3.0</td>\n",
       "      <td>HISPANIC</td>\n",
       "      <td>75.0</td>\n",
       "      <td>59.0</td>\n",
       "      <td>NaN</td>\n",
       "      <td>1.0</td>\n",
       "      <td>NaN</td>\n",
       "      <td>NaN</td>\n",
       "      <td>379.0</td>\n",
       "      <td>NaN</td>\n",
       "      <td>4 YOM FELL AND HIT RADIATOR.  DX SCALP LACERATION</td>\n",
       "      <td>NaN</td>\n",
       "      <td>C</td>\n",
       "      <td>31.0</td>\n",
       "      <td>4.7570</td>\n",
       "    </tr>\n",
       "    <tr>\n",
       "      <th>156</th>\n",
       "      <td>170106239</td>\n",
       "      <td>01/02/2017</td>\n",
       "      <td>10.0</td>\n",
       "      <td>Female</td>\n",
       "      <td>3.0</td>\n",
       "      <td>HISPANIC</td>\n",
       "      <td>36.0</td>\n",
       "      <td>59.0</td>\n",
       "      <td>NaN</td>\n",
       "      <td>1.0</td>\n",
       "      <td>1.0</td>\n",
       "      <td>NaN</td>\n",
       "      <td>1842.0</td>\n",
       "      <td>NaN</td>\n",
       "      <td>10YOF WITH LAC TO LOWER LEG FROM ON STEPS</td>\n",
       "      <td>NaN</td>\n",
       "      <td>V</td>\n",
       "      <td>61.0</td>\n",
       "      <td>16.1828</td>\n",
       "    </tr>\n",
       "  </tbody>\n",
       "</table>\n",
       "</div>"
      ],
      "text/plain": [
       "    CPSC_Case_Number Treatment_Date   Age     Sex  Race Other_Race  Body_Part  \\\n",
       "117        170106102     01/01/2017   4.0    Male   3.0   HISPANIC       75.0   \n",
       "156        170106239     01/02/2017  10.0  Female   3.0   HISPANIC       36.0   \n",
       "\n",
       "     Diagnosis Other_Diagnosis  Disposition  Location  Fire_Involvement  \\\n",
       "117       59.0             NaN          1.0       NaN               NaN   \n",
       "156       59.0             NaN          1.0       1.0               NaN   \n",
       "\n",
       "     Product_1  Product_2                                        Narrative_1  \\\n",
       "117      379.0        NaN  4 YOM FELL AND HIT RADIATOR.  DX SCALP LACERATION   \n",
       "156     1842.0        NaN          10YOF WITH LAC TO LOWER LEG FROM ON STEPS   \n",
       "\n",
       "    Narrative_2 Stratum   PSU   Weight  \n",
       "117         NaN       C  31.0   4.7570  \n",
       "156         NaN       V  61.0  16.1828  "
      ]
     },
     "execution_count": 32,
     "metadata": {},
     "output_type": "execute_result"
    }
   ],
   "source": [
    "# Imperfect match\n",
    "df[df.Other_Race.str.contains(\"HISP\", na=False)].head(2)\n",
    "#harus pakai na=False kalau pakai string.contains"
   ]
  },
  {
   "cell_type": "code",
   "execution_count": 62,
   "metadata": {},
   "outputs": [
    {
     "data": {
      "text/plain": [
       "HISPANIC        15728\n",
       "HISP              760\n",
       "NON HISPANIC       14\n",
       "HISPAINC            8\n",
       "HISPANCI            5\n",
       "HISPAINIC           4\n",
       "NONHISPANIC         2\n",
       "HISPANICE           2\n",
       "HISPANIC.           2\n",
       "HISPANI             1\n",
       "HISPANINC           1\n",
       "HISPANICX           1\n",
       "?HISPANIC           1\n",
       "HISPOANIC           1\n",
       "`HISPANIC           1\n",
       "HISPANIC10          1\n",
       "HISPANIC1           1\n",
       "HISPANC             1\n",
       "NON-HISPANIC        1\n",
       "HISPAIN             1\n",
       "Name: Other_Race, dtype: int64"
      ]
     },
     "execution_count": 62,
     "metadata": {},
     "output_type": "execute_result"
    }
   ],
   "source": [
    "# Looks like it has to START with \"HISP\"\n",
    "df[df.Other_Race.str.contains(\"HISP\", na=False)].Other_Race.value_counts()"
   ]
  },
  {
   "cell_type": "code",
   "execution_count": 63,
   "metadata": {},
   "outputs": [
    {
     "data": {
      "text/plain": [
       "HISPANIC      15728\n",
       "HISP            760\n",
       "HISPAINC          8\n",
       "HISPANCI          5\n",
       "HISPAINIC         4\n",
       "HISPANICE         2\n",
       "HISPANIC.         2\n",
       "HISPANC           1\n",
       "HISPANIC1         1\n",
       "HISPANIC10        1\n",
       "HISPAIN           1\n",
       "HISPOANIC         1\n",
       "HISPANI           1\n",
       "HISPANICX         1\n",
       "HISPANINC         1\n",
       "Name: Other_Race, dtype: int64"
      ]
     },
     "execution_count": 63,
     "metadata": {},
     "output_type": "execute_result"
    }
   ],
   "source": [
    "# ^HISP means \"starts with HISP\"\n",
    "df[df.Other_Race.str.contains(\"^HISP\", na=False)].Other_Race.value_counts()"
   ]
  },
  {
   "cell_type": "code",
   "execution_count": 33,
   "metadata": {},
   "outputs": [
    {
     "data": {
      "text/plain": [
       "HISPANIC           16517\n",
       "MULTI-RACIAL        2004\n",
       "SOMALI               361\n",
       "NS                   300\n",
       "UNKN                 118\n",
       "BIRACIAL              37\n",
       "NEPALI                36\n",
       "MULTIRACIAL           28\n",
       "MULTI RACIAL          24\n",
       "NON HISPANIC          14\n",
       "MEXICAN               13\n",
       "PUERTO RICAN          13\n",
       "ARAB                  13\n",
       "DECLINE               12\n",
       "`                     11\n",
       "DO NOT KNOW           11\n",
       "UNK                   10\n",
       "SPANISH                8\n",
       "DECLINED               7\n",
       "HISAPNIC               6\n",
       "MANDARIN               5\n",
       "FULANI                 5\n",
       "N/S                    4\n",
       "NOT STATED             4\n",
       "LAO                    4\n",
       "JAPANESE               4\n",
       "HAKHA CHIN             3\n",
       "UK                     3\n",
       "RUSSIAN                3\n",
       "MIXED                  3\n",
       "                   ...  \n",
       "ARMENIAN               1\n",
       "TWO OR MORE RAC        1\n",
       "BIRCACIAL              1\n",
       "NG                     1\n",
       "- LAC. TO SCALP        1\n",
       "URDU                   1\n",
       "AMISH                  1\n",
       "WHITE/BLACK            1\n",
       "P                      1\n",
       "DONOT KNOW             1\n",
       "OTHER RACE UK          1\n",
       "HIPANI                 1\n",
       "=                      1\n",
       "HYPOGLYCEMIA           1\n",
       "UNKOWN                 1\n",
       "\"                      1\n",
       "HINDI                  1\n",
       "LATIN AMERICAN         1\n",
       "SOALI                  1\n",
       "BENGALI                1\n",
       "ISRAELI                1\n",
       "HYSPANIC/LATINO        1\n",
       "HISSPANIC              1\n",
       "HSP                    1\n",
       "HIPSANIC               1\n",
       "CAMBODIAN              1\n",
       "HSIPANIC               1\n",
       "TWI                    1\n",
       "HS[PANIC               1\n",
       "HIS0PANIC              1\n",
       "Name: Other_Race, Length: 86, dtype: int64"
      ]
     },
     "execution_count": 33,
     "metadata": {},
     "output_type": "execute_result"
    }
   ],
   "source": [
    "# Replace EXACT values\n",
    "# df.Other_Race.replace\n",
    "# ^ the beginning of a line\n",
    "# .* match ANYTHING\n",
    "df['Other_Race'] = df.Other_Race.str.replace(\"^HISP.*\", \"HISPANIC\")\n",
    "df.Other_Race.value_counts()\n",
    "\n",
    "#.string.replace \"^HISP.*\" to (,) \"HISPANIC\" akan ganti part saja yang diawali kata HISP dengan HISPANIC\n",
    "#kalau replace akan ganti sepenuhnya\n",
    "#be careful use .string.replace!\n"
   ]
  },
  {
   "cell_type": "markdown",
   "metadata": {},
   "source": [
    "# Now it's today!\n",
    "\n",
    "Let's save a checkpoint"
   ]
  },
  {
   "cell_type": "code",
   "execution_count": 44,
   "metadata": {},
   "outputs": [
    {
     "data": {
      "text/plain": [
       "0    NaN\n",
       "1    NaN\n",
       "2    NaN\n",
       "3    NaN\n",
       "4    NaN\n",
       "Name: Other_Race, dtype: object"
      ]
     },
     "execution_count": 44,
     "metadata": {},
     "output_type": "execute_result"
    }
   ],
   "source": []
  },
  {
   "cell_type": "code",
   "execution_count": 37,
   "metadata": {},
   "outputs": [],
   "source": [
    "df.to_csv('cleaned.csv')\n",
    "#save it to the csv file"
   ]
  },
  {
   "cell_type": "code",
   "execution_count": 43,
   "metadata": {},
   "outputs": [
    {
     "data": {
      "text/html": [
       "<div>\n",
       "<style scoped>\n",
       "    .dataframe tbody tr th:only-of-type {\n",
       "        vertical-align: middle;\n",
       "    }\n",
       "\n",
       "    .dataframe tbody tr th {\n",
       "        vertical-align: top;\n",
       "    }\n",
       "\n",
       "    .dataframe thead th {\n",
       "        text-align: right;\n",
       "    }\n",
       "</style>\n",
       "<table border=\"1\" class=\"dataframe\">\n",
       "  <thead>\n",
       "    <tr style=\"text-align: right;\">\n",
       "      <th></th>\n",
       "      <th>Unnamed: 0</th>\n",
       "      <th>CPSC_Case_Number</th>\n",
       "      <th>Treatment_Date</th>\n",
       "      <th>Age</th>\n",
       "      <th>Sex</th>\n",
       "      <th>Race</th>\n",
       "      <th>Other_Race</th>\n",
       "      <th>Body_Part</th>\n",
       "      <th>Diagnosis</th>\n",
       "      <th>Other_Diagnosis</th>\n",
       "      <th>Disposition</th>\n",
       "      <th>Location</th>\n",
       "      <th>Fire_Involvement</th>\n",
       "      <th>Product_1</th>\n",
       "      <th>Product_2</th>\n",
       "      <th>Narrative_1</th>\n",
       "      <th>Narrative_2</th>\n",
       "      <th>Stratum</th>\n",
       "      <th>PSU</th>\n",
       "      <th>Weight</th>\n",
       "    </tr>\n",
       "  </thead>\n",
       "  <tbody>\n",
       "    <tr>\n",
       "      <th>0</th>\n",
       "      <td>0</td>\n",
       "      <td>170100733</td>\n",
       "      <td>01/01/2017</td>\n",
       "      <td>21.0</td>\n",
       "      <td>Male</td>\n",
       "      <td>1.0</td>\n",
       "      <td>NaN</td>\n",
       "      <td>75.0</td>\n",
       "      <td>62.0</td>\n",
       "      <td>NaN</td>\n",
       "      <td>1.0</td>\n",
       "      <td>1.0</td>\n",
       "      <td>NaN</td>\n",
       "      <td>1207.0</td>\n",
       "      <td>NaN</td>\n",
       "      <td>21YOM WAS BOXING WITH FRIEND WHILE DRINKING AN...</td>\n",
       "      <td>. BAC= 93.6 DX HEAD INJURY AND ALCOHOL INTOXIC...</td>\n",
       "      <td>S</td>\n",
       "      <td>46.0</td>\n",
       "      <td>77.6641</td>\n",
       "    </tr>\n",
       "    <tr>\n",
       "      <th>1</th>\n",
       "      <td>1</td>\n",
       "      <td>170100734</td>\n",
       "      <td>01/01/2017</td>\n",
       "      <td>71.0</td>\n",
       "      <td>Male</td>\n",
       "      <td>1.0</td>\n",
       "      <td>NaN</td>\n",
       "      <td>31.0</td>\n",
       "      <td>53.0</td>\n",
       "      <td>NaN</td>\n",
       "      <td>1.0</td>\n",
       "      <td>5.0</td>\n",
       "      <td>NaN</td>\n",
       "      <td>1807.0</td>\n",
       "      <td>NaN</td>\n",
       "      <td>71YOM FELL ON FLOOR IN BATHROOM. DX RIB CONTUSION</td>\n",
       "      <td>NaN</td>\n",
       "      <td>S</td>\n",
       "      <td>46.0</td>\n",
       "      <td>77.6641</td>\n",
       "    </tr>\n",
       "    <tr>\n",
       "      <th>2</th>\n",
       "      <td>2</td>\n",
       "      <td>170100735</td>\n",
       "      <td>01/01/2017</td>\n",
       "      <td>16.0</td>\n",
       "      <td>Male</td>\n",
       "      <td>1.0</td>\n",
       "      <td>NaN</td>\n",
       "      <td>33.0</td>\n",
       "      <td>51.0</td>\n",
       "      <td>NaN</td>\n",
       "      <td>1.0</td>\n",
       "      <td>1.0</td>\n",
       "      <td>NaN</td>\n",
       "      <td>676.0</td>\n",
       "      <td>342.0</td>\n",
       "      <td>16YOM TRIPPED OVER A RUG AND FELL INTO A BURNI...</td>\n",
       "      <td>DX BURNS INVOLVING LESS THAN 10% OF BODY SURFA...</td>\n",
       "      <td>S</td>\n",
       "      <td>46.0</td>\n",
       "      <td>77.6641</td>\n",
       "    </tr>\n",
       "    <tr>\n",
       "      <th>3</th>\n",
       "      <td>3</td>\n",
       "      <td>170100737</td>\n",
       "      <td>01/01/2017</td>\n",
       "      <td>55.0</td>\n",
       "      <td>Female</td>\n",
       "      <td>1.0</td>\n",
       "      <td>NaN</td>\n",
       "      <td>75.0</td>\n",
       "      <td>62.0</td>\n",
       "      <td>NaN</td>\n",
       "      <td>1.0</td>\n",
       "      <td>1.0</td>\n",
       "      <td>NaN</td>\n",
       "      <td>620.0</td>\n",
       "      <td>NaN</td>\n",
       "      <td>55YOF WAS STANDING ON A STEP STOOL AND LOST FO...</td>\n",
       "      <td>HEAD INJURY</td>\n",
       "      <td>S</td>\n",
       "      <td>46.0</td>\n",
       "      <td>77.6641</td>\n",
       "    </tr>\n",
       "    <tr>\n",
       "      <th>4</th>\n",
       "      <td>4</td>\n",
       "      <td>170100740</td>\n",
       "      <td>01/01/2017</td>\n",
       "      <td>86.0</td>\n",
       "      <td>Female</td>\n",
       "      <td>1.0</td>\n",
       "      <td>NaN</td>\n",
       "      <td>79.0</td>\n",
       "      <td>58.0</td>\n",
       "      <td>NaN</td>\n",
       "      <td>1.0</td>\n",
       "      <td>1.0</td>\n",
       "      <td>NaN</td>\n",
       "      <td>1646.0</td>\n",
       "      <td>4056.0</td>\n",
       "      <td>86YOF GOT TANGLED IN COAT AND FELL BACKWARD ST...</td>\n",
       "      <td>H. DX HEMATOMA OF SOFT TISSUE, LEFT FLANK</td>\n",
       "      <td>S</td>\n",
       "      <td>46.0</td>\n",
       "      <td>77.6641</td>\n",
       "    </tr>\n",
       "  </tbody>\n",
       "</table>\n",
       "</div>"
      ],
      "text/plain": [
       "   Unnamed: 0  CPSC_Case_Number Treatment_Date   Age     Sex  Race Other_Race  \\\n",
       "0           0         170100733     01/01/2017  21.0    Male   1.0        NaN   \n",
       "1           1         170100734     01/01/2017  71.0    Male   1.0        NaN   \n",
       "2           2         170100735     01/01/2017  16.0    Male   1.0        NaN   \n",
       "3           3         170100737     01/01/2017  55.0  Female   1.0        NaN   \n",
       "4           4         170100740     01/01/2017  86.0  Female   1.0        NaN   \n",
       "\n",
       "   Body_Part  Diagnosis Other_Diagnosis  Disposition  Location  \\\n",
       "0       75.0       62.0             NaN          1.0       1.0   \n",
       "1       31.0       53.0             NaN          1.0       5.0   \n",
       "2       33.0       51.0             NaN          1.0       1.0   \n",
       "3       75.0       62.0             NaN          1.0       1.0   \n",
       "4       79.0       58.0             NaN          1.0       1.0   \n",
       "\n",
       "   Fire_Involvement  Product_1  Product_2  \\\n",
       "0               NaN     1207.0        NaN   \n",
       "1               NaN     1807.0        NaN   \n",
       "2               NaN      676.0      342.0   \n",
       "3               NaN      620.0        NaN   \n",
       "4               NaN     1646.0     4056.0   \n",
       "\n",
       "                                         Narrative_1  \\\n",
       "0  21YOM WAS BOXING WITH FRIEND WHILE DRINKING AN...   \n",
       "1  71YOM FELL ON FLOOR IN BATHROOM. DX RIB CONTUSION   \n",
       "2  16YOM TRIPPED OVER A RUG AND FELL INTO A BURNI...   \n",
       "3  55YOF WAS STANDING ON A STEP STOOL AND LOST FO...   \n",
       "4  86YOF GOT TANGLED IN COAT AND FELL BACKWARD ST...   \n",
       "\n",
       "                                         Narrative_2 Stratum   PSU   Weight  \n",
       "0  . BAC= 93.6 DX HEAD INJURY AND ALCOHOL INTOXIC...       S  46.0  77.6641  \n",
       "1                                                NaN       S  46.0  77.6641  \n",
       "2  DX BURNS INVOLVING LESS THAN 10% OF BODY SURFA...       S  46.0  77.6641  \n",
       "3                                        HEAD INJURY       S  46.0  77.6641  \n",
       "4          H. DX HEMATOMA OF SOFT TISSUE, LEFT FLANK       S  46.0  77.6641  "
      ]
     },
     "execution_count": 43,
     "metadata": {},
     "output_type": "execute_result"
    }
   ],
   "source": [
    "pd.read_csv('cleaned.csv').head()\n",
    "#now lets open it again"
   ]
  },
  {
   "cell_type": "code",
   "execution_count": 44,
   "metadata": {},
   "outputs": [
    {
     "name": "stdout",
     "output_type": "stream",
     "text": [
      "Requirement already satisfied: openpyxl in /Users/dronejournalismlab/.pyenv/versions/3.6.5/lib/python3.6/site-packages (2.6.2)\n",
      "Requirement already satisfied: et-xmlfile in /Users/dronejournalismlab/.pyenv/versions/3.6.5/lib/python3.6/site-packages (from openpyxl) (1.0.1)\n",
      "Requirement already satisfied: jdcal in /Users/dronejournalismlab/.pyenv/versions/3.6.5/lib/python3.6/site-packages (from openpyxl) (1.4.1)\n"
     ]
    }
   ],
   "source": [
    "!pip install openpyxl #untuk save ke excell"
   ]
  },
  {
   "cell_type": "code",
   "execution_count": 45,
   "metadata": {},
   "outputs": [],
   "source": [
    "#df.to_excel('cleaned.xlsx')"
   ]
  },
  {
   "cell_type": "code",
   "execution_count": 46,
   "metadata": {},
   "outputs": [],
   "source": [
    "df.to_csv('cleaned.csv, index=False')"
   ]
  },
  {
   "cell_type": "code",
   "execution_count": 47,
   "metadata": {},
   "outputs": [
    {
     "data": {
      "text/html": [
       "<div>\n",
       "<style scoped>\n",
       "    .dataframe tbody tr th:only-of-type {\n",
       "        vertical-align: middle;\n",
       "    }\n",
       "\n",
       "    .dataframe tbody tr th {\n",
       "        vertical-align: top;\n",
       "    }\n",
       "\n",
       "    .dataframe thead th {\n",
       "        text-align: right;\n",
       "    }\n",
       "</style>\n",
       "<table border=\"1\" class=\"dataframe\">\n",
       "  <thead>\n",
       "    <tr style=\"text-align: right;\">\n",
       "      <th></th>\n",
       "      <th>Unnamed: 0</th>\n",
       "      <th>CPSC_Case_Number</th>\n",
       "      <th>Treatment_Date</th>\n",
       "      <th>Age</th>\n",
       "      <th>Sex</th>\n",
       "      <th>Race</th>\n",
       "      <th>Other_Race</th>\n",
       "      <th>Body_Part</th>\n",
       "      <th>Diagnosis</th>\n",
       "      <th>Other_Diagnosis</th>\n",
       "      <th>Disposition</th>\n",
       "      <th>Location</th>\n",
       "      <th>Fire_Involvement</th>\n",
       "      <th>Product_1</th>\n",
       "      <th>Product_2</th>\n",
       "      <th>Narrative_1</th>\n",
       "      <th>Narrative_2</th>\n",
       "      <th>Stratum</th>\n",
       "      <th>PSU</th>\n",
       "      <th>Weight</th>\n",
       "    </tr>\n",
       "  </thead>\n",
       "  <tbody>\n",
       "    <tr>\n",
       "      <th>0</th>\n",
       "      <td>0</td>\n",
       "      <td>170100733</td>\n",
       "      <td>01/01/2017</td>\n",
       "      <td>21.0</td>\n",
       "      <td>Male</td>\n",
       "      <td>1.0</td>\n",
       "      <td>NaN</td>\n",
       "      <td>75.0</td>\n",
       "      <td>62.0</td>\n",
       "      <td>NaN</td>\n",
       "      <td>1.0</td>\n",
       "      <td>1.0</td>\n",
       "      <td>NaN</td>\n",
       "      <td>1207.0</td>\n",
       "      <td>NaN</td>\n",
       "      <td>21YOM WAS BOXING WITH FRIEND WHILE DRINKING AN...</td>\n",
       "      <td>. BAC= 93.6 DX HEAD INJURY AND ALCOHOL INTOXIC...</td>\n",
       "      <td>S</td>\n",
       "      <td>46.0</td>\n",
       "      <td>77.6641</td>\n",
       "    </tr>\n",
       "    <tr>\n",
       "      <th>1</th>\n",
       "      <td>1</td>\n",
       "      <td>170100734</td>\n",
       "      <td>01/01/2017</td>\n",
       "      <td>71.0</td>\n",
       "      <td>Male</td>\n",
       "      <td>1.0</td>\n",
       "      <td>NaN</td>\n",
       "      <td>31.0</td>\n",
       "      <td>53.0</td>\n",
       "      <td>NaN</td>\n",
       "      <td>1.0</td>\n",
       "      <td>5.0</td>\n",
       "      <td>NaN</td>\n",
       "      <td>1807.0</td>\n",
       "      <td>NaN</td>\n",
       "      <td>71YOM FELL ON FLOOR IN BATHROOM. DX RIB CONTUSION</td>\n",
       "      <td>NaN</td>\n",
       "      <td>S</td>\n",
       "      <td>46.0</td>\n",
       "      <td>77.6641</td>\n",
       "    </tr>\n",
       "    <tr>\n",
       "      <th>2</th>\n",
       "      <td>2</td>\n",
       "      <td>170100735</td>\n",
       "      <td>01/01/2017</td>\n",
       "      <td>16.0</td>\n",
       "      <td>Male</td>\n",
       "      <td>1.0</td>\n",
       "      <td>NaN</td>\n",
       "      <td>33.0</td>\n",
       "      <td>51.0</td>\n",
       "      <td>NaN</td>\n",
       "      <td>1.0</td>\n",
       "      <td>1.0</td>\n",
       "      <td>NaN</td>\n",
       "      <td>676.0</td>\n",
       "      <td>342.0</td>\n",
       "      <td>16YOM TRIPPED OVER A RUG AND FELL INTO A BURNI...</td>\n",
       "      <td>DX BURNS INVOLVING LESS THAN 10% OF BODY SURFA...</td>\n",
       "      <td>S</td>\n",
       "      <td>46.0</td>\n",
       "      <td>77.6641</td>\n",
       "    </tr>\n",
       "    <tr>\n",
       "      <th>3</th>\n",
       "      <td>3</td>\n",
       "      <td>170100737</td>\n",
       "      <td>01/01/2017</td>\n",
       "      <td>55.0</td>\n",
       "      <td>Female</td>\n",
       "      <td>1.0</td>\n",
       "      <td>NaN</td>\n",
       "      <td>75.0</td>\n",
       "      <td>62.0</td>\n",
       "      <td>NaN</td>\n",
       "      <td>1.0</td>\n",
       "      <td>1.0</td>\n",
       "      <td>NaN</td>\n",
       "      <td>620.0</td>\n",
       "      <td>NaN</td>\n",
       "      <td>55YOF WAS STANDING ON A STEP STOOL AND LOST FO...</td>\n",
       "      <td>HEAD INJURY</td>\n",
       "      <td>S</td>\n",
       "      <td>46.0</td>\n",
       "      <td>77.6641</td>\n",
       "    </tr>\n",
       "    <tr>\n",
       "      <th>4</th>\n",
       "      <td>4</td>\n",
       "      <td>170100740</td>\n",
       "      <td>01/01/2017</td>\n",
       "      <td>86.0</td>\n",
       "      <td>Female</td>\n",
       "      <td>1.0</td>\n",
       "      <td>NaN</td>\n",
       "      <td>79.0</td>\n",
       "      <td>58.0</td>\n",
       "      <td>NaN</td>\n",
       "      <td>1.0</td>\n",
       "      <td>1.0</td>\n",
       "      <td>NaN</td>\n",
       "      <td>1646.0</td>\n",
       "      <td>4056.0</td>\n",
       "      <td>86YOF GOT TANGLED IN COAT AND FELL BACKWARD ST...</td>\n",
       "      <td>H. DX HEMATOMA OF SOFT TISSUE, LEFT FLANK</td>\n",
       "      <td>S</td>\n",
       "      <td>46.0</td>\n",
       "      <td>77.6641</td>\n",
       "    </tr>\n",
       "  </tbody>\n",
       "</table>\n",
       "</div>"
      ],
      "text/plain": [
       "   Unnamed: 0  CPSC_Case_Number Treatment_Date   Age     Sex  Race Other_Race  \\\n",
       "0           0         170100733     01/01/2017  21.0    Male   1.0        NaN   \n",
       "1           1         170100734     01/01/2017  71.0    Male   1.0        NaN   \n",
       "2           2         170100735     01/01/2017  16.0    Male   1.0        NaN   \n",
       "3           3         170100737     01/01/2017  55.0  Female   1.0        NaN   \n",
       "4           4         170100740     01/01/2017  86.0  Female   1.0        NaN   \n",
       "\n",
       "   Body_Part  Diagnosis Other_Diagnosis  Disposition  Location  \\\n",
       "0       75.0       62.0             NaN          1.0       1.0   \n",
       "1       31.0       53.0             NaN          1.0       5.0   \n",
       "2       33.0       51.0             NaN          1.0       1.0   \n",
       "3       75.0       62.0             NaN          1.0       1.0   \n",
       "4       79.0       58.0             NaN          1.0       1.0   \n",
       "\n",
       "   Fire_Involvement  Product_1  Product_2  \\\n",
       "0               NaN     1207.0        NaN   \n",
       "1               NaN     1807.0        NaN   \n",
       "2               NaN      676.0      342.0   \n",
       "3               NaN      620.0        NaN   \n",
       "4               NaN     1646.0     4056.0   \n",
       "\n",
       "                                         Narrative_1  \\\n",
       "0  21YOM WAS BOXING WITH FRIEND WHILE DRINKING AN...   \n",
       "1  71YOM FELL ON FLOOR IN BATHROOM. DX RIB CONTUSION   \n",
       "2  16YOM TRIPPED OVER A RUG AND FELL INTO A BURNI...   \n",
       "3  55YOF WAS STANDING ON A STEP STOOL AND LOST FO...   \n",
       "4  86YOF GOT TANGLED IN COAT AND FELL BACKWARD ST...   \n",
       "\n",
       "                                         Narrative_2 Stratum   PSU   Weight  \n",
       "0  . BAC= 93.6 DX HEAD INJURY AND ALCOHOL INTOXIC...       S  46.0  77.6641  \n",
       "1                                                NaN       S  46.0  77.6641  \n",
       "2  DX BURNS INVOLVING LESS THAN 10% OF BODY SURFA...       S  46.0  77.6641  \n",
       "3                                        HEAD INJURY       S  46.0  77.6641  \n",
       "4          H. DX HEMATOMA OF SOFT TISSUE, LEFT FLANK       S  46.0  77.6641  "
      ]
     },
     "execution_count": 47,
     "metadata": {},
     "output_type": "execute_result"
    }
   ],
   "source": [
    "pd.read_csv('cleaned.csv').head()"
   ]
  },
  {
   "cell_type": "code",
   "execution_count": null,
   "metadata": {},
   "outputs": [],
   "source": []
  }
 ],
 "metadata": {
  "kernelspec": {
   "display_name": "Python 3",
   "language": "python",
   "name": "python3"
  },
  "language_info": {
   "codemirror_mode": {
    "name": "ipython",
    "version": 3
   },
   "file_extension": ".py",
   "mimetype": "text/x-python",
   "name": "python",
   "nbconvert_exporter": "python",
   "pygments_lexer": "ipython3",
   "version": "3.6.5"
  }
 },
 "nbformat": 4,
 "nbformat_minor": 2
}
