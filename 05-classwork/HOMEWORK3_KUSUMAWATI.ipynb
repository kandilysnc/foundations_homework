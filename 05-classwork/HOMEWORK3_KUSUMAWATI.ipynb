{
 "cells": [
  {
   "cell_type": "code",
   "execution_count": 17,
   "metadata": {},
   "outputs": [
    {
     "name": "stdout",
     "output_type": "stream",
     "text": [
      "/Users/dronejournalismlab/Desktop/FOUNDATIONS/foundations_homework/05-classwork\r\n"
     ]
    }
   ],
   "source": [
    "!pwd"
   ]
  },
  {
   "cell_type": "code",
   "execution_count": 18,
   "metadata": {},
   "outputs": [
    {
     "data": {
      "text/plain": [
       "[4, 5, 1, 10, 200, 34, 22, 19, 43, 56, 32, 11, 40, 82, 23, 43, 12, 65, 10]"
      ]
     },
     "execution_count": 18,
     "metadata": {},
     "output_type": "execute_result"
    }
   ],
   "source": [
    "numbers = [4, 5, 1, 10, 200, 34, 22, 19, 43, 56, 32, 11, 40, 82, 23, 43, 12, 65, 10]\n",
    "numbers"
   ]
  },
  {
   "cell_type": "markdown",
   "metadata": {},
   "source": [
    "***Count how many numbers are in the list. Use a for loop, do NOT use len***"
   ]
  },
  {
   "cell_type": "code",
   "execution_count": 19,
   "metadata": {},
   "outputs": [
    {
     "name": "stdout",
     "output_type": "stream",
     "text": [
      "Count:  19\n"
     ]
    }
   ],
   "source": [
    "count = 0\n",
    "for number in numbers:\n",
    "    count = count + 1\n",
    "print ('Count: ', count)"
   ]
  },
  {
   "cell_type": "markdown",
   "metadata": {},
   "source": [
    "***Use a Python method to add a new number to the list. You can pick the number!***"
   ]
  },
  {
   "cell_type": "code",
   "execution_count": 20,
   "metadata": {},
   "outputs": [
    {
     "data": {
      "text/plain": [
       "[4, 5, 1, 10, 200, 34, 22, 19, 43, 56, 32, 11, 40, 82, 23, 43, 12, 65, 10, 3]"
      ]
     },
     "execution_count": 20,
     "metadata": {},
     "output_type": "execute_result"
    }
   ],
   "source": [
    "numbers.append(3)\n",
    "numbers"
   ]
  },
  {
   "cell_type": "markdown",
   "metadata": {},
   "source": [
    "***Count how many even numbers are in the list. Use a for loop.***"
   ]
  },
  {
   "cell_type": "code",
   "execution_count": 21,
   "metadata": {},
   "outputs": [
    {
     "name": "stdout",
     "output_type": "stream",
     "text": [
      "Even numbers in the list:  11\n",
      "Odd numbers in the list:  9\n"
     ]
    }
   ],
   "source": [
    "even_count, odd_count = 0, 0\n",
    "\n",
    "for number in numbers: \n",
    "    if number % 2 == 0: \n",
    "        even_count += 1\n",
    "  \n",
    "    else: \n",
    "        odd_count += 1\n",
    "          \n",
    "print(\"Even numbers in the list: \", even_count) \n",
    "print(\"Odd numbers in the list: \", odd_count) \n",
    "    \n",
    " "
   ]
  },
  {
   "cell_type": "markdown",
   "metadata": {},
   "source": [
    "***Count how many values are above the mean and how many are below the mean. Use one for loop.***"
   ]
  },
  {
   "cell_type": "code",
   "execution_count": 22,
   "metadata": {},
   "outputs": [
    {
     "data": {
      "text/plain": [
       "35.75"
      ]
     },
     "execution_count": 22,
     "metadata": {},
     "output_type": "execute_result"
    }
   ],
   "source": [
    "import statistics\n",
    "mean=statistics.mean(numbers)\n",
    "mean"
   ]
  },
  {
   "cell_type": "code",
   "execution_count": 23,
   "metadata": {},
   "outputs": [
    {
     "name": "stdout",
     "output_type": "stream",
     "text": [
      "The values that are above the mean is: 7\n",
      "The values that are below the mean is: 13\n"
     ]
    }
   ],
   "source": [
    "above_count, below_count = 0,0\n",
    "for number in numbers:\n",
    "    if number > 35.75:\n",
    "        above_count +=1\n",
    "    else:\n",
    "        number< 35.75\n",
    "        below_count +=1\n",
    "        \n",
    "print(\"The values that are above the mean is:\", above_count)\n",
    "print(\"The values that are below the mean is:\",below_count)\n"
   ]
  },
  {
   "cell_type": "markdown",
   "metadata": {},
   "source": [
    "***Total up the numbers. Use a for loop, do NOT use sum().***"
   ]
  },
  {
   "cell_type": "code",
   "execution_count": 24,
   "metadata": {},
   "outputs": [
    {
     "name": "stdout",
     "output_type": "stream",
     "text": [
      "Total:  715\n"
     ]
    }
   ],
   "source": [
    "total = 0\n",
    "for number in numbers:\n",
    "    total = total + number\n",
    "print ('Total: ', total)"
   ]
  },
  {
   "cell_type": "markdown",
   "metadata": {},
   "source": [
    "***Total up the numbers that are above the mean, and total up the numbers below the mean. Use one for loop, and do not use sum().***"
   ]
  },
  {
   "cell_type": "code",
   "execution_count": 25,
   "metadata": {},
   "outputs": [
    {
     "name": "stdout",
     "output_type": "stream",
     "text": [
      "780\n",
      "718\n"
     ]
    }
   ],
   "source": [
    "even_total, odd_total = 0,0\n",
    "for number in numbers:\n",
    "    if number > 35.75:\n",
    "         even_total = total + number\n",
    "    elif number < 35.75:\n",
    "         odd_total = total + number\n",
    "print(even_total)\n",
    "print(odd_total)"
   ]
  },
  {
   "cell_type": "markdown",
   "metadata": {},
   "source": [
    "***Find the largest number. Use a for loop.***\n",
    "    "
   ]
  },
  {
   "cell_type": "code",
   "execution_count": 26,
   "metadata": {},
   "outputs": [
    {
     "name": "stdout",
     "output_type": "stream",
     "text": [
      "200\n"
     ]
    }
   ],
   "source": [
    "max_number = numbers[0]\n",
    "for number in numbers:\n",
    "    if number>max_number:\n",
    "        max_number = number\n",
    "print (max_number)\n",
    "   \n",
    "\n"
   ]
  },
  {
   "cell_type": "markdown",
   "metadata": {},
   "source": [
    "***You have a list of dogs, shown below. BUT YOU GOT ANOTHER DOG!!! His name is Maxwell, please add him to the list.***\n",
    "\n",
    "***dogs = [\"Sparky\", \"Jane\", \"Matilda\", \"Blartsburg\"]***"
   ]
  },
  {
   "cell_type": "code",
   "execution_count": 27,
   "metadata": {},
   "outputs": [
    {
     "data": {
      "text/plain": [
       "['Sparky', 'Jane', 'Matilda', 'Blartsburg']"
      ]
     },
     "execution_count": 27,
     "metadata": {},
     "output_type": "execute_result"
    }
   ],
   "source": [
    "dogs = [\"Sparky\",\"Jane\",\"Matilda\",\"Blartsburg\"]\n",
    "dogs"
   ]
  },
  {
   "cell_type": "code",
   "execution_count": 28,
   "metadata": {},
   "outputs": [
    {
     "data": {
      "text/plain": [
       "['Sparky', 'Jane', 'Matilda', 'Blartsburg', 'Maxwell']"
      ]
     },
     "execution_count": 28,
     "metadata": {},
     "output_type": "execute_result"
    }
   ],
   "source": [
    "dogs.append('Maxwell')\n",
    "dogs"
   ]
  },
  {
   "cell_type": "code",
   "execution_count": 29,
   "metadata": {},
   "outputs": [
    {
     "data": {
      "text/plain": [
       "['Sparky', 'Jane', 'Matilda', 'Blartsburg', 'Maxwell']"
      ]
     },
     "execution_count": 29,
     "metadata": {},
     "output_type": "execute_result"
    }
   ],
   "source": [
    "#removing duplicates:\n",
    "from collections import OrderedDict \n",
    "res = list(OrderedDict.fromkeys(dogs)) \n",
    "res"
   ]
  },
  {
   "cell_type": "markdown",
   "metadata": {},
   "source": [
    "***Make a list of all dogs that have names of 5 characters or less. Use a for loop.***"
   ]
  },
  {
   "cell_type": "code",
   "execution_count": 47,
   "metadata": {},
   "outputs": [
    {
     "name": "stdout",
     "output_type": "stream",
     "text": [
      "Jane\n"
     ]
    }
   ],
   "source": [
    "less_5 = []\n",
    "for dog in dogs:\n",
    "    if len(dog)<=5:\n",
    "        less_5.append(dog)\n",
    "        print(dog)\n",
    "    "
   ]
  },
  {
   "cell_type": "code",
   "execution_count": 48,
   "metadata": {},
   "outputs": [
    {
     "data": {
      "text/plain": [
       "['Jane']"
      ]
     },
     "execution_count": 48,
     "metadata": {},
     "output_type": "execute_result"
    }
   ],
   "source": [
    "less_5"
   ]
  },
  {
   "cell_type": "code",
   "execution_count": 49,
   "metadata": {},
   "outputs": [
    {
     "data": {
      "text/plain": [
       "['Jane']"
      ]
     },
     "execution_count": 49,
     "metadata": {},
     "output_type": "execute_result"
    }
   ],
   "source": [
    "#shorter way to do it\n",
    "[dog for dog in dogs if len(dog)<=5 ]"
   ]
  },
  {
   "cell_type": "markdown",
   "metadata": {},
   "source": [
    "***I'm on a web page with some links about Zurich, and the URL looks like this: http://important-swiss-things.ch/docs/download/ZH (no, it isn't a real URL). Bern is another canton - its abbreviation is BE, so its URL is http://important-swiss-things.ch/docs/download/BE.***\n",
    "\n",
    "***I want to get this link for every single canton in Switzerland, not just Zurich and Bern, BUT I don't want to type each URL manually. If I give you this list of the canton abbreviations, can you print out all of the URLs?***"
   ]
  },
  {
   "cell_type": "markdown",
   "metadata": {},
   "source": [
    "***cantons = [ \"ZH\", \"BE\", \"LU\", \"UR\", \"SZ\", \"OW\", \"NW\", \"GL\", \"ZG\", \"FR\", \"SO\", \"BS\", \"BL\", \"AR\", \"AI\", \"SG\", \"GR\", \"AG\", \"TG\", \"TI\", \"VD\", \"VS\", \"NE\", \"GE\", \"JU\"]***"
   ]
  },
  {
   "cell_type": "code",
   "execution_count": null,
   "metadata": {},
   "outputs": [],
   "source": []
  },
  {
   "cell_type": "markdown",
   "metadata": {},
   "source": [
    "I'm trying to get some top-secret documents from top-secret-secrets.com, and while I know the URL pattern I don't want to type them all out individually!\n",
    "\n",
    "Each secret document has a document ID and is made up of 12 pages, pages \"001.pdf\" through \"012.pdf\". Each page is available at a different URL. For example, for the document ID of QQ7LTHM, the pages are available at:\n",
    "\n",
    "www.top-secret-pdfs.com/content/secrets/QQ7LTHM/page/001.pdf\n",
    "www.top-secret-pdfs.com/content/secrets/QQ7LTHM/page/002.pdf\n",
    "www.top-secret-pdfs.com/content/secrets/QQ7LTHM/page/003.pdf\n",
    "...\n",
    "www.top-secret-pdfs.com/content/secrets/QQ7LTHM/page/012.pdf\n",
    "\n",
    "I have the following document IDs:\n",
    "\n",
    "qq7lthm\n",
    "jemsqhg\n",
    "O6itcke\n",
    "cp4Iua0\n",
    "bkijcmo\n",
    "ctoyjrm\n",
    "z8wc6xy\n",
    "zk4Bmm0\n",
    "\n",
    "Can you print out all of the URLs? Note that the document IDs need to be capitalized in the URL, and it's 001.pdf and 012.pdf, not 1.pdf and 12.pdf.\n",
    "\n"
   ]
  },
  {
   "cell_type": "code",
   "execution_count": null,
   "metadata": {},
   "outputs": [],
   "source": []
  },
  {
   "cell_type": "markdown",
   "metadata": {},
   "source": [
    "**PART TWO: Dictionaries**"
   ]
  },
  {
   "cell_type": "markdown",
   "metadata": {},
   "source": [
    "\n",
    "Dictionaries are super useful and you use them all of the time, but I wouldn't say there are very many 'tricks' like there are with lists. Most of the time you just want to put things in and take things out using keys. This section is pretty boring, feel free to skip to the next one if you feel comfortable with dictionaries.\n",
    "\n",
    "***Let's say we are terrible doctors and we have a patient. Define a dictionary called patient that works with the following code.***\n",
    "print(\"Doctor, it looks like the patient named\", patient['name'], \"is complaining about\", patient['complaint'])"
   ]
  },
  {
   "cell_type": "code",
   "execution_count": 30,
   "metadata": {},
   "outputs": [
    {
     "name": "stdout",
     "output_type": "stream",
     "text": [
      "Doctor, it looks like the patient named Joe is complaining about Sue\n"
     ]
    }
   ],
   "source": [
    "patient = {'name':'Joe', 'complaint':'Sue'}\n",
    "print(\"Doctor, it looks like the patient named\", patient['name'], \"is complaining about\", patient['complaint'])"
   ]
  },
  {
   "cell_type": "markdown",
   "metadata": {},
   "source": [
    "***We aren't really listening to their complaint, but as more test results come in, we'll add these things to the patient's record. Add the following to the patient dictionary:***\n",
    "Heart rate: 70\n",
    "Temperature: 98.6\n",
    "Infection: No"
   ]
  },
  {
   "cell_type": "code",
   "execution_count": 31,
   "metadata": {},
   "outputs": [
    {
     "data": {
      "text/plain": [
       "{'name': 'Joe', 'complaint': 'Sue', 'heart_rate': 70}"
      ]
     },
     "execution_count": 31,
     "metadata": {},
     "output_type": "execute_result"
    }
   ],
   "source": [
    "patient.update({'heart_rate' : 70})\n",
    "#{'temperature':98.6}\n",
    "#{'infection':'no'} \n",
    "patient"
   ]
  },
  {
   "cell_type": "code",
   "execution_count": 32,
   "metadata": {},
   "outputs": [
    {
     "data": {
      "text/plain": [
       "{'name': 'Joe', 'complaint': 'Sue', 'heart_rate': 70, 'temperature': 98.6}"
      ]
     },
     "execution_count": 32,
     "metadata": {},
     "output_type": "execute_result"
    }
   ],
   "source": [
    "patient.update({'temperature':98.6})\n",
    "patient"
   ]
  },
  {
   "cell_type": "code",
   "execution_count": 33,
   "metadata": {},
   "outputs": [
    {
     "data": {
      "text/plain": [
       "{'name': 'Joe',\n",
       " 'complaint': 'Sue',\n",
       " 'heart_rate': 70,\n",
       " 'temperature': 98.6,\n",
       " 'infection': 'no'}"
      ]
     },
     "execution_count": 33,
     "metadata": {},
     "output_type": "execute_result"
    }
   ],
   "source": [
    "patient.update({'infection':'no'})\n",
    "patient\n",
    "\n"
   ]
  },
  {
   "cell_type": "markdown",
   "metadata": {},
   "source": [
    "***Now let's be doctors! Diagnose the patient, and store your diagnosis in a key called 'diagnosis':***\n",
    "If their temperature is above 102 but they do not have an infection, they have heat stroke.\n",
    "If they have a temperature above 102 and they have an infection, they have the flu.\n",
    "If they have an infection but a normal temperature, it's probably a cold.\n",
    "If none of the above, tell them to take an aspirin and call you in the morning.\n",
    "When you are finished diagnosing the patient, display \"Your diagnosis is _______.\"\n",
    "\n"
   ]
  },
  {
   "cell_type": "code",
   "execution_count": 53,
   "metadata": {},
   "outputs": [
    {
     "ename": "SyntaxError",
     "evalue": "invalid syntax (<ipython-input-53-6a43759a6008>, line 9)",
     "output_type": "error",
     "traceback": [
      "\u001b[0;36m  File \u001b[0;32m\"<ipython-input-53-6a43759a6008>\"\u001b[0;36m, line \u001b[0;32m9\u001b[0m\n\u001b[0;31m    else patient['diagnosis']='take an aspirin and call a doctor in the morning')\u001b[0m\n\u001b[0m       ^\u001b[0m\n\u001b[0;31mSyntaxError\u001b[0m\u001b[0;31m:\u001b[0m invalid syntax\n"
     ]
    }
   ],
   "source": [
    "#I GOT ERROR HERE ^_^ WHY IS THAT?\n",
    "\n",
    "if patient['temperature'] > 102 and patient['infection']=='no':\n",
    "    patient['diagnosis'] = 'heat stroke'        \n",
    "elif patient['temperature'] > 102 and patient['infection']!= 'no':\n",
    "    patient['diagnosis'] = 'flu'\n",
    "elif patient['infection'] == 'no'&patient['temperature'] == 98.6:\n",
    "    patient['diagnosis'] = 'cold'\n",
    "    else patient['diagnosis']='take an aspirin and call a doctor in the morning')\n",
    "\n",
    "print('Your diagnosis is', patient['diagnosis'])\n",
    "        \n",
    "       "
   ]
  },
  {
   "cell_type": "markdown",
   "metadata": {},
   "source": [
    "***Make a list of 3 different patients, each with different complaint, heart rate, temperature, and whether they have an infection or not (this will be a list of dictionaries). Use a for loop to diagnose each of them.***"
   ]
  },
  {
   "cell_type": "code",
   "execution_count": 55,
   "metadata": {},
   "outputs": [
    {
     "data": {
      "text/plain": [
       "[{'name': 'jojo',\n",
       "  'complaint': 'neck stiff and heavy headache',\n",
       "  'temp': 140,\n",
       "  'heart_rate': 30,\n",
       "  'infection': False},\n",
       " {'name': 'dubi',\n",
       "  'complaint': 'sneeze a lot and sore throat',\n",
       "  'temp': 107,\n",
       "  'heart_rate': 30,\n",
       "  'infection': False},\n",
       " {'name': 'pipi',\n",
       "  'complaint': 'continously growling stomach',\n",
       "  'temp': 90,\n",
       "  'heart_rate': 30,\n",
       "  'infection': False}]"
      ]
     },
     "execution_count": 55,
     "metadata": {},
     "output_type": "execute_result"
    }
   ],
   "source": [
    "patients = [{\n",
    "  'name': 'jojo',\n",
    "  'complaint': 'neck stiff and heavy headache',\n",
    "  'temp': 140,\n",
    "  'heart_rate': 30,\n",
    "  'infection': False\n",
    "},{\n",
    "  'name': 'dubi',\n",
    "  'complaint': 'sneeze a lot and sore throat',\n",
    "  'temp': 107,\n",
    "  'heart_rate': 30,\n",
    "  'infection': False\n",
    "},{\n",
    "  'name': 'pipi',\n",
    "  'complaint': 'continously growling stomach',\n",
    "  'temp': 90,\n",
    "  'heart_rate': 30,\n",
    "  'infection': False\n",
    "}]\n",
    "patients"
   ]
  },
  {
   "cell_type": "markdown",
   "metadata": {},
   "source": [
    "***PART THREE: Reading CSV files***\n",
    "\n",
    "When you first start with Python, you might be dumb enough to use csv.DictReader to open CSV files (a csv is like a less fancy Excel spreadsheet). Unfortunately, right now we are all very very very dumb! In the future I will tell you the good, smart way, but for now let's use csv.DictReader to practice with lists and dictionaries.\n",
    "\n",
    "Download the CSV file before you run this code (click the Download ZIP buton in the top right-hand corner).\n",
    "\n"
   ]
  },
  {
   "cell_type": "code",
   "execution_count": null,
   "metadata": {},
   "outputs": [],
   "source": [
    "!ls"
   ]
  },
  {
   "cell_type": "code",
   "execution_count": 15,
   "metadata": {},
   "outputs": [
    {
     "name": "stdout",
     "output_type": "stream",
     "text": [
      "The data looks like [OrderedDict([('Country', 'Afghanistan'), ('Continent', 'Asia'), ('GDP_per_capita', '663'), ('life_expectancy', '54.863'), ('Population', '22856302')]), OrderedDict([('Country', 'Albania'), ('Continent', 'Europe'), ('GDP_per_capita', '4195'), ('life_expectancy', '74.2'), ('Population', '3071856')]), OrderedDict([('Country', 'Algeria'), ('Continent', 'Africa'), ('GDP_per_capita', '5098'), ('life_expectancy', '68.96300000000001'), ('Population', '30533827')]), OrderedDict([('Country', 'Angola'), ('Continent', 'Africa'), ('GDP_per_capita', '2446'), ('life_expectancy', '45.233999999999995'), ('Population', '13926373')]), OrderedDict([('Country', 'Antigua and Barbuda'), ('Continent', 'N. America'), ('GDP_per_capita', '12738'), ('life_expectancy', '73.544'), ('Population', '77656')]), OrderedDict([('Country', 'Argentina'), ('Continent', 'S. America'), ('GDP_per_capita', '10571'), ('life_expectancy', '73.822'), ('Population', '36930709')]), OrderedDict([('Country', 'Armenia'), ('Continent', 'Europe'), ('GDP_per_capita', '2114'), ('life_expectancy', '71.494'), ('Population', '3076098')]), OrderedDict([('Country', 'Australia'), ('Continent', 'Oceania'), ('GDP_per_capita', '29241'), ('life_expectancy', '79.93'), ('Population', '19164351')]), OrderedDict([('Country', 'Austria'), ('Continent', 'Europe'), ('GDP_per_capita', '32008'), ('life_expectancy', '78.33'), ('Population', '8004712')]), OrderedDict([('Country', 'Azerbaijan'), ('Continent', 'Europe'), ('GDP_per_capita', '2533'), ('life_expectancy', '66.851'), ('Population', '8110723')]), OrderedDict([('Country', 'Bahamas'), ('Continent', 'N. America'), ('GDP_per_capita', '22728'), ('life_expectancy', '72.37'), ('Population', '297651')]), OrderedDict([('Country', 'Bahrain'), ('Continent', 'Asia'), ('GDP_per_capita', '22015'), ('life_expectancy', '74.497'), ('Population', '638193')]), OrderedDict([('Country', 'Bangladesh'), ('Continent', 'Asia'), ('GDP_per_capita', '1075'), ('life_expectancy', '65.309'), ('Population', '129592275')]), OrderedDict([('Country', 'Barbados'), ('Continent', 'N. America'), ('GDP_per_capita', '14982'), ('life_expectancy', '73.118'), ('Population', '267511')]), OrderedDict([('Country', 'Belarus'), ('Continent', 'Europe'), ('GDP_per_capita', '5936'), ('life_expectancy', '68.99'), ('Population', '10057810')]), OrderedDict([('Country', 'Belgium'), ('Continent', 'Europe'), ('GDP_per_capita', '29940'), ('life_expectancy', '77.91'), ('Population', '10175684')]), OrderedDict([('Country', 'Belize'), ('Continent', 'N. America'), ('GDP_per_capita', '6545'), ('life_expectancy', '70.425'), ('Population', '250512')]), OrderedDict([('Country', 'Benin'), ('Continent', 'Africa'), ('GDP_per_capita', '1307'), ('life_expectancy', '55.261'), ('Population', '6517810')]), OrderedDict([('Country', 'Bhutan'), ('Continent', 'Asia'), ('GDP_per_capita', '2922'), ('life_expectancy', '60.306999999999995'), ('Population', '571262')]), OrderedDict([('Country', 'Bolivia'), ('Continent', 'S. America'), ('GDP_per_capita', '3394'), ('life_expectancy', '62.994'), ('Population', '8307248')]), OrderedDict([('Country', 'Bosnia and Herzegovina'), ('Continent', 'Europe'), ('GDP_per_capita', '5733'), ('life_expectancy', '74.882'), ('Population', '3693698')]), OrderedDict([('Country', 'Botswana'), ('Continent', 'Africa'), ('GDP_per_capita', '10107'), ('life_expectancy', '50.567'), ('Population', '1757925')]), OrderedDict([('Country', 'Brazil'), ('Continent', 'S. America'), ('GDP_per_capita', '8056'), ('life_expectancy', '70.26100000000001'), ('Population', '174425387')]), OrderedDict([('Country', 'Brunei'), ('Continent', 'Asia'), ('GDP_per_capita', '48020'), ('life_expectancy', '75.92699999999999'), ('Population', '327036')]), OrderedDict([('Country', 'Bulgaria'), ('Continent', 'Europe'), ('GDP_per_capita', '6907'), ('life_expectancy', '71.59'), ('Population', '8006158')]), OrderedDict([('Country', 'Burkina Faso'), ('Continent', 'Africa'), ('GDP_per_capita', '1001'), ('life_expectancy', '50.589'), ('Population', '12294012')]), OrderedDict([('Country', 'Burundi'), ('Continent', 'Africa'), ('GDP_per_capita', '443'), ('life_expectancy', '48.251000000000005'), ('Population', '6374347')]), OrderedDict([('Country', 'Cambodia'), ('Continent', 'Asia'), ('GDP_per_capita', '982'), ('life_expectancy', '62.03'), ('Population', '12446949')]), OrderedDict([('Country', 'Cameroon'), ('Continent', 'Africa'), ('GDP_per_capita', '1803'), ('life_expectancy', '51.96'), ('Population', '15678269')]), OrderedDict([('Country', 'Canada'), ('Continent', 'N. America'), ('GDP_per_capita', '32448'), ('life_expectancy', '79.41'), ('Population', '30667365')]), OrderedDict([('Country', 'Cape Verde'), ('Continent', 'Africa'), ('GDP_per_capita', '2291'), ('life_expectancy', '69.835'), ('Population', '437238')]), OrderedDict([('Country', 'Central African Rep.'), ('Continent', 'Africa'), ('GDP_per_capita', '762'), ('life_expectancy', '43.727'), ('Population', '3701607')]), OrderedDict([('Country', 'Chad'), ('Continent', 'Africa'), ('GDP_per_capita', '1017'), ('life_expectancy', '46.708'), ('Population', '8222327')]), OrderedDict([('Country', 'Chile'), ('Continent', 'S. America'), ('GDP_per_capita', '10435'), ('life_expectancy', '77.01'), ('Population', '15419820')]), OrderedDict([('Country', 'China'), ('Continent', 'Asia'), ('GDP_per_capita', '3407'), ('life_expectancy', '72.124'), ('Population', '1269116737')]), OrderedDict([('Country', 'Colombia'), ('Continent', 'S. America'), ('GDP_per_capita', '5749'), ('life_expectancy', '71.02600000000001'), ('Population', '39764166')]), OrderedDict([('Country', 'Comoros'), ('Continent', 'Africa'), ('GDP_per_capita', '1090'), ('life_expectancy', '57.9'), ('Population', '562469')]), OrderedDict([('Country', 'Congo, Dem. Rep.'), ('Continent', 'Africa'), ('GDP_per_capita', '292'), ('life_expectancy', '46.387'), ('Population', '49626200')]), OrderedDict([('Country', 'Congo, Rep.'), ('Continent', 'Africa'), ('GDP_per_capita', '3423'), ('life_expectancy', '52.326'), ('Population', '3135773')]), OrderedDict([('Country', 'Costa Rica'), ('Continent', 'N. America'), ('GDP_per_capita', '7672'), ('life_expectancy', '77.721'), ('Population', '3919180')]), OrderedDict([('Country', \"Cote d'Ivoire\"), ('Continent', 'Africa'), ('GDP_per_capita', '1746'), ('life_expectancy', '46.428999999999995'), ('Population', '16581653')]), OrderedDict([('Country', 'Croatia'), ('Continent', 'Europe'), ('GDP_per_capita', '10582'), ('life_expectancy', '74.798'), ('Population', '4505533')]), OrderedDict([('Country', 'Cuba'), ('Continent', 'N. America'), ('GDP_per_capita', '6115'), ('life_expectancy', '76.684'), ('Population', '11104313')]), OrderedDict([('Country', 'Cyprus'), ('Continent', 'Europe'), ('GDP_per_capita', '22821'), ('life_expectancy', '78.01100000000001'), ('Population', '943294')]), OrderedDict([('Country', 'Czech Rep.'), ('Continent', 'Europe'), ('GDP_per_capita', '16823'), ('life_expectancy', '75.05'), ('Population', '10242890')]), OrderedDict([('Country', 'Denmark'), ('Continent', 'Europe'), ('GDP_per_capita', '31805'), ('life_expectancy', '76.9'), ('Population', '5339501')]), OrderedDict([('Country', 'Djibouti'), ('Continent', 'Africa'), ('GDP_per_capita', '1894'), ('life_expectancy', '57.023'), ('Population', '731930')]), OrderedDict([('Country', 'Dominican Rep.'), ('Continent', 'N. America'), ('GDP_per_capita', '4350'), ('life_expectancy', '70.553'), ('Population', '8591967')]), OrderedDict([('Country', 'Ecuador'), ('Continent', 'S. America'), ('GDP_per_capita', '5616'), ('life_expectancy', '73.35300000000001'), ('Population', '12345023')]), OrderedDict([('Country', 'Egypt'), ('Continent', 'Africa'), ('GDP_per_capita', '4629'), ('life_expectancy', '68.632'), ('Population', '67648419')]), OrderedDict([('Country', 'El Salvador'), ('Continent', 'N. America'), ('GDP_per_capita', '5341'), ('life_expectancy', '69.715'), ('Population', '5940305')]), OrderedDict([('Country', 'Equatorial Guinea'), ('Continent', 'Africa'), ('GDP_per_capita', '5240'), ('life_expectancy', '47.723'), ('Population', '520380')]), OrderedDict([('Country', 'Eritrea'), ('Continent', 'Africa'), ('GDP_per_capita', '741'), ('life_expectancy', '56.131'), ('Population', '3667576')]), OrderedDict([('Country', 'Estonia'), ('Continent', 'Europe'), ('GDP_per_capita', '11244'), ('life_expectancy', '70.8'), ('Population', '1370749')]), OrderedDict([('Country', 'Ethiopia'), ('Continent', 'Africa'), ('GDP_per_capita', '512'), ('life_expectancy', '52.245'), ('Population', '65577897')]), OrderedDict([('Country', 'Fiji'), ('Continent', 'Oceania'), ('GDP_per_capita', '3856'), ('life_expectancy', '67.553'), ('Population', '811718')]), OrderedDict([('Country', 'Finland'), ('Continent', 'Europe'), ('GDP_per_capita', '27171'), ('life_expectancy', '77.76'), ('Population', '5173370')]), OrderedDict([('Country', 'France'), ('Continent', 'Europe'), ('GDP_per_capita', '28636'), ('life_expectancy', '79.23'), ('Population', '59047795')]), OrderedDict([('Country', 'Gabon'), ('Continent', 'Africa'), ('GDP_per_capita', '12764'), ('life_expectancy', '59.744'), ('Population', '1235274')]), OrderedDict([('Country', 'Gambia'), ('Continent', 'Africa'), ('GDP_per_capita', '687'), ('life_expectancy', '55.115'), ('Population', '1297084')]), OrderedDict([('Country', 'Georgia'), ('Continent', 'Europe'), ('GDP_per_capita', '2332'), ('life_expectancy', '71.839'), ('Population', '4745765')]), OrderedDict([('Country', 'Germany'), ('Continent', 'Europe'), ('GDP_per_capita', '29726'), ('life_expectancy', '78.14127463'), ('Population', '82349027')]), OrderedDict([('Country', 'Ghana'), ('Continent', 'Africa'), ('GDP_per_capita', '1067'), ('life_expectancy', '56.996'), ('Population', '19165490')]), OrderedDict([('Country', 'Greece'), ('Continent', 'Europe'), ('GDP_per_capita', '20675'), ('life_expectancy', '78.535'), ('Population', '10986883')]), OrderedDict([('Country', 'Greenland'), ('Continent', 'N. America'), ('GDP_per_capita', '33204'), ('life_expectancy', '67.03'), ('Population', '56196')]), OrderedDict([('Country', 'Grenada'), ('Continent', 'N. America'), ('GDP_per_capita', '8655'), ('life_expectancy', '70.34100000000001'), ('Population', '101522')]), OrderedDict([('Country', 'Guatemala'), ('Continent', 'N. America'), ('GDP_per_capita', '4884'), ('life_expectancy', '67.768'), ('Population', '11237101')]), OrderedDict([('Country', 'Guinea'), ('Continent', 'Africa'), ('GDP_per_capita', '906'), ('life_expectancy', '51.257'), ('Population', '8344486')]), OrderedDict([('Country', 'Guinea-Bissau'), ('Continent', 'Africa'), ('GDP_per_capita', '632'), ('life_expectancy', '51.468'), ('Population', '1240655')]), OrderedDict([('Country', 'Guyana'), ('Continent', 'S. America'), ('GDP_per_capita', '3141'), ('life_expectancy', '63.29'), ('Population', '733101')]), OrderedDict([('Country', 'Haiti'), ('Continent', 'N. America'), ('GDP_per_capita', '1344'), ('life_expectancy', '57.46'), ('Population', '8645371')]), OrderedDict([('Country', 'Honduras'), ('Continent', 'N. America'), ('GDP_per_capita', '3093'), ('life_expectancy', '70.482'), ('Population', '6218151')]), OrderedDict([('Country', 'Hong Kong, China'), ('Continent', 'Asia'), ('GDP_per_capita', '29972'), ('life_expectancy', '80.361'), ('Population', '6783317')]), OrderedDict([('Country', 'Hungary'), ('Continent', 'Europe'), ('GDP_per_capita', '13592'), ('life_expectancy', '71.86'), ('Population', '10210545')]), OrderedDict([('Country', 'Iceland'), ('Continent', 'Europe'), ('GDP_per_capita', '31092'), ('life_expectancy', '79.72'), ('Population', '281210')]), OrderedDict([('Country', 'India'), ('Continent', 'Asia'), ('GDP_per_capita', '1648'), ('life_expectancy', '62.129'), ('Population', '1053898107')]), OrderedDict([('Country', 'Indonesia'), ('Continent', 'Asia'), ('GDP_per_capita', '2714'), ('life_expectancy', '67.289'), ('Population', '213395411')]), OrderedDict([('Country', 'Iran'), ('Continent', 'Asia'), ('GDP_per_capita', '8600'), ('life_expectancy', '69.611'), ('Population', '65342319')]), OrderedDict([('Country', 'Iraq'), ('Continent', 'Asia'), ('GDP_per_capita', '3951'), ('life_expectancy', '70.845'), ('Population', '23857458')]), OrderedDict([('Country', 'Ireland'), ('Continent', 'Europe'), ('GDP_per_capita', '30827'), ('life_expectancy', '76.66'), ('Population', '3803780')]), OrderedDict([('Country', 'Israel'), ('Continent', 'Asia'), ('GDP_per_capita', '22834'), ('life_expectancy', '78.75'), ('Population', '6014953')]), OrderedDict([('Country', 'Italy'), ('Continent', 'Europe'), ('GDP_per_capita', '27160'), ('life_expectancy', '79.73'), ('Population', '56986329')]), OrderedDict([('Country', 'Jamaica'), ('Continent', 'N. America'), ('GDP_per_capita', '6934'), ('life_expectancy', '70.479'), ('Population', '2581648')]), OrderedDict([('Country', 'Japan'), ('Continent', 'Asia'), ('GDP_per_capita', '28559'), ('life_expectancy', '81.35'), ('Population', '125720310')]), OrderedDict([('Country', 'Jordan'), ('Continent', 'Asia'), ('GDP_per_capita', '3664'), ('life_expectancy', '71.72399999999999'), ('Population', '4827096')]), OrderedDict([('Country', 'Kazakhstan'), ('Continent', 'Asia'), ('GDP_per_capita', '5366'), ('life_expectancy', '63.513000000000005'), ('Population', '14956694')]), OrderedDict([('Country', 'Kenya'), ('Continent', 'Africa'), ('GDP_per_capita', '1318'), ('life_expectancy', '52.864'), ('Population', '31253701')]), OrderedDict([('Country', 'Kiribati'), ('Continent', 'Oceania'), ('GDP_per_capita', '3501'), ('life_expectancy', '64.642'), ('Population', '84010')]), OrderedDict([('Country', 'Korea, Dem. Rep.'), ('Continent', 'Asia'), ('GDP_per_capita', '1689'), ('life_expectancy', '65.271'), ('Population', '22894095')]), OrderedDict([('Country', 'Korea, Rep.'), ('Continent', 'Asia'), ('GDP_per_capita', '16995'), ('life_expectancy', '76.11399999999999'), ('Population', '45987624')]), OrderedDict([('Country', 'Kuwait'), ('Continent', 'Asia'), ('GDP_per_capita', '36397'), ('life_expectancy', '73.133'), ('Population', '1940786')]), OrderedDict([('Country', 'Kyrgyzstan'), ('Continent', 'Asia'), ('GDP_per_capita', '1527'), ('life_expectancy', '66.232'), ('Population', '4954850')]), OrderedDict([('Country', 'Laos'), ('Continent', 'Asia'), ('GDP_per_capita', '1518'), ('life_expectancy', '61.68899999999999'), ('Population', '5317060')]), OrderedDict([('Country', 'Latvia'), ('Continent', 'Europe'), ('GDP_per_capita', '8649'), ('life_expectancy', '70.16'), ('Population', '2384972')]), OrderedDict([('Country', 'Lebanon'), ('Continent', 'Asia'), ('GDP_per_capita', '5795'), ('life_expectancy', '74.40899999999999'), ('Population', '3742329')]), OrderedDict([('Country', 'Lesotho'), ('Continent', 'Africa'), ('GDP_per_capita', '1186'), ('life_expectancy', '47.265'), ('Population', '1963878')]), OrderedDict([('Country', 'Liberia'), ('Continent', 'Africa'), ('GDP_per_capita', '519'), ('life_expectancy', '52.424'), ('Population', '2847290')]), OrderedDict([('Country', 'Libya'), ('Continent', 'Africa'), ('GDP_per_capita', '9139'), ('life_expectancy', '71.872'), ('Population', '5231189')]), OrderedDict([('Country', 'Lithuania'), ('Continent', 'Europe'), ('GDP_per_capita', '9631'), ('life_expectancy', '72.18'), ('Population', '3500028')]), OrderedDict([('Country', 'Luxembourg'), ('Continent', 'Europe'), ('GDP_per_capita', '63924'), ('life_expectancy', '77.82'), ('Population', '435491')]), OrderedDict([('Country', 'Macao, China'), ('Continent', 'Asia'), ('GDP_per_capita', '22512'), ('life_expectancy', '77.627'), ('Population', '431867')]), OrderedDict([('Country', 'Macedonia, FYR'), ('Continent', 'Europe'), ('GDP_per_capita', '6975'), ('life_expectancy', '73.244'), ('Population', '2009091')]), OrderedDict([('Country', 'Madagascar'), ('Continent', 'Africa'), ('GDP_per_capita', '1027'), ('life_expectancy', '58.485'), ('Population', '15364272')]), OrderedDict([('Country', 'Malawi'), ('Continent', 'Africa'), ('GDP_per_capita', '713'), ('life_expectancy', '46.04'), ('Population', '11228756')]), OrderedDict([('Country', 'Malaysia'), ('Continent', 'Asia'), ('GDP_per_capita', '10161'), ('life_expectancy', '72.81'), ('Population', '23414909')]), OrderedDict([('Country', 'Maldives'), ('Continent', 'Asia'), ('GDP_per_capita', '3433'), ('life_expectancy', '69.279'), ('Population', '273236')]), OrderedDict([('Country', 'Mali'), ('Continent', 'Africa'), ('GDP_per_capita', '854'), ('life_expectancy', '49.06100000000001'), ('Population', '11295324')]), OrderedDict([('Country', 'Malta'), ('Continent', 'Europe'), ('GDP_per_capita', '20276'), ('life_expectancy', '77.36399999999999'), ('Population', '397420')]), OrderedDict([('Country', 'Mauritania'), ('Continent', 'Africa'), ('GDP_per_capita', '1540'), ('life_expectancy', '59.729'), ('Population', '2642743')]), OrderedDict([('Country', 'Mauritius'), ('Continent', 'Africa'), ('GDP_per_capita', '8290'), ('life_expectancy', '71.202'), ('Population', '1196027')]), OrderedDict([('Country', 'Mexico'), ('Continent', 'N. America'), ('GDP_per_capita', '10894'), ('life_expectancy', '74.38'), ('Population', '99959594')]), OrderedDict([('Country', 'Micronesia, Fed. Sts.'), ('Continent', 'Oceania'), ('GDP_per_capita', '5530'), ('life_expectancy', '67.3'), ('Population', '107103')]), OrderedDict([('Country', 'Moldova'), ('Continent', 'Europe'), ('GDP_per_capita', '1692'), ('life_expectancy', '67.007'), ('Population', '4106736')]), OrderedDict([('Country', 'Mongolia'), ('Continent', 'Asia'), ('GDP_per_capita', '2017'), ('life_expectancy', '62.876000000000005'), ('Population', '2411369')]), OrderedDict([('Country', 'Montenegro'), ('Continent', 'Europe'), ('GDP_per_capita', '6185'), ('life_expectancy', '74.125'), ('Population', '632606')]), OrderedDict([('Country', 'Morocco'), ('Continent', 'Africa'), ('GDP_per_capita', '3073'), ('life_expectancy', '68.22'), ('Population', '28793236')]), OrderedDict([('Country', 'Mozambique'), ('Continent', 'Africa'), ('GDP_per_capita', '542'), ('life_expectancy', '47.472'), ('Population', '18200656')]), OrderedDict([('Country', 'Myanmar'), ('Continent', 'Asia'), ('GDP_per_capita', '1034'), ('life_expectancy', '62.073'), ('Population', '44957660')]), OrderedDict([('Country', 'Namibia'), ('Continent', 'Africa'), ('GDP_per_capita', '4022'), ('life_expectancy', '55.173'), ('Population', '1895839')]), OrderedDict([('Country', 'Nepal'), ('Continent', 'Asia'), ('GDP_per_capita', '1054'), ('life_expectancy', '62.055'), ('Population', '24400606')]), OrderedDict([('Country', 'Netherlands'), ('Continent', 'Europe'), ('GDP_per_capita', '33000'), ('life_expectancy', '78.24'), ('Population', '15862825')]), OrderedDict([('Country', 'New Zealand'), ('Continent', 'Oceania'), ('GDP_per_capita', '21895'), ('life_expectancy', '78.9'), ('Population', '3858032')]), OrderedDict([('Country', 'Nicaragua'), ('Continent', 'N. America'), ('GDP_per_capita', '2490'), ('life_expectancy', '69.682'), ('Population', '5073704')]), OrderedDict([('Country', 'Niger'), ('Continent', 'Africa'), ('GDP_per_capita', '577'), ('life_expectancy', '50.692'), ('Population', '10922421')]), OrderedDict([('Country', 'Nigeria'), ('Continent', 'Africa'), ('GDP_per_capita', '1619'), ('life_expectancy', '46.629'), ('Population', '123688536')]), OrderedDict([('Country', 'Norway'), ('Continent', 'Europe'), ('GDP_per_capita', '43174'), ('life_expectancy', '78.76'), ('Population', '4490859')]), OrderedDict([('Country', 'Oman'), ('Continent', 'Asia'), ('GDP_per_capita', '19204'), ('life_expectancy', '72.139'), ('Population', '2264163')]), OrderedDict([('Country', 'Pakistan'), ('Continent', 'Asia'), ('GDP_per_capita', '2086'), ('life_expectancy', '63.854'), ('Population', '144522192')]), OrderedDict([('Country', 'Panama'), ('Continent', 'N. America'), ('GDP_per_capita', '7405'), ('life_expectancy', '75.094'), ('Population', '2956126')]), OrderedDict([('Country', 'Papua New Guinea'), ('Continent', 'Oceania'), ('GDP_per_capita', '1821'), ('life_expectancy', '58.748999999999995'), ('Population', '5378824')]), OrderedDict([('Country', 'Paraguay'), ('Continent', 'S. America'), ('GDP_per_capita', '3907'), ('life_expectancy', '70.07300000000001'), ('Population', '5343539')]), OrderedDict([('Country', 'Peru'), ('Continent', 'S. America'), ('GDP_per_capita', '5791'), ('life_expectancy', '70.506'), ('Population', '25861887')]), OrderedDict([('Country', 'Philippines'), ('Continent', 'Asia'), ('GDP_per_capita', '2598'), ('life_expectancy', '66.774'), ('Population', '77309965')]), OrderedDict([('Country', 'Poland'), ('Continent', 'Europe'), ('GDP_per_capita', '11680'), ('life_expectancy', '73.91'), ('Population', '38302444')]), OrderedDict([('Country', 'Portugal'), ('Continent', 'Europe'), ('GDP_per_capita', '19609'), ('life_expectancy', '76.84'), ('Population', '10336209')]), OrderedDict([('Country', 'Qatar'), ('Continent', 'Asia'), ('GDP_per_capita', '60394'), ('life_expectancy', '76.68'), ('Population', '590957')]), OrderedDict([('Country', 'Romania'), ('Continent', 'Europe'), ('GDP_per_capita', '7089'), ('life_expectancy', '70.47'), ('Population', '22191683')]), OrderedDict([('Country', 'Russia'), ('Continent', 'Asia'), ('GDP_per_capita', '8570'), ('life_expectancy', '65.38'), ('Population', '146757517')]), OrderedDict([('Country', 'Rwanda'), ('Continent', 'Africa'), ('GDP_per_capita', '704'), ('life_expectancy', '47.6425'), ('Population', '8098344')]), OrderedDict([('Country', 'Saint Lucia'), ('Continent', 'N. America'), ('GDP_per_capita', '8676'), ('life_expectancy', '71.456'), ('Population', '157108')]), OrderedDict([('Country', 'Saint Vincent and the Grenadines'), ('Continent', 'N. America'), ('GDP_per_capita', '5893'), ('life_expectancy', '70.6'), ('Population', '107891')]), OrderedDict([('Country', 'Samoa'), ('Continent', 'Oceania'), ('GDP_per_capita', '4090'), ('life_expectancy', '69.344'), ('Population', '176549')]), OrderedDict([('Country', 'Sao Tome and Principe'), ('Continent', 'Africa'), ('GDP_per_capita', '1320'), ('life_expectancy', '63.336000000000006'), ('Population', '141010')]), OrderedDict([('Country', 'Saudi Arabia'), ('Continent', 'Asia'), ('GDP_per_capita', '20001'), ('life_expectancy', '72.40100000000001'), ('Population', '20045276')]), OrderedDict([('Country', 'Senegal'), ('Continent', 'Africa'), ('GDP_per_capita', '1511'), ('life_expectancy', '57.817'), ('Population', '9505862')]), OrderedDict([('Country', 'Serbia'), ('Continent', 'Europe'), ('GDP_per_capita', '6607'), ('life_expectancy', '72.072'), ('Population', '10133561')]), OrderedDict([('Country', 'Seychelles'), ('Continent', 'Africa'), ('GDP_per_capita', '15230'), ('life_expectancy', '71.771'), ('Population', '78685')]), OrderedDict([('Country', 'Sierra Leone'), ('Continent', 'Africa'), ('GDP_per_capita', '517'), ('life_expectancy', '38.123000000000005'), ('Population', '4143115')]), OrderedDict([('Country', 'Singapore'), ('Continent', 'Asia'), ('GDP_per_capita', '36834'), ('life_expectancy', '78.34'), ('Population', '3919300')]), OrderedDict([('Country', 'Slovak Republic'), ('Continent', 'Europe'), ('GDP_per_capita', '12689'), ('life_expectancy', '73.19'), ('Population', '5404845')]), OrderedDict([('Country', 'Slovenia'), ('Continent', 'Europe'), ('GDP_per_capita', '19399'), ('life_expectancy', '76.11'), ('Population', '1985406')]), OrderedDict([('Country', 'Solomon Islands'), ('Continent', 'Oceania'), ('GDP_per_capita', '1802'), ('life_expectancy', '62.808'), ('Population', '408732')]), OrderedDict([('Country', 'Somalia'), ('Continent', 'Africa'), ('GDP_per_capita', '881'), ('life_expectancy', '50.902'), ('Population', '7399033')]), OrderedDict([('Country', 'South Africa'), ('Continent', 'Africa'), ('GDP_per_capita', '7454'), ('life_expectancy', '55.891999999999996'), ('Population', '44760380')]), OrderedDict([('Country', 'South Sudan'), ('Continent', 'Africa'), ('GDP_per_capita', '1883'), ('life_expectancy', '49.248000000000005'), ('Population', '6994624')]), OrderedDict([('Country', 'Spain'), ('Continent', 'Europe'), ('GDP_per_capita', '23410'), ('life_expectancy', '79.34'), ('Population', '40288457')]), OrderedDict([('Country', 'Sri Lanka'), ('Continent', 'Asia'), ('GDP_per_capita', '2997'), ('life_expectancy', '71.078'), ('Population', '18745084')]), OrderedDict([('Country', 'Sudan'), ('Continent', 'Africa'), ('GDP_per_capita', '1874'), ('life_expectancy', '57.979'), ('Population', '27193105')]), OrderedDict([('Country', 'Suriname'), ('Continent', 'S. America'), ('GDP_per_capita', '5677'), ('life_expectancy', '67.851'), ('Population', '466846')]), OrderedDict([('Country', 'Swaziland'), ('Continent', 'Africa'), ('GDP_per_capita', '4021'), ('life_expectancy', '48.68899999999999'), ('Population', '1063832')]), OrderedDict([('Country', 'Sweden'), ('Continent', 'Europe'), ('GDP_per_capita', '28640'), ('life_expectancy', '79.84'), ('Population', '8860153')]), OrderedDict([('Country', 'Switzerland'), ('Continent', 'Europe'), ('GDP_per_capita', '34386'), ('life_expectancy', '79.99'), ('Population', '7167908')]), OrderedDict([('Country', 'Syria'), ('Continent', 'Asia'), ('GDP_per_capita', '3935'), ('life_expectancy', '73.316'), ('Population', '15988534')]), OrderedDict([('Country', 'Taiwan'), ('Continent', 'Asia'), ('GDP_per_capita', '23525'), ('life_expectancy', '76.02'), ('Population', '22183000')]), OrderedDict([('Country', 'Tajikistan'), ('Continent', 'Asia'), ('GDP_per_capita', '1001'), ('life_expectancy', '63.57'), ('Population', '6172807')]), OrderedDict([('Country', 'Tanzania'), ('Continent', 'Africa'), ('GDP_per_capita', '826'), ('life_expectancy', '50.01'), ('Population', '34038161')]), OrderedDict([('Country', 'Thailand'), ('Continent', 'Asia'), ('GDP_per_capita', '5578'), ('life_expectancy', '70.921'), ('Population', '63155029')]), OrderedDict([('Country', 'Timor-Leste'), ('Continent', 'Asia'), ('GDP_per_capita', '2743'), ('life_expectancy', '59.468'), ('Population', '830089')]), OrderedDict([('Country', 'Togo'), ('Continent', 'Africa'), ('GDP_per_capita', '890'), ('life_expectancy', '53.585'), ('Population', '4793504')]), OrderedDict([('Country', 'Tonga'), ('Continent', 'Oceania'), ('GDP_per_capita', '4886'), ('life_expectancy', '70.81'), ('Population', '97935')]), OrderedDict([('Country', 'Trinidad and Tobago'), ('Continent', 'N. America'), ('GDP_per_capita', '10496'), ('life_expectancy', '68.533'), ('Population', '1292058')]), OrderedDict([('Country', 'Tunisia'), ('Continent', 'Africa'), ('GDP_per_capita', '5480'), ('life_expectancy', '73.15899999999999'), ('Population', '9456117')]), OrderedDict([('Country', 'Turkey'), ('Continent', 'Asia'), ('GDP_per_capita', '6803'), ('life_expectancy', '70.01'), ('Population', '63627862')]), OrderedDict([('Country', 'Turkmenistan'), ('Continent', 'Asia'), ('GDP_per_capita', '3289'), ('life_expectancy', '63.925'), ('Population', '4501419')]), OrderedDict([('Country', 'Uganda'), ('Continent', 'Africa'), ('GDP_per_capita', '881'), ('life_expectancy', '48.126000000000005'), ('Population', '24213120')]), OrderedDict([('Country', 'Ukraine'), ('Continent', 'Europe'), ('GDP_per_capita', '3700'), ('life_expectancy', '67.79'), ('Population', '48891792')]), OrderedDict([('Country', 'United Arab Emirates'), ('Continent', 'Asia'), ('GDP_per_capita', '30012'), ('life_expectancy', '74.163'), ('Population', '3033491')]), OrderedDict([('Country', 'United Kingdom'), ('Continent', 'Europe'), ('GDP_per_capita', '28644'), ('life_expectancy', '78.04'), ('Population', '58874117')]), OrderedDict([('Country', 'United States'), ('Continent', 'N. America'), ('GDP_per_capita', '39758'), ('life_expectancy', '76.8'), ('Population', '282496310')]), OrderedDict([('Country', 'Uruguay'), ('Continent', 'S. America'), ('GDP_per_capita', '9092'), ('life_expectancy', '74.777'), ('Population', '3319066')]), OrderedDict([('Country', 'Uzbekistan'), ('Continent', 'Asia'), ('GDP_per_capita', '1635'), ('life_expectancy', '66.999'), ('Population', '24775610')]), OrderedDict([('Country', 'Vanuatu'), ('Continent', 'Oceania'), ('GDP_per_capita', '3762'), ('life_expectancy', '67.438'), ('Population', '185074')]), OrderedDict([('Country', 'Venezuela'), ('Continent', 'S. America'), ('GDP_per_capita', '9434'), ('life_expectancy', '72.432'), ('Population', '24348304')]), OrderedDict([('Country', 'Vietnam'), ('Continent', 'Asia'), ('GDP_per_capita', '1577'), ('life_expectancy', '73.777'), ('Population', '78758010')]), OrderedDict([('Country', 'West Bank and Gaza'), ('Continent', 'Asia'), ('GDP_per_capita', '7586'), ('life_expectancy', '70.929'), ('Population', '3198560')]), OrderedDict([('Country', 'Yemen, Rep.'), ('Continent', 'Asia'), ('GDP_per_capita', '2217'), ('life_expectancy', '60.403999999999996'), ('Population', '17723186')]), OrderedDict([('Country', 'Zambia'), ('Continent', 'Africa'), ('GDP_per_capita', '1035'), ('life_expectancy', '41.802'), ('Population', '10201562')]), OrderedDict([('Country', 'Zimbabwe'), ('Continent', 'Africa'), ('GDP_per_capita', '745'), ('life_expectancy', '43.976000000000006'), ('Population', '12509477')])]\n"
     ]
    }
   ],
   "source": [
    "import csv\n",
    "\n",
    "csvfile = open('countries.csv', 'r')\n",
    "reader = csv.DictReader(csvfile)\n",
    "data = list(reader)\n",
    "csvfile.close()\n",
    "print(\"The data looks like\", data)"
   ]
  },
  {
   "cell_type": "markdown",
   "metadata": {},
   "source": [
    "When you run this code, it will open up a file and convert it into a list of dictionaries. Each row becomes a dictionary, and each column becomes a key. Not sure what I mean? Look at what we print out, or try to use a for loop to print out each row.\n",
    "\n",
    "NOTE:**** With Python 3, reading in CSV files is friendlier than it used to be, and uses something called an \"ordered dictionary.\" It means the keys have a specific order to them, but most importantly they don't have { } around them! They're still dictionaries, though.\n",
    "\n",
    "Answer the following questions based on my favorite boring dataset, countries.csv.\n",
    "\n"
   ]
  },
  {
   "cell_type": "markdown",
   "metadata": {},
   "source": [
    "***1.What are the columns in our dataset?***"
   ]
  },
  {
   "cell_type": "code",
   "execution_count": 35,
   "metadata": {},
   "outputs": [
    {
     "name": "stdout",
     "output_type": "stream",
     "text": [
      "OrderedDict([('Country', 'Afghanistan'), ('Continent', 'Asia'), ('GDP_per_capita', '663'), ('life_expectancy', '54.863'), ('Population', '22856302')])\n",
      "OrderedDict([('Country', 'Albania'), ('Continent', 'Europe'), ('GDP_per_capita', '4195'), ('life_expectancy', '74.2'), ('Population', '3071856')])\n",
      "OrderedDict([('Country', 'Algeria'), ('Continent', 'Africa'), ('GDP_per_capita', '5098'), ('life_expectancy', '68.96300000000001'), ('Population', '30533827')])\n",
      "OrderedDict([('Country', 'Angola'), ('Continent', 'Africa'), ('GDP_per_capita', '2446'), ('life_expectancy', '45.233999999999995'), ('Population', '13926373')])\n",
      "OrderedDict([('Country', 'Antigua and Barbuda'), ('Continent', 'N. America'), ('GDP_per_capita', '12738'), ('life_expectancy', '73.544'), ('Population', '77656')])\n",
      "OrderedDict([('Country', 'Argentina'), ('Continent', 'S. America'), ('GDP_per_capita', '10571'), ('life_expectancy', '73.822'), ('Population', '36930709')])\n",
      "OrderedDict([('Country', 'Armenia'), ('Continent', 'Europe'), ('GDP_per_capita', '2114'), ('life_expectancy', '71.494'), ('Population', '3076098')])\n",
      "OrderedDict([('Country', 'Australia'), ('Continent', 'Oceania'), ('GDP_per_capita', '29241'), ('life_expectancy', '79.93'), ('Population', '19164351')])\n",
      "OrderedDict([('Country', 'Austria'), ('Continent', 'Europe'), ('GDP_per_capita', '32008'), ('life_expectancy', '78.33'), ('Population', '8004712')])\n",
      "OrderedDict([('Country', 'Azerbaijan'), ('Continent', 'Europe'), ('GDP_per_capita', '2533'), ('life_expectancy', '66.851'), ('Population', '8110723')])\n",
      "OrderedDict([('Country', 'Bahamas'), ('Continent', 'N. America'), ('GDP_per_capita', '22728'), ('life_expectancy', '72.37'), ('Population', '297651')])\n",
      "OrderedDict([('Country', 'Bahrain'), ('Continent', 'Asia'), ('GDP_per_capita', '22015'), ('life_expectancy', '74.497'), ('Population', '638193')])\n",
      "OrderedDict([('Country', 'Bangladesh'), ('Continent', 'Asia'), ('GDP_per_capita', '1075'), ('life_expectancy', '65.309'), ('Population', '129592275')])\n",
      "OrderedDict([('Country', 'Barbados'), ('Continent', 'N. America'), ('GDP_per_capita', '14982'), ('life_expectancy', '73.118'), ('Population', '267511')])\n",
      "OrderedDict([('Country', 'Belarus'), ('Continent', 'Europe'), ('GDP_per_capita', '5936'), ('life_expectancy', '68.99'), ('Population', '10057810')])\n",
      "OrderedDict([('Country', 'Belgium'), ('Continent', 'Europe'), ('GDP_per_capita', '29940'), ('life_expectancy', '77.91'), ('Population', '10175684')])\n",
      "OrderedDict([('Country', 'Belize'), ('Continent', 'N. America'), ('GDP_per_capita', '6545'), ('life_expectancy', '70.425'), ('Population', '250512')])\n",
      "OrderedDict([('Country', 'Benin'), ('Continent', 'Africa'), ('GDP_per_capita', '1307'), ('life_expectancy', '55.261'), ('Population', '6517810')])\n",
      "OrderedDict([('Country', 'Bhutan'), ('Continent', 'Asia'), ('GDP_per_capita', '2922'), ('life_expectancy', '60.306999999999995'), ('Population', '571262')])\n",
      "OrderedDict([('Country', 'Bolivia'), ('Continent', 'S. America'), ('GDP_per_capita', '3394'), ('life_expectancy', '62.994'), ('Population', '8307248')])\n",
      "OrderedDict([('Country', 'Bosnia and Herzegovina'), ('Continent', 'Europe'), ('GDP_per_capita', '5733'), ('life_expectancy', '74.882'), ('Population', '3693698')])\n",
      "OrderedDict([('Country', 'Botswana'), ('Continent', 'Africa'), ('GDP_per_capita', '10107'), ('life_expectancy', '50.567'), ('Population', '1757925')])\n",
      "OrderedDict([('Country', 'Brazil'), ('Continent', 'S. America'), ('GDP_per_capita', '8056'), ('life_expectancy', '70.26100000000001'), ('Population', '174425387')])\n",
      "OrderedDict([('Country', 'Brunei'), ('Continent', 'Asia'), ('GDP_per_capita', '48020'), ('life_expectancy', '75.92699999999999'), ('Population', '327036')])\n",
      "OrderedDict([('Country', 'Bulgaria'), ('Continent', 'Europe'), ('GDP_per_capita', '6907'), ('life_expectancy', '71.59'), ('Population', '8006158')])\n",
      "OrderedDict([('Country', 'Burkina Faso'), ('Continent', 'Africa'), ('GDP_per_capita', '1001'), ('life_expectancy', '50.589'), ('Population', '12294012')])\n",
      "OrderedDict([('Country', 'Burundi'), ('Continent', 'Africa'), ('GDP_per_capita', '443'), ('life_expectancy', '48.251000000000005'), ('Population', '6374347')])\n",
      "OrderedDict([('Country', 'Cambodia'), ('Continent', 'Asia'), ('GDP_per_capita', '982'), ('life_expectancy', '62.03'), ('Population', '12446949')])\n",
      "OrderedDict([('Country', 'Cameroon'), ('Continent', 'Africa'), ('GDP_per_capita', '1803'), ('life_expectancy', '51.96'), ('Population', '15678269')])\n",
      "OrderedDict([('Country', 'Canada'), ('Continent', 'N. America'), ('GDP_per_capita', '32448'), ('life_expectancy', '79.41'), ('Population', '30667365')])\n",
      "OrderedDict([('Country', 'Cape Verde'), ('Continent', 'Africa'), ('GDP_per_capita', '2291'), ('life_expectancy', '69.835'), ('Population', '437238')])\n",
      "OrderedDict([('Country', 'Central African Rep.'), ('Continent', 'Africa'), ('GDP_per_capita', '762'), ('life_expectancy', '43.727'), ('Population', '3701607')])\n",
      "OrderedDict([('Country', 'Chad'), ('Continent', 'Africa'), ('GDP_per_capita', '1017'), ('life_expectancy', '46.708'), ('Population', '8222327')])\n",
      "OrderedDict([('Country', 'Chile'), ('Continent', 'S. America'), ('GDP_per_capita', '10435'), ('life_expectancy', '77.01'), ('Population', '15419820')])\n",
      "OrderedDict([('Country', 'China'), ('Continent', 'Asia'), ('GDP_per_capita', '3407'), ('life_expectancy', '72.124'), ('Population', '1269116737')])\n",
      "OrderedDict([('Country', 'Colombia'), ('Continent', 'S. America'), ('GDP_per_capita', '5749'), ('life_expectancy', '71.02600000000001'), ('Population', '39764166')])\n",
      "OrderedDict([('Country', 'Comoros'), ('Continent', 'Africa'), ('GDP_per_capita', '1090'), ('life_expectancy', '57.9'), ('Population', '562469')])\n",
      "OrderedDict([('Country', 'Congo, Dem. Rep.'), ('Continent', 'Africa'), ('GDP_per_capita', '292'), ('life_expectancy', '46.387'), ('Population', '49626200')])\n",
      "OrderedDict([('Country', 'Congo, Rep.'), ('Continent', 'Africa'), ('GDP_per_capita', '3423'), ('life_expectancy', '52.326'), ('Population', '3135773')])\n",
      "OrderedDict([('Country', 'Costa Rica'), ('Continent', 'N. America'), ('GDP_per_capita', '7672'), ('life_expectancy', '77.721'), ('Population', '3919180')])\n",
      "OrderedDict([('Country', \"Cote d'Ivoire\"), ('Continent', 'Africa'), ('GDP_per_capita', '1746'), ('life_expectancy', '46.428999999999995'), ('Population', '16581653')])\n",
      "OrderedDict([('Country', 'Croatia'), ('Continent', 'Europe'), ('GDP_per_capita', '10582'), ('life_expectancy', '74.798'), ('Population', '4505533')])\n",
      "OrderedDict([('Country', 'Cuba'), ('Continent', 'N. America'), ('GDP_per_capita', '6115'), ('life_expectancy', '76.684'), ('Population', '11104313')])\n",
      "OrderedDict([('Country', 'Cyprus'), ('Continent', 'Europe'), ('GDP_per_capita', '22821'), ('life_expectancy', '78.01100000000001'), ('Population', '943294')])\n",
      "OrderedDict([('Country', 'Czech Rep.'), ('Continent', 'Europe'), ('GDP_per_capita', '16823'), ('life_expectancy', '75.05'), ('Population', '10242890')])\n",
      "OrderedDict([('Country', 'Denmark'), ('Continent', 'Europe'), ('GDP_per_capita', '31805'), ('life_expectancy', '76.9'), ('Population', '5339501')])\n",
      "OrderedDict([('Country', 'Djibouti'), ('Continent', 'Africa'), ('GDP_per_capita', '1894'), ('life_expectancy', '57.023'), ('Population', '731930')])\n",
      "OrderedDict([('Country', 'Dominican Rep.'), ('Continent', 'N. America'), ('GDP_per_capita', '4350'), ('life_expectancy', '70.553'), ('Population', '8591967')])\n",
      "OrderedDict([('Country', 'Ecuador'), ('Continent', 'S. America'), ('GDP_per_capita', '5616'), ('life_expectancy', '73.35300000000001'), ('Population', '12345023')])\n",
      "OrderedDict([('Country', 'Egypt'), ('Continent', 'Africa'), ('GDP_per_capita', '4629'), ('life_expectancy', '68.632'), ('Population', '67648419')])\n",
      "OrderedDict([('Country', 'El Salvador'), ('Continent', 'N. America'), ('GDP_per_capita', '5341'), ('life_expectancy', '69.715'), ('Population', '5940305')])\n",
      "OrderedDict([('Country', 'Equatorial Guinea'), ('Continent', 'Africa'), ('GDP_per_capita', '5240'), ('life_expectancy', '47.723'), ('Population', '520380')])\n",
      "OrderedDict([('Country', 'Eritrea'), ('Continent', 'Africa'), ('GDP_per_capita', '741'), ('life_expectancy', '56.131'), ('Population', '3667576')])\n",
      "OrderedDict([('Country', 'Estonia'), ('Continent', 'Europe'), ('GDP_per_capita', '11244'), ('life_expectancy', '70.8'), ('Population', '1370749')])\n",
      "OrderedDict([('Country', 'Ethiopia'), ('Continent', 'Africa'), ('GDP_per_capita', '512'), ('life_expectancy', '52.245'), ('Population', '65577897')])\n",
      "OrderedDict([('Country', 'Fiji'), ('Continent', 'Oceania'), ('GDP_per_capita', '3856'), ('life_expectancy', '67.553'), ('Population', '811718')])\n",
      "OrderedDict([('Country', 'Finland'), ('Continent', 'Europe'), ('GDP_per_capita', '27171'), ('life_expectancy', '77.76'), ('Population', '5173370')])\n",
      "OrderedDict([('Country', 'France'), ('Continent', 'Europe'), ('GDP_per_capita', '28636'), ('life_expectancy', '79.23'), ('Population', '59047795')])\n",
      "OrderedDict([('Country', 'Gabon'), ('Continent', 'Africa'), ('GDP_per_capita', '12764'), ('life_expectancy', '59.744'), ('Population', '1235274')])\n",
      "OrderedDict([('Country', 'Gambia'), ('Continent', 'Africa'), ('GDP_per_capita', '687'), ('life_expectancy', '55.115'), ('Population', '1297084')])\n",
      "OrderedDict([('Country', 'Georgia'), ('Continent', 'Europe'), ('GDP_per_capita', '2332'), ('life_expectancy', '71.839'), ('Population', '4745765')])\n",
      "OrderedDict([('Country', 'Germany'), ('Continent', 'Europe'), ('GDP_per_capita', '29726'), ('life_expectancy', '78.14127463'), ('Population', '82349027')])\n",
      "OrderedDict([('Country', 'Ghana'), ('Continent', 'Africa'), ('GDP_per_capita', '1067'), ('life_expectancy', '56.996'), ('Population', '19165490')])\n",
      "OrderedDict([('Country', 'Greece'), ('Continent', 'Europe'), ('GDP_per_capita', '20675'), ('life_expectancy', '78.535'), ('Population', '10986883')])\n",
      "OrderedDict([('Country', 'Greenland'), ('Continent', 'N. America'), ('GDP_per_capita', '33204'), ('life_expectancy', '67.03'), ('Population', '56196')])\n",
      "OrderedDict([('Country', 'Grenada'), ('Continent', 'N. America'), ('GDP_per_capita', '8655'), ('life_expectancy', '70.34100000000001'), ('Population', '101522')])\n",
      "OrderedDict([('Country', 'Guatemala'), ('Continent', 'N. America'), ('GDP_per_capita', '4884'), ('life_expectancy', '67.768'), ('Population', '11237101')])\n",
      "OrderedDict([('Country', 'Guinea'), ('Continent', 'Africa'), ('GDP_per_capita', '906'), ('life_expectancy', '51.257'), ('Population', '8344486')])\n",
      "OrderedDict([('Country', 'Guinea-Bissau'), ('Continent', 'Africa'), ('GDP_per_capita', '632'), ('life_expectancy', '51.468'), ('Population', '1240655')])\n",
      "OrderedDict([('Country', 'Guyana'), ('Continent', 'S. America'), ('GDP_per_capita', '3141'), ('life_expectancy', '63.29'), ('Population', '733101')])\n",
      "OrderedDict([('Country', 'Haiti'), ('Continent', 'N. America'), ('GDP_per_capita', '1344'), ('life_expectancy', '57.46'), ('Population', '8645371')])\n",
      "OrderedDict([('Country', 'Honduras'), ('Continent', 'N. America'), ('GDP_per_capita', '3093'), ('life_expectancy', '70.482'), ('Population', '6218151')])\n",
      "OrderedDict([('Country', 'Hong Kong, China'), ('Continent', 'Asia'), ('GDP_per_capita', '29972'), ('life_expectancy', '80.361'), ('Population', '6783317')])\n",
      "OrderedDict([('Country', 'Hungary'), ('Continent', 'Europe'), ('GDP_per_capita', '13592'), ('life_expectancy', '71.86'), ('Population', '10210545')])\n",
      "OrderedDict([('Country', 'Iceland'), ('Continent', 'Europe'), ('GDP_per_capita', '31092'), ('life_expectancy', '79.72'), ('Population', '281210')])\n",
      "OrderedDict([('Country', 'India'), ('Continent', 'Asia'), ('GDP_per_capita', '1648'), ('life_expectancy', '62.129'), ('Population', '1053898107')])\n",
      "OrderedDict([('Country', 'Indonesia'), ('Continent', 'Asia'), ('GDP_per_capita', '2714'), ('life_expectancy', '67.289'), ('Population', '213395411')])\n",
      "OrderedDict([('Country', 'Iran'), ('Continent', 'Asia'), ('GDP_per_capita', '8600'), ('life_expectancy', '69.611'), ('Population', '65342319')])\n",
      "OrderedDict([('Country', 'Iraq'), ('Continent', 'Asia'), ('GDP_per_capita', '3951'), ('life_expectancy', '70.845'), ('Population', '23857458')])\n",
      "OrderedDict([('Country', 'Ireland'), ('Continent', 'Europe'), ('GDP_per_capita', '30827'), ('life_expectancy', '76.66'), ('Population', '3803780')])\n",
      "OrderedDict([('Country', 'Israel'), ('Continent', 'Asia'), ('GDP_per_capita', '22834'), ('life_expectancy', '78.75'), ('Population', '6014953')])\n",
      "OrderedDict([('Country', 'Italy'), ('Continent', 'Europe'), ('GDP_per_capita', '27160'), ('life_expectancy', '79.73'), ('Population', '56986329')])\n",
      "OrderedDict([('Country', 'Jamaica'), ('Continent', 'N. America'), ('GDP_per_capita', '6934'), ('life_expectancy', '70.479'), ('Population', '2581648')])\n",
      "OrderedDict([('Country', 'Japan'), ('Continent', 'Asia'), ('GDP_per_capita', '28559'), ('life_expectancy', '81.35'), ('Population', '125720310')])\n",
      "OrderedDict([('Country', 'Jordan'), ('Continent', 'Asia'), ('GDP_per_capita', '3664'), ('life_expectancy', '71.72399999999999'), ('Population', '4827096')])\n",
      "OrderedDict([('Country', 'Kazakhstan'), ('Continent', 'Asia'), ('GDP_per_capita', '5366'), ('life_expectancy', '63.513000000000005'), ('Population', '14956694')])\n",
      "OrderedDict([('Country', 'Kenya'), ('Continent', 'Africa'), ('GDP_per_capita', '1318'), ('life_expectancy', '52.864'), ('Population', '31253701')])\n",
      "OrderedDict([('Country', 'Kiribati'), ('Continent', 'Oceania'), ('GDP_per_capita', '3501'), ('life_expectancy', '64.642'), ('Population', '84010')])\n",
      "OrderedDict([('Country', 'Korea, Dem. Rep.'), ('Continent', 'Asia'), ('GDP_per_capita', '1689'), ('life_expectancy', '65.271'), ('Population', '22894095')])\n",
      "OrderedDict([('Country', 'Korea, Rep.'), ('Continent', 'Asia'), ('GDP_per_capita', '16995'), ('life_expectancy', '76.11399999999999'), ('Population', '45987624')])\n",
      "OrderedDict([('Country', 'Kuwait'), ('Continent', 'Asia'), ('GDP_per_capita', '36397'), ('life_expectancy', '73.133'), ('Population', '1940786')])\n",
      "OrderedDict([('Country', 'Kyrgyzstan'), ('Continent', 'Asia'), ('GDP_per_capita', '1527'), ('life_expectancy', '66.232'), ('Population', '4954850')])\n",
      "OrderedDict([('Country', 'Laos'), ('Continent', 'Asia'), ('GDP_per_capita', '1518'), ('life_expectancy', '61.68899999999999'), ('Population', '5317060')])\n",
      "OrderedDict([('Country', 'Latvia'), ('Continent', 'Europe'), ('GDP_per_capita', '8649'), ('life_expectancy', '70.16'), ('Population', '2384972')])\n",
      "OrderedDict([('Country', 'Lebanon'), ('Continent', 'Asia'), ('GDP_per_capita', '5795'), ('life_expectancy', '74.40899999999999'), ('Population', '3742329')])\n",
      "OrderedDict([('Country', 'Lesotho'), ('Continent', 'Africa'), ('GDP_per_capita', '1186'), ('life_expectancy', '47.265'), ('Population', '1963878')])\n",
      "OrderedDict([('Country', 'Liberia'), ('Continent', 'Africa'), ('GDP_per_capita', '519'), ('life_expectancy', '52.424'), ('Population', '2847290')])\n",
      "OrderedDict([('Country', 'Libya'), ('Continent', 'Africa'), ('GDP_per_capita', '9139'), ('life_expectancy', '71.872'), ('Population', '5231189')])\n",
      "OrderedDict([('Country', 'Lithuania'), ('Continent', 'Europe'), ('GDP_per_capita', '9631'), ('life_expectancy', '72.18'), ('Population', '3500028')])\n",
      "OrderedDict([('Country', 'Luxembourg'), ('Continent', 'Europe'), ('GDP_per_capita', '63924'), ('life_expectancy', '77.82'), ('Population', '435491')])\n",
      "OrderedDict([('Country', 'Macao, China'), ('Continent', 'Asia'), ('GDP_per_capita', '22512'), ('life_expectancy', '77.627'), ('Population', '431867')])\n",
      "OrderedDict([('Country', 'Macedonia, FYR'), ('Continent', 'Europe'), ('GDP_per_capita', '6975'), ('life_expectancy', '73.244'), ('Population', '2009091')])\n",
      "OrderedDict([('Country', 'Madagascar'), ('Continent', 'Africa'), ('GDP_per_capita', '1027'), ('life_expectancy', '58.485'), ('Population', '15364272')])\n",
      "OrderedDict([('Country', 'Malawi'), ('Continent', 'Africa'), ('GDP_per_capita', '713'), ('life_expectancy', '46.04'), ('Population', '11228756')])\n",
      "OrderedDict([('Country', 'Malaysia'), ('Continent', 'Asia'), ('GDP_per_capita', '10161'), ('life_expectancy', '72.81'), ('Population', '23414909')])\n",
      "OrderedDict([('Country', 'Maldives'), ('Continent', 'Asia'), ('GDP_per_capita', '3433'), ('life_expectancy', '69.279'), ('Population', '273236')])\n",
      "OrderedDict([('Country', 'Mali'), ('Continent', 'Africa'), ('GDP_per_capita', '854'), ('life_expectancy', '49.06100000000001'), ('Population', '11295324')])\n",
      "OrderedDict([('Country', 'Malta'), ('Continent', 'Europe'), ('GDP_per_capita', '20276'), ('life_expectancy', '77.36399999999999'), ('Population', '397420')])\n",
      "OrderedDict([('Country', 'Mauritania'), ('Continent', 'Africa'), ('GDP_per_capita', '1540'), ('life_expectancy', '59.729'), ('Population', '2642743')])\n",
      "OrderedDict([('Country', 'Mauritius'), ('Continent', 'Africa'), ('GDP_per_capita', '8290'), ('life_expectancy', '71.202'), ('Population', '1196027')])\n",
      "OrderedDict([('Country', 'Mexico'), ('Continent', 'N. America'), ('GDP_per_capita', '10894'), ('life_expectancy', '74.38'), ('Population', '99959594')])\n",
      "OrderedDict([('Country', 'Micronesia, Fed. Sts.'), ('Continent', 'Oceania'), ('GDP_per_capita', '5530'), ('life_expectancy', '67.3'), ('Population', '107103')])\n",
      "OrderedDict([('Country', 'Moldova'), ('Continent', 'Europe'), ('GDP_per_capita', '1692'), ('life_expectancy', '67.007'), ('Population', '4106736')])\n",
      "OrderedDict([('Country', 'Mongolia'), ('Continent', 'Asia'), ('GDP_per_capita', '2017'), ('life_expectancy', '62.876000000000005'), ('Population', '2411369')])\n",
      "OrderedDict([('Country', 'Montenegro'), ('Continent', 'Europe'), ('GDP_per_capita', '6185'), ('life_expectancy', '74.125'), ('Population', '632606')])\n",
      "OrderedDict([('Country', 'Morocco'), ('Continent', 'Africa'), ('GDP_per_capita', '3073'), ('life_expectancy', '68.22'), ('Population', '28793236')])\n",
      "OrderedDict([('Country', 'Mozambique'), ('Continent', 'Africa'), ('GDP_per_capita', '542'), ('life_expectancy', '47.472'), ('Population', '18200656')])\n",
      "OrderedDict([('Country', 'Myanmar'), ('Continent', 'Asia'), ('GDP_per_capita', '1034'), ('life_expectancy', '62.073'), ('Population', '44957660')])\n",
      "OrderedDict([('Country', 'Namibia'), ('Continent', 'Africa'), ('GDP_per_capita', '4022'), ('life_expectancy', '55.173'), ('Population', '1895839')])\n",
      "OrderedDict([('Country', 'Nepal'), ('Continent', 'Asia'), ('GDP_per_capita', '1054'), ('life_expectancy', '62.055'), ('Population', '24400606')])\n",
      "OrderedDict([('Country', 'Netherlands'), ('Continent', 'Europe'), ('GDP_per_capita', '33000'), ('life_expectancy', '78.24'), ('Population', '15862825')])\n",
      "OrderedDict([('Country', 'New Zealand'), ('Continent', 'Oceania'), ('GDP_per_capita', '21895'), ('life_expectancy', '78.9'), ('Population', '3858032')])\n",
      "OrderedDict([('Country', 'Nicaragua'), ('Continent', 'N. America'), ('GDP_per_capita', '2490'), ('life_expectancy', '69.682'), ('Population', '5073704')])\n",
      "OrderedDict([('Country', 'Niger'), ('Continent', 'Africa'), ('GDP_per_capita', '577'), ('life_expectancy', '50.692'), ('Population', '10922421')])\n",
      "OrderedDict([('Country', 'Nigeria'), ('Continent', 'Africa'), ('GDP_per_capita', '1619'), ('life_expectancy', '46.629'), ('Population', '123688536')])\n",
      "OrderedDict([('Country', 'Norway'), ('Continent', 'Europe'), ('GDP_per_capita', '43174'), ('life_expectancy', '78.76'), ('Population', '4490859')])\n",
      "OrderedDict([('Country', 'Oman'), ('Continent', 'Asia'), ('GDP_per_capita', '19204'), ('life_expectancy', '72.139'), ('Population', '2264163')])\n",
      "OrderedDict([('Country', 'Pakistan'), ('Continent', 'Asia'), ('GDP_per_capita', '2086'), ('life_expectancy', '63.854'), ('Population', '144522192')])\n",
      "OrderedDict([('Country', 'Panama'), ('Continent', 'N. America'), ('GDP_per_capita', '7405'), ('life_expectancy', '75.094'), ('Population', '2956126')])\n",
      "OrderedDict([('Country', 'Papua New Guinea'), ('Continent', 'Oceania'), ('GDP_per_capita', '1821'), ('life_expectancy', '58.748999999999995'), ('Population', '5378824')])\n",
      "OrderedDict([('Country', 'Paraguay'), ('Continent', 'S. America'), ('GDP_per_capita', '3907'), ('life_expectancy', '70.07300000000001'), ('Population', '5343539')])\n",
      "OrderedDict([('Country', 'Peru'), ('Continent', 'S. America'), ('GDP_per_capita', '5791'), ('life_expectancy', '70.506'), ('Population', '25861887')])\n",
      "OrderedDict([('Country', 'Philippines'), ('Continent', 'Asia'), ('GDP_per_capita', '2598'), ('life_expectancy', '66.774'), ('Population', '77309965')])\n",
      "OrderedDict([('Country', 'Poland'), ('Continent', 'Europe'), ('GDP_per_capita', '11680'), ('life_expectancy', '73.91'), ('Population', '38302444')])\n",
      "OrderedDict([('Country', 'Portugal'), ('Continent', 'Europe'), ('GDP_per_capita', '19609'), ('life_expectancy', '76.84'), ('Population', '10336209')])\n",
      "OrderedDict([('Country', 'Qatar'), ('Continent', 'Asia'), ('GDP_per_capita', '60394'), ('life_expectancy', '76.68'), ('Population', '590957')])\n",
      "OrderedDict([('Country', 'Romania'), ('Continent', 'Europe'), ('GDP_per_capita', '7089'), ('life_expectancy', '70.47'), ('Population', '22191683')])\n",
      "OrderedDict([('Country', 'Russia'), ('Continent', 'Asia'), ('GDP_per_capita', '8570'), ('life_expectancy', '65.38'), ('Population', '146757517')])\n",
      "OrderedDict([('Country', 'Rwanda'), ('Continent', 'Africa'), ('GDP_per_capita', '704'), ('life_expectancy', '47.6425'), ('Population', '8098344')])\n",
      "OrderedDict([('Country', 'Saint Lucia'), ('Continent', 'N. America'), ('GDP_per_capita', '8676'), ('life_expectancy', '71.456'), ('Population', '157108')])\n",
      "OrderedDict([('Country', 'Saint Vincent and the Grenadines'), ('Continent', 'N. America'), ('GDP_per_capita', '5893'), ('life_expectancy', '70.6'), ('Population', '107891')])\n",
      "OrderedDict([('Country', 'Samoa'), ('Continent', 'Oceania'), ('GDP_per_capita', '4090'), ('life_expectancy', '69.344'), ('Population', '176549')])\n",
      "OrderedDict([('Country', 'Sao Tome and Principe'), ('Continent', 'Africa'), ('GDP_per_capita', '1320'), ('life_expectancy', '63.336000000000006'), ('Population', '141010')])\n",
      "OrderedDict([('Country', 'Saudi Arabia'), ('Continent', 'Asia'), ('GDP_per_capita', '20001'), ('life_expectancy', '72.40100000000001'), ('Population', '20045276')])\n",
      "OrderedDict([('Country', 'Senegal'), ('Continent', 'Africa'), ('GDP_per_capita', '1511'), ('life_expectancy', '57.817'), ('Population', '9505862')])\n",
      "OrderedDict([('Country', 'Serbia'), ('Continent', 'Europe'), ('GDP_per_capita', '6607'), ('life_expectancy', '72.072'), ('Population', '10133561')])\n",
      "OrderedDict([('Country', 'Seychelles'), ('Continent', 'Africa'), ('GDP_per_capita', '15230'), ('life_expectancy', '71.771'), ('Population', '78685')])\n",
      "OrderedDict([('Country', 'Sierra Leone'), ('Continent', 'Africa'), ('GDP_per_capita', '517'), ('life_expectancy', '38.123000000000005'), ('Population', '4143115')])\n",
      "OrderedDict([('Country', 'Singapore'), ('Continent', 'Asia'), ('GDP_per_capita', '36834'), ('life_expectancy', '78.34'), ('Population', '3919300')])\n",
      "OrderedDict([('Country', 'Slovak Republic'), ('Continent', 'Europe'), ('GDP_per_capita', '12689'), ('life_expectancy', '73.19'), ('Population', '5404845')])\n",
      "OrderedDict([('Country', 'Slovenia'), ('Continent', 'Europe'), ('GDP_per_capita', '19399'), ('life_expectancy', '76.11'), ('Population', '1985406')])\n",
      "OrderedDict([('Country', 'Solomon Islands'), ('Continent', 'Oceania'), ('GDP_per_capita', '1802'), ('life_expectancy', '62.808'), ('Population', '408732')])\n",
      "OrderedDict([('Country', 'Somalia'), ('Continent', 'Africa'), ('GDP_per_capita', '881'), ('life_expectancy', '50.902'), ('Population', '7399033')])\n",
      "OrderedDict([('Country', 'South Africa'), ('Continent', 'Africa'), ('GDP_per_capita', '7454'), ('life_expectancy', '55.891999999999996'), ('Population', '44760380')])\n",
      "OrderedDict([('Country', 'South Sudan'), ('Continent', 'Africa'), ('GDP_per_capita', '1883'), ('life_expectancy', '49.248000000000005'), ('Population', '6994624')])\n",
      "OrderedDict([('Country', 'Spain'), ('Continent', 'Europe'), ('GDP_per_capita', '23410'), ('life_expectancy', '79.34'), ('Population', '40288457')])\n",
      "OrderedDict([('Country', 'Sri Lanka'), ('Continent', 'Asia'), ('GDP_per_capita', '2997'), ('life_expectancy', '71.078'), ('Population', '18745084')])\n",
      "OrderedDict([('Country', 'Sudan'), ('Continent', 'Africa'), ('GDP_per_capita', '1874'), ('life_expectancy', '57.979'), ('Population', '27193105')])\n",
      "OrderedDict([('Country', 'Suriname'), ('Continent', 'S. America'), ('GDP_per_capita', '5677'), ('life_expectancy', '67.851'), ('Population', '466846')])\n",
      "OrderedDict([('Country', 'Swaziland'), ('Continent', 'Africa'), ('GDP_per_capita', '4021'), ('life_expectancy', '48.68899999999999'), ('Population', '1063832')])\n",
      "OrderedDict([('Country', 'Sweden'), ('Continent', 'Europe'), ('GDP_per_capita', '28640'), ('life_expectancy', '79.84'), ('Population', '8860153')])\n",
      "OrderedDict([('Country', 'Switzerland'), ('Continent', 'Europe'), ('GDP_per_capita', '34386'), ('life_expectancy', '79.99'), ('Population', '7167908')])\n",
      "OrderedDict([('Country', 'Syria'), ('Continent', 'Asia'), ('GDP_per_capita', '3935'), ('life_expectancy', '73.316'), ('Population', '15988534')])\n",
      "OrderedDict([('Country', 'Taiwan'), ('Continent', 'Asia'), ('GDP_per_capita', '23525'), ('life_expectancy', '76.02'), ('Population', '22183000')])\n",
      "OrderedDict([('Country', 'Tajikistan'), ('Continent', 'Asia'), ('GDP_per_capita', '1001'), ('life_expectancy', '63.57'), ('Population', '6172807')])\n",
      "OrderedDict([('Country', 'Tanzania'), ('Continent', 'Africa'), ('GDP_per_capita', '826'), ('life_expectancy', '50.01'), ('Population', '34038161')])\n",
      "OrderedDict([('Country', 'Thailand'), ('Continent', 'Asia'), ('GDP_per_capita', '5578'), ('life_expectancy', '70.921'), ('Population', '63155029')])\n",
      "OrderedDict([('Country', 'Timor-Leste'), ('Continent', 'Asia'), ('GDP_per_capita', '2743'), ('life_expectancy', '59.468'), ('Population', '830089')])\n",
      "OrderedDict([('Country', 'Togo'), ('Continent', 'Africa'), ('GDP_per_capita', '890'), ('life_expectancy', '53.585'), ('Population', '4793504')])\n",
      "OrderedDict([('Country', 'Tonga'), ('Continent', 'Oceania'), ('GDP_per_capita', '4886'), ('life_expectancy', '70.81'), ('Population', '97935')])\n",
      "OrderedDict([('Country', 'Trinidad and Tobago'), ('Continent', 'N. America'), ('GDP_per_capita', '10496'), ('life_expectancy', '68.533'), ('Population', '1292058')])\n",
      "OrderedDict([('Country', 'Tunisia'), ('Continent', 'Africa'), ('GDP_per_capita', '5480'), ('life_expectancy', '73.15899999999999'), ('Population', '9456117')])\n",
      "OrderedDict([('Country', 'Turkey'), ('Continent', 'Asia'), ('GDP_per_capita', '6803'), ('life_expectancy', '70.01'), ('Population', '63627862')])\n",
      "OrderedDict([('Country', 'Turkmenistan'), ('Continent', 'Asia'), ('GDP_per_capita', '3289'), ('life_expectancy', '63.925'), ('Population', '4501419')])\n",
      "OrderedDict([('Country', 'Uganda'), ('Continent', 'Africa'), ('GDP_per_capita', '881'), ('life_expectancy', '48.126000000000005'), ('Population', '24213120')])\n",
      "OrderedDict([('Country', 'Ukraine'), ('Continent', 'Europe'), ('GDP_per_capita', '3700'), ('life_expectancy', '67.79'), ('Population', '48891792')])\n",
      "OrderedDict([('Country', 'United Arab Emirates'), ('Continent', 'Asia'), ('GDP_per_capita', '30012'), ('life_expectancy', '74.163'), ('Population', '3033491')])\n",
      "OrderedDict([('Country', 'United Kingdom'), ('Continent', 'Europe'), ('GDP_per_capita', '28644'), ('life_expectancy', '78.04'), ('Population', '58874117')])\n",
      "OrderedDict([('Country', 'United States'), ('Continent', 'N. America'), ('GDP_per_capita', '39758'), ('life_expectancy', '76.8'), ('Population', '282496310')])\n",
      "OrderedDict([('Country', 'Uruguay'), ('Continent', 'S. America'), ('GDP_per_capita', '9092'), ('life_expectancy', '74.777'), ('Population', '3319066')])\n",
      "OrderedDict([('Country', 'Uzbekistan'), ('Continent', 'Asia'), ('GDP_per_capita', '1635'), ('life_expectancy', '66.999'), ('Population', '24775610')])\n",
      "OrderedDict([('Country', 'Vanuatu'), ('Continent', 'Oceania'), ('GDP_per_capita', '3762'), ('life_expectancy', '67.438'), ('Population', '185074')])\n",
      "OrderedDict([('Country', 'Venezuela'), ('Continent', 'S. America'), ('GDP_per_capita', '9434'), ('life_expectancy', '72.432'), ('Population', '24348304')])\n",
      "OrderedDict([('Country', 'Vietnam'), ('Continent', 'Asia'), ('GDP_per_capita', '1577'), ('life_expectancy', '73.777'), ('Population', '78758010')])\n",
      "OrderedDict([('Country', 'West Bank and Gaza'), ('Continent', 'Asia'), ('GDP_per_capita', '7586'), ('life_expectancy', '70.929'), ('Population', '3198560')])\n",
      "OrderedDict([('Country', 'Yemen, Rep.'), ('Continent', 'Asia'), ('GDP_per_capita', '2217'), ('life_expectancy', '60.403999999999996'), ('Population', '17723186')])\n",
      "OrderedDict([('Country', 'Zambia'), ('Continent', 'Africa'), ('GDP_per_capita', '1035'), ('life_expectancy', '41.802'), ('Population', '10201562')])\n",
      "OrderedDict([('Country', 'Zimbabwe'), ('Continent', 'Africa'), ('GDP_per_capita', '745'), ('life_expectancy', '43.976000000000006'), ('Population', '12509477')])\n"
     ]
    }
   ],
   "source": [
    "for column in data:\n",
    "    print(column)"
   ]
  },
  {
   "cell_type": "code",
   "execution_count": 36,
   "metadata": {},
   "outputs": [
    {
     "data": {
      "text/plain": [
       "odict_keys(['Country', 'Continent', 'GDP_per_capita', 'life_expectancy', 'Population'])"
      ]
     },
     "execution_count": 36,
     "metadata": {},
     "output_type": "execute_result"
    }
   ],
   "source": [
    "column.keys()"
   ]
  },
  {
   "cell_type": "markdown",
   "metadata": {},
   "source": [
    "***2.How many countries do we have in our dataset?***"
   ]
  },
  {
   "cell_type": "code",
   "execution_count": 43,
   "metadata": {},
   "outputs": [
    {
     "data": {
      "text/plain": [
       "188"
      ]
     },
     "execution_count": 43,
     "metadata": {},
     "output_type": "execute_result"
    }
   ],
   "source": [
    "len(set([column['Country'] for column in data])) #SET FUNCTION WILL REMOVE ALL THE DUPLICATES!"
   ]
  },
  {
   "cell_type": "code",
   "execution_count": 41,
   "metadata": {},
   "outputs": [
    {
     "name": "stdout",
     "output_type": "stream",
     "text": [
      "Afghanistan\n",
      "Albania\n",
      "Algeria\n",
      "Angola\n",
      "Antigua and Barbuda\n",
      "Argentina\n",
      "Armenia\n",
      "Australia\n",
      "Austria\n",
      "Azerbaijan\n",
      "Bahamas\n",
      "Bahrain\n",
      "Bangladesh\n",
      "Barbados\n",
      "Belarus\n",
      "Belgium\n",
      "Belize\n",
      "Benin\n",
      "Bhutan\n",
      "Bolivia\n",
      "Bosnia and Herzegovina\n",
      "Botswana\n",
      "Brazil\n",
      "Brunei\n",
      "Bulgaria\n",
      "Burkina Faso\n",
      "Burundi\n",
      "Cambodia\n",
      "Cameroon\n",
      "Canada\n",
      "Cape Verde\n",
      "Central African Rep.\n",
      "Chad\n",
      "Chile\n",
      "China\n",
      "Colombia\n",
      "Comoros\n",
      "Congo, Dem. Rep.\n",
      "Congo, Rep.\n",
      "Costa Rica\n",
      "Cote d'Ivoire\n",
      "Croatia\n",
      "Cuba\n",
      "Cyprus\n",
      "Czech Rep.\n",
      "Denmark\n",
      "Djibouti\n",
      "Dominican Rep.\n",
      "Ecuador\n",
      "Egypt\n",
      "El Salvador\n",
      "Equatorial Guinea\n",
      "Eritrea\n",
      "Estonia\n",
      "Ethiopia\n",
      "Fiji\n",
      "Finland\n",
      "France\n",
      "Gabon\n",
      "Gambia\n",
      "Georgia\n",
      "Germany\n",
      "Ghana\n",
      "Greece\n",
      "Greenland\n",
      "Grenada\n",
      "Guatemala\n",
      "Guinea\n",
      "Guinea-Bissau\n",
      "Guyana\n",
      "Haiti\n",
      "Honduras\n",
      "Hong Kong, China\n",
      "Hungary\n",
      "Iceland\n",
      "India\n",
      "Indonesia\n",
      "Iran\n",
      "Iraq\n",
      "Ireland\n",
      "Israel\n",
      "Italy\n",
      "Jamaica\n",
      "Japan\n",
      "Jordan\n",
      "Kazakhstan\n",
      "Kenya\n",
      "Kiribati\n",
      "Korea, Dem. Rep.\n",
      "Korea, Rep.\n",
      "Kuwait\n",
      "Kyrgyzstan\n",
      "Laos\n",
      "Latvia\n",
      "Lebanon\n",
      "Lesotho\n",
      "Liberia\n",
      "Libya\n",
      "Lithuania\n",
      "Luxembourg\n",
      "Macao, China\n",
      "Macedonia, FYR\n",
      "Madagascar\n",
      "Malawi\n",
      "Malaysia\n",
      "Maldives\n",
      "Mali\n",
      "Malta\n",
      "Mauritania\n",
      "Mauritius\n",
      "Mexico\n",
      "Micronesia, Fed. Sts.\n",
      "Moldova\n",
      "Mongolia\n",
      "Montenegro\n",
      "Morocco\n",
      "Mozambique\n",
      "Myanmar\n",
      "Namibia\n",
      "Nepal\n",
      "Netherlands\n",
      "New Zealand\n",
      "Nicaragua\n",
      "Niger\n",
      "Nigeria\n",
      "Norway\n",
      "Oman\n",
      "Pakistan\n",
      "Panama\n",
      "Papua New Guinea\n",
      "Paraguay\n",
      "Peru\n",
      "Philippines\n",
      "Poland\n",
      "Portugal\n",
      "Qatar\n",
      "Romania\n",
      "Russia\n",
      "Rwanda\n",
      "Saint Lucia\n",
      "Saint Vincent and the Grenadines\n",
      "Samoa\n",
      "Sao Tome and Principe\n",
      "Saudi Arabia\n",
      "Senegal\n",
      "Serbia\n",
      "Seychelles\n",
      "Sierra Leone\n",
      "Singapore\n",
      "Slovak Republic\n",
      "Slovenia\n",
      "Solomon Islands\n",
      "Somalia\n",
      "South Africa\n",
      "South Sudan\n",
      "Spain\n",
      "Sri Lanka\n",
      "Sudan\n",
      "Suriname\n",
      "Swaziland\n",
      "Sweden\n",
      "Switzerland\n",
      "Syria\n",
      "Taiwan\n",
      "Tajikistan\n",
      "Tanzania\n",
      "Thailand\n",
      "Timor-Leste\n",
      "Togo\n",
      "Tonga\n",
      "Trinidad and Tobago\n",
      "Tunisia\n",
      "Turkey\n",
      "Turkmenistan\n",
      "Uganda\n",
      "Ukraine\n",
      "United Arab Emirates\n",
      "United Kingdom\n",
      "United States\n",
      "Uruguay\n",
      "Uzbekistan\n",
      "Vanuatu\n",
      "Venezuela\n",
      "Vietnam\n",
      "West Bank and Gaza\n",
      "Yemen, Rep.\n",
      "Zambia\n",
      "Zimbabwe\n"
     ]
    }
   ],
   "source": [
    "for column in data:\n",
    "    print(column['Country'])"
   ]
  },
  {
   "cell_type": "markdown",
   "metadata": {},
   "source": [
    "***3.How many countries in Asia? How about North America?***"
   ]
  },
  {
   "cell_type": "code",
   "execution_count": 57,
   "metadata": {},
   "outputs": [
    {
     "name": "stdout",
     "output_type": "stream",
     "text": [
      "There are 48 countries in Asia.\n",
      "There are 0 countries in North America.\n"
     ]
    }
   ],
   "source": [
    "asia_count, na_count=0,0\n",
    "for column in data:\n",
    "    if column['Continent'] == 'Asia':\n",
    "        asia_count = asia_count+1\n",
    "    elif column['Continent'] == 'North America':\n",
    "        na_count = na_count+1\n",
    "print(\"There are\", asia_count, \"countries in Asia.\")\n",
    "print(\"There are\", na_count, \"countries in North America.\")\n",
    "        \n",
    "        \n",
    "   "
   ]
  },
  {
   "cell_type": "markdown",
   "metadata": {},
   "source": [
    "***4.What is the total population of the world?***"
   ]
  },
  {
   "cell_type": "code",
   "execution_count": 59,
   "metadata": {},
   "outputs": [
    {
     "name": "stdout",
     "output_type": "stream",
     "text": [
      "The population of the world is 6115042358\n"
     ]
    }
   ],
   "source": [
    "total = 0\n",
    "for column in data:\n",
    "  total = total + int(column['Population'])\n",
    "print(\"The population of the world is\", total)"
   ]
  },
  {
   "cell_type": "markdown",
   "metadata": {},
   "source": [
    "***5.Which has a larger population, Africa or South America?***"
   ]
  },
  {
   "cell_type": "code",
   "execution_count": 61,
   "metadata": {},
   "outputs": [
    {
     "name": "stdout",
     "output_type": "stream",
     "text": [
      "There are 6127551835 people in Africa.\n",
      "There are 0 people in South America.\n"
     ]
    }
   ],
   "source": [
    "total_Africa, total_SouthAmerica = 0,0\n",
    "for column in data:\n",
    "    if column['Continent'] == 'Africa':\n",
    "        total_Africa = total + int(column['Population'])\n",
    "    elif column['Continent'] == 'South America':\n",
    "        total_SouthAmerica = total + int(column['Population'])\n",
    "        \n",
    "print(\"There are\", total_Africa, \"people in Africa.\")\n",
    "print(\"There are\", total_SouthAmerica, \"people in South America.\")"
   ]
  },
  {
   "cell_type": "markdown",
   "metadata": {},
   "source": [
    "***6.Calculate the total GDP of each country and print it out (right now it's per capita).***"
   ]
  },
  {
   "cell_type": "code",
   "execution_count": null,
   "metadata": {},
   "outputs": [],
   "source": []
  },
  {
   "cell_type": "markdown",
   "metadata": {},
   "source": [
    "***7.What is the median life expectancy of the world?***"
   ]
  },
  {
   "cell_type": "code",
   "execution_count": null,
   "metadata": {},
   "outputs": [],
   "source": []
  },
  {
   "cell_type": "markdown",
   "metadata": {},
   "source": [
    "***8.What is the median life expectancy of Europe?***"
   ]
  },
  {
   "cell_type": "code",
   "execution_count": null,
   "metadata": {},
   "outputs": [],
   "source": []
  },
  {
   "cell_type": "markdown",
   "metadata": {},
   "source": [
    "***9.Print out each country that has a below-average life expectancy.***"
   ]
  },
  {
   "cell_type": "code",
   "execution_count": null,
   "metadata": {},
   "outputs": [],
   "source": []
  },
  {
   "cell_type": "markdown",
   "metadata": {},
   "source": [
    "***10.Print out each country that has a below-average GDP but an above-average life expectancy.***"
   ]
  },
  {
   "cell_type": "code",
   "execution_count": null,
   "metadata": {},
   "outputs": [],
   "source": []
  },
  {
   "cell_type": "markdown",
   "metadata": {},
   "source": [
    "***11.Calculate the 75th percentile of GDP.***"
   ]
  },
  {
   "cell_type": "code",
   "execution_count": null,
   "metadata": {},
   "outputs": [],
   "source": []
  },
  {
   "cell_type": "markdown",
   "metadata": {},
   "source": [
    "***12.What percent of the world population has a life expectancy of below 50 years? Above 80 years?***"
   ]
  },
  {
   "cell_type": "code",
   "execution_count": null,
   "metadata": {},
   "outputs": [],
   "source": []
  }
 ],
 "metadata": {
  "kernelspec": {
   "display_name": "Python 3",
   "language": "python",
   "name": "python3"
  },
  "language_info": {
   "codemirror_mode": {
    "name": "ipython",
    "version": 3
   },
   "file_extension": ".py",
   "mimetype": "text/x-python",
   "name": "python",
   "nbconvert_exporter": "python",
   "pygments_lexer": "ipython3",
   "version": "3.6.5"
  }
 },
 "nbformat": 4,
 "nbformat_minor": 2
}
