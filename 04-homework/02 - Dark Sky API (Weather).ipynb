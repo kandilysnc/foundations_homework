{
 "cells": [
  {
   "cell_type": "markdown",
   "metadata": {},
   "source": [
    "# Dark Sky API (Weather)\n",
    "\n",
    "Answer the following questions using the [Dark Sky API](https://darksky.net/dev/). I've added three cells for each question but you're free to use more or less! Hold `Shift` and hit `Enter` to run a cell, and use the `+` on the top left to add a new cell to a notebook.\n",
    "\n",
    "If you spend some time reading the documentation your life will probably be a little bit easier!\n",
    "\n",
    "## 0) Import any libraries you might need\n",
    "\n",
    "- *Tip: We're going to be downloading things from the internet, so we probably need `requests`.*"
   ]
  },
  {
   "cell_type": "code",
   "execution_count": 2,
   "metadata": {},
   "outputs": [],
   "source": [
    "import requests"
   ]
  },
  {
   "cell_type": "code",
   "execution_count": null,
   "metadata": {},
   "outputs": [],
   "source": []
  },
  {
   "cell_type": "markdown",
   "metadata": {
    "collapsed": true
   },
   "source": [
    "## 1) Make a request from the Dark Sky API for where you were born (or lived, or want to visit!).\n",
    "\n",
    "- *Tip: The URL we used in class was for a place near San Francisco. What was the format of the endpoint that made this happen?*\n",
    "- *Tip: Save the URL as a separate variable, and be sure to not have `[` and `]` inside.*\n",
    "- *Tip: How is north vs. south and east vs. west latitude/longitude represented? Is it the normal North/South/East/West?*\n",
    "- *Tip: You know it's JSON, but Python doesn't! Make sure you aren't trying to deal with plain text.* \n",
    "- *Tip: Once you've imported the JSON into a variable, check the timezone's name to make sure it seems like it got the right part of the world!*"
   ]
  },
  {
   "cell_type": "code",
   "execution_count": 51,
   "metadata": {},
   "outputs": [
    {
     "name": "stdout",
     "output_type": "stream",
     "text": [
      "{'latitude': -8, 'longitude': 115, 'timezone': 'Asia/Makassar', 'currently': {'time': 1560228959, 'summary': 'Humid and Mostly Cloudy', 'icon': 'partly-cloudy-day', 'precipIntensity': 0, 'precipProbability': 0, 'temperature': 30.93, 'apparentTemperature': 34.68, 'dewPoint': 22.23, 'humidity': 0.6, 'pressure': 1011.52, 'windSpeed': 1.69, 'windGust': 2.41, 'windBearing': 250, 'cloudCover': 0.61, 'uvIndex': 7, 'visibility': 16.09, 'ozone': 247.12}, 'hourly': {'summary': 'Humid throughout the day and mostly cloudy until tomorrow morning.', 'icon': 'partly-cloudy-night', 'data': [{'time': 1560225600, 'summary': 'Humid and Mostly Cloudy', 'icon': 'partly-cloudy-day', 'precipIntensity': 0, 'precipProbability': 0, 'temperature': 30.63, 'apparentTemperature': 34.31, 'dewPoint': 22.23, 'humidity': 0.61, 'pressure': 1012.12, 'windSpeed': 1.81, 'windGust': 2.2, 'windBearing': 241, 'cloudCover': 0.63, 'uvIndex': 7, 'visibility': 16.09, 'ozone': 247.25}, {'time': 1560229200, 'summary': 'Humid and Mostly Cloudy', 'icon': 'partly-cloudy-day', 'precipIntensity': 0, 'precipProbability': 0, 'temperature': 30.95, 'apparentTemperature': 34.71, 'dewPoint': 22.23, 'humidity': 0.6, 'pressure': 1011.47, 'windSpeed': 1.69, 'windGust': 2.43, 'windBearing': 250, 'cloudCover': 0.61, 'uvIndex': 7, 'visibility': 16.09, 'ozone': 247.11}, {'time': 1560232800, 'summary': 'Humid and Mostly Cloudy', 'icon': 'partly-cloudy-day', 'precipIntensity': 0, 'precipProbability': 0, 'temperature': 31.13, 'apparentTemperature': 34.94, 'dewPoint': 22.23, 'humidity': 0.59, 'pressure': 1010.95, 'windSpeed': 1.62, 'windGust': 2.62, 'windBearing': 255, 'cloudCover': 0.61, 'uvIndex': 6, 'visibility': 16.09, 'ozone': 246.84}, {'time': 1560236400, 'summary': 'Humid and Mostly Cloudy', 'icon': 'partly-cloudy-day', 'precipIntensity': 0, 'precipProbability': 0, 'temperature': 31.17, 'apparentTemperature': 35.02, 'dewPoint': 22.26, 'humidity': 0.59, 'pressure': 1010.62, 'windSpeed': 1.55, 'windGust': 2.58, 'windBearing': 271, 'cloudCover': 0.66, 'uvIndex': 4, 'visibility': 16.09, 'ozone': 246.84}, {'time': 1560240000, 'summary': 'Humid and Mostly Cloudy', 'icon': 'partly-cloudy-day', 'precipIntensity': 0, 'precipProbability': 0, 'temperature': 31.02, 'apparentTemperature': 34.87, 'dewPoint': 22.32, 'humidity': 0.6, 'pressure': 1010.45, 'windSpeed': 1.52, 'windGust': 2.51, 'windBearing': 168, 'cloudCover': 0.74, 'uvIndex': 2, 'visibility': 14.61, 'ozone': 246.98}, {'time': 1560243600, 'summary': 'Humid and Mostly Cloudy', 'icon': 'partly-cloudy-day', 'precipIntensity': 0, 'precipProbability': 0, 'temperature': 30.65, 'apparentTemperature': 34.51, 'dewPoint': 22.42, 'humidity': 0.62, 'pressure': 1010.47, 'windSpeed': 1.68, 'windGust': 2.7, 'windBearing': 193, 'cloudCover': 0.79, 'uvIndex': 1, 'visibility': 10.61, 'ozone': 247.11}, {'time': 1560247200, 'summary': 'Humid and Mostly Cloudy', 'icon': 'partly-cloudy-day', 'precipIntensity': 0, 'precipProbability': 0, 'temperature': 30.09, 'apparentTemperature': 33.91, 'dewPoint': 22.59, 'humidity': 0.64, 'pressure': 1010.8, 'windSpeed': 2.17, 'windGust': 3.46, 'windBearing': 202, 'cloudCover': 0.77, 'uvIndex': 0, 'visibility': 9.59, 'ozone': 247.11}, {'time': 1560250800, 'summary': 'Humid and Mostly Cloudy', 'icon': 'partly-cloudy-night', 'precipIntensity': 0, 'precipProbability': 0, 'temperature': 29.31, 'apparentTemperature': 33.04, 'dewPoint': 22.81, 'humidity': 0.68, 'pressure': 1011.34, 'windSpeed': 2.87, 'windGust': 4.48, 'windBearing': 202, 'cloudCover': 0.73, 'uvIndex': 0, 'visibility': 10.09, 'ozone': 247.11}, {'time': 1560254400, 'summary': 'Humid and Mostly Cloudy', 'icon': 'partly-cloudy-night', 'precipIntensity': 0, 'precipProbability': 0, 'temperature': 28.61, 'apparentTemperature': 32.14, 'dewPoint': 22.94, 'humidity': 0.72, 'pressure': 1011.82, 'windSpeed': 3.47, 'windGust': 5.2, 'windBearing': 199, 'cloudCover': 0.72, 'uvIndex': 0, 'visibility': 10.61, 'ozone': 247.25}, {'time': 1560258000, 'summary': 'Humid and Mostly Cloudy', 'icon': 'partly-cloudy-night', 'precipIntensity': 0, 'precipProbability': 0, 'temperature': 28.19, 'apparentTemperature': 31.56, 'dewPoint': 22.98, 'humidity': 0.73, 'pressure': 1012.26, 'windSpeed': 3.86, 'windGust': 5.28, 'windBearing': 198, 'cloudCover': 0.8, 'uvIndex': 0, 'visibility': 10.62, 'ozone': 247.79}, {'time': 1560261600, 'summary': 'Humid and Mostly Cloudy', 'icon': 'partly-cloudy-night', 'precipIntensity': 0, 'precipProbability': 0, 'temperature': 27.97, 'apparentTemperature': 31.18, 'dewPoint': 22.96, 'humidity': 0.74, 'pressure': 1012.68, 'windSpeed': 4.1, 'windGust': 5.04, 'windBearing': 197, 'cloudCover': 0.91, 'uvIndex': 0, 'visibility': 10.65, 'ozone': 248.6}, {'time': 1560265200, 'summary': 'Humid and Overcast', 'icon': 'cloudy', 'precipIntensity': 0, 'precipProbability': 0, 'temperature': 27.59, 'apparentTemperature': 30.56, 'dewPoint': 22.91, 'humidity': 0.76, 'pressure': 1012.88, 'windSpeed': 4.19, 'windGust': 4.81, 'windBearing': 195, 'cloudCover': 1, 'uvIndex': 0, 'visibility': 10.7, 'ozone': 249.14}, {'time': 1560268800, 'summary': 'Humid and Overcast', 'icon': 'cloudy', 'precipIntensity': 0, 'precipProbability': 0, 'temperature': 27.37, 'apparentTemperature': 30.15, 'dewPoint': 22.82, 'humidity': 0.76, 'pressure': 1012.74, 'windSpeed': 4.13, 'windGust': 4.72, 'windBearing': 195, 'cloudCover': 1, 'uvIndex': 0, 'visibility': 10.77, 'ozone': 249.67}, {'time': 1560272400, 'summary': 'Humid and Overcast', 'icon': 'cloudy', 'precipIntensity': 0, 'precipProbability': 0, 'temperature': 27.13, 'apparentTemperature': 29.71, 'dewPoint': 22.71, 'humidity': 0.77, 'pressure': 1012.37, 'windSpeed': 3.96, 'windGust': 4.61, 'windBearing': 194, 'cloudCover': 1, 'uvIndex': 0, 'visibility': 10.81, 'ozone': 250.07}, {'time': 1560276000, 'summary': 'Humid and Overcast', 'icon': 'cloudy', 'precipIntensity': 0, 'precipProbability': 0, 'temperature': 26.88, 'apparentTemperature': 29.26, 'dewPoint': 22.61, 'humidity': 0.78, 'pressure': 1012.07, 'windSpeed': 3.75, 'windGust': 4.42, 'windBearing': 192, 'cloudCover': 1, 'uvIndex': 0, 'visibility': 10.9, 'ozone': 250.21}, {'time': 1560279600, 'summary': 'Humid and Overcast', 'icon': 'cloudy', 'precipIntensity': 0, 'precipProbability': 0, 'temperature': 26.84, 'apparentTemperature': 29.19, 'dewPoint': 22.61, 'humidity': 0.78, 'pressure': 1011.85, 'windSpeed': 3.51, 'windGust': 4.07, 'windBearing': 194, 'cloudCover': 1, 'uvIndex': 0, 'visibility': 10.99, 'ozone': 249.94}, {'time': 1560283200, 'summary': 'Humid and Overcast', 'icon': 'cloudy', 'precipIntensity': 0, 'precipProbability': 0, 'temperature': 26.89, 'apparentTemperature': 29.3, 'dewPoint': 22.63, 'humidity': 0.78, 'pressure': 1011.63, 'windSpeed': 3.25, 'windGust': 3.62, 'windBearing': 195, 'cloudCover': 0.98, 'uvIndex': 0, 'visibility': 11.12, 'ozone': 249.4}, {'time': 1560286800, 'summary': 'Humid and Overcast', 'icon': 'cloudy', 'precipIntensity': 0, 'precipProbability': 0, 'temperature': 26.95, 'apparentTemperature': 29.4, 'dewPoint': 22.65, 'humidity': 0.77, 'pressure': 1011.63, 'windSpeed': 3.04, 'windGust': 3.27, 'windBearing': 195, 'cloudCover': 0.95, 'uvIndex': 0, 'visibility': 11.3, 'ozone': 249}, {'time': 1560290400, 'summary': 'Humid and Mostly Cloudy', 'icon': 'partly-cloudy-night', 'precipIntensity': 0, 'precipProbability': 0, 'temperature': 27.06, 'apparentTemperature': 29.57, 'dewPoint': 22.65, 'humidity': 0.77, 'pressure': 1011.93, 'windSpeed': 2.95, 'windGust': 3.15, 'windBearing': 201, 'cloudCover': 0.89, 'uvIndex': 0, 'visibility': 11.15, 'ozone': 248.87}, {'time': 1560294000, 'summary': 'Humid and Mostly Cloudy', 'icon': 'partly-cloudy-day', 'precipIntensity': 0, 'precipProbability': 0, 'temperature': 27.26, 'apparentTemperature': 29.89, 'dewPoint': 22.65, 'humidity': 0.76, 'pressure': 1012.43, 'windSpeed': 2.92, 'windGust': 3.11, 'windBearing': 207, 'cloudCover': 0.81, 'uvIndex': 0, 'visibility': 11.06, 'ozone': 248.73}, {'time': 1560297600, 'summary': 'Humid and Mostly Cloudy', 'icon': 'partly-cloudy-day', 'precipIntensity': 0, 'precipProbability': 0, 'temperature': 27.78, 'apparentTemperature': 30.75, 'dewPoint': 22.72, 'humidity': 0.74, 'pressure': 1012.77, 'windSpeed': 2.78, 'windGust': 3, 'windBearing': 197, 'cloudCover': 0.7, 'uvIndex': 1, 'visibility': 12.2, 'ozone': 248.87}, {'time': 1560301200, 'summary': 'Humid and Partly Cloudy', 'icon': 'partly-cloudy-day', 'precipIntensity': 0.0051, 'precipProbability': 0.03, 'precipType': 'rain', 'temperature': 28.61, 'apparentTemperature': 32.15, 'dewPoint': 22.94, 'humidity': 0.72, 'pressure': 1012.91, 'windSpeed': 2.49, 'windGust': 2.72, 'windBearing': 153, 'cloudCover': 0.53, 'uvIndex': 3, 'visibility': 16.09, 'ozone': 249.14}, {'time': 1560304800, 'summary': 'Humid and Partly Cloudy', 'icon': 'partly-cloudy-day', 'precipIntensity': 0, 'precipProbability': 0, 'temperature': 29.6, 'apparentTemperature': 33.8, 'dewPoint': 23.22, 'humidity': 0.69, 'pressure': 1012.91, 'windSpeed': 2.08, 'windGust': 2.35, 'windBearing': 288, 'cloudCover': 0.34, 'uvIndex': 5, 'visibility': 16.09, 'ozone': 249.54}, {'time': 1560308400, 'summary': 'Humid', 'icon': 'clear-day', 'precipIntensity': 0, 'precipProbability': 0, 'temperature': 30.36, 'apparentTemperature': 34.99, 'dewPoint': 23.36, 'humidity': 0.66, 'pressure': 1012.71, 'windSpeed': 1.67, 'windGust': 2, 'windBearing': 247, 'cloudCover': 0.2, 'uvIndex': 7, 'visibility': 16.09, 'ozone': 249.67}, {'time': 1560312000, 'summary': 'Humid', 'icon': 'clear-day', 'precipIntensity': 0, 'precipProbability': 0, 'temperature': 30.79, 'apparentTemperature': 35.55, 'dewPoint': 23.32, 'humidity': 0.65, 'pressure': 1012.15, 'windSpeed': 1.15, 'windGust': 1.6, 'windBearing': 262, 'cloudCover': 0.17, 'uvIndex': 9, 'visibility': 16.09, 'ozone': 249.54}, {'time': 1560315600, 'summary': 'Humid', 'icon': 'clear-day', 'precipIntensity': 0, 'precipProbability': 0, 'temperature': 30.99, 'apparentTemperature': 35.66, 'dewPoint': 23.16, 'humidity': 0.63, 'pressure': 1011.37, 'windSpeed': 0.62, 'windGust': 1.22, 'windBearing': 295, 'cloudCover': 0.19, 'uvIndex': 8, 'visibility': 15.26, 'ozone': 249}, {'time': 1560319200, 'summary': 'Humid', 'icon': 'clear-day', 'precipIntensity': 0, 'precipProbability': 0, 'temperature': 31.02, 'apparentTemperature': 35.56, 'dewPoint': 23.03, 'humidity': 0.63, 'pressure': 1010.72, 'windSpeed': 0.38, 'windGust': 1.13, 'windBearing': 301, 'cloudCover': 0.22, 'uvIndex': 7, 'visibility': 10.99, 'ozone': 248.46}, {'time': 1560322800, 'summary': 'Humid and Partly Cloudy', 'icon': 'partly-cloudy-day', 'precipIntensity': 0, 'precipProbability': 0, 'temperature': 30.94, 'apparentTemperature': 35.23, 'dewPoint': 22.81, 'humidity': 0.62, 'pressure': 1010.35, 'windSpeed': 0.55, 'windGust': 1.52, 'windBearing': 188, 'cloudCover': 0.27, 'uvIndex': 4, 'visibility': 10.48, 'ozone': 248.06}, {'time': 1560326400, 'summary': 'Humid and Partly Cloudy', 'icon': 'partly-cloudy-day', 'precipIntensity': 0, 'precipProbability': 0, 'temperature': 30.68, 'apparentTemperature': 34.69, 'dewPoint': 22.58, 'humidity': 0.62, 'pressure': 1010.1, 'windSpeed': 1, 'windGust': 2.21, 'windBearing': 182, 'cloudCover': 0.33, 'uvIndex': 2, 'visibility': 11.49, 'ozone': 247.52}, {'time': 1560330000, 'summary': 'Humid and Partly Cloudy', 'icon': 'partly-cloudy-day', 'precipIntensity': 0, 'precipProbability': 0, 'temperature': 30.3, 'apparentTemperature': 34.05, 'dewPoint': 22.42, 'humidity': 0.63, 'pressure': 1010.1, 'windSpeed': 1.53, 'windGust': 2.91, 'windBearing': 183, 'cloudCover': 0.36, 'uvIndex': 1, 'visibility': 11.81, 'ozone': 247.25}, {'time': 1560333600, 'summary': 'Humid and Partly Cloudy', 'icon': 'partly-cloudy-day', 'precipIntensity': 0, 'precipProbability': 0, 'temperature': 29.66, 'apparentTemperature': 33.26, 'dewPoint': 22.48, 'humidity': 0.65, 'pressure': 1010.52, 'windSpeed': 2.14, 'windGust': 3.62, 'windBearing': 188, 'cloudCover': 0.34, 'uvIndex': 0, 'visibility': 10.19, 'ozone': 247.25}, {'time': 1560337200, 'summary': 'Humid and Partly Cloudy', 'icon': 'partly-cloudy-night', 'precipIntensity': 0, 'precipProbability': 0, 'temperature': 28.89, 'apparentTemperature': 32.32, 'dewPoint': 22.63, 'humidity': 0.69, 'pressure': 1011.16, 'windSpeed': 2.81, 'windGust': 4.33, 'windBearing': 191, 'cloudCover': 0.3, 'uvIndex': 0, 'visibility': 7.85, 'ozone': 247.38}, {'time': 1560340800, 'summary': 'Humid and Partly Cloudy', 'icon': 'partly-cloudy-night', 'precipIntensity': 0, 'precipProbability': 0, 'temperature': 28.18, 'apparentTemperature': 31.39, 'dewPoint': 22.76, 'humidity': 0.72, 'pressure': 1011.71, 'windSpeed': 3.32, 'windGust': 4.81, 'windBearing': 192, 'cloudCover': 0.25, 'uvIndex': 0, 'visibility': 6.1, 'ozone': 247.65}, {'time': 1560344400, 'summary': 'Humid', 'icon': 'clear-night', 'precipIntensity': 0, 'precipProbability': 0, 'temperature': 27.71, 'apparentTemperature': 30.67, 'dewPoint': 22.76, 'humidity': 0.75, 'pressure': 1012.09, 'windSpeed': 3.51, 'windGust': 4.83, 'windBearing': 192, 'cloudCover': 0.2, 'uvIndex': 0, 'visibility': 5.5, 'ozone': 248.06}, {'time': 1560348000, 'summary': 'Humid', 'icon': 'clear-night', 'precipIntensity': 0, 'precipProbability': 0, 'temperature': 27.54, 'apparentTemperature': 30.37, 'dewPoint': 22.71, 'humidity': 0.75, 'pressure': 1012.37, 'windSpeed': 3.54, 'windGust': 4.6, 'windBearing': 191, 'cloudCover': 0.15, 'uvIndex': 0, 'visibility': 5.49, 'ozone': 248.19}, {'time': 1560351600, 'summary': 'Humid', 'icon': 'clear-night', 'precipIntensity': 0, 'precipProbability': 0, 'temperature': 27.37, 'apparentTemperature': 30.08, 'dewPoint': 22.67, 'humidity': 0.76, 'pressure': 1012.46, 'windSpeed': 3.52, 'windGust': 4.41, 'windBearing': 191, 'cloudCover': 0.12, 'uvIndex': 0, 'visibility': 5.5, 'ozone': 248.46}, {'time': 1560355200, 'summary': 'Humid', 'icon': 'clear-night', 'precipIntensity': 0, 'precipProbability': 0, 'temperature': 27.13, 'apparentTemperature': 29.71, 'dewPoint': 22.68, 'humidity': 0.77, 'pressure': 1012.21, 'windSpeed': 3.57, 'windGust': 4.35, 'windBearing': 194, 'cloudCover': 0.13, 'uvIndex': 0, 'visibility': 5.2, 'ozone': 248.73}, {'time': 1560358800, 'summary': 'Humid', 'icon': 'clear-night', 'precipIntensity': 0, 'precipProbability': 0, 'temperature': 26.87, 'apparentTemperature': 29.28, 'dewPoint': 22.72, 'humidity': 0.78, 'pressure': 1011.74, 'windSpeed': 3.6, 'windGust': 4.32, 'windBearing': 198, 'cloudCover': 0.17, 'uvIndex': 0, 'visibility': 4.92, 'ozone': 249}, {'time': 1560362400, 'summary': 'Humid', 'icon': 'clear-night', 'precipIntensity': 0, 'precipProbability': 0, 'temperature': 26.49, 'apparentTemperature': 28.64, 'dewPoint': 22.76, 'humidity': 0.8, 'pressure': 1011.29, 'windSpeed': 3.62, 'windGust': 4.35, 'windBearing': 200, 'cloudCover': 0.24, 'uvIndex': 0, 'visibility': 5.29, 'ozone': 249}, {'time': 1560366000, 'summary': 'Humid and Partly Cloudy', 'icon': 'partly-cloudy-night', 'precipIntensity': 0, 'precipProbability': 0, 'temperature': 26.49, 'apparentTemperature': 28.66, 'dewPoint': 22.8, 'humidity': 0.8, 'pressure': 1010.87, 'windSpeed': 3.67, 'windGust': 4.48, 'windBearing': 200, 'cloudCover': 0.37, 'uvIndex': 0, 'visibility': 6.9, 'ozone': 248.73}, {'time': 1560369600, 'summary': 'Humid and Partly Cloudy', 'icon': 'partly-cloudy-night', 'precipIntensity': 0, 'precipProbability': 0, 'temperature': 26.67, 'apparentTemperature': 29, 'dewPoint': 22.83, 'humidity': 0.8, 'pressure': 1010.5, 'windSpeed': 3.71, 'windGust': 4.68, 'windBearing': 200, 'cloudCover': 0.53, 'uvIndex': 0, 'visibility': 9.16, 'ozone': 248.19}, {'time': 1560373200, 'summary': 'Humid and Mostly Cloudy', 'icon': 'partly-cloudy-night', 'precipIntensity': 0, 'precipProbability': 0, 'temperature': 26.92, 'apparentTemperature': 29.43, 'dewPoint': 22.87, 'humidity': 0.79, 'pressure': 1010.37, 'windSpeed': 3.68, 'windGust': 4.72, 'windBearing': 198, 'cloudCover': 0.65, 'uvIndex': 0, 'visibility': 10.81, 'ozone': 247.79}, {'time': 1560376800, 'summary': 'Humid and Mostly Cloudy', 'icon': 'partly-cloudy-night', 'precipIntensity': 0, 'precipProbability': 0, 'temperature': 27.09, 'apparentTemperature': 29.76, 'dewPoint': 22.93, 'humidity': 0.78, 'pressure': 1010.67, 'windSpeed': 3.56, 'windGust': 4.5, 'windBearing': 195, 'cloudCover': 0.7, 'uvIndex': 0, 'visibility': 11.12, 'ozone': 247.52}, {'time': 1560380400, 'summary': 'Humid and Mostly Cloudy', 'icon': 'partly-cloudy-day', 'precipIntensity': 0, 'precipProbability': 0, 'temperature': 27.35, 'apparentTemperature': 30.21, 'dewPoint': 22.98, 'humidity': 0.77, 'pressure': 1011.24, 'windSpeed': 3.38, 'windGust': 4.13, 'windBearing': 191, 'cloudCover': 0.7, 'uvIndex': 0, 'visibility': 10.83, 'ozone': 247.25}, {'time': 1560384000, 'summary': 'Humid and Mostly Cloudy', 'icon': 'partly-cloudy-day', 'precipIntensity': 0, 'precipProbability': 0, 'temperature': 27.83, 'apparentTemperature': 30.99, 'dewPoint': 23, 'humidity': 0.75, 'pressure': 1011.66, 'windSpeed': 3.1, 'windGust': 3.72, 'windBearing': 191, 'cloudCover': 0.71, 'uvIndex': 1, 'visibility': 10.9, 'ozone': 246.98}, {'time': 1560387600, 'summary': 'Humid and Mostly Cloudy', 'icon': 'partly-cloudy-day', 'precipIntensity': 0, 'precipProbability': 0, 'temperature': 28.53, 'apparentTemperature': 32.02, 'dewPoint': 22.94, 'humidity': 0.72, 'pressure': 1011.93, 'windSpeed': 2.68, 'windGust': 3.28, 'windBearing': 208, 'cloudCover': 0.74, 'uvIndex': 3, 'visibility': 11.44, 'ozone': 246.84}, {'time': 1560391200, 'summary': 'Humid and Mostly Cloudy', 'icon': 'partly-cloudy-day', 'precipIntensity': 0, 'precipProbability': 0, 'temperature': 29.28, 'apparentTemperature': 33.02, 'dewPoint': 22.83, 'humidity': 0.68, 'pressure': 1012.12, 'windSpeed': 2.17, 'windGust': 2.8, 'windBearing': 231, 'cloudCover': 0.77, 'uvIndex': 4, 'visibility': 12.34, 'ozone': 246.84}, {'time': 1560394800, 'summary': 'Humid and Mostly Cloudy', 'icon': 'partly-cloudy-day', 'precipIntensity': 0, 'precipProbability': 0, 'temperature': 29.95, 'apparentTemperature': 33.83, 'dewPoint': 22.69, 'humidity': 0.65, 'pressure': 1011.98, 'windSpeed': 1.74, 'windGust': 2.33, 'windBearing': 222, 'cloudCover': 0.78, 'uvIndex': 5, 'visibility': 14, 'ozone': 246.57}, {'time': 1560398400, 'summary': 'Humid and Mostly Cloudy', 'icon': 'partly-cloudy-day', 'precipIntensity': 0, 'precipProbability': 0, 'temperature': 30.42, 'apparentTemperature': 34.32, 'dewPoint': 22.55, 'humidity': 0.63, 'pressure': 1011.39, 'windSpeed': 1.47, 'windGust': 1.93, 'windBearing': 150, 'cloudCover': 0.76, 'uvIndex': 6, 'visibility': 16.09, 'ozone': 246.16}]}, 'daily': {'summary': 'Light rain on Friday, with high temperatures falling to 29°C next Tuesday.', 'icon': 'rain', 'data': [{'time': 1560182400, 'summary': 'Humid and mostly cloudy throughout the day.', 'icon': 'partly-cloudy-day', 'sunriseTime': 1560205863, 'sunsetTime': 1560247856, 'moonPhase': 0.29, 'precipIntensity': 0, 'precipIntensityMax': 0.0025, 'precipIntensityMaxTime': 1560182400, 'precipProbability': 0, 'temperatureHigh': 31.17, 'temperatureHighTime': 1560236400, 'temperatureLow': 26.84, 'temperatureLowTime': 1560279600, 'apparentTemperatureHigh': 35.02, 'apparentTemperatureHighTime': 1560236400, 'apparentTemperatureLow': 29.19, 'apparentTemperatureLowTime': 1560279600, 'dewPoint': 22.56, 'humidity': 0.7, 'pressure': 1011.71, 'windSpeed': 2.88, 'windGust': 5.92, 'windGustTime': 1560189600, 'windBearing': 202, 'cloudCover': 0.69, 'uvIndex': 7, 'uvIndexTime': 1560225600, 'visibility': 11.88, 'ozone': 246.97, 'temperatureMin': 26.77, 'temperatureMinTime': 1560193200, 'temperatureMax': 31.17, 'temperatureMaxTime': 1560236400, 'apparentTemperatureMin': 29.04, 'apparentTemperatureMinTime': 1560200400, 'apparentTemperatureMax': 35.02, 'apparentTemperatureMaxTime': 1560236400}, {'time': 1560268800, 'summary': 'Humid throughout the day and partly cloudy until evening.', 'icon': 'partly-cloudy-day', 'sunriseTime': 1560292277, 'sunsetTime': 1560334265, 'moonPhase': 0.32, 'precipIntensity': 0, 'precipIntensityMax': 0.0051, 'precipIntensityMaxTime': 1560301200, 'precipProbability': 0, 'temperatureHigh': 31.02, 'temperatureHighTime': 1560319200, 'temperatureLow': 26.49, 'temperatureLowTime': 1560362400, 'apparentTemperatureHigh': 35.66, 'apparentTemperatureHighTime': 1560315600, 'apparentTemperatureLow': 28.64, 'apparentTemperatureLowTime': 1560362400, 'dewPoint': 22.79, 'humidity': 0.71, 'pressure': 1011.79, 'windSpeed': 2.29, 'windGust': 4.83, 'windGustTime': 1560344400, 'windBearing': 197, 'cloudCover': 0.51, 'uvIndex': 9, 'uvIndexTime': 1560312000, 'visibility': 11.06, 'ozone': 248.75, 'temperatureMin': 26.84, 'temperatureMinTime': 1560279600, 'temperatureMax': 31.02, 'temperatureMaxTime': 1560319200, 'apparentTemperatureMin': 29.19, 'apparentTemperatureMinTime': 1560279600, 'apparentTemperatureMax': 35.66, 'apparentTemperatureMaxTime': 1560315600}, {'time': 1560355200, 'summary': 'Humid and partly cloudy throughout the day.', 'icon': 'partly-cloudy-day', 'sunriseTime': 1560378691, 'sunsetTime': 1560420675, 'moonPhase': 0.36, 'precipIntensity': 0, 'precipIntensityMax': 0.0051, 'precipIntensityMaxTime': 1560438000, 'precipProbability': 0, 'temperatureHigh': 30.87, 'temperatureHighTime': 1560405600, 'temperatureLow': 27.12, 'temperatureLowTime': 1560452400, 'apparentTemperatureHigh': 34.64, 'apparentTemperatureHighTime': 1560405600, 'apparentTemperatureLow': 29.99, 'apparentTemperatureLowTime': 1560452400, 'dewPoint': 22.83, 'humidity': 0.71, 'pressure': 1010.77, 'windSpeed': 1.94, 'windGust': 4.72, 'windGustTime': 1560373200, 'windBearing': 200, 'cloudCover': 0.48, 'uvIndex': 6, 'uvIndexTime': 1560398400, 'visibility': 10.15, 'ozone': 245.98, 'temperatureMin': 26.49, 'temperatureMinTime': 1560362400, 'temperatureMax': 30.87, 'temperatureMaxTime': 1560405600, 'apparentTemperatureMin': 28.64, 'apparentTemperatureMinTime': 1560362400, 'apparentTemperatureMax': 34.64, 'apparentTemperatureMaxTime': 1560405600}, {'time': 1560441600, 'summary': 'Humid and mostly cloudy throughout the day.', 'icon': 'partly-cloudy-day', 'sunriseTime': 1560465105, 'sunsetTime': 1560507084, 'moonPhase': 0.39, 'precipIntensity': 0.1702, 'precipIntensityMax': 0.6655, 'precipIntensityMaxTime': 1560492000, 'precipProbability': 0.51, 'precipType': 'rain', 'temperatureHigh': 30.17, 'temperatureHighTime': 1560484800, 'temperatureLow': 26.62, 'temperatureLowTime': 1560535200, 'apparentTemperatureHigh': 34.28, 'apparentTemperatureHighTime': 1560484800, 'apparentTemperatureLow': 29.13, 'apparentTemperatureLowTime': 1560535200, 'dewPoint': 23.32, 'humidity': 0.74, 'pressure': 1010.32, 'windSpeed': 2.06, 'windGust': 3.8, 'windGustTime': 1560524400, 'windBearing': 205, 'cloudCover': 0.58, 'uvIndex': 6, 'uvIndexTime': 1560484800, 'visibility': 7.32, 'ozone': 243.4, 'temperatureMin': 27.12, 'temperatureMinTime': 1560452400, 'temperatureMax': 30.17, 'temperatureMaxTime': 1560484800, 'apparentTemperatureMin': 29.99, 'apparentTemperatureMinTime': 1560452400, 'apparentTemperatureMax': 34.28, 'apparentTemperatureMaxTime': 1560484800}, {'time': 1560528000, 'summary': 'Humid and partly cloudy throughout the day.', 'icon': 'partly-cloudy-day', 'sunriseTime': 1560551519, 'sunsetTime': 1560593495, 'moonPhase': 0.43, 'precipIntensity': 0.0051, 'precipIntensityMax': 0.0254, 'precipIntensityMaxTime': 1560589200, 'precipProbability': 0.16, 'precipType': 'rain', 'temperatureHigh': 30.26, 'temperatureHighTime': 1560574800, 'temperatureLow': 26.36, 'temperatureLowTime': 1560625200, 'apparentTemperatureHigh': 34.74, 'apparentTemperatureHighTime': 1560578400, 'apparentTemperatureLow': 28.27, 'apparentTemperatureLowTime': 1560625200, 'dewPoint': 23.24, 'humidity': 0.74, 'pressure': 1010.7, 'windSpeed': 0.9, 'windGust': 3.78, 'windGustTime': 1560528000, 'windBearing': 194, 'cloudCover': 0.59, 'uvIndex': 8, 'uvIndexTime': 1560571200, 'visibility': 11.09, 'ozone': 244.48, 'temperatureMin': 26.62, 'temperatureMinTime': 1560535200, 'temperatureMax': 30.26, 'temperatureMaxTime': 1560574800, 'apparentTemperatureMin': 29.13, 'apparentTemperatureMinTime': 1560535200, 'apparentTemperatureMax': 34.74, 'apparentTemperatureMaxTime': 1560578400}, {'time': 1560614400, 'summary': 'Partly cloudy throughout the day.', 'icon': 'partly-cloudy-day', 'sunriseTime': 1560637933, 'sunsetTime': 1560679905, 'moonPhase': 0.46, 'precipIntensity': 0.0051, 'precipIntensityMax': 0.0229, 'precipIntensityMaxTime': 1560682800, 'precipProbability': 0.11, 'precipType': 'rain', 'temperatureHigh': 30.06, 'temperatureHighTime': 1560657600, 'temperatureLow': 26.36, 'temperatureLowTime': 1560715200, 'apparentTemperatureHigh': 33.27, 'apparentTemperatureHighTime': 1560661200, 'apparentTemperatureLow': 28.02, 'apparentTemperatureLowTime': 1560715200, 'dewPoint': 22.04, 'humidity': 0.7, 'pressure': 1010.97, 'windSpeed': 0.93, 'windGust': 3.8, 'windGustTime': 1560697200, 'windBearing': 171, 'cloudCover': 0.4, 'uvIndex': 8, 'uvIndexTime': 1560657600, 'visibility': 12.01, 'ozone': 247.35, 'temperatureMin': 26.36, 'temperatureMinTime': 1560625200, 'temperatureMax': 30.06, 'temperatureMaxTime': 1560657600, 'apparentTemperatureMin': 28.27, 'apparentTemperatureMinTime': 1560625200, 'apparentTemperatureMax': 33.27, 'apparentTemperatureMaxTime': 1560661200}, {'time': 1560700800, 'summary': 'Mostly cloudy until evening.', 'icon': 'partly-cloudy-day', 'sunriseTime': 1560724346, 'sunsetTime': 1560766316, 'moonPhase': 0.49, 'precipIntensity': 0.0025, 'precipIntensityMax': 0.0178, 'precipIntensityMaxTime': 1560762000, 'precipProbability': 0.09, 'precipType': 'rain', 'temperatureHigh': 30.21, 'temperatureHighTime': 1560744000, 'temperatureLow': 26.05, 'temperatureLowTime': 1560794400, 'apparentTemperatureHigh': 33.14, 'apparentTemperatureHighTime': 1560744000, 'apparentTemperatureLow': 27.66, 'apparentTemperatureLowTime': 1560794400, 'dewPoint': 21.63, 'humidity': 0.68, 'pressure': 1011.12, 'windSpeed': 1.06, 'windGust': 4.02, 'windGustTime': 1560718800, 'windBearing': 177, 'cloudCover': 0.59, 'uvIndex': 6, 'uvIndexTime': 1560744000, 'visibility': 10.8, 'ozone': 247.64, 'temperatureMin': 26.36, 'temperatureMinTime': 1560715200, 'temperatureMax': 30.21, 'temperatureMaxTime': 1560744000, 'apparentTemperatureMin': 28.02, 'apparentTemperatureMinTime': 1560715200, 'apparentTemperatureMax': 33.14, 'apparentTemperatureMaxTime': 1560744000}, {'time': 1560787200, 'summary': 'Partly cloudy in the evening.', 'icon': 'partly-cloudy-night', 'sunriseTime': 1560810760, 'sunsetTime': 1560852727, 'moonPhase': 0.53, 'precipIntensity': 0, 'precipIntensityMax': 0.0025, 'precipIntensityMaxTime': 1560826800, 'precipProbability': 0, 'temperatureHigh': 29.42, 'temperatureHighTime': 1560826800, 'temperatureLow': 26.29, 'temperatureLowTime': 1560884400, 'apparentTemperatureHigh': 32.05, 'apparentTemperatureHighTime': 1560830400, 'apparentTemperatureLow': 27.98, 'apparentTemperatureLowTime': 1560884400, 'dewPoint': 21.65, 'humidity': 0.7, 'pressure': 1011.89, 'windSpeed': 0.79, 'windGust': 3.66, 'windGustTime': 1560787200, 'windBearing': 177, 'cloudCover': 0.13, 'uvIndex': 9, 'uvIndexTime': 1560830400, 'visibility': 12.99, 'ozone': 250.95, 'temperatureMin': 26.05, 'temperatureMinTime': 1560794400, 'temperatureMax': 29.42, 'temperatureMaxTime': 1560826800, 'apparentTemperatureMin': 27.66, 'apparentTemperatureMinTime': 1560794400, 'apparentTemperatureMax': 32.05, 'apparentTemperatureMaxTime': 1560830400}]}, 'flags': {'sources': ['cmc', 'gfs', 'icon', 'isd', 'madis'], 'units': 'si'}, 'offset': 8}\n"
     ]
    }
   ],
   "source": [
    "API_KEY = 'b82654b4f199aad130cedeeb1233d5a3'\n",
    "response = requests.get(f'https://api.darksky.net/forecast/{API_KEY}/-8, 115/?units=si')\n",
    "Ubud_current_temperature = response.json()\n",
    "print(Ubud_current_temperature)"
   ]
  },
  {
   "cell_type": "code",
   "execution_count": 52,
   "metadata": {},
   "outputs": [
    {
     "data": {
      "text/plain": [
       "dict_keys(['latitude', 'longitude', 'timezone', 'currently', 'hourly', 'daily', 'flags', 'offset'])"
      ]
     },
     "execution_count": 52,
     "metadata": {},
     "output_type": "execute_result"
    }
   ],
   "source": [
    "Ubud_current_temperature.keys()"
   ]
  },
  {
   "cell_type": "code",
   "execution_count": 53,
   "metadata": {},
   "outputs": [
    {
     "data": {
      "text/plain": [
       "{'time': 1560228959,\n",
       " 'summary': 'Humid and Mostly Cloudy',\n",
       " 'icon': 'partly-cloudy-day',\n",
       " 'precipIntensity': 0,\n",
       " 'precipProbability': 0,\n",
       " 'temperature': 30.93,\n",
       " 'apparentTemperature': 34.68,\n",
       " 'dewPoint': 22.23,\n",
       " 'humidity': 0.6,\n",
       " 'pressure': 1011.52,\n",
       " 'windSpeed': 1.69,\n",
       " 'windGust': 2.41,\n",
       " 'windBearing': 250,\n",
       " 'cloudCover': 0.61,\n",
       " 'uvIndex': 7,\n",
       " 'visibility': 16.09,\n",
       " 'ozone': 247.12}"
      ]
     },
     "execution_count": 53,
     "metadata": {},
     "output_type": "execute_result"
    }
   ],
   "source": [
    "Ubud_current_temperature ['currently'] "
   ]
  },
  {
   "cell_type": "code",
   "execution_count": 54,
   "metadata": {},
   "outputs": [
    {
     "data": {
      "text/plain": [
       "(-8, 115)"
      ]
     },
     "execution_count": 54,
     "metadata": {},
     "output_type": "execute_result"
    }
   ],
   "source": [
    "Ubud_current_temperature ['latitude'], Ubud_current_temperature ['longitude']"
   ]
  },
  {
   "cell_type": "code",
   "execution_count": 55,
   "metadata": {},
   "outputs": [
    {
     "data": {
      "text/plain": [
       "'Asia/Makassar'"
      ]
     },
     "execution_count": 55,
     "metadata": {},
     "output_type": "execute_result"
    }
   ],
   "source": [
    "Ubud_current_temperature ['timezone'] "
   ]
  },
  {
   "cell_type": "markdown",
   "metadata": {},
   "source": [
    "## 2) What's the current wind speed? How much warmer does it feel than it actually is?\n",
    "\n",
    "- *Tip: You can do this by browsing through the dictionaries, but it might be easier to read the documentation*\n",
    "- *Tip: For the second half: it **is** one temperature, and it **feels** a different temperature. Calculate the difference.*"
   ]
  },
  {
   "cell_type": "code",
   "execution_count": 56,
   "metadata": {},
   "outputs": [
    {
     "name": "stdout",
     "output_type": "stream",
     "text": [
      "1.69\n"
     ]
    }
   ],
   "source": [
    "print(Ubud_current_temperature['currently']['windSpeed'])\n"
   ]
  },
  {
   "cell_type": "code",
   "execution_count": 57,
   "metadata": {},
   "outputs": [
    {
     "data": {
      "text/plain": [
       "3.75"
      ]
     },
     "execution_count": 57,
     "metadata": {},
     "output_type": "execute_result"
    }
   ],
   "source": [
    "difference_in_temperature = ((Ubud_current_temperature['currently']['apparentTemperature']) - (Ubud_current_temperature['currently']['temperature']))\n",
    "difference_in_temperature"
   ]
  },
  {
   "cell_type": "code",
   "execution_count": null,
   "metadata": {},
   "outputs": [],
   "source": []
  },
  {
   "cell_type": "code",
   "execution_count": null,
   "metadata": {},
   "outputs": [],
   "source": []
  },
  {
   "cell_type": "markdown",
   "metadata": {},
   "source": [
    "## 3) Today's forecast is the FIRST daily forecast. For the place you decided on above, how much of the moon is currently visible?\n",
    "\n",
    "- *Tip: This does **not** use the `currently` key.*\n",
    "- *Tip: It might be helpful to save the forecast into its own variable*"
   ]
  },
  {
   "cell_type": "code",
   "execution_count": 58,
   "metadata": {},
   "outputs": [
    {
     "data": {
      "text/plain": [
       "{'summary': 'Light rain on Friday, with high temperatures falling to 29°C next Tuesday.',\n",
       " 'icon': 'rain',\n",
       " 'data': [{'time': 1560182400,\n",
       "   'summary': 'Humid and mostly cloudy throughout the day.',\n",
       "   'icon': 'partly-cloudy-day',\n",
       "   'sunriseTime': 1560205863,\n",
       "   'sunsetTime': 1560247856,\n",
       "   'moonPhase': 0.29,\n",
       "   'precipIntensity': 0,\n",
       "   'precipIntensityMax': 0.0025,\n",
       "   'precipIntensityMaxTime': 1560182400,\n",
       "   'precipProbability': 0,\n",
       "   'temperatureHigh': 31.17,\n",
       "   'temperatureHighTime': 1560236400,\n",
       "   'temperatureLow': 26.84,\n",
       "   'temperatureLowTime': 1560279600,\n",
       "   'apparentTemperatureHigh': 35.02,\n",
       "   'apparentTemperatureHighTime': 1560236400,\n",
       "   'apparentTemperatureLow': 29.19,\n",
       "   'apparentTemperatureLowTime': 1560279600,\n",
       "   'dewPoint': 22.56,\n",
       "   'humidity': 0.7,\n",
       "   'pressure': 1011.71,\n",
       "   'windSpeed': 2.88,\n",
       "   'windGust': 5.92,\n",
       "   'windGustTime': 1560189600,\n",
       "   'windBearing': 202,\n",
       "   'cloudCover': 0.69,\n",
       "   'uvIndex': 7,\n",
       "   'uvIndexTime': 1560225600,\n",
       "   'visibility': 11.88,\n",
       "   'ozone': 246.97,\n",
       "   'temperatureMin': 26.77,\n",
       "   'temperatureMinTime': 1560193200,\n",
       "   'temperatureMax': 31.17,\n",
       "   'temperatureMaxTime': 1560236400,\n",
       "   'apparentTemperatureMin': 29.04,\n",
       "   'apparentTemperatureMinTime': 1560200400,\n",
       "   'apparentTemperatureMax': 35.02,\n",
       "   'apparentTemperatureMaxTime': 1560236400},\n",
       "  {'time': 1560268800,\n",
       "   'summary': 'Humid throughout the day and partly cloudy until evening.',\n",
       "   'icon': 'partly-cloudy-day',\n",
       "   'sunriseTime': 1560292277,\n",
       "   'sunsetTime': 1560334265,\n",
       "   'moonPhase': 0.32,\n",
       "   'precipIntensity': 0,\n",
       "   'precipIntensityMax': 0.0051,\n",
       "   'precipIntensityMaxTime': 1560301200,\n",
       "   'precipProbability': 0,\n",
       "   'temperatureHigh': 31.02,\n",
       "   'temperatureHighTime': 1560319200,\n",
       "   'temperatureLow': 26.49,\n",
       "   'temperatureLowTime': 1560362400,\n",
       "   'apparentTemperatureHigh': 35.66,\n",
       "   'apparentTemperatureHighTime': 1560315600,\n",
       "   'apparentTemperatureLow': 28.64,\n",
       "   'apparentTemperatureLowTime': 1560362400,\n",
       "   'dewPoint': 22.79,\n",
       "   'humidity': 0.71,\n",
       "   'pressure': 1011.79,\n",
       "   'windSpeed': 2.29,\n",
       "   'windGust': 4.83,\n",
       "   'windGustTime': 1560344400,\n",
       "   'windBearing': 197,\n",
       "   'cloudCover': 0.51,\n",
       "   'uvIndex': 9,\n",
       "   'uvIndexTime': 1560312000,\n",
       "   'visibility': 11.06,\n",
       "   'ozone': 248.75,\n",
       "   'temperatureMin': 26.84,\n",
       "   'temperatureMinTime': 1560279600,\n",
       "   'temperatureMax': 31.02,\n",
       "   'temperatureMaxTime': 1560319200,\n",
       "   'apparentTemperatureMin': 29.19,\n",
       "   'apparentTemperatureMinTime': 1560279600,\n",
       "   'apparentTemperatureMax': 35.66,\n",
       "   'apparentTemperatureMaxTime': 1560315600},\n",
       "  {'time': 1560355200,\n",
       "   'summary': 'Humid and partly cloudy throughout the day.',\n",
       "   'icon': 'partly-cloudy-day',\n",
       "   'sunriseTime': 1560378691,\n",
       "   'sunsetTime': 1560420675,\n",
       "   'moonPhase': 0.36,\n",
       "   'precipIntensity': 0,\n",
       "   'precipIntensityMax': 0.0051,\n",
       "   'precipIntensityMaxTime': 1560438000,\n",
       "   'precipProbability': 0,\n",
       "   'temperatureHigh': 30.87,\n",
       "   'temperatureHighTime': 1560405600,\n",
       "   'temperatureLow': 27.12,\n",
       "   'temperatureLowTime': 1560452400,\n",
       "   'apparentTemperatureHigh': 34.64,\n",
       "   'apparentTemperatureHighTime': 1560405600,\n",
       "   'apparentTemperatureLow': 29.99,\n",
       "   'apparentTemperatureLowTime': 1560452400,\n",
       "   'dewPoint': 22.83,\n",
       "   'humidity': 0.71,\n",
       "   'pressure': 1010.77,\n",
       "   'windSpeed': 1.94,\n",
       "   'windGust': 4.72,\n",
       "   'windGustTime': 1560373200,\n",
       "   'windBearing': 200,\n",
       "   'cloudCover': 0.48,\n",
       "   'uvIndex': 6,\n",
       "   'uvIndexTime': 1560398400,\n",
       "   'visibility': 10.15,\n",
       "   'ozone': 245.98,\n",
       "   'temperatureMin': 26.49,\n",
       "   'temperatureMinTime': 1560362400,\n",
       "   'temperatureMax': 30.87,\n",
       "   'temperatureMaxTime': 1560405600,\n",
       "   'apparentTemperatureMin': 28.64,\n",
       "   'apparentTemperatureMinTime': 1560362400,\n",
       "   'apparentTemperatureMax': 34.64,\n",
       "   'apparentTemperatureMaxTime': 1560405600},\n",
       "  {'time': 1560441600,\n",
       "   'summary': 'Humid and mostly cloudy throughout the day.',\n",
       "   'icon': 'partly-cloudy-day',\n",
       "   'sunriseTime': 1560465105,\n",
       "   'sunsetTime': 1560507084,\n",
       "   'moonPhase': 0.39,\n",
       "   'precipIntensity': 0.1702,\n",
       "   'precipIntensityMax': 0.6655,\n",
       "   'precipIntensityMaxTime': 1560492000,\n",
       "   'precipProbability': 0.51,\n",
       "   'precipType': 'rain',\n",
       "   'temperatureHigh': 30.17,\n",
       "   'temperatureHighTime': 1560484800,\n",
       "   'temperatureLow': 26.62,\n",
       "   'temperatureLowTime': 1560535200,\n",
       "   'apparentTemperatureHigh': 34.28,\n",
       "   'apparentTemperatureHighTime': 1560484800,\n",
       "   'apparentTemperatureLow': 29.13,\n",
       "   'apparentTemperatureLowTime': 1560535200,\n",
       "   'dewPoint': 23.32,\n",
       "   'humidity': 0.74,\n",
       "   'pressure': 1010.32,\n",
       "   'windSpeed': 2.06,\n",
       "   'windGust': 3.8,\n",
       "   'windGustTime': 1560524400,\n",
       "   'windBearing': 205,\n",
       "   'cloudCover': 0.58,\n",
       "   'uvIndex': 6,\n",
       "   'uvIndexTime': 1560484800,\n",
       "   'visibility': 7.32,\n",
       "   'ozone': 243.4,\n",
       "   'temperatureMin': 27.12,\n",
       "   'temperatureMinTime': 1560452400,\n",
       "   'temperatureMax': 30.17,\n",
       "   'temperatureMaxTime': 1560484800,\n",
       "   'apparentTemperatureMin': 29.99,\n",
       "   'apparentTemperatureMinTime': 1560452400,\n",
       "   'apparentTemperatureMax': 34.28,\n",
       "   'apparentTemperatureMaxTime': 1560484800},\n",
       "  {'time': 1560528000,\n",
       "   'summary': 'Humid and partly cloudy throughout the day.',\n",
       "   'icon': 'partly-cloudy-day',\n",
       "   'sunriseTime': 1560551519,\n",
       "   'sunsetTime': 1560593495,\n",
       "   'moonPhase': 0.43,\n",
       "   'precipIntensity': 0.0051,\n",
       "   'precipIntensityMax': 0.0254,\n",
       "   'precipIntensityMaxTime': 1560589200,\n",
       "   'precipProbability': 0.16,\n",
       "   'precipType': 'rain',\n",
       "   'temperatureHigh': 30.26,\n",
       "   'temperatureHighTime': 1560574800,\n",
       "   'temperatureLow': 26.36,\n",
       "   'temperatureLowTime': 1560625200,\n",
       "   'apparentTemperatureHigh': 34.74,\n",
       "   'apparentTemperatureHighTime': 1560578400,\n",
       "   'apparentTemperatureLow': 28.27,\n",
       "   'apparentTemperatureLowTime': 1560625200,\n",
       "   'dewPoint': 23.24,\n",
       "   'humidity': 0.74,\n",
       "   'pressure': 1010.7,\n",
       "   'windSpeed': 0.9,\n",
       "   'windGust': 3.78,\n",
       "   'windGustTime': 1560528000,\n",
       "   'windBearing': 194,\n",
       "   'cloudCover': 0.59,\n",
       "   'uvIndex': 8,\n",
       "   'uvIndexTime': 1560571200,\n",
       "   'visibility': 11.09,\n",
       "   'ozone': 244.48,\n",
       "   'temperatureMin': 26.62,\n",
       "   'temperatureMinTime': 1560535200,\n",
       "   'temperatureMax': 30.26,\n",
       "   'temperatureMaxTime': 1560574800,\n",
       "   'apparentTemperatureMin': 29.13,\n",
       "   'apparentTemperatureMinTime': 1560535200,\n",
       "   'apparentTemperatureMax': 34.74,\n",
       "   'apparentTemperatureMaxTime': 1560578400},\n",
       "  {'time': 1560614400,\n",
       "   'summary': 'Partly cloudy throughout the day.',\n",
       "   'icon': 'partly-cloudy-day',\n",
       "   'sunriseTime': 1560637933,\n",
       "   'sunsetTime': 1560679905,\n",
       "   'moonPhase': 0.46,\n",
       "   'precipIntensity': 0.0051,\n",
       "   'precipIntensityMax': 0.0229,\n",
       "   'precipIntensityMaxTime': 1560682800,\n",
       "   'precipProbability': 0.11,\n",
       "   'precipType': 'rain',\n",
       "   'temperatureHigh': 30.06,\n",
       "   'temperatureHighTime': 1560657600,\n",
       "   'temperatureLow': 26.36,\n",
       "   'temperatureLowTime': 1560715200,\n",
       "   'apparentTemperatureHigh': 33.27,\n",
       "   'apparentTemperatureHighTime': 1560661200,\n",
       "   'apparentTemperatureLow': 28.02,\n",
       "   'apparentTemperatureLowTime': 1560715200,\n",
       "   'dewPoint': 22.04,\n",
       "   'humidity': 0.7,\n",
       "   'pressure': 1010.97,\n",
       "   'windSpeed': 0.93,\n",
       "   'windGust': 3.8,\n",
       "   'windGustTime': 1560697200,\n",
       "   'windBearing': 171,\n",
       "   'cloudCover': 0.4,\n",
       "   'uvIndex': 8,\n",
       "   'uvIndexTime': 1560657600,\n",
       "   'visibility': 12.01,\n",
       "   'ozone': 247.35,\n",
       "   'temperatureMin': 26.36,\n",
       "   'temperatureMinTime': 1560625200,\n",
       "   'temperatureMax': 30.06,\n",
       "   'temperatureMaxTime': 1560657600,\n",
       "   'apparentTemperatureMin': 28.27,\n",
       "   'apparentTemperatureMinTime': 1560625200,\n",
       "   'apparentTemperatureMax': 33.27,\n",
       "   'apparentTemperatureMaxTime': 1560661200},\n",
       "  {'time': 1560700800,\n",
       "   'summary': 'Mostly cloudy until evening.',\n",
       "   'icon': 'partly-cloudy-day',\n",
       "   'sunriseTime': 1560724346,\n",
       "   'sunsetTime': 1560766316,\n",
       "   'moonPhase': 0.49,\n",
       "   'precipIntensity': 0.0025,\n",
       "   'precipIntensityMax': 0.0178,\n",
       "   'precipIntensityMaxTime': 1560762000,\n",
       "   'precipProbability': 0.09,\n",
       "   'precipType': 'rain',\n",
       "   'temperatureHigh': 30.21,\n",
       "   'temperatureHighTime': 1560744000,\n",
       "   'temperatureLow': 26.05,\n",
       "   'temperatureLowTime': 1560794400,\n",
       "   'apparentTemperatureHigh': 33.14,\n",
       "   'apparentTemperatureHighTime': 1560744000,\n",
       "   'apparentTemperatureLow': 27.66,\n",
       "   'apparentTemperatureLowTime': 1560794400,\n",
       "   'dewPoint': 21.63,\n",
       "   'humidity': 0.68,\n",
       "   'pressure': 1011.12,\n",
       "   'windSpeed': 1.06,\n",
       "   'windGust': 4.02,\n",
       "   'windGustTime': 1560718800,\n",
       "   'windBearing': 177,\n",
       "   'cloudCover': 0.59,\n",
       "   'uvIndex': 6,\n",
       "   'uvIndexTime': 1560744000,\n",
       "   'visibility': 10.8,\n",
       "   'ozone': 247.64,\n",
       "   'temperatureMin': 26.36,\n",
       "   'temperatureMinTime': 1560715200,\n",
       "   'temperatureMax': 30.21,\n",
       "   'temperatureMaxTime': 1560744000,\n",
       "   'apparentTemperatureMin': 28.02,\n",
       "   'apparentTemperatureMinTime': 1560715200,\n",
       "   'apparentTemperatureMax': 33.14,\n",
       "   'apparentTemperatureMaxTime': 1560744000},\n",
       "  {'time': 1560787200,\n",
       "   'summary': 'Partly cloudy in the evening.',\n",
       "   'icon': 'partly-cloudy-night',\n",
       "   'sunriseTime': 1560810760,\n",
       "   'sunsetTime': 1560852727,\n",
       "   'moonPhase': 0.53,\n",
       "   'precipIntensity': 0,\n",
       "   'precipIntensityMax': 0.0025,\n",
       "   'precipIntensityMaxTime': 1560826800,\n",
       "   'precipProbability': 0,\n",
       "   'temperatureHigh': 29.42,\n",
       "   'temperatureHighTime': 1560826800,\n",
       "   'temperatureLow': 26.29,\n",
       "   'temperatureLowTime': 1560884400,\n",
       "   'apparentTemperatureHigh': 32.05,\n",
       "   'apparentTemperatureHighTime': 1560830400,\n",
       "   'apparentTemperatureLow': 27.98,\n",
       "   'apparentTemperatureLowTime': 1560884400,\n",
       "   'dewPoint': 21.65,\n",
       "   'humidity': 0.7,\n",
       "   'pressure': 1011.89,\n",
       "   'windSpeed': 0.79,\n",
       "   'windGust': 3.66,\n",
       "   'windGustTime': 1560787200,\n",
       "   'windBearing': 177,\n",
       "   'cloudCover': 0.13,\n",
       "   'uvIndex': 9,\n",
       "   'uvIndexTime': 1560830400,\n",
       "   'visibility': 12.99,\n",
       "   'ozone': 250.95,\n",
       "   'temperatureMin': 26.05,\n",
       "   'temperatureMinTime': 1560794400,\n",
       "   'temperatureMax': 29.42,\n",
       "   'temperatureMaxTime': 1560826800,\n",
       "   'apparentTemperatureMin': 27.66,\n",
       "   'apparentTemperatureMinTime': 1560794400,\n",
       "   'apparentTemperatureMax': 32.05,\n",
       "   'apparentTemperatureMaxTime': 1560830400}]}"
      ]
     },
     "execution_count": 58,
     "metadata": {},
     "output_type": "execute_result"
    }
   ],
   "source": [
    "Ubud_current_temperature ['daily']"
   ]
  },
  {
   "cell_type": "code",
   "execution_count": 59,
   "metadata": {},
   "outputs": [
    {
     "name": "stdout",
     "output_type": "stream",
     "text": [
      "dict_keys(['latitude', 'longitude', 'timezone', 'currently', 'hourly', 'daily', 'flags', 'offset'])\n"
     ]
    }
   ],
   "source": [
    "print(Ubud_current_temperature.keys())"
   ]
  },
  {
   "cell_type": "code",
   "execution_count": 60,
   "metadata": {},
   "outputs": [
    {
     "name": "stdout",
     "output_type": "stream",
     "text": [
      "latitude -8\n",
      "longitude 115\n",
      "timezone Asia/Makassar\n",
      "currently {'time': 1560228959, 'summary': 'Humid and Mostly Cloudy', 'icon': 'partly-cloudy-day', 'precipIntensity': 0, 'precipProbability': 0, 'temperature': 30.93, 'apparentTemperature': 34.68, 'dewPoint': 22.23, 'humidity': 0.6, 'pressure': 1011.52, 'windSpeed': 1.69, 'windGust': 2.41, 'windBearing': 250, 'cloudCover': 0.61, 'uvIndex': 7, 'visibility': 16.09, 'ozone': 247.12}\n",
      "hourly {'summary': 'Humid throughout the day and mostly cloudy until tomorrow morning.', 'icon': 'partly-cloudy-night', 'data': [{'time': 1560225600, 'summary': 'Humid and Mostly Cloudy', 'icon': 'partly-cloudy-day', 'precipIntensity': 0, 'precipProbability': 0, 'temperature': 30.63, 'apparentTemperature': 34.31, 'dewPoint': 22.23, 'humidity': 0.61, 'pressure': 1012.12, 'windSpeed': 1.81, 'windGust': 2.2, 'windBearing': 241, 'cloudCover': 0.63, 'uvIndex': 7, 'visibility': 16.09, 'ozone': 247.25}, {'time': 1560229200, 'summary': 'Humid and Mostly Cloudy', 'icon': 'partly-cloudy-day', 'precipIntensity': 0, 'precipProbability': 0, 'temperature': 30.95, 'apparentTemperature': 34.71, 'dewPoint': 22.23, 'humidity': 0.6, 'pressure': 1011.47, 'windSpeed': 1.69, 'windGust': 2.43, 'windBearing': 250, 'cloudCover': 0.61, 'uvIndex': 7, 'visibility': 16.09, 'ozone': 247.11}, {'time': 1560232800, 'summary': 'Humid and Mostly Cloudy', 'icon': 'partly-cloudy-day', 'precipIntensity': 0, 'precipProbability': 0, 'temperature': 31.13, 'apparentTemperature': 34.94, 'dewPoint': 22.23, 'humidity': 0.59, 'pressure': 1010.95, 'windSpeed': 1.62, 'windGust': 2.62, 'windBearing': 255, 'cloudCover': 0.61, 'uvIndex': 6, 'visibility': 16.09, 'ozone': 246.84}, {'time': 1560236400, 'summary': 'Humid and Mostly Cloudy', 'icon': 'partly-cloudy-day', 'precipIntensity': 0, 'precipProbability': 0, 'temperature': 31.17, 'apparentTemperature': 35.02, 'dewPoint': 22.26, 'humidity': 0.59, 'pressure': 1010.62, 'windSpeed': 1.55, 'windGust': 2.58, 'windBearing': 271, 'cloudCover': 0.66, 'uvIndex': 4, 'visibility': 16.09, 'ozone': 246.84}, {'time': 1560240000, 'summary': 'Humid and Mostly Cloudy', 'icon': 'partly-cloudy-day', 'precipIntensity': 0, 'precipProbability': 0, 'temperature': 31.02, 'apparentTemperature': 34.87, 'dewPoint': 22.32, 'humidity': 0.6, 'pressure': 1010.45, 'windSpeed': 1.52, 'windGust': 2.51, 'windBearing': 168, 'cloudCover': 0.74, 'uvIndex': 2, 'visibility': 14.61, 'ozone': 246.98}, {'time': 1560243600, 'summary': 'Humid and Mostly Cloudy', 'icon': 'partly-cloudy-day', 'precipIntensity': 0, 'precipProbability': 0, 'temperature': 30.65, 'apparentTemperature': 34.51, 'dewPoint': 22.42, 'humidity': 0.62, 'pressure': 1010.47, 'windSpeed': 1.68, 'windGust': 2.7, 'windBearing': 193, 'cloudCover': 0.79, 'uvIndex': 1, 'visibility': 10.61, 'ozone': 247.11}, {'time': 1560247200, 'summary': 'Humid and Mostly Cloudy', 'icon': 'partly-cloudy-day', 'precipIntensity': 0, 'precipProbability': 0, 'temperature': 30.09, 'apparentTemperature': 33.91, 'dewPoint': 22.59, 'humidity': 0.64, 'pressure': 1010.8, 'windSpeed': 2.17, 'windGust': 3.46, 'windBearing': 202, 'cloudCover': 0.77, 'uvIndex': 0, 'visibility': 9.59, 'ozone': 247.11}, {'time': 1560250800, 'summary': 'Humid and Mostly Cloudy', 'icon': 'partly-cloudy-night', 'precipIntensity': 0, 'precipProbability': 0, 'temperature': 29.31, 'apparentTemperature': 33.04, 'dewPoint': 22.81, 'humidity': 0.68, 'pressure': 1011.34, 'windSpeed': 2.87, 'windGust': 4.48, 'windBearing': 202, 'cloudCover': 0.73, 'uvIndex': 0, 'visibility': 10.09, 'ozone': 247.11}, {'time': 1560254400, 'summary': 'Humid and Mostly Cloudy', 'icon': 'partly-cloudy-night', 'precipIntensity': 0, 'precipProbability': 0, 'temperature': 28.61, 'apparentTemperature': 32.14, 'dewPoint': 22.94, 'humidity': 0.72, 'pressure': 1011.82, 'windSpeed': 3.47, 'windGust': 5.2, 'windBearing': 199, 'cloudCover': 0.72, 'uvIndex': 0, 'visibility': 10.61, 'ozone': 247.25}, {'time': 1560258000, 'summary': 'Humid and Mostly Cloudy', 'icon': 'partly-cloudy-night', 'precipIntensity': 0, 'precipProbability': 0, 'temperature': 28.19, 'apparentTemperature': 31.56, 'dewPoint': 22.98, 'humidity': 0.73, 'pressure': 1012.26, 'windSpeed': 3.86, 'windGust': 5.28, 'windBearing': 198, 'cloudCover': 0.8, 'uvIndex': 0, 'visibility': 10.62, 'ozone': 247.79}, {'time': 1560261600, 'summary': 'Humid and Mostly Cloudy', 'icon': 'partly-cloudy-night', 'precipIntensity': 0, 'precipProbability': 0, 'temperature': 27.97, 'apparentTemperature': 31.18, 'dewPoint': 22.96, 'humidity': 0.74, 'pressure': 1012.68, 'windSpeed': 4.1, 'windGust': 5.04, 'windBearing': 197, 'cloudCover': 0.91, 'uvIndex': 0, 'visibility': 10.65, 'ozone': 248.6}, {'time': 1560265200, 'summary': 'Humid and Overcast', 'icon': 'cloudy', 'precipIntensity': 0, 'precipProbability': 0, 'temperature': 27.59, 'apparentTemperature': 30.56, 'dewPoint': 22.91, 'humidity': 0.76, 'pressure': 1012.88, 'windSpeed': 4.19, 'windGust': 4.81, 'windBearing': 195, 'cloudCover': 1, 'uvIndex': 0, 'visibility': 10.7, 'ozone': 249.14}, {'time': 1560268800, 'summary': 'Humid and Overcast', 'icon': 'cloudy', 'precipIntensity': 0, 'precipProbability': 0, 'temperature': 27.37, 'apparentTemperature': 30.15, 'dewPoint': 22.82, 'humidity': 0.76, 'pressure': 1012.74, 'windSpeed': 4.13, 'windGust': 4.72, 'windBearing': 195, 'cloudCover': 1, 'uvIndex': 0, 'visibility': 10.77, 'ozone': 249.67}, {'time': 1560272400, 'summary': 'Humid and Overcast', 'icon': 'cloudy', 'precipIntensity': 0, 'precipProbability': 0, 'temperature': 27.13, 'apparentTemperature': 29.71, 'dewPoint': 22.71, 'humidity': 0.77, 'pressure': 1012.37, 'windSpeed': 3.96, 'windGust': 4.61, 'windBearing': 194, 'cloudCover': 1, 'uvIndex': 0, 'visibility': 10.81, 'ozone': 250.07}, {'time': 1560276000, 'summary': 'Humid and Overcast', 'icon': 'cloudy', 'precipIntensity': 0, 'precipProbability': 0, 'temperature': 26.88, 'apparentTemperature': 29.26, 'dewPoint': 22.61, 'humidity': 0.78, 'pressure': 1012.07, 'windSpeed': 3.75, 'windGust': 4.42, 'windBearing': 192, 'cloudCover': 1, 'uvIndex': 0, 'visibility': 10.9, 'ozone': 250.21}, {'time': 1560279600, 'summary': 'Humid and Overcast', 'icon': 'cloudy', 'precipIntensity': 0, 'precipProbability': 0, 'temperature': 26.84, 'apparentTemperature': 29.19, 'dewPoint': 22.61, 'humidity': 0.78, 'pressure': 1011.85, 'windSpeed': 3.51, 'windGust': 4.07, 'windBearing': 194, 'cloudCover': 1, 'uvIndex': 0, 'visibility': 10.99, 'ozone': 249.94}, {'time': 1560283200, 'summary': 'Humid and Overcast', 'icon': 'cloudy', 'precipIntensity': 0, 'precipProbability': 0, 'temperature': 26.89, 'apparentTemperature': 29.3, 'dewPoint': 22.63, 'humidity': 0.78, 'pressure': 1011.63, 'windSpeed': 3.25, 'windGust': 3.62, 'windBearing': 195, 'cloudCover': 0.98, 'uvIndex': 0, 'visibility': 11.12, 'ozone': 249.4}, {'time': 1560286800, 'summary': 'Humid and Overcast', 'icon': 'cloudy', 'precipIntensity': 0, 'precipProbability': 0, 'temperature': 26.95, 'apparentTemperature': 29.4, 'dewPoint': 22.65, 'humidity': 0.77, 'pressure': 1011.63, 'windSpeed': 3.04, 'windGust': 3.27, 'windBearing': 195, 'cloudCover': 0.95, 'uvIndex': 0, 'visibility': 11.3, 'ozone': 249}, {'time': 1560290400, 'summary': 'Humid and Mostly Cloudy', 'icon': 'partly-cloudy-night', 'precipIntensity': 0, 'precipProbability': 0, 'temperature': 27.06, 'apparentTemperature': 29.57, 'dewPoint': 22.65, 'humidity': 0.77, 'pressure': 1011.93, 'windSpeed': 2.95, 'windGust': 3.15, 'windBearing': 201, 'cloudCover': 0.89, 'uvIndex': 0, 'visibility': 11.15, 'ozone': 248.87}, {'time': 1560294000, 'summary': 'Humid and Mostly Cloudy', 'icon': 'partly-cloudy-day', 'precipIntensity': 0, 'precipProbability': 0, 'temperature': 27.26, 'apparentTemperature': 29.89, 'dewPoint': 22.65, 'humidity': 0.76, 'pressure': 1012.43, 'windSpeed': 2.92, 'windGust': 3.11, 'windBearing': 207, 'cloudCover': 0.81, 'uvIndex': 0, 'visibility': 11.06, 'ozone': 248.73}, {'time': 1560297600, 'summary': 'Humid and Mostly Cloudy', 'icon': 'partly-cloudy-day', 'precipIntensity': 0, 'precipProbability': 0, 'temperature': 27.78, 'apparentTemperature': 30.75, 'dewPoint': 22.72, 'humidity': 0.74, 'pressure': 1012.77, 'windSpeed': 2.78, 'windGust': 3, 'windBearing': 197, 'cloudCover': 0.7, 'uvIndex': 1, 'visibility': 12.2, 'ozone': 248.87}, {'time': 1560301200, 'summary': 'Humid and Partly Cloudy', 'icon': 'partly-cloudy-day', 'precipIntensity': 0.0051, 'precipProbability': 0.03, 'precipType': 'rain', 'temperature': 28.61, 'apparentTemperature': 32.15, 'dewPoint': 22.94, 'humidity': 0.72, 'pressure': 1012.91, 'windSpeed': 2.49, 'windGust': 2.72, 'windBearing': 153, 'cloudCover': 0.53, 'uvIndex': 3, 'visibility': 16.09, 'ozone': 249.14}, {'time': 1560304800, 'summary': 'Humid and Partly Cloudy', 'icon': 'partly-cloudy-day', 'precipIntensity': 0, 'precipProbability': 0, 'temperature': 29.6, 'apparentTemperature': 33.8, 'dewPoint': 23.22, 'humidity': 0.69, 'pressure': 1012.91, 'windSpeed': 2.08, 'windGust': 2.35, 'windBearing': 288, 'cloudCover': 0.34, 'uvIndex': 5, 'visibility': 16.09, 'ozone': 249.54}, {'time': 1560308400, 'summary': 'Humid', 'icon': 'clear-day', 'precipIntensity': 0, 'precipProbability': 0, 'temperature': 30.36, 'apparentTemperature': 34.99, 'dewPoint': 23.36, 'humidity': 0.66, 'pressure': 1012.71, 'windSpeed': 1.67, 'windGust': 2, 'windBearing': 247, 'cloudCover': 0.2, 'uvIndex': 7, 'visibility': 16.09, 'ozone': 249.67}, {'time': 1560312000, 'summary': 'Humid', 'icon': 'clear-day', 'precipIntensity': 0, 'precipProbability': 0, 'temperature': 30.79, 'apparentTemperature': 35.55, 'dewPoint': 23.32, 'humidity': 0.65, 'pressure': 1012.15, 'windSpeed': 1.15, 'windGust': 1.6, 'windBearing': 262, 'cloudCover': 0.17, 'uvIndex': 9, 'visibility': 16.09, 'ozone': 249.54}, {'time': 1560315600, 'summary': 'Humid', 'icon': 'clear-day', 'precipIntensity': 0, 'precipProbability': 0, 'temperature': 30.99, 'apparentTemperature': 35.66, 'dewPoint': 23.16, 'humidity': 0.63, 'pressure': 1011.37, 'windSpeed': 0.62, 'windGust': 1.22, 'windBearing': 295, 'cloudCover': 0.19, 'uvIndex': 8, 'visibility': 15.26, 'ozone': 249}, {'time': 1560319200, 'summary': 'Humid', 'icon': 'clear-day', 'precipIntensity': 0, 'precipProbability': 0, 'temperature': 31.02, 'apparentTemperature': 35.56, 'dewPoint': 23.03, 'humidity': 0.63, 'pressure': 1010.72, 'windSpeed': 0.38, 'windGust': 1.13, 'windBearing': 301, 'cloudCover': 0.22, 'uvIndex': 7, 'visibility': 10.99, 'ozone': 248.46}, {'time': 1560322800, 'summary': 'Humid and Partly Cloudy', 'icon': 'partly-cloudy-day', 'precipIntensity': 0, 'precipProbability': 0, 'temperature': 30.94, 'apparentTemperature': 35.23, 'dewPoint': 22.81, 'humidity': 0.62, 'pressure': 1010.35, 'windSpeed': 0.55, 'windGust': 1.52, 'windBearing': 188, 'cloudCover': 0.27, 'uvIndex': 4, 'visibility': 10.48, 'ozone': 248.06}, {'time': 1560326400, 'summary': 'Humid and Partly Cloudy', 'icon': 'partly-cloudy-day', 'precipIntensity': 0, 'precipProbability': 0, 'temperature': 30.68, 'apparentTemperature': 34.69, 'dewPoint': 22.58, 'humidity': 0.62, 'pressure': 1010.1, 'windSpeed': 1, 'windGust': 2.21, 'windBearing': 182, 'cloudCover': 0.33, 'uvIndex': 2, 'visibility': 11.49, 'ozone': 247.52}, {'time': 1560330000, 'summary': 'Humid and Partly Cloudy', 'icon': 'partly-cloudy-day', 'precipIntensity': 0, 'precipProbability': 0, 'temperature': 30.3, 'apparentTemperature': 34.05, 'dewPoint': 22.42, 'humidity': 0.63, 'pressure': 1010.1, 'windSpeed': 1.53, 'windGust': 2.91, 'windBearing': 183, 'cloudCover': 0.36, 'uvIndex': 1, 'visibility': 11.81, 'ozone': 247.25}, {'time': 1560333600, 'summary': 'Humid and Partly Cloudy', 'icon': 'partly-cloudy-day', 'precipIntensity': 0, 'precipProbability': 0, 'temperature': 29.66, 'apparentTemperature': 33.26, 'dewPoint': 22.48, 'humidity': 0.65, 'pressure': 1010.52, 'windSpeed': 2.14, 'windGust': 3.62, 'windBearing': 188, 'cloudCover': 0.34, 'uvIndex': 0, 'visibility': 10.19, 'ozone': 247.25}, {'time': 1560337200, 'summary': 'Humid and Partly Cloudy', 'icon': 'partly-cloudy-night', 'precipIntensity': 0, 'precipProbability': 0, 'temperature': 28.89, 'apparentTemperature': 32.32, 'dewPoint': 22.63, 'humidity': 0.69, 'pressure': 1011.16, 'windSpeed': 2.81, 'windGust': 4.33, 'windBearing': 191, 'cloudCover': 0.3, 'uvIndex': 0, 'visibility': 7.85, 'ozone': 247.38}, {'time': 1560340800, 'summary': 'Humid and Partly Cloudy', 'icon': 'partly-cloudy-night', 'precipIntensity': 0, 'precipProbability': 0, 'temperature': 28.18, 'apparentTemperature': 31.39, 'dewPoint': 22.76, 'humidity': 0.72, 'pressure': 1011.71, 'windSpeed': 3.32, 'windGust': 4.81, 'windBearing': 192, 'cloudCover': 0.25, 'uvIndex': 0, 'visibility': 6.1, 'ozone': 247.65}, {'time': 1560344400, 'summary': 'Humid', 'icon': 'clear-night', 'precipIntensity': 0, 'precipProbability': 0, 'temperature': 27.71, 'apparentTemperature': 30.67, 'dewPoint': 22.76, 'humidity': 0.75, 'pressure': 1012.09, 'windSpeed': 3.51, 'windGust': 4.83, 'windBearing': 192, 'cloudCover': 0.2, 'uvIndex': 0, 'visibility': 5.5, 'ozone': 248.06}, {'time': 1560348000, 'summary': 'Humid', 'icon': 'clear-night', 'precipIntensity': 0, 'precipProbability': 0, 'temperature': 27.54, 'apparentTemperature': 30.37, 'dewPoint': 22.71, 'humidity': 0.75, 'pressure': 1012.37, 'windSpeed': 3.54, 'windGust': 4.6, 'windBearing': 191, 'cloudCover': 0.15, 'uvIndex': 0, 'visibility': 5.49, 'ozone': 248.19}, {'time': 1560351600, 'summary': 'Humid', 'icon': 'clear-night', 'precipIntensity': 0, 'precipProbability': 0, 'temperature': 27.37, 'apparentTemperature': 30.08, 'dewPoint': 22.67, 'humidity': 0.76, 'pressure': 1012.46, 'windSpeed': 3.52, 'windGust': 4.41, 'windBearing': 191, 'cloudCover': 0.12, 'uvIndex': 0, 'visibility': 5.5, 'ozone': 248.46}, {'time': 1560355200, 'summary': 'Humid', 'icon': 'clear-night', 'precipIntensity': 0, 'precipProbability': 0, 'temperature': 27.13, 'apparentTemperature': 29.71, 'dewPoint': 22.68, 'humidity': 0.77, 'pressure': 1012.21, 'windSpeed': 3.57, 'windGust': 4.35, 'windBearing': 194, 'cloudCover': 0.13, 'uvIndex': 0, 'visibility': 5.2, 'ozone': 248.73}, {'time': 1560358800, 'summary': 'Humid', 'icon': 'clear-night', 'precipIntensity': 0, 'precipProbability': 0, 'temperature': 26.87, 'apparentTemperature': 29.28, 'dewPoint': 22.72, 'humidity': 0.78, 'pressure': 1011.74, 'windSpeed': 3.6, 'windGust': 4.32, 'windBearing': 198, 'cloudCover': 0.17, 'uvIndex': 0, 'visibility': 4.92, 'ozone': 249}, {'time': 1560362400, 'summary': 'Humid', 'icon': 'clear-night', 'precipIntensity': 0, 'precipProbability': 0, 'temperature': 26.49, 'apparentTemperature': 28.64, 'dewPoint': 22.76, 'humidity': 0.8, 'pressure': 1011.29, 'windSpeed': 3.62, 'windGust': 4.35, 'windBearing': 200, 'cloudCover': 0.24, 'uvIndex': 0, 'visibility': 5.29, 'ozone': 249}, {'time': 1560366000, 'summary': 'Humid and Partly Cloudy', 'icon': 'partly-cloudy-night', 'precipIntensity': 0, 'precipProbability': 0, 'temperature': 26.49, 'apparentTemperature': 28.66, 'dewPoint': 22.8, 'humidity': 0.8, 'pressure': 1010.87, 'windSpeed': 3.67, 'windGust': 4.48, 'windBearing': 200, 'cloudCover': 0.37, 'uvIndex': 0, 'visibility': 6.9, 'ozone': 248.73}, {'time': 1560369600, 'summary': 'Humid and Partly Cloudy', 'icon': 'partly-cloudy-night', 'precipIntensity': 0, 'precipProbability': 0, 'temperature': 26.67, 'apparentTemperature': 29, 'dewPoint': 22.83, 'humidity': 0.8, 'pressure': 1010.5, 'windSpeed': 3.71, 'windGust': 4.68, 'windBearing': 200, 'cloudCover': 0.53, 'uvIndex': 0, 'visibility': 9.16, 'ozone': 248.19}, {'time': 1560373200, 'summary': 'Humid and Mostly Cloudy', 'icon': 'partly-cloudy-night', 'precipIntensity': 0, 'precipProbability': 0, 'temperature': 26.92, 'apparentTemperature': 29.43, 'dewPoint': 22.87, 'humidity': 0.79, 'pressure': 1010.37, 'windSpeed': 3.68, 'windGust': 4.72, 'windBearing': 198, 'cloudCover': 0.65, 'uvIndex': 0, 'visibility': 10.81, 'ozone': 247.79}, {'time': 1560376800, 'summary': 'Humid and Mostly Cloudy', 'icon': 'partly-cloudy-night', 'precipIntensity': 0, 'precipProbability': 0, 'temperature': 27.09, 'apparentTemperature': 29.76, 'dewPoint': 22.93, 'humidity': 0.78, 'pressure': 1010.67, 'windSpeed': 3.56, 'windGust': 4.5, 'windBearing': 195, 'cloudCover': 0.7, 'uvIndex': 0, 'visibility': 11.12, 'ozone': 247.52}, {'time': 1560380400, 'summary': 'Humid and Mostly Cloudy', 'icon': 'partly-cloudy-day', 'precipIntensity': 0, 'precipProbability': 0, 'temperature': 27.35, 'apparentTemperature': 30.21, 'dewPoint': 22.98, 'humidity': 0.77, 'pressure': 1011.24, 'windSpeed': 3.38, 'windGust': 4.13, 'windBearing': 191, 'cloudCover': 0.7, 'uvIndex': 0, 'visibility': 10.83, 'ozone': 247.25}, {'time': 1560384000, 'summary': 'Humid and Mostly Cloudy', 'icon': 'partly-cloudy-day', 'precipIntensity': 0, 'precipProbability': 0, 'temperature': 27.83, 'apparentTemperature': 30.99, 'dewPoint': 23, 'humidity': 0.75, 'pressure': 1011.66, 'windSpeed': 3.1, 'windGust': 3.72, 'windBearing': 191, 'cloudCover': 0.71, 'uvIndex': 1, 'visibility': 10.9, 'ozone': 246.98}, {'time': 1560387600, 'summary': 'Humid and Mostly Cloudy', 'icon': 'partly-cloudy-day', 'precipIntensity': 0, 'precipProbability': 0, 'temperature': 28.53, 'apparentTemperature': 32.02, 'dewPoint': 22.94, 'humidity': 0.72, 'pressure': 1011.93, 'windSpeed': 2.68, 'windGust': 3.28, 'windBearing': 208, 'cloudCover': 0.74, 'uvIndex': 3, 'visibility': 11.44, 'ozone': 246.84}, {'time': 1560391200, 'summary': 'Humid and Mostly Cloudy', 'icon': 'partly-cloudy-day', 'precipIntensity': 0, 'precipProbability': 0, 'temperature': 29.28, 'apparentTemperature': 33.02, 'dewPoint': 22.83, 'humidity': 0.68, 'pressure': 1012.12, 'windSpeed': 2.17, 'windGust': 2.8, 'windBearing': 231, 'cloudCover': 0.77, 'uvIndex': 4, 'visibility': 12.34, 'ozone': 246.84}, {'time': 1560394800, 'summary': 'Humid and Mostly Cloudy', 'icon': 'partly-cloudy-day', 'precipIntensity': 0, 'precipProbability': 0, 'temperature': 29.95, 'apparentTemperature': 33.83, 'dewPoint': 22.69, 'humidity': 0.65, 'pressure': 1011.98, 'windSpeed': 1.74, 'windGust': 2.33, 'windBearing': 222, 'cloudCover': 0.78, 'uvIndex': 5, 'visibility': 14, 'ozone': 246.57}, {'time': 1560398400, 'summary': 'Humid and Mostly Cloudy', 'icon': 'partly-cloudy-day', 'precipIntensity': 0, 'precipProbability': 0, 'temperature': 30.42, 'apparentTemperature': 34.32, 'dewPoint': 22.55, 'humidity': 0.63, 'pressure': 1011.39, 'windSpeed': 1.47, 'windGust': 1.93, 'windBearing': 150, 'cloudCover': 0.76, 'uvIndex': 6, 'visibility': 16.09, 'ozone': 246.16}]}\n",
      "daily {'summary': 'Light rain on Friday, with high temperatures falling to 29°C next Tuesday.', 'icon': 'rain', 'data': [{'time': 1560182400, 'summary': 'Humid and mostly cloudy throughout the day.', 'icon': 'partly-cloudy-day', 'sunriseTime': 1560205863, 'sunsetTime': 1560247856, 'moonPhase': 0.29, 'precipIntensity': 0, 'precipIntensityMax': 0.0025, 'precipIntensityMaxTime': 1560182400, 'precipProbability': 0, 'temperatureHigh': 31.17, 'temperatureHighTime': 1560236400, 'temperatureLow': 26.84, 'temperatureLowTime': 1560279600, 'apparentTemperatureHigh': 35.02, 'apparentTemperatureHighTime': 1560236400, 'apparentTemperatureLow': 29.19, 'apparentTemperatureLowTime': 1560279600, 'dewPoint': 22.56, 'humidity': 0.7, 'pressure': 1011.71, 'windSpeed': 2.88, 'windGust': 5.92, 'windGustTime': 1560189600, 'windBearing': 202, 'cloudCover': 0.69, 'uvIndex': 7, 'uvIndexTime': 1560225600, 'visibility': 11.88, 'ozone': 246.97, 'temperatureMin': 26.77, 'temperatureMinTime': 1560193200, 'temperatureMax': 31.17, 'temperatureMaxTime': 1560236400, 'apparentTemperatureMin': 29.04, 'apparentTemperatureMinTime': 1560200400, 'apparentTemperatureMax': 35.02, 'apparentTemperatureMaxTime': 1560236400}, {'time': 1560268800, 'summary': 'Humid throughout the day and partly cloudy until evening.', 'icon': 'partly-cloudy-day', 'sunriseTime': 1560292277, 'sunsetTime': 1560334265, 'moonPhase': 0.32, 'precipIntensity': 0, 'precipIntensityMax': 0.0051, 'precipIntensityMaxTime': 1560301200, 'precipProbability': 0, 'temperatureHigh': 31.02, 'temperatureHighTime': 1560319200, 'temperatureLow': 26.49, 'temperatureLowTime': 1560362400, 'apparentTemperatureHigh': 35.66, 'apparentTemperatureHighTime': 1560315600, 'apparentTemperatureLow': 28.64, 'apparentTemperatureLowTime': 1560362400, 'dewPoint': 22.79, 'humidity': 0.71, 'pressure': 1011.79, 'windSpeed': 2.29, 'windGust': 4.83, 'windGustTime': 1560344400, 'windBearing': 197, 'cloudCover': 0.51, 'uvIndex': 9, 'uvIndexTime': 1560312000, 'visibility': 11.06, 'ozone': 248.75, 'temperatureMin': 26.84, 'temperatureMinTime': 1560279600, 'temperatureMax': 31.02, 'temperatureMaxTime': 1560319200, 'apparentTemperatureMin': 29.19, 'apparentTemperatureMinTime': 1560279600, 'apparentTemperatureMax': 35.66, 'apparentTemperatureMaxTime': 1560315600}, {'time': 1560355200, 'summary': 'Humid and partly cloudy throughout the day.', 'icon': 'partly-cloudy-day', 'sunriseTime': 1560378691, 'sunsetTime': 1560420675, 'moonPhase': 0.36, 'precipIntensity': 0, 'precipIntensityMax': 0.0051, 'precipIntensityMaxTime': 1560438000, 'precipProbability': 0, 'temperatureHigh': 30.87, 'temperatureHighTime': 1560405600, 'temperatureLow': 27.12, 'temperatureLowTime': 1560452400, 'apparentTemperatureHigh': 34.64, 'apparentTemperatureHighTime': 1560405600, 'apparentTemperatureLow': 29.99, 'apparentTemperatureLowTime': 1560452400, 'dewPoint': 22.83, 'humidity': 0.71, 'pressure': 1010.77, 'windSpeed': 1.94, 'windGust': 4.72, 'windGustTime': 1560373200, 'windBearing': 200, 'cloudCover': 0.48, 'uvIndex': 6, 'uvIndexTime': 1560398400, 'visibility': 10.15, 'ozone': 245.98, 'temperatureMin': 26.49, 'temperatureMinTime': 1560362400, 'temperatureMax': 30.87, 'temperatureMaxTime': 1560405600, 'apparentTemperatureMin': 28.64, 'apparentTemperatureMinTime': 1560362400, 'apparentTemperatureMax': 34.64, 'apparentTemperatureMaxTime': 1560405600}, {'time': 1560441600, 'summary': 'Humid and mostly cloudy throughout the day.', 'icon': 'partly-cloudy-day', 'sunriseTime': 1560465105, 'sunsetTime': 1560507084, 'moonPhase': 0.39, 'precipIntensity': 0.1702, 'precipIntensityMax': 0.6655, 'precipIntensityMaxTime': 1560492000, 'precipProbability': 0.51, 'precipType': 'rain', 'temperatureHigh': 30.17, 'temperatureHighTime': 1560484800, 'temperatureLow': 26.62, 'temperatureLowTime': 1560535200, 'apparentTemperatureHigh': 34.28, 'apparentTemperatureHighTime': 1560484800, 'apparentTemperatureLow': 29.13, 'apparentTemperatureLowTime': 1560535200, 'dewPoint': 23.32, 'humidity': 0.74, 'pressure': 1010.32, 'windSpeed': 2.06, 'windGust': 3.8, 'windGustTime': 1560524400, 'windBearing': 205, 'cloudCover': 0.58, 'uvIndex': 6, 'uvIndexTime': 1560484800, 'visibility': 7.32, 'ozone': 243.4, 'temperatureMin': 27.12, 'temperatureMinTime': 1560452400, 'temperatureMax': 30.17, 'temperatureMaxTime': 1560484800, 'apparentTemperatureMin': 29.99, 'apparentTemperatureMinTime': 1560452400, 'apparentTemperatureMax': 34.28, 'apparentTemperatureMaxTime': 1560484800}, {'time': 1560528000, 'summary': 'Humid and partly cloudy throughout the day.', 'icon': 'partly-cloudy-day', 'sunriseTime': 1560551519, 'sunsetTime': 1560593495, 'moonPhase': 0.43, 'precipIntensity': 0.0051, 'precipIntensityMax': 0.0254, 'precipIntensityMaxTime': 1560589200, 'precipProbability': 0.16, 'precipType': 'rain', 'temperatureHigh': 30.26, 'temperatureHighTime': 1560574800, 'temperatureLow': 26.36, 'temperatureLowTime': 1560625200, 'apparentTemperatureHigh': 34.74, 'apparentTemperatureHighTime': 1560578400, 'apparentTemperatureLow': 28.27, 'apparentTemperatureLowTime': 1560625200, 'dewPoint': 23.24, 'humidity': 0.74, 'pressure': 1010.7, 'windSpeed': 0.9, 'windGust': 3.78, 'windGustTime': 1560528000, 'windBearing': 194, 'cloudCover': 0.59, 'uvIndex': 8, 'uvIndexTime': 1560571200, 'visibility': 11.09, 'ozone': 244.48, 'temperatureMin': 26.62, 'temperatureMinTime': 1560535200, 'temperatureMax': 30.26, 'temperatureMaxTime': 1560574800, 'apparentTemperatureMin': 29.13, 'apparentTemperatureMinTime': 1560535200, 'apparentTemperatureMax': 34.74, 'apparentTemperatureMaxTime': 1560578400}, {'time': 1560614400, 'summary': 'Partly cloudy throughout the day.', 'icon': 'partly-cloudy-day', 'sunriseTime': 1560637933, 'sunsetTime': 1560679905, 'moonPhase': 0.46, 'precipIntensity': 0.0051, 'precipIntensityMax': 0.0229, 'precipIntensityMaxTime': 1560682800, 'precipProbability': 0.11, 'precipType': 'rain', 'temperatureHigh': 30.06, 'temperatureHighTime': 1560657600, 'temperatureLow': 26.36, 'temperatureLowTime': 1560715200, 'apparentTemperatureHigh': 33.27, 'apparentTemperatureHighTime': 1560661200, 'apparentTemperatureLow': 28.02, 'apparentTemperatureLowTime': 1560715200, 'dewPoint': 22.04, 'humidity': 0.7, 'pressure': 1010.97, 'windSpeed': 0.93, 'windGust': 3.8, 'windGustTime': 1560697200, 'windBearing': 171, 'cloudCover': 0.4, 'uvIndex': 8, 'uvIndexTime': 1560657600, 'visibility': 12.01, 'ozone': 247.35, 'temperatureMin': 26.36, 'temperatureMinTime': 1560625200, 'temperatureMax': 30.06, 'temperatureMaxTime': 1560657600, 'apparentTemperatureMin': 28.27, 'apparentTemperatureMinTime': 1560625200, 'apparentTemperatureMax': 33.27, 'apparentTemperatureMaxTime': 1560661200}, {'time': 1560700800, 'summary': 'Mostly cloudy until evening.', 'icon': 'partly-cloudy-day', 'sunriseTime': 1560724346, 'sunsetTime': 1560766316, 'moonPhase': 0.49, 'precipIntensity': 0.0025, 'precipIntensityMax': 0.0178, 'precipIntensityMaxTime': 1560762000, 'precipProbability': 0.09, 'precipType': 'rain', 'temperatureHigh': 30.21, 'temperatureHighTime': 1560744000, 'temperatureLow': 26.05, 'temperatureLowTime': 1560794400, 'apparentTemperatureHigh': 33.14, 'apparentTemperatureHighTime': 1560744000, 'apparentTemperatureLow': 27.66, 'apparentTemperatureLowTime': 1560794400, 'dewPoint': 21.63, 'humidity': 0.68, 'pressure': 1011.12, 'windSpeed': 1.06, 'windGust': 4.02, 'windGustTime': 1560718800, 'windBearing': 177, 'cloudCover': 0.59, 'uvIndex': 6, 'uvIndexTime': 1560744000, 'visibility': 10.8, 'ozone': 247.64, 'temperatureMin': 26.36, 'temperatureMinTime': 1560715200, 'temperatureMax': 30.21, 'temperatureMaxTime': 1560744000, 'apparentTemperatureMin': 28.02, 'apparentTemperatureMinTime': 1560715200, 'apparentTemperatureMax': 33.14, 'apparentTemperatureMaxTime': 1560744000}, {'time': 1560787200, 'summary': 'Partly cloudy in the evening.', 'icon': 'partly-cloudy-night', 'sunriseTime': 1560810760, 'sunsetTime': 1560852727, 'moonPhase': 0.53, 'precipIntensity': 0, 'precipIntensityMax': 0.0025, 'precipIntensityMaxTime': 1560826800, 'precipProbability': 0, 'temperatureHigh': 29.42, 'temperatureHighTime': 1560826800, 'temperatureLow': 26.29, 'temperatureLowTime': 1560884400, 'apparentTemperatureHigh': 32.05, 'apparentTemperatureHighTime': 1560830400, 'apparentTemperatureLow': 27.98, 'apparentTemperatureLowTime': 1560884400, 'dewPoint': 21.65, 'humidity': 0.7, 'pressure': 1011.89, 'windSpeed': 0.79, 'windGust': 3.66, 'windGustTime': 1560787200, 'windBearing': 177, 'cloudCover': 0.13, 'uvIndex': 9, 'uvIndexTime': 1560830400, 'visibility': 12.99, 'ozone': 250.95, 'temperatureMin': 26.05, 'temperatureMinTime': 1560794400, 'temperatureMax': 29.42, 'temperatureMaxTime': 1560826800, 'apparentTemperatureMin': 27.66, 'apparentTemperatureMinTime': 1560794400, 'apparentTemperatureMax': 32.05, 'apparentTemperatureMaxTime': 1560830400}]}\n",
      "flags {'sources': ['cmc', 'gfs', 'icon', 'isd', 'madis'], 'units': 'si'}\n",
      "offset 8\n"
     ]
    }
   ],
   "source": [
    "for key, value in Ubud_current_temperature.items():\n",
    "    print(key, value)"
   ]
  },
  {
   "cell_type": "code",
   "execution_count": 61,
   "metadata": {},
   "outputs": [
    {
     "name": "stdout",
     "output_type": "stream",
     "text": [
      "0.29\n"
     ]
    }
   ],
   "source": [
    "forecast = Ubud_current_temperature['daily']['data']\n",
    "print(forecast[0]['moonPhase'])"
   ]
  },
  {
   "cell_type": "markdown",
   "metadata": {},
   "source": [
    "## 4) What's the difference between the high and low temperatures for today?"
   ]
  },
  {
   "cell_type": "code",
   "execution_count": 63,
   "metadata": {},
   "outputs": [
    {
     "name": "stdout",
     "output_type": "stream",
     "text": [
      "The high temperature in Ubud reaches 31.17 Fahrenheit, which happens at 1560236400 and with an apparent temperature hits at 35.02 Celcius.\n"
     ]
    }
   ],
   "source": [
    "temperature_today = Ubud_current_temperature ['daily']['data']\n",
    "print (\"The high temperature in Ubud reaches\", temperature_today[0]['temperatureHigh'],\"Fahrenheit,\", \"which happens at\", temperature_today[0]['temperatureHighTime'], \"and with an apparent temperature hits at\",  temperature_today[0]['apparentTemperatureHigh'], \"Celcius.\")"
   ]
  },
  {
   "cell_type": "code",
   "execution_count": 64,
   "metadata": {},
   "outputs": [
    {
     "name": "stdout",
     "output_type": "stream",
     "text": [
      "The low temperature in Ubud reaches 26.84 Fahrenheit, which happens at 1560279600 and with an apparent temperature hits at 29.19 Celcius.\n"
     ]
    }
   ],
   "source": [
    "print(\"The low temperature in Ubud reaches\", temperature_today[0]['temperatureLow'],\"Fahrenheit,\", \"which happens at\", temperature_today[0]['temperatureLowTime'], \"and with an apparent temperature hits at\",  temperature_today[0]['apparentTemperatureLow'], \"Celcius.\")"
   ]
  },
  {
   "cell_type": "code",
   "execution_count": 65,
   "metadata": {},
   "outputs": [
    {
     "name": "stdout",
     "output_type": "stream",
     "text": [
      "Difference of the high temperatures is -3.8500000000000014 , meanwhile the difference of the low temperatures is -2.3500000000000014 .\n"
     ]
    }
   ],
   "source": [
    "print(\"Difference of the high temperatures is\", (temperature_today[0]['temperatureHigh']) - (temperature_today[0]['apparentTemperatureHigh']),\",\", \"meanwhile the difference of the low temperatures is\",(temperature_today[0]['temperatureLow']) - (temperature_today[0]['apparentTemperatureLow']),\".\")"
   ]
  },
  {
   "cell_type": "markdown",
   "metadata": {},
   "source": [
    "## 5) Go through the daily forecasts, printing out the next week's worth of predictions.\n",
    "\n",
    "I'd like to know the **high temperature** for each day, and whether it's **hot, warm, or cold** (based on what temperatures you think are hot, warm or cold).\n",
    "\n",
    "- *Tip: Is it returning F or C? You can change them by adding `?units=us` or `?units=si` onto the end of the URL.*\n",
    "- *Tip: You'll need to use an `if` statement to say whether it is hot, warm or cold.*"
   ]
  },
  {
   "cell_type": "code",
   "execution_count": 66,
   "metadata": {},
   "outputs": [
    {
     "data": {
      "text/plain": [
       "'Light rain on Friday, with high temperatures falling to 29°C next Tuesday.'"
      ]
     },
     "execution_count": 66,
     "metadata": {},
     "output_type": "execute_result"
    }
   ],
   "source": [
    "forecast = Ubud_current_temperature['daily']['summary']\n",
    "forecast"
   ]
  },
  {
   "cell_type": "code",
   "execution_count": 67,
   "metadata": {},
   "outputs": [
    {
     "data": {
      "text/plain": [
       "[{'time': 1560182400,\n",
       "  'summary': 'Humid and mostly cloudy throughout the day.',\n",
       "  'icon': 'partly-cloudy-day',\n",
       "  'sunriseTime': 1560205863,\n",
       "  'sunsetTime': 1560247856,\n",
       "  'moonPhase': 0.29,\n",
       "  'precipIntensity': 0,\n",
       "  'precipIntensityMax': 0.0025,\n",
       "  'precipIntensityMaxTime': 1560182400,\n",
       "  'precipProbability': 0,\n",
       "  'temperatureHigh': 31.17,\n",
       "  'temperatureHighTime': 1560236400,\n",
       "  'temperatureLow': 26.84,\n",
       "  'temperatureLowTime': 1560279600,\n",
       "  'apparentTemperatureHigh': 35.02,\n",
       "  'apparentTemperatureHighTime': 1560236400,\n",
       "  'apparentTemperatureLow': 29.19,\n",
       "  'apparentTemperatureLowTime': 1560279600,\n",
       "  'dewPoint': 22.56,\n",
       "  'humidity': 0.7,\n",
       "  'pressure': 1011.71,\n",
       "  'windSpeed': 2.88,\n",
       "  'windGust': 5.92,\n",
       "  'windGustTime': 1560189600,\n",
       "  'windBearing': 202,\n",
       "  'cloudCover': 0.69,\n",
       "  'uvIndex': 7,\n",
       "  'uvIndexTime': 1560225600,\n",
       "  'visibility': 11.88,\n",
       "  'ozone': 246.97,\n",
       "  'temperatureMin': 26.77,\n",
       "  'temperatureMinTime': 1560193200,\n",
       "  'temperatureMax': 31.17,\n",
       "  'temperatureMaxTime': 1560236400,\n",
       "  'apparentTemperatureMin': 29.04,\n",
       "  'apparentTemperatureMinTime': 1560200400,\n",
       "  'apparentTemperatureMax': 35.02,\n",
       "  'apparentTemperatureMaxTime': 1560236400},\n",
       " {'time': 1560268800,\n",
       "  'summary': 'Humid throughout the day and partly cloudy until evening.',\n",
       "  'icon': 'partly-cloudy-day',\n",
       "  'sunriseTime': 1560292277,\n",
       "  'sunsetTime': 1560334265,\n",
       "  'moonPhase': 0.32,\n",
       "  'precipIntensity': 0,\n",
       "  'precipIntensityMax': 0.0051,\n",
       "  'precipIntensityMaxTime': 1560301200,\n",
       "  'precipProbability': 0,\n",
       "  'temperatureHigh': 31.02,\n",
       "  'temperatureHighTime': 1560319200,\n",
       "  'temperatureLow': 26.49,\n",
       "  'temperatureLowTime': 1560362400,\n",
       "  'apparentTemperatureHigh': 35.66,\n",
       "  'apparentTemperatureHighTime': 1560315600,\n",
       "  'apparentTemperatureLow': 28.64,\n",
       "  'apparentTemperatureLowTime': 1560362400,\n",
       "  'dewPoint': 22.79,\n",
       "  'humidity': 0.71,\n",
       "  'pressure': 1011.79,\n",
       "  'windSpeed': 2.29,\n",
       "  'windGust': 4.83,\n",
       "  'windGustTime': 1560344400,\n",
       "  'windBearing': 197,\n",
       "  'cloudCover': 0.51,\n",
       "  'uvIndex': 9,\n",
       "  'uvIndexTime': 1560312000,\n",
       "  'visibility': 11.06,\n",
       "  'ozone': 248.75,\n",
       "  'temperatureMin': 26.84,\n",
       "  'temperatureMinTime': 1560279600,\n",
       "  'temperatureMax': 31.02,\n",
       "  'temperatureMaxTime': 1560319200,\n",
       "  'apparentTemperatureMin': 29.19,\n",
       "  'apparentTemperatureMinTime': 1560279600,\n",
       "  'apparentTemperatureMax': 35.66,\n",
       "  'apparentTemperatureMaxTime': 1560315600},\n",
       " {'time': 1560355200,\n",
       "  'summary': 'Humid and partly cloudy throughout the day.',\n",
       "  'icon': 'partly-cloudy-day',\n",
       "  'sunriseTime': 1560378691,\n",
       "  'sunsetTime': 1560420675,\n",
       "  'moonPhase': 0.36,\n",
       "  'precipIntensity': 0,\n",
       "  'precipIntensityMax': 0.0051,\n",
       "  'precipIntensityMaxTime': 1560438000,\n",
       "  'precipProbability': 0,\n",
       "  'temperatureHigh': 30.87,\n",
       "  'temperatureHighTime': 1560405600,\n",
       "  'temperatureLow': 27.12,\n",
       "  'temperatureLowTime': 1560452400,\n",
       "  'apparentTemperatureHigh': 34.64,\n",
       "  'apparentTemperatureHighTime': 1560405600,\n",
       "  'apparentTemperatureLow': 29.99,\n",
       "  'apparentTemperatureLowTime': 1560452400,\n",
       "  'dewPoint': 22.83,\n",
       "  'humidity': 0.71,\n",
       "  'pressure': 1010.77,\n",
       "  'windSpeed': 1.94,\n",
       "  'windGust': 4.72,\n",
       "  'windGustTime': 1560373200,\n",
       "  'windBearing': 200,\n",
       "  'cloudCover': 0.48,\n",
       "  'uvIndex': 6,\n",
       "  'uvIndexTime': 1560398400,\n",
       "  'visibility': 10.15,\n",
       "  'ozone': 245.98,\n",
       "  'temperatureMin': 26.49,\n",
       "  'temperatureMinTime': 1560362400,\n",
       "  'temperatureMax': 30.87,\n",
       "  'temperatureMaxTime': 1560405600,\n",
       "  'apparentTemperatureMin': 28.64,\n",
       "  'apparentTemperatureMinTime': 1560362400,\n",
       "  'apparentTemperatureMax': 34.64,\n",
       "  'apparentTemperatureMaxTime': 1560405600},\n",
       " {'time': 1560441600,\n",
       "  'summary': 'Humid and mostly cloudy throughout the day.',\n",
       "  'icon': 'partly-cloudy-day',\n",
       "  'sunriseTime': 1560465105,\n",
       "  'sunsetTime': 1560507084,\n",
       "  'moonPhase': 0.39,\n",
       "  'precipIntensity': 0.1702,\n",
       "  'precipIntensityMax': 0.6655,\n",
       "  'precipIntensityMaxTime': 1560492000,\n",
       "  'precipProbability': 0.51,\n",
       "  'precipType': 'rain',\n",
       "  'temperatureHigh': 30.17,\n",
       "  'temperatureHighTime': 1560484800,\n",
       "  'temperatureLow': 26.62,\n",
       "  'temperatureLowTime': 1560535200,\n",
       "  'apparentTemperatureHigh': 34.28,\n",
       "  'apparentTemperatureHighTime': 1560484800,\n",
       "  'apparentTemperatureLow': 29.13,\n",
       "  'apparentTemperatureLowTime': 1560535200,\n",
       "  'dewPoint': 23.32,\n",
       "  'humidity': 0.74,\n",
       "  'pressure': 1010.32,\n",
       "  'windSpeed': 2.06,\n",
       "  'windGust': 3.8,\n",
       "  'windGustTime': 1560524400,\n",
       "  'windBearing': 205,\n",
       "  'cloudCover': 0.58,\n",
       "  'uvIndex': 6,\n",
       "  'uvIndexTime': 1560484800,\n",
       "  'visibility': 7.32,\n",
       "  'ozone': 243.4,\n",
       "  'temperatureMin': 27.12,\n",
       "  'temperatureMinTime': 1560452400,\n",
       "  'temperatureMax': 30.17,\n",
       "  'temperatureMaxTime': 1560484800,\n",
       "  'apparentTemperatureMin': 29.99,\n",
       "  'apparentTemperatureMinTime': 1560452400,\n",
       "  'apparentTemperatureMax': 34.28,\n",
       "  'apparentTemperatureMaxTime': 1560484800},\n",
       " {'time': 1560528000,\n",
       "  'summary': 'Humid and partly cloudy throughout the day.',\n",
       "  'icon': 'partly-cloudy-day',\n",
       "  'sunriseTime': 1560551519,\n",
       "  'sunsetTime': 1560593495,\n",
       "  'moonPhase': 0.43,\n",
       "  'precipIntensity': 0.0051,\n",
       "  'precipIntensityMax': 0.0254,\n",
       "  'precipIntensityMaxTime': 1560589200,\n",
       "  'precipProbability': 0.16,\n",
       "  'precipType': 'rain',\n",
       "  'temperatureHigh': 30.26,\n",
       "  'temperatureHighTime': 1560574800,\n",
       "  'temperatureLow': 26.36,\n",
       "  'temperatureLowTime': 1560625200,\n",
       "  'apparentTemperatureHigh': 34.74,\n",
       "  'apparentTemperatureHighTime': 1560578400,\n",
       "  'apparentTemperatureLow': 28.27,\n",
       "  'apparentTemperatureLowTime': 1560625200,\n",
       "  'dewPoint': 23.24,\n",
       "  'humidity': 0.74,\n",
       "  'pressure': 1010.7,\n",
       "  'windSpeed': 0.9,\n",
       "  'windGust': 3.78,\n",
       "  'windGustTime': 1560528000,\n",
       "  'windBearing': 194,\n",
       "  'cloudCover': 0.59,\n",
       "  'uvIndex': 8,\n",
       "  'uvIndexTime': 1560571200,\n",
       "  'visibility': 11.09,\n",
       "  'ozone': 244.48,\n",
       "  'temperatureMin': 26.62,\n",
       "  'temperatureMinTime': 1560535200,\n",
       "  'temperatureMax': 30.26,\n",
       "  'temperatureMaxTime': 1560574800,\n",
       "  'apparentTemperatureMin': 29.13,\n",
       "  'apparentTemperatureMinTime': 1560535200,\n",
       "  'apparentTemperatureMax': 34.74,\n",
       "  'apparentTemperatureMaxTime': 1560578400},\n",
       " {'time': 1560614400,\n",
       "  'summary': 'Partly cloudy throughout the day.',\n",
       "  'icon': 'partly-cloudy-day',\n",
       "  'sunriseTime': 1560637933,\n",
       "  'sunsetTime': 1560679905,\n",
       "  'moonPhase': 0.46,\n",
       "  'precipIntensity': 0.0051,\n",
       "  'precipIntensityMax': 0.0229,\n",
       "  'precipIntensityMaxTime': 1560682800,\n",
       "  'precipProbability': 0.11,\n",
       "  'precipType': 'rain',\n",
       "  'temperatureHigh': 30.06,\n",
       "  'temperatureHighTime': 1560657600,\n",
       "  'temperatureLow': 26.36,\n",
       "  'temperatureLowTime': 1560715200,\n",
       "  'apparentTemperatureHigh': 33.27,\n",
       "  'apparentTemperatureHighTime': 1560661200,\n",
       "  'apparentTemperatureLow': 28.02,\n",
       "  'apparentTemperatureLowTime': 1560715200,\n",
       "  'dewPoint': 22.04,\n",
       "  'humidity': 0.7,\n",
       "  'pressure': 1010.97,\n",
       "  'windSpeed': 0.93,\n",
       "  'windGust': 3.8,\n",
       "  'windGustTime': 1560697200,\n",
       "  'windBearing': 171,\n",
       "  'cloudCover': 0.4,\n",
       "  'uvIndex': 8,\n",
       "  'uvIndexTime': 1560657600,\n",
       "  'visibility': 12.01,\n",
       "  'ozone': 247.35,\n",
       "  'temperatureMin': 26.36,\n",
       "  'temperatureMinTime': 1560625200,\n",
       "  'temperatureMax': 30.06,\n",
       "  'temperatureMaxTime': 1560657600,\n",
       "  'apparentTemperatureMin': 28.27,\n",
       "  'apparentTemperatureMinTime': 1560625200,\n",
       "  'apparentTemperatureMax': 33.27,\n",
       "  'apparentTemperatureMaxTime': 1560661200},\n",
       " {'time': 1560700800,\n",
       "  'summary': 'Mostly cloudy until evening.',\n",
       "  'icon': 'partly-cloudy-day',\n",
       "  'sunriseTime': 1560724346,\n",
       "  'sunsetTime': 1560766316,\n",
       "  'moonPhase': 0.49,\n",
       "  'precipIntensity': 0.0025,\n",
       "  'precipIntensityMax': 0.0178,\n",
       "  'precipIntensityMaxTime': 1560762000,\n",
       "  'precipProbability': 0.09,\n",
       "  'precipType': 'rain',\n",
       "  'temperatureHigh': 30.21,\n",
       "  'temperatureHighTime': 1560744000,\n",
       "  'temperatureLow': 26.05,\n",
       "  'temperatureLowTime': 1560794400,\n",
       "  'apparentTemperatureHigh': 33.14,\n",
       "  'apparentTemperatureHighTime': 1560744000,\n",
       "  'apparentTemperatureLow': 27.66,\n",
       "  'apparentTemperatureLowTime': 1560794400,\n",
       "  'dewPoint': 21.63,\n",
       "  'humidity': 0.68,\n",
       "  'pressure': 1011.12,\n",
       "  'windSpeed': 1.06,\n",
       "  'windGust': 4.02,\n",
       "  'windGustTime': 1560718800,\n",
       "  'windBearing': 177,\n",
       "  'cloudCover': 0.59,\n",
       "  'uvIndex': 6,\n",
       "  'uvIndexTime': 1560744000,\n",
       "  'visibility': 10.8,\n",
       "  'ozone': 247.64,\n",
       "  'temperatureMin': 26.36,\n",
       "  'temperatureMinTime': 1560715200,\n",
       "  'temperatureMax': 30.21,\n",
       "  'temperatureMaxTime': 1560744000,\n",
       "  'apparentTemperatureMin': 28.02,\n",
       "  'apparentTemperatureMinTime': 1560715200,\n",
       "  'apparentTemperatureMax': 33.14,\n",
       "  'apparentTemperatureMaxTime': 1560744000},\n",
       " {'time': 1560787200,\n",
       "  'summary': 'Partly cloudy in the evening.',\n",
       "  'icon': 'partly-cloudy-night',\n",
       "  'sunriseTime': 1560810760,\n",
       "  'sunsetTime': 1560852727,\n",
       "  'moonPhase': 0.53,\n",
       "  'precipIntensity': 0,\n",
       "  'precipIntensityMax': 0.0025,\n",
       "  'precipIntensityMaxTime': 1560826800,\n",
       "  'precipProbability': 0,\n",
       "  'temperatureHigh': 29.42,\n",
       "  'temperatureHighTime': 1560826800,\n",
       "  'temperatureLow': 26.29,\n",
       "  'temperatureLowTime': 1560884400,\n",
       "  'apparentTemperatureHigh': 32.05,\n",
       "  'apparentTemperatureHighTime': 1560830400,\n",
       "  'apparentTemperatureLow': 27.98,\n",
       "  'apparentTemperatureLowTime': 1560884400,\n",
       "  'dewPoint': 21.65,\n",
       "  'humidity': 0.7,\n",
       "  'pressure': 1011.89,\n",
       "  'windSpeed': 0.79,\n",
       "  'windGust': 3.66,\n",
       "  'windGustTime': 1560787200,\n",
       "  'windBearing': 177,\n",
       "  'cloudCover': 0.13,\n",
       "  'uvIndex': 9,\n",
       "  'uvIndexTime': 1560830400,\n",
       "  'visibility': 12.99,\n",
       "  'ozone': 250.95,\n",
       "  'temperatureMin': 26.05,\n",
       "  'temperatureMinTime': 1560794400,\n",
       "  'temperatureMax': 29.42,\n",
       "  'temperatureMaxTime': 1560826800,\n",
       "  'apparentTemperatureMin': 27.66,\n",
       "  'apparentTemperatureMinTime': 1560794400,\n",
       "  'apparentTemperatureMax': 32.05,\n",
       "  'apparentTemperatureMaxTime': 1560830400}]"
      ]
     },
     "execution_count": 67,
     "metadata": {},
     "output_type": "execute_result"
    }
   ],
   "source": [
    "daily_temp = Ubud_current_temperature ['daily']['data']\n",
    "daily_temp"
   ]
  },
  {
   "cell_type": "code",
   "execution_count": 70,
   "metadata": {},
   "outputs": [
    {
     "name": "stdout",
     "output_type": "stream",
     "text": [
      "When the time shows 1560182400 , the temperature hits at 31.17 Celcius.\n",
      "When the time shows 1560268800 , the temperature hits at 31.02 Celcius.\n",
      "When the time shows 1560355200 , the temperature hits at 30.87 Celcius.\n",
      "When the time shows 1560441600 , the temperature hits at 30.17 Celcius.\n",
      "When the time shows 1560528000 , the temperature hits at 30.26 Celcius.\n",
      "When the time shows 1560614400 , the temperature hits at 30.06 Celcius.\n",
      "When the time shows 1560700800 , the temperature hits at 30.21 Celcius.\n",
      "When the time shows 1560787200 , the temperature hits at 29.42 Celcius.\n"
     ]
    }
   ],
   "source": [
    "daily_temp = Ubud_current_temperature ['daily']['data']\n",
    "for hi_temp in daily_temp : \n",
    "    print (\"When the time shows\", hi_temp['time'],\",\", \"the temperature hits at\", hi_temp['temperatureHigh'], \"Celcius.\")"
   ]
  },
  {
   "cell_type": "code",
   "execution_count": 78,
   "metadata": {},
   "outputs": [
    {
     "name": "stdout",
     "output_type": "stream",
     "text": [
      "The weather is hot when the time shows 1560182400.\n",
      "The weather is hot when the time shows 1560268800.\n",
      "The weather is hot when the time shows 1560355200.\n",
      "The weather is hot when the time shows 1560441600.\n",
      "The weather is hot when the time shows 1560528000.\n",
      "The weather is hot when the time shows 1560614400.\n",
      "The weather is hot when the time shows 1560700800.\n",
      "The weather is hot when the time shows 1560787200.\n"
     ]
    }
   ],
   "source": [
    "daily_temp = Ubud_current_temperature ['daily']['data']\n",
    "for hi_temp in daily_temp : \n",
    "    if hi_temp['temperatureHigh'] > int(28):\n",
    "         print (f\"The weather is hot when the time shows {hi_temp['time']}.\")\n",
    "    else:\n",
    "        print (f\"The weather is warm.\")\n",
    "       "
   ]
  },
  {
   "cell_type": "markdown",
   "metadata": {},
   "source": [
    "# 6) What will be the hottest day in the next week? What is the high temperature on that day?\n",
    "\n",
    "It's okay if your result looks like `1453363200`. If you want to be extra-fancy, though, format it as a **real date** - the weird number is called a **UNIX timestamp**, which might help in googling.\n",
    "\n",
    "- *Tip: It's okay to skip this if it seems too difficult!*"
   ]
  },
  {
   "cell_type": "code",
   "execution_count": 92,
   "metadata": {},
   "outputs": [
    {
     "name": "stdout",
     "output_type": "stream",
     "text": [
      "1560200400 -59.72\n",
      "1560286800 -55.78\n",
      "1560373200 -53.28\n",
      "1560459600 -51.72\n",
      "1560546000 -48.13\n",
      "1560632400 -52.17\n",
      "1560718800 -49.68\n",
      "1560805200 -52.28\n"
     ]
    }
   ],
   "source": [
    "API_KEY = 'b82654b4f199aad130cedeeb1233d5a3'\n",
    "response = requests.get(f'https://api.darksky.net/forecast/{API_KEY}/-80.1, 25.76/?units=si')\n",
    "Miami_current_temperature = response.json()\n",
    "Miami_daily_temp = Miami_current_temperature ['daily'] ['data']\n",
    "\n",
    "for Miami_hitemp in Miami_daily_temp:\n",
    "    print(Miami_hitemp['time'], Miami_hitemp['temperatureHigh'])"
   ]
  },
  {
   "cell_type": "code",
   "execution_count": 94,
   "metadata": {},
   "outputs": [
    {
     "name": "stdout",
     "output_type": "stream",
     "text": [
      "1560200400 -59.72\n",
      "1560286800 -55.78\n",
      "1560373200 -53.28\n",
      "1560459600 -51.72\n",
      "1560546000 -48.13\n",
      "1560632400 -52.17\n",
      "1560718800 -49.68\n",
      "1560805200 -52.28\n"
     ]
    }
   ],
   "source": [
    "API_KEY = 'b82654b4f199aad130cedeeb1233d5a3'\n",
    "response = requests.get(f'https://api.darksky.net/forecast/{API_KEY}/-80.1, 25.76/?units=si')\n",
    "Miami_current_temperature = response.json()\n",
    "Miami_daily_temp = Miami_current_temperature ['daily'] ['data']\n",
    "\n",
    "for Miami_hitemp in Miami_daily_temp:\n",
    "    print(Miami_hitemp['time'], Miami_hitemp['temperatureHigh'])"
   ]
  },
  {
   "cell_type": "markdown",
   "metadata": {},
   "source": [
    "## 7) What's the weather looking like for the next 24+ hours in Miami, Florida?\n",
    "\n",
    "I'd like to know the temperature for every hour, and if it's going to have cloud cover of more than 50% say \"{temperature} and cloudy\" instead of just the temperature. \n",
    "\n",
    "\n",
    "- *Tip: Be sure to remember how latitude and longitude are done with positive and negative numbers*\n",
    "- *Tip: How do you represent \"50%\" for cloud cover?*"
   ]
  },
  {
   "cell_type": "code",
   "execution_count": 118,
   "metadata": {},
   "outputs": [
    {
     "name": "stdout",
     "output_type": "stream",
     "text": [
      "1560232800 || -77 || Foggy || 1\n",
      "1560236400 || -76.8 || Foggy || 1\n",
      "1560240000 || -77.24 || Foggy || 1\n",
      "1560243600 || -78.17 || Foggy || 1\n",
      "1560247200 || -78.17 || Foggy || 1\n",
      "1560250800 || -78.13 || Foggy || 1\n",
      "1560254400 || -78.39 || Foggy || 1\n",
      "1560258000 || -78.24 || Foggy || 1\n",
      "1560261600 || -78.21 || Foggy || 1\n",
      "1560265200 || -78.53 || Foggy || 1\n",
      "1560268800 || -77.08 || Foggy || 1\n",
      "1560272400 || -76.01 || Foggy || 1\n",
      "1560276000 || -77.09 || Foggy || 1\n",
      "1560279600 || -74.59 || Foggy || 1\n",
      "1560283200 || -74.18 || Foggy || 1\n",
      "1560286800 || -74.24 || Foggy || 1\n",
      "1560290400 || -74.28 || Foggy || 1\n",
      "1560294000 || -74.55 || Foggy || 1\n",
      "1560297600 || -74.89 || Foggy || 1\n",
      "1560301200 || -75.42 || Foggy || 1\n",
      "1560304800 || -75.97 || Foggy || 1\n",
      "1560308400 || -76.52 || Foggy || 1\n",
      "1560312000 || -77.2 || Foggy || 1\n",
      "1560315600 || -77.97 || Foggy || 1\n",
      "1560319200 || -78.79 || Foggy || 1\n",
      "1560322800 || -79.58 || Foggy || 1\n",
      "1560326400 || -80.48 || Foggy || 1\n",
      "1560330000 || -80.76 || Foggy || 1\n",
      "1560333600 || -80.53 || Foggy || 1\n",
      "1560337200 || -80.05 || Foggy || 1\n",
      "1560340800 || -78.96 || Foggy || 1\n",
      "1560344400 || -77.16 || Foggy || 1\n",
      "1560348000 || -75 || Foggy || 1\n",
      "1560351600 || -72.65 || Foggy || 1\n",
      "1560355200 || -70.32 || Foggy || 1\n",
      "1560358800 || -68.21 || Foggy || 1\n",
      "1560362400 || -66.43 || Foggy || 1\n",
      "1560366000 || -64.69 || Foggy || 1\n",
      "1560369600 || -63.58 || Foggy || 1\n",
      "1560373200 || -62.9 || Foggy || 1\n",
      "1560376800 || -62.4 || Foggy || 1\n",
      "1560380400 || -62.31 || Foggy || 1\n",
      "1560384000 || -62.3 || Foggy || 1\n",
      "1560387600 || -62.54 || Foggy || 1\n",
      "1560391200 || -62.96 || Foggy || 1\n",
      "1560394800 || -63.46 || Foggy || 1\n",
      "1560398400 || -63.99 || Foggy || 1\n",
      "1560402000 || -64.65 || Foggy || 1\n",
      "1560405600 || -65.24 || Foggy || 1\n"
     ]
    }
   ],
   "source": [
    "API_KEY = 'b82654b4f199aad130cedeeb1233d5a3'\n",
    "response = requests.get(f'https://api.darksky.net/forecast/{API_KEY}/-80.1, 25.76/?units=us')\n",
    "Miami_current_temperature = response.json()\n",
    "Miami_hourly_temp_all = Miami_current_temperature ['hourly']['data']\n",
    "Miami_hourly_temp_all\n",
    "\n",
    "for Miami_hourly_temp in Miami_hourly_temp_all:\n",
    "    print(Miami_hourly_temp ['time'],\"||\", Miami_hourly_temp['temperature'],\"||\", Miami_hourly_temp['summary'],\"||\",Miami_hourly_temp['cloudCover']  )"
   ]
  },
  {
   "cell_type": "markdown",
   "metadata": {
    "collapsed": true
   },
   "source": [
    "**I dont get it what does it mean with 50 percent of the cloud cover**"
   ]
  },
  {
   "cell_type": "code",
   "execution_count": null,
   "metadata": {
    "collapsed": true
   },
   "outputs": [],
   "source": []
  },
  {
   "cell_type": "markdown",
   "metadata": {},
   "source": [
    "# 8) For the next 24-ish hours in Miami, what percent of the time is the temperature above 85 degrees?\n",
    "\n",
    "If they give you 48 hours instead of 24, that's okay.\n",
    "\n",
    "- *Tip: You might want to read up on [looping patterns](http://jonathansoma.com/lede/foundations-2017/classes/data%20structures/looping-patterns/)*"
   ]
  },
  {
   "cell_type": "code",
   "execution_count": 127,
   "metadata": {},
   "outputs": [
    {
     "name": "stdout",
     "output_type": "stream",
     "text": [
      "-77\n",
      "-76.8\n",
      "-77.24\n",
      "-78.17\n",
      "-78.17\n",
      "-78.13\n",
      "-78.39\n",
      "-78.24\n",
      "-78.21\n",
      "-78.53\n",
      "-77.08\n",
      "-76.01\n",
      "-77.09\n",
      "-74.59\n",
      "-74.18\n",
      "-74.24\n",
      "-74.29\n",
      "-74.55\n",
      "-74.89\n",
      "-75.42\n",
      "-75.97\n",
      "-76.52\n",
      "-77.2\n",
      "-77.97\n",
      "-78.79\n",
      "-79.58\n",
      "-80.49\n",
      "-80.76\n",
      "-80.53\n",
      "-80.06\n",
      "-78.97\n",
      "-77.17\n",
      "-75\n",
      "-72.65\n",
      "-70.33\n",
      "-68.22\n",
      "-66.43\n",
      "-64.69\n",
      "-63.58\n",
      "-62.9\n",
      "-62.4\n",
      "-62.31\n",
      "-62.3\n",
      "-62.55\n",
      "-62.96\n",
      "-63.46\n",
      "-63.99\n",
      "-64.65\n",
      "-65.24\n",
      "The percentage of time showing temperature above 85F is 0.0\n"
     ]
    }
   ],
   "source": [
    "API_KEY = 'b82654b4f199aad130cedeeb1233d5a3'\n",
    "response = requests.get(f'https://api.darksky.net/forecast/{API_KEY}/-80.1, 25.76/?units=us')\n",
    "Miami_current_temperature = response.json()\n",
    "Miami_hourly_temp_all = Miami_current_temperature ['hourly']['data']\n",
    "Miami_hourly_temp_all\n",
    "\n",
    "c=0 \n",
    "for Miami_hourly_temp in Miami_hourly_temp_all:\n",
    "    print(Miami_hourly_temp['temperature'])\n",
    "    if Miami_hourly_temp['temperature'] > 85:\n",
    "        c=c+1\n",
    "pctg = c/len(Miami_hourly_temp_all)\n",
    "            \n",
    "print(\"The percentage of time showing temperature above 85F is\", pctg)"
   ]
  },
  {
   "cell_type": "code",
   "execution_count": null,
   "metadata": {},
   "outputs": [],
   "source": []
  },
  {
   "cell_type": "code",
   "execution_count": null,
   "metadata": {
    "collapsed": true
   },
   "outputs": [],
   "source": []
  },
  {
   "cell_type": "code",
   "execution_count": null,
   "metadata": {
    "collapsed": true
   },
   "outputs": [],
   "source": []
  },
  {
   "cell_type": "markdown",
   "metadata": {},
   "source": [
    "## 9) What was the temperature in Central Park on Christmas Day, 2012? How about 2007? 2005? How far back does the API allow you to go?\n",
    "\n",
    "- *Tip: You'll need to use UNIX time, which is the number of seconds since January 1, 1970. Google can help you convert a normal date!*\n",
    "- *Tip: You'll want to use Forecast.io's \"time machine\" API, [documentation here](https://darksky.net/dev/docs/time-machine)*"
   ]
  },
  {
   "cell_type": "code",
   "execution_count": null,
   "metadata": {
    "collapsed": true
   },
   "outputs": [],
   "source": []
  },
  {
   "cell_type": "code",
   "execution_count": null,
   "metadata": {
    "collapsed": true
   },
   "outputs": [],
   "source": []
  },
  {
   "cell_type": "code",
   "execution_count": null,
   "metadata": {
    "collapsed": true
   },
   "outputs": [],
   "source": []
  }
 ],
 "metadata": {
  "kernelspec": {
   "display_name": "Python 3",
   "language": "python",
   "name": "python3"
  },
  "language_info": {
   "codemirror_mode": {
    "name": "ipython",
    "version": 3
   },
   "file_extension": ".py",
   "mimetype": "text/x-python",
   "name": "python",
   "nbconvert_exporter": "python",
   "pygments_lexer": "ipython3",
   "version": "3.6.5"
  }
 },
 "nbformat": 4,
 "nbformat_minor": 1
}
