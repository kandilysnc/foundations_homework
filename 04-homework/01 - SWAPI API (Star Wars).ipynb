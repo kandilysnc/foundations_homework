{
 "cells": [
  {
   "cell_type": "markdown",
   "metadata": {},
   "source": [
    "# SWAPI (Star Wars)\n",
    "\n",
    "Answer the following questions using the [Star Wars](https://swapi.co/). I've added three cells for each question but you're free to use more or less! Hold `Shift` and hit `Enter` to run a cell, and use the `+` on the top left to add a new cell to a notebook.\n",
    "\n",
    "If you spend some time reading the documentation your life will probably be a little bit easier!\n",
    "\n",
    "## 0) Import any libraries you might need\n",
    "\n",
    "- *Tip: We're going to be downloading things from the internet, so we probably need `requests`.*"
   ]
  },
  {
   "cell_type": "code",
   "execution_count": 12,
   "metadata": {},
   "outputs": [],
   "source": [
    "import requests"
   ]
  },
  {
   "cell_type": "code",
   "execution_count": null,
   "metadata": {},
   "outputs": [],
   "source": []
  },
  {
   "cell_type": "code",
   "execution_count": null,
   "metadata": {},
   "outputs": [],
   "source": []
  },
  {
   "cell_type": "markdown",
   "metadata": {},
   "source": [
    "## 1) Make a request to the Star Wars API\n",
    "\n",
    "I've heard there's a new Star Wars film called **Solo**, but it isn't in SWAPI!\n",
    "\n",
    "The most recent film it contains has an ID of 7. Make a request for that film and look at the data."
   ]
  },
  {
   "cell_type": "code",
   "execution_count": 13,
   "metadata": {},
   "outputs": [
    {
     "name": "stdout",
     "output_type": "stream",
     "text": [
      "{'count': 7, 'next': None, 'previous': None, 'results': [{'title': 'A New Hope', 'episode_id': 4, 'opening_crawl': \"It is a period of civil war.\\r\\nRebel spaceships, striking\\r\\nfrom a hidden base, have won\\r\\ntheir first victory against\\r\\nthe evil Galactic Empire.\\r\\n\\r\\nDuring the battle, Rebel\\r\\nspies managed to steal secret\\r\\nplans to the Empire's\\r\\nultimate weapon, the DEATH\\r\\nSTAR, an armored space\\r\\nstation with enough power\\r\\nto destroy an entire planet.\\r\\n\\r\\nPursued by the Empire's\\r\\nsinister agents, Princess\\r\\nLeia races home aboard her\\r\\nstarship, custodian of the\\r\\nstolen plans that can save her\\r\\npeople and restore\\r\\nfreedom to the galaxy....\", 'director': 'George Lucas', 'producer': 'Gary Kurtz, Rick McCallum', 'release_date': '1977-05-25', 'characters': ['https://swapi.co/api/people/1/', 'https://swapi.co/api/people/2/', 'https://swapi.co/api/people/3/', 'https://swapi.co/api/people/4/', 'https://swapi.co/api/people/5/', 'https://swapi.co/api/people/6/', 'https://swapi.co/api/people/7/', 'https://swapi.co/api/people/8/', 'https://swapi.co/api/people/9/', 'https://swapi.co/api/people/10/', 'https://swapi.co/api/people/12/', 'https://swapi.co/api/people/13/', 'https://swapi.co/api/people/14/', 'https://swapi.co/api/people/15/', 'https://swapi.co/api/people/16/', 'https://swapi.co/api/people/18/', 'https://swapi.co/api/people/19/', 'https://swapi.co/api/people/81/'], 'planets': ['https://swapi.co/api/planets/2/', 'https://swapi.co/api/planets/3/', 'https://swapi.co/api/planets/1/'], 'starships': ['https://swapi.co/api/starships/2/', 'https://swapi.co/api/starships/3/', 'https://swapi.co/api/starships/5/', 'https://swapi.co/api/starships/9/', 'https://swapi.co/api/starships/10/', 'https://swapi.co/api/starships/11/', 'https://swapi.co/api/starships/12/', 'https://swapi.co/api/starships/13/'], 'vehicles': ['https://swapi.co/api/vehicles/4/', 'https://swapi.co/api/vehicles/6/', 'https://swapi.co/api/vehicles/7/', 'https://swapi.co/api/vehicles/8/'], 'species': ['https://swapi.co/api/species/5/', 'https://swapi.co/api/species/3/', 'https://swapi.co/api/species/2/', 'https://swapi.co/api/species/1/', 'https://swapi.co/api/species/4/'], 'created': '2014-12-10T14:23:31.880000Z', 'edited': '2015-04-11T09:46:52.774897Z', 'url': 'https://swapi.co/api/films/1/'}, {'title': 'Attack of the Clones', 'episode_id': 2, 'opening_crawl': 'There is unrest in the Galactic\\r\\nSenate. Several thousand solar\\r\\nsystems have declared their\\r\\nintentions to leave the Republic.\\r\\n\\r\\nThis separatist movement,\\r\\nunder the leadership of the\\r\\nmysterious Count Dooku, has\\r\\nmade it difficult for the limited\\r\\nnumber of Jedi Knights to maintain \\r\\npeace and order in the galaxy.\\r\\n\\r\\nSenator Amidala, the former\\r\\nQueen of Naboo, is returning\\r\\nto the Galactic Senate to vote\\r\\non the critical issue of creating\\r\\nan ARMY OF THE REPUBLIC\\r\\nto assist the overwhelmed\\r\\nJedi....', 'director': 'George Lucas', 'producer': 'Rick McCallum', 'release_date': '2002-05-16', 'characters': ['https://swapi.co/api/people/2/', 'https://swapi.co/api/people/3/', 'https://swapi.co/api/people/6/', 'https://swapi.co/api/people/7/', 'https://swapi.co/api/people/10/', 'https://swapi.co/api/people/11/', 'https://swapi.co/api/people/20/', 'https://swapi.co/api/people/21/', 'https://swapi.co/api/people/22/', 'https://swapi.co/api/people/33/', 'https://swapi.co/api/people/36/', 'https://swapi.co/api/people/40/', 'https://swapi.co/api/people/43/', 'https://swapi.co/api/people/46/', 'https://swapi.co/api/people/51/', 'https://swapi.co/api/people/52/', 'https://swapi.co/api/people/53/', 'https://swapi.co/api/people/58/', 'https://swapi.co/api/people/59/', 'https://swapi.co/api/people/60/', 'https://swapi.co/api/people/61/', 'https://swapi.co/api/people/62/', 'https://swapi.co/api/people/63/', 'https://swapi.co/api/people/64/', 'https://swapi.co/api/people/65/', 'https://swapi.co/api/people/66/', 'https://swapi.co/api/people/67/', 'https://swapi.co/api/people/68/', 'https://swapi.co/api/people/69/', 'https://swapi.co/api/people/70/', 'https://swapi.co/api/people/71/', 'https://swapi.co/api/people/72/', 'https://swapi.co/api/people/73/', 'https://swapi.co/api/people/74/', 'https://swapi.co/api/people/75/', 'https://swapi.co/api/people/76/', 'https://swapi.co/api/people/77/', 'https://swapi.co/api/people/78/', 'https://swapi.co/api/people/82/', 'https://swapi.co/api/people/35/'], 'planets': ['https://swapi.co/api/planets/8/', 'https://swapi.co/api/planets/9/', 'https://swapi.co/api/planets/10/', 'https://swapi.co/api/planets/11/', 'https://swapi.co/api/planets/1/'], 'starships': ['https://swapi.co/api/starships/21/', 'https://swapi.co/api/starships/39/', 'https://swapi.co/api/starships/43/', 'https://swapi.co/api/starships/47/', 'https://swapi.co/api/starships/48/', 'https://swapi.co/api/starships/49/', 'https://swapi.co/api/starships/32/', 'https://swapi.co/api/starships/52/', 'https://swapi.co/api/starships/58/'], 'vehicles': ['https://swapi.co/api/vehicles/4/', 'https://swapi.co/api/vehicles/44/', 'https://swapi.co/api/vehicles/45/', 'https://swapi.co/api/vehicles/46/', 'https://swapi.co/api/vehicles/50/', 'https://swapi.co/api/vehicles/51/', 'https://swapi.co/api/vehicles/53/', 'https://swapi.co/api/vehicles/54/', 'https://swapi.co/api/vehicles/55/', 'https://swapi.co/api/vehicles/56/', 'https://swapi.co/api/vehicles/57/'], 'species': ['https://swapi.co/api/species/32/', 'https://swapi.co/api/species/33/', 'https://swapi.co/api/species/2/', 'https://swapi.co/api/species/35/', 'https://swapi.co/api/species/6/', 'https://swapi.co/api/species/1/', 'https://swapi.co/api/species/12/', 'https://swapi.co/api/species/34/', 'https://swapi.co/api/species/13/', 'https://swapi.co/api/species/15/', 'https://swapi.co/api/species/28/', 'https://swapi.co/api/species/29/', 'https://swapi.co/api/species/30/', 'https://swapi.co/api/species/31/'], 'created': '2014-12-20T10:57:57.886000Z', 'edited': '2015-04-11T09:45:01.623982Z', 'url': 'https://swapi.co/api/films/5/'}, {'title': 'The Phantom Menace', 'episode_id': 1, 'opening_crawl': 'Turmoil has engulfed the\\r\\nGalactic Republic. The taxation\\r\\nof trade routes to outlying star\\r\\nsystems is in dispute.\\r\\n\\r\\nHoping to resolve the matter\\r\\nwith a blockade of deadly\\r\\nbattleships, the greedy Trade\\r\\nFederation has stopped all\\r\\nshipping to the small planet\\r\\nof Naboo.\\r\\n\\r\\nWhile the Congress of the\\r\\nRepublic endlessly debates\\r\\nthis alarming chain of events,\\r\\nthe Supreme Chancellor has\\r\\nsecretly dispatched two Jedi\\r\\nKnights, the guardians of\\r\\npeace and justice in the\\r\\ngalaxy, to settle the conflict....', 'director': 'George Lucas', 'producer': 'Rick McCallum', 'release_date': '1999-05-19', 'characters': ['https://swapi.co/api/people/2/', 'https://swapi.co/api/people/3/', 'https://swapi.co/api/people/10/', 'https://swapi.co/api/people/11/', 'https://swapi.co/api/people/16/', 'https://swapi.co/api/people/20/', 'https://swapi.co/api/people/21/', 'https://swapi.co/api/people/32/', 'https://swapi.co/api/people/33/', 'https://swapi.co/api/people/34/', 'https://swapi.co/api/people/36/', 'https://swapi.co/api/people/37/', 'https://swapi.co/api/people/38/', 'https://swapi.co/api/people/39/', 'https://swapi.co/api/people/40/', 'https://swapi.co/api/people/41/', 'https://swapi.co/api/people/42/', 'https://swapi.co/api/people/43/', 'https://swapi.co/api/people/44/', 'https://swapi.co/api/people/46/', 'https://swapi.co/api/people/48/', 'https://swapi.co/api/people/49/', 'https://swapi.co/api/people/50/', 'https://swapi.co/api/people/51/', 'https://swapi.co/api/people/52/', 'https://swapi.co/api/people/53/', 'https://swapi.co/api/people/54/', 'https://swapi.co/api/people/55/', 'https://swapi.co/api/people/56/', 'https://swapi.co/api/people/57/', 'https://swapi.co/api/people/58/', 'https://swapi.co/api/people/59/', 'https://swapi.co/api/people/47/', 'https://swapi.co/api/people/35/'], 'planets': ['https://swapi.co/api/planets/8/', 'https://swapi.co/api/planets/9/', 'https://swapi.co/api/planets/1/'], 'starships': ['https://swapi.co/api/starships/40/', 'https://swapi.co/api/starships/41/', 'https://swapi.co/api/starships/31/', 'https://swapi.co/api/starships/32/', 'https://swapi.co/api/starships/39/'], 'vehicles': ['https://swapi.co/api/vehicles/33/', 'https://swapi.co/api/vehicles/34/', 'https://swapi.co/api/vehicles/35/', 'https://swapi.co/api/vehicles/36/', 'https://swapi.co/api/vehicles/37/', 'https://swapi.co/api/vehicles/38/', 'https://swapi.co/api/vehicles/42/'], 'species': ['https://swapi.co/api/species/1/', 'https://swapi.co/api/species/2/', 'https://swapi.co/api/species/6/', 'https://swapi.co/api/species/11/', 'https://swapi.co/api/species/12/', 'https://swapi.co/api/species/13/', 'https://swapi.co/api/species/14/', 'https://swapi.co/api/species/15/', 'https://swapi.co/api/species/16/', 'https://swapi.co/api/species/17/', 'https://swapi.co/api/species/18/', 'https://swapi.co/api/species/19/', 'https://swapi.co/api/species/20/', 'https://swapi.co/api/species/21/', 'https://swapi.co/api/species/22/', 'https://swapi.co/api/species/23/', 'https://swapi.co/api/species/24/', 'https://swapi.co/api/species/25/', 'https://swapi.co/api/species/26/', 'https://swapi.co/api/species/27/'], 'created': '2014-12-19T16:52:55.740000Z', 'edited': '2015-04-11T09:45:18.689301Z', 'url': 'https://swapi.co/api/films/4/'}, {'title': 'Revenge of the Sith', 'episode_id': 3, 'opening_crawl': 'War! The Republic is crumbling\\r\\nunder attacks by the ruthless\\r\\nSith Lord, Count Dooku.\\r\\nThere are heroes on both sides.\\r\\nEvil is everywhere.\\r\\n\\r\\nIn a stunning move, the\\r\\nfiendish droid leader, General\\r\\nGrievous, has swept into the\\r\\nRepublic capital and kidnapped\\r\\nChancellor Palpatine, leader of\\r\\nthe Galactic Senate.\\r\\n\\r\\nAs the Separatist Droid Army\\r\\nattempts to flee the besieged\\r\\ncapital with their valuable\\r\\nhostage, two Jedi Knights lead a\\r\\ndesperate mission to rescue the\\r\\ncaptive Chancellor....', 'director': 'George Lucas', 'producer': 'Rick McCallum', 'release_date': '2005-05-19', 'characters': ['https://swapi.co/api/people/1/', 'https://swapi.co/api/people/2/', 'https://swapi.co/api/people/3/', 'https://swapi.co/api/people/4/', 'https://swapi.co/api/people/5/', 'https://swapi.co/api/people/6/', 'https://swapi.co/api/people/7/', 'https://swapi.co/api/people/10/', 'https://swapi.co/api/people/11/', 'https://swapi.co/api/people/12/', 'https://swapi.co/api/people/13/', 'https://swapi.co/api/people/20/', 'https://swapi.co/api/people/21/', 'https://swapi.co/api/people/33/', 'https://swapi.co/api/people/46/', 'https://swapi.co/api/people/51/', 'https://swapi.co/api/people/52/', 'https://swapi.co/api/people/53/', 'https://swapi.co/api/people/54/', 'https://swapi.co/api/people/55/', 'https://swapi.co/api/people/56/', 'https://swapi.co/api/people/58/', 'https://swapi.co/api/people/63/', 'https://swapi.co/api/people/64/', 'https://swapi.co/api/people/67/', 'https://swapi.co/api/people/68/', 'https://swapi.co/api/people/75/', 'https://swapi.co/api/people/78/', 'https://swapi.co/api/people/79/', 'https://swapi.co/api/people/80/', 'https://swapi.co/api/people/81/', 'https://swapi.co/api/people/82/', 'https://swapi.co/api/people/83/', 'https://swapi.co/api/people/35/'], 'planets': ['https://swapi.co/api/planets/2/', 'https://swapi.co/api/planets/5/', 'https://swapi.co/api/planets/8/', 'https://swapi.co/api/planets/9/', 'https://swapi.co/api/planets/12/', 'https://swapi.co/api/planets/13/', 'https://swapi.co/api/planets/14/', 'https://swapi.co/api/planets/15/', 'https://swapi.co/api/planets/16/', 'https://swapi.co/api/planets/17/', 'https://swapi.co/api/planets/18/', 'https://swapi.co/api/planets/19/', 'https://swapi.co/api/planets/1/'], 'starships': ['https://swapi.co/api/starships/48/', 'https://swapi.co/api/starships/59/', 'https://swapi.co/api/starships/61/', 'https://swapi.co/api/starships/32/', 'https://swapi.co/api/starships/63/', 'https://swapi.co/api/starships/64/', 'https://swapi.co/api/starships/65/', 'https://swapi.co/api/starships/66/', 'https://swapi.co/api/starships/74/', 'https://swapi.co/api/starships/75/', 'https://swapi.co/api/starships/2/', 'https://swapi.co/api/starships/68/'], 'vehicles': ['https://swapi.co/api/vehicles/33/', 'https://swapi.co/api/vehicles/50/', 'https://swapi.co/api/vehicles/53/', 'https://swapi.co/api/vehicles/56/', 'https://swapi.co/api/vehicles/60/', 'https://swapi.co/api/vehicles/62/', 'https://swapi.co/api/vehicles/67/', 'https://swapi.co/api/vehicles/69/', 'https://swapi.co/api/vehicles/70/', 'https://swapi.co/api/vehicles/71/', 'https://swapi.co/api/vehicles/72/', 'https://swapi.co/api/vehicles/73/', 'https://swapi.co/api/vehicles/76/'], 'species': ['https://swapi.co/api/species/19/', 'https://swapi.co/api/species/33/', 'https://swapi.co/api/species/2/', 'https://swapi.co/api/species/3/', 'https://swapi.co/api/species/36/', 'https://swapi.co/api/species/37/', 'https://swapi.co/api/species/6/', 'https://swapi.co/api/species/1/', 'https://swapi.co/api/species/34/', 'https://swapi.co/api/species/15/', 'https://swapi.co/api/species/35/', 'https://swapi.co/api/species/20/', 'https://swapi.co/api/species/23/', 'https://swapi.co/api/species/24/', 'https://swapi.co/api/species/25/', 'https://swapi.co/api/species/26/', 'https://swapi.co/api/species/27/', 'https://swapi.co/api/species/28/', 'https://swapi.co/api/species/29/', 'https://swapi.co/api/species/30/'], 'created': '2014-12-20T18:49:38.403000Z', 'edited': '2015-04-11T09:45:44.862122Z', 'url': 'https://swapi.co/api/films/6/'}, {'title': 'Return of the Jedi', 'episode_id': 6, 'opening_crawl': 'Luke Skywalker has returned to\\r\\nhis home planet of Tatooine in\\r\\nan attempt to rescue his\\r\\nfriend Han Solo from the\\r\\nclutches of the vile gangster\\r\\nJabba the Hutt.\\r\\n\\r\\nLittle does Luke know that the\\r\\nGALACTIC EMPIRE has secretly\\r\\nbegun construction on a new\\r\\narmored space station even\\r\\nmore powerful than the first\\r\\ndreaded Death Star.\\r\\n\\r\\nWhen completed, this ultimate\\r\\nweapon will spell certain doom\\r\\nfor the small band of rebels\\r\\nstruggling to restore freedom\\r\\nto the galaxy...', 'director': 'Richard Marquand', 'producer': 'Howard G. Kazanjian, George Lucas, Rick McCallum', 'release_date': '1983-05-25', 'characters': ['https://swapi.co/api/people/1/', 'https://swapi.co/api/people/2/', 'https://swapi.co/api/people/3/', 'https://swapi.co/api/people/4/', 'https://swapi.co/api/people/5/', 'https://swapi.co/api/people/10/', 'https://swapi.co/api/people/13/', 'https://swapi.co/api/people/14/', 'https://swapi.co/api/people/16/', 'https://swapi.co/api/people/18/', 'https://swapi.co/api/people/20/', 'https://swapi.co/api/people/21/', 'https://swapi.co/api/people/22/', 'https://swapi.co/api/people/25/', 'https://swapi.co/api/people/27/', 'https://swapi.co/api/people/28/', 'https://swapi.co/api/people/29/', 'https://swapi.co/api/people/30/', 'https://swapi.co/api/people/31/', 'https://swapi.co/api/people/45/'], 'planets': ['https://swapi.co/api/planets/5/', 'https://swapi.co/api/planets/7/', 'https://swapi.co/api/planets/8/', 'https://swapi.co/api/planets/9/', 'https://swapi.co/api/planets/1/'], 'starships': ['https://swapi.co/api/starships/15/', 'https://swapi.co/api/starships/10/', 'https://swapi.co/api/starships/11/', 'https://swapi.co/api/starships/12/', 'https://swapi.co/api/starships/22/', 'https://swapi.co/api/starships/23/', 'https://swapi.co/api/starships/27/', 'https://swapi.co/api/starships/28/', 'https://swapi.co/api/starships/29/', 'https://swapi.co/api/starships/3/', 'https://swapi.co/api/starships/17/', 'https://swapi.co/api/starships/2/'], 'vehicles': ['https://swapi.co/api/vehicles/8/', 'https://swapi.co/api/vehicles/16/', 'https://swapi.co/api/vehicles/18/', 'https://swapi.co/api/vehicles/19/', 'https://swapi.co/api/vehicles/24/', 'https://swapi.co/api/vehicles/25/', 'https://swapi.co/api/vehicles/26/', 'https://swapi.co/api/vehicles/30/'], 'species': ['https://swapi.co/api/species/1/', 'https://swapi.co/api/species/2/', 'https://swapi.co/api/species/3/', 'https://swapi.co/api/species/5/', 'https://swapi.co/api/species/6/', 'https://swapi.co/api/species/8/', 'https://swapi.co/api/species/9/', 'https://swapi.co/api/species/10/', 'https://swapi.co/api/species/15/'], 'created': '2014-12-18T10:39:33.255000Z', 'edited': '2015-04-11T09:46:05.220365Z', 'url': 'https://swapi.co/api/films/3/'}, {'title': 'The Empire Strikes Back', 'episode_id': 5, 'opening_crawl': 'It is a dark time for the\\r\\nRebellion. Although the Death\\r\\nStar has been destroyed,\\r\\nImperial troops have driven the\\r\\nRebel forces from their hidden\\r\\nbase and pursued them across\\r\\nthe galaxy.\\r\\n\\r\\nEvading the dreaded Imperial\\r\\nStarfleet, a group of freedom\\r\\nfighters led by Luke Skywalker\\r\\nhas established a new secret\\r\\nbase on the remote ice world\\r\\nof Hoth.\\r\\n\\r\\nThe evil lord Darth Vader,\\r\\nobsessed with finding young\\r\\nSkywalker, has dispatched\\r\\nthousands of remote probes into\\r\\nthe far reaches of space....', 'director': 'Irvin Kershner', 'producer': 'Gary Kurtz, Rick McCallum', 'release_date': '1980-05-17', 'characters': ['https://swapi.co/api/people/1/', 'https://swapi.co/api/people/2/', 'https://swapi.co/api/people/3/', 'https://swapi.co/api/people/4/', 'https://swapi.co/api/people/5/', 'https://swapi.co/api/people/10/', 'https://swapi.co/api/people/13/', 'https://swapi.co/api/people/14/', 'https://swapi.co/api/people/18/', 'https://swapi.co/api/people/20/', 'https://swapi.co/api/people/21/', 'https://swapi.co/api/people/22/', 'https://swapi.co/api/people/23/', 'https://swapi.co/api/people/24/', 'https://swapi.co/api/people/25/', 'https://swapi.co/api/people/26/'], 'planets': ['https://swapi.co/api/planets/4/', 'https://swapi.co/api/planets/5/', 'https://swapi.co/api/planets/6/', 'https://swapi.co/api/planets/27/'], 'starships': ['https://swapi.co/api/starships/15/', 'https://swapi.co/api/starships/10/', 'https://swapi.co/api/starships/11/', 'https://swapi.co/api/starships/12/', 'https://swapi.co/api/starships/21/', 'https://swapi.co/api/starships/22/', 'https://swapi.co/api/starships/23/', 'https://swapi.co/api/starships/3/', 'https://swapi.co/api/starships/17/'], 'vehicles': ['https://swapi.co/api/vehicles/8/', 'https://swapi.co/api/vehicles/14/', 'https://swapi.co/api/vehicles/16/', 'https://swapi.co/api/vehicles/18/', 'https://swapi.co/api/vehicles/19/', 'https://swapi.co/api/vehicles/20/'], 'species': ['https://swapi.co/api/species/6/', 'https://swapi.co/api/species/7/', 'https://swapi.co/api/species/3/', 'https://swapi.co/api/species/2/', 'https://swapi.co/api/species/1/'], 'created': '2014-12-12T11:26:24.656000Z', 'edited': '2017-04-19T10:57:29.544256Z', 'url': 'https://swapi.co/api/films/2/'}, {'title': 'The Force Awakens', 'episode_id': 7, 'opening_crawl': \"Luke Skywalker has vanished.\\r\\nIn his absence, the sinister\\r\\nFIRST ORDER has risen from\\r\\nthe ashes of the Empire\\r\\nand will not rest until\\r\\nSkywalker, the last Jedi,\\r\\nhas been destroyed.\\r\\n \\r\\nWith the support of the\\r\\nREPUBLIC, General Leia Organa\\r\\nleads a brave RESISTANCE.\\r\\nShe is desperate to find her\\r\\nbrother Luke and gain his\\r\\nhelp in restoring peace and\\r\\njustice to the galaxy.\\r\\n \\r\\nLeia has sent her most daring\\r\\npilot on a secret mission\\r\\nto Jakku, where an old ally\\r\\nhas discovered a clue to\\r\\nLuke's whereabouts....\", 'director': 'J. J. Abrams', 'producer': 'Kathleen Kennedy, J. J. Abrams, Bryan Burk', 'release_date': '2015-12-11', 'characters': ['https://swapi.co/api/people/1/', 'https://swapi.co/api/people/3/', 'https://swapi.co/api/people/5/', 'https://swapi.co/api/people/13/', 'https://swapi.co/api/people/14/', 'https://swapi.co/api/people/27/', 'https://swapi.co/api/people/84/', 'https://swapi.co/api/people/85/', 'https://swapi.co/api/people/86/', 'https://swapi.co/api/people/87/', 'https://swapi.co/api/people/88/'], 'planets': ['https://swapi.co/api/planets/61/'], 'starships': ['https://swapi.co/api/starships/77/', 'https://swapi.co/api/starships/10/'], 'vehicles': [], 'species': ['https://swapi.co/api/species/3/', 'https://swapi.co/api/species/2/', 'https://swapi.co/api/species/1/'], 'created': '2015-04-17T06:51:30.504780Z', 'edited': '2015-12-17T14:31:47.617768Z', 'url': 'https://swapi.co/api/films/7/'}]}\n"
     ]
    }
   ],
   "source": [
    "response = requests.get('https://swapi.co/api/films/')\n",
    "Films_data = response.json()\n",
    "print(Films_data)"
   ]
  },
  {
   "cell_type": "code",
   "execution_count": 14,
   "metadata": {},
   "outputs": [
    {
     "data": {
      "text/plain": [
       "dict_keys(['count', 'next', 'previous', 'results'])"
      ]
     },
     "execution_count": 14,
     "metadata": {},
     "output_type": "execute_result"
    }
   ],
   "source": [
    "Films_data.keys()\n"
   ]
  },
  {
   "cell_type": "markdown",
   "metadata": {},
   "source": [
    "## 2) What is that film's name, and when was it released?\n",
    "\n",
    "Please print **only** the title and the release date. You can guess at the keys, but I recommend checking the documentation."
   ]
  },
  {
   "cell_type": "code",
   "execution_count": 15,
   "metadata": {},
   "outputs": [
    {
     "data": {
      "text/plain": [
       "[{'title': 'A New Hope',\n",
       "  'episode_id': 4,\n",
       "  'opening_crawl': \"It is a period of civil war.\\r\\nRebel spaceships, striking\\r\\nfrom a hidden base, have won\\r\\ntheir first victory against\\r\\nthe evil Galactic Empire.\\r\\n\\r\\nDuring the battle, Rebel\\r\\nspies managed to steal secret\\r\\nplans to the Empire's\\r\\nultimate weapon, the DEATH\\r\\nSTAR, an armored space\\r\\nstation with enough power\\r\\nto destroy an entire planet.\\r\\n\\r\\nPursued by the Empire's\\r\\nsinister agents, Princess\\r\\nLeia races home aboard her\\r\\nstarship, custodian of the\\r\\nstolen plans that can save her\\r\\npeople and restore\\r\\nfreedom to the galaxy....\",\n",
       "  'director': 'George Lucas',\n",
       "  'producer': 'Gary Kurtz, Rick McCallum',\n",
       "  'release_date': '1977-05-25',\n",
       "  'characters': ['https://swapi.co/api/people/1/',\n",
       "   'https://swapi.co/api/people/2/',\n",
       "   'https://swapi.co/api/people/3/',\n",
       "   'https://swapi.co/api/people/4/',\n",
       "   'https://swapi.co/api/people/5/',\n",
       "   'https://swapi.co/api/people/6/',\n",
       "   'https://swapi.co/api/people/7/',\n",
       "   'https://swapi.co/api/people/8/',\n",
       "   'https://swapi.co/api/people/9/',\n",
       "   'https://swapi.co/api/people/10/',\n",
       "   'https://swapi.co/api/people/12/',\n",
       "   'https://swapi.co/api/people/13/',\n",
       "   'https://swapi.co/api/people/14/',\n",
       "   'https://swapi.co/api/people/15/',\n",
       "   'https://swapi.co/api/people/16/',\n",
       "   'https://swapi.co/api/people/18/',\n",
       "   'https://swapi.co/api/people/19/',\n",
       "   'https://swapi.co/api/people/81/'],\n",
       "  'planets': ['https://swapi.co/api/planets/2/',\n",
       "   'https://swapi.co/api/planets/3/',\n",
       "   'https://swapi.co/api/planets/1/'],\n",
       "  'starships': ['https://swapi.co/api/starships/2/',\n",
       "   'https://swapi.co/api/starships/3/',\n",
       "   'https://swapi.co/api/starships/5/',\n",
       "   'https://swapi.co/api/starships/9/',\n",
       "   'https://swapi.co/api/starships/10/',\n",
       "   'https://swapi.co/api/starships/11/',\n",
       "   'https://swapi.co/api/starships/12/',\n",
       "   'https://swapi.co/api/starships/13/'],\n",
       "  'vehicles': ['https://swapi.co/api/vehicles/4/',\n",
       "   'https://swapi.co/api/vehicles/6/',\n",
       "   'https://swapi.co/api/vehicles/7/',\n",
       "   'https://swapi.co/api/vehicles/8/'],\n",
       "  'species': ['https://swapi.co/api/species/5/',\n",
       "   'https://swapi.co/api/species/3/',\n",
       "   'https://swapi.co/api/species/2/',\n",
       "   'https://swapi.co/api/species/1/',\n",
       "   'https://swapi.co/api/species/4/'],\n",
       "  'created': '2014-12-10T14:23:31.880000Z',\n",
       "  'edited': '2015-04-11T09:46:52.774897Z',\n",
       "  'url': 'https://swapi.co/api/films/1/'},\n",
       " {'title': 'Attack of the Clones',\n",
       "  'episode_id': 2,\n",
       "  'opening_crawl': 'There is unrest in the Galactic\\r\\nSenate. Several thousand solar\\r\\nsystems have declared their\\r\\nintentions to leave the Republic.\\r\\n\\r\\nThis separatist movement,\\r\\nunder the leadership of the\\r\\nmysterious Count Dooku, has\\r\\nmade it difficult for the limited\\r\\nnumber of Jedi Knights to maintain \\r\\npeace and order in the galaxy.\\r\\n\\r\\nSenator Amidala, the former\\r\\nQueen of Naboo, is returning\\r\\nto the Galactic Senate to vote\\r\\non the critical issue of creating\\r\\nan ARMY OF THE REPUBLIC\\r\\nto assist the overwhelmed\\r\\nJedi....',\n",
       "  'director': 'George Lucas',\n",
       "  'producer': 'Rick McCallum',\n",
       "  'release_date': '2002-05-16',\n",
       "  'characters': ['https://swapi.co/api/people/2/',\n",
       "   'https://swapi.co/api/people/3/',\n",
       "   'https://swapi.co/api/people/6/',\n",
       "   'https://swapi.co/api/people/7/',\n",
       "   'https://swapi.co/api/people/10/',\n",
       "   'https://swapi.co/api/people/11/',\n",
       "   'https://swapi.co/api/people/20/',\n",
       "   'https://swapi.co/api/people/21/',\n",
       "   'https://swapi.co/api/people/22/',\n",
       "   'https://swapi.co/api/people/33/',\n",
       "   'https://swapi.co/api/people/36/',\n",
       "   'https://swapi.co/api/people/40/',\n",
       "   'https://swapi.co/api/people/43/',\n",
       "   'https://swapi.co/api/people/46/',\n",
       "   'https://swapi.co/api/people/51/',\n",
       "   'https://swapi.co/api/people/52/',\n",
       "   'https://swapi.co/api/people/53/',\n",
       "   'https://swapi.co/api/people/58/',\n",
       "   'https://swapi.co/api/people/59/',\n",
       "   'https://swapi.co/api/people/60/',\n",
       "   'https://swapi.co/api/people/61/',\n",
       "   'https://swapi.co/api/people/62/',\n",
       "   'https://swapi.co/api/people/63/',\n",
       "   'https://swapi.co/api/people/64/',\n",
       "   'https://swapi.co/api/people/65/',\n",
       "   'https://swapi.co/api/people/66/',\n",
       "   'https://swapi.co/api/people/67/',\n",
       "   'https://swapi.co/api/people/68/',\n",
       "   'https://swapi.co/api/people/69/',\n",
       "   'https://swapi.co/api/people/70/',\n",
       "   'https://swapi.co/api/people/71/',\n",
       "   'https://swapi.co/api/people/72/',\n",
       "   'https://swapi.co/api/people/73/',\n",
       "   'https://swapi.co/api/people/74/',\n",
       "   'https://swapi.co/api/people/75/',\n",
       "   'https://swapi.co/api/people/76/',\n",
       "   'https://swapi.co/api/people/77/',\n",
       "   'https://swapi.co/api/people/78/',\n",
       "   'https://swapi.co/api/people/82/',\n",
       "   'https://swapi.co/api/people/35/'],\n",
       "  'planets': ['https://swapi.co/api/planets/8/',\n",
       "   'https://swapi.co/api/planets/9/',\n",
       "   'https://swapi.co/api/planets/10/',\n",
       "   'https://swapi.co/api/planets/11/',\n",
       "   'https://swapi.co/api/planets/1/'],\n",
       "  'starships': ['https://swapi.co/api/starships/21/',\n",
       "   'https://swapi.co/api/starships/39/',\n",
       "   'https://swapi.co/api/starships/43/',\n",
       "   'https://swapi.co/api/starships/47/',\n",
       "   'https://swapi.co/api/starships/48/',\n",
       "   'https://swapi.co/api/starships/49/',\n",
       "   'https://swapi.co/api/starships/32/',\n",
       "   'https://swapi.co/api/starships/52/',\n",
       "   'https://swapi.co/api/starships/58/'],\n",
       "  'vehicles': ['https://swapi.co/api/vehicles/4/',\n",
       "   'https://swapi.co/api/vehicles/44/',\n",
       "   'https://swapi.co/api/vehicles/45/',\n",
       "   'https://swapi.co/api/vehicles/46/',\n",
       "   'https://swapi.co/api/vehicles/50/',\n",
       "   'https://swapi.co/api/vehicles/51/',\n",
       "   'https://swapi.co/api/vehicles/53/',\n",
       "   'https://swapi.co/api/vehicles/54/',\n",
       "   'https://swapi.co/api/vehicles/55/',\n",
       "   'https://swapi.co/api/vehicles/56/',\n",
       "   'https://swapi.co/api/vehicles/57/'],\n",
       "  'species': ['https://swapi.co/api/species/32/',\n",
       "   'https://swapi.co/api/species/33/',\n",
       "   'https://swapi.co/api/species/2/',\n",
       "   'https://swapi.co/api/species/35/',\n",
       "   'https://swapi.co/api/species/6/',\n",
       "   'https://swapi.co/api/species/1/',\n",
       "   'https://swapi.co/api/species/12/',\n",
       "   'https://swapi.co/api/species/34/',\n",
       "   'https://swapi.co/api/species/13/',\n",
       "   'https://swapi.co/api/species/15/',\n",
       "   'https://swapi.co/api/species/28/',\n",
       "   'https://swapi.co/api/species/29/',\n",
       "   'https://swapi.co/api/species/30/',\n",
       "   'https://swapi.co/api/species/31/'],\n",
       "  'created': '2014-12-20T10:57:57.886000Z',\n",
       "  'edited': '2015-04-11T09:45:01.623982Z',\n",
       "  'url': 'https://swapi.co/api/films/5/'},\n",
       " {'title': 'The Phantom Menace',\n",
       "  'episode_id': 1,\n",
       "  'opening_crawl': 'Turmoil has engulfed the\\r\\nGalactic Republic. The taxation\\r\\nof trade routes to outlying star\\r\\nsystems is in dispute.\\r\\n\\r\\nHoping to resolve the matter\\r\\nwith a blockade of deadly\\r\\nbattleships, the greedy Trade\\r\\nFederation has stopped all\\r\\nshipping to the small planet\\r\\nof Naboo.\\r\\n\\r\\nWhile the Congress of the\\r\\nRepublic endlessly debates\\r\\nthis alarming chain of events,\\r\\nthe Supreme Chancellor has\\r\\nsecretly dispatched two Jedi\\r\\nKnights, the guardians of\\r\\npeace and justice in the\\r\\ngalaxy, to settle the conflict....',\n",
       "  'director': 'George Lucas',\n",
       "  'producer': 'Rick McCallum',\n",
       "  'release_date': '1999-05-19',\n",
       "  'characters': ['https://swapi.co/api/people/2/',\n",
       "   'https://swapi.co/api/people/3/',\n",
       "   'https://swapi.co/api/people/10/',\n",
       "   'https://swapi.co/api/people/11/',\n",
       "   'https://swapi.co/api/people/16/',\n",
       "   'https://swapi.co/api/people/20/',\n",
       "   'https://swapi.co/api/people/21/',\n",
       "   'https://swapi.co/api/people/32/',\n",
       "   'https://swapi.co/api/people/33/',\n",
       "   'https://swapi.co/api/people/34/',\n",
       "   'https://swapi.co/api/people/36/',\n",
       "   'https://swapi.co/api/people/37/',\n",
       "   'https://swapi.co/api/people/38/',\n",
       "   'https://swapi.co/api/people/39/',\n",
       "   'https://swapi.co/api/people/40/',\n",
       "   'https://swapi.co/api/people/41/',\n",
       "   'https://swapi.co/api/people/42/',\n",
       "   'https://swapi.co/api/people/43/',\n",
       "   'https://swapi.co/api/people/44/',\n",
       "   'https://swapi.co/api/people/46/',\n",
       "   'https://swapi.co/api/people/48/',\n",
       "   'https://swapi.co/api/people/49/',\n",
       "   'https://swapi.co/api/people/50/',\n",
       "   'https://swapi.co/api/people/51/',\n",
       "   'https://swapi.co/api/people/52/',\n",
       "   'https://swapi.co/api/people/53/',\n",
       "   'https://swapi.co/api/people/54/',\n",
       "   'https://swapi.co/api/people/55/',\n",
       "   'https://swapi.co/api/people/56/',\n",
       "   'https://swapi.co/api/people/57/',\n",
       "   'https://swapi.co/api/people/58/',\n",
       "   'https://swapi.co/api/people/59/',\n",
       "   'https://swapi.co/api/people/47/',\n",
       "   'https://swapi.co/api/people/35/'],\n",
       "  'planets': ['https://swapi.co/api/planets/8/',\n",
       "   'https://swapi.co/api/planets/9/',\n",
       "   'https://swapi.co/api/planets/1/'],\n",
       "  'starships': ['https://swapi.co/api/starships/40/',\n",
       "   'https://swapi.co/api/starships/41/',\n",
       "   'https://swapi.co/api/starships/31/',\n",
       "   'https://swapi.co/api/starships/32/',\n",
       "   'https://swapi.co/api/starships/39/'],\n",
       "  'vehicles': ['https://swapi.co/api/vehicles/33/',\n",
       "   'https://swapi.co/api/vehicles/34/',\n",
       "   'https://swapi.co/api/vehicles/35/',\n",
       "   'https://swapi.co/api/vehicles/36/',\n",
       "   'https://swapi.co/api/vehicles/37/',\n",
       "   'https://swapi.co/api/vehicles/38/',\n",
       "   'https://swapi.co/api/vehicles/42/'],\n",
       "  'species': ['https://swapi.co/api/species/1/',\n",
       "   'https://swapi.co/api/species/2/',\n",
       "   'https://swapi.co/api/species/6/',\n",
       "   'https://swapi.co/api/species/11/',\n",
       "   'https://swapi.co/api/species/12/',\n",
       "   'https://swapi.co/api/species/13/',\n",
       "   'https://swapi.co/api/species/14/',\n",
       "   'https://swapi.co/api/species/15/',\n",
       "   'https://swapi.co/api/species/16/',\n",
       "   'https://swapi.co/api/species/17/',\n",
       "   'https://swapi.co/api/species/18/',\n",
       "   'https://swapi.co/api/species/19/',\n",
       "   'https://swapi.co/api/species/20/',\n",
       "   'https://swapi.co/api/species/21/',\n",
       "   'https://swapi.co/api/species/22/',\n",
       "   'https://swapi.co/api/species/23/',\n",
       "   'https://swapi.co/api/species/24/',\n",
       "   'https://swapi.co/api/species/25/',\n",
       "   'https://swapi.co/api/species/26/',\n",
       "   'https://swapi.co/api/species/27/'],\n",
       "  'created': '2014-12-19T16:52:55.740000Z',\n",
       "  'edited': '2015-04-11T09:45:18.689301Z',\n",
       "  'url': 'https://swapi.co/api/films/4/'},\n",
       " {'title': 'Revenge of the Sith',\n",
       "  'episode_id': 3,\n",
       "  'opening_crawl': 'War! The Republic is crumbling\\r\\nunder attacks by the ruthless\\r\\nSith Lord, Count Dooku.\\r\\nThere are heroes on both sides.\\r\\nEvil is everywhere.\\r\\n\\r\\nIn a stunning move, the\\r\\nfiendish droid leader, General\\r\\nGrievous, has swept into the\\r\\nRepublic capital and kidnapped\\r\\nChancellor Palpatine, leader of\\r\\nthe Galactic Senate.\\r\\n\\r\\nAs the Separatist Droid Army\\r\\nattempts to flee the besieged\\r\\ncapital with their valuable\\r\\nhostage, two Jedi Knights lead a\\r\\ndesperate mission to rescue the\\r\\ncaptive Chancellor....',\n",
       "  'director': 'George Lucas',\n",
       "  'producer': 'Rick McCallum',\n",
       "  'release_date': '2005-05-19',\n",
       "  'characters': ['https://swapi.co/api/people/1/',\n",
       "   'https://swapi.co/api/people/2/',\n",
       "   'https://swapi.co/api/people/3/',\n",
       "   'https://swapi.co/api/people/4/',\n",
       "   'https://swapi.co/api/people/5/',\n",
       "   'https://swapi.co/api/people/6/',\n",
       "   'https://swapi.co/api/people/7/',\n",
       "   'https://swapi.co/api/people/10/',\n",
       "   'https://swapi.co/api/people/11/',\n",
       "   'https://swapi.co/api/people/12/',\n",
       "   'https://swapi.co/api/people/13/',\n",
       "   'https://swapi.co/api/people/20/',\n",
       "   'https://swapi.co/api/people/21/',\n",
       "   'https://swapi.co/api/people/33/',\n",
       "   'https://swapi.co/api/people/46/',\n",
       "   'https://swapi.co/api/people/51/',\n",
       "   'https://swapi.co/api/people/52/',\n",
       "   'https://swapi.co/api/people/53/',\n",
       "   'https://swapi.co/api/people/54/',\n",
       "   'https://swapi.co/api/people/55/',\n",
       "   'https://swapi.co/api/people/56/',\n",
       "   'https://swapi.co/api/people/58/',\n",
       "   'https://swapi.co/api/people/63/',\n",
       "   'https://swapi.co/api/people/64/',\n",
       "   'https://swapi.co/api/people/67/',\n",
       "   'https://swapi.co/api/people/68/',\n",
       "   'https://swapi.co/api/people/75/',\n",
       "   'https://swapi.co/api/people/78/',\n",
       "   'https://swapi.co/api/people/79/',\n",
       "   'https://swapi.co/api/people/80/',\n",
       "   'https://swapi.co/api/people/81/',\n",
       "   'https://swapi.co/api/people/82/',\n",
       "   'https://swapi.co/api/people/83/',\n",
       "   'https://swapi.co/api/people/35/'],\n",
       "  'planets': ['https://swapi.co/api/planets/2/',\n",
       "   'https://swapi.co/api/planets/5/',\n",
       "   'https://swapi.co/api/planets/8/',\n",
       "   'https://swapi.co/api/planets/9/',\n",
       "   'https://swapi.co/api/planets/12/',\n",
       "   'https://swapi.co/api/planets/13/',\n",
       "   'https://swapi.co/api/planets/14/',\n",
       "   'https://swapi.co/api/planets/15/',\n",
       "   'https://swapi.co/api/planets/16/',\n",
       "   'https://swapi.co/api/planets/17/',\n",
       "   'https://swapi.co/api/planets/18/',\n",
       "   'https://swapi.co/api/planets/19/',\n",
       "   'https://swapi.co/api/planets/1/'],\n",
       "  'starships': ['https://swapi.co/api/starships/48/',\n",
       "   'https://swapi.co/api/starships/59/',\n",
       "   'https://swapi.co/api/starships/61/',\n",
       "   'https://swapi.co/api/starships/32/',\n",
       "   'https://swapi.co/api/starships/63/',\n",
       "   'https://swapi.co/api/starships/64/',\n",
       "   'https://swapi.co/api/starships/65/',\n",
       "   'https://swapi.co/api/starships/66/',\n",
       "   'https://swapi.co/api/starships/74/',\n",
       "   'https://swapi.co/api/starships/75/',\n",
       "   'https://swapi.co/api/starships/2/',\n",
       "   'https://swapi.co/api/starships/68/'],\n",
       "  'vehicles': ['https://swapi.co/api/vehicles/33/',\n",
       "   'https://swapi.co/api/vehicles/50/',\n",
       "   'https://swapi.co/api/vehicles/53/',\n",
       "   'https://swapi.co/api/vehicles/56/',\n",
       "   'https://swapi.co/api/vehicles/60/',\n",
       "   'https://swapi.co/api/vehicles/62/',\n",
       "   'https://swapi.co/api/vehicles/67/',\n",
       "   'https://swapi.co/api/vehicles/69/',\n",
       "   'https://swapi.co/api/vehicles/70/',\n",
       "   'https://swapi.co/api/vehicles/71/',\n",
       "   'https://swapi.co/api/vehicles/72/',\n",
       "   'https://swapi.co/api/vehicles/73/',\n",
       "   'https://swapi.co/api/vehicles/76/'],\n",
       "  'species': ['https://swapi.co/api/species/19/',\n",
       "   'https://swapi.co/api/species/33/',\n",
       "   'https://swapi.co/api/species/2/',\n",
       "   'https://swapi.co/api/species/3/',\n",
       "   'https://swapi.co/api/species/36/',\n",
       "   'https://swapi.co/api/species/37/',\n",
       "   'https://swapi.co/api/species/6/',\n",
       "   'https://swapi.co/api/species/1/',\n",
       "   'https://swapi.co/api/species/34/',\n",
       "   'https://swapi.co/api/species/15/',\n",
       "   'https://swapi.co/api/species/35/',\n",
       "   'https://swapi.co/api/species/20/',\n",
       "   'https://swapi.co/api/species/23/',\n",
       "   'https://swapi.co/api/species/24/',\n",
       "   'https://swapi.co/api/species/25/',\n",
       "   'https://swapi.co/api/species/26/',\n",
       "   'https://swapi.co/api/species/27/',\n",
       "   'https://swapi.co/api/species/28/',\n",
       "   'https://swapi.co/api/species/29/',\n",
       "   'https://swapi.co/api/species/30/'],\n",
       "  'created': '2014-12-20T18:49:38.403000Z',\n",
       "  'edited': '2015-04-11T09:45:44.862122Z',\n",
       "  'url': 'https://swapi.co/api/films/6/'},\n",
       " {'title': 'Return of the Jedi',\n",
       "  'episode_id': 6,\n",
       "  'opening_crawl': 'Luke Skywalker has returned to\\r\\nhis home planet of Tatooine in\\r\\nan attempt to rescue his\\r\\nfriend Han Solo from the\\r\\nclutches of the vile gangster\\r\\nJabba the Hutt.\\r\\n\\r\\nLittle does Luke know that the\\r\\nGALACTIC EMPIRE has secretly\\r\\nbegun construction on a new\\r\\narmored space station even\\r\\nmore powerful than the first\\r\\ndreaded Death Star.\\r\\n\\r\\nWhen completed, this ultimate\\r\\nweapon will spell certain doom\\r\\nfor the small band of rebels\\r\\nstruggling to restore freedom\\r\\nto the galaxy...',\n",
       "  'director': 'Richard Marquand',\n",
       "  'producer': 'Howard G. Kazanjian, George Lucas, Rick McCallum',\n",
       "  'release_date': '1983-05-25',\n",
       "  'characters': ['https://swapi.co/api/people/1/',\n",
       "   'https://swapi.co/api/people/2/',\n",
       "   'https://swapi.co/api/people/3/',\n",
       "   'https://swapi.co/api/people/4/',\n",
       "   'https://swapi.co/api/people/5/',\n",
       "   'https://swapi.co/api/people/10/',\n",
       "   'https://swapi.co/api/people/13/',\n",
       "   'https://swapi.co/api/people/14/',\n",
       "   'https://swapi.co/api/people/16/',\n",
       "   'https://swapi.co/api/people/18/',\n",
       "   'https://swapi.co/api/people/20/',\n",
       "   'https://swapi.co/api/people/21/',\n",
       "   'https://swapi.co/api/people/22/',\n",
       "   'https://swapi.co/api/people/25/',\n",
       "   'https://swapi.co/api/people/27/',\n",
       "   'https://swapi.co/api/people/28/',\n",
       "   'https://swapi.co/api/people/29/',\n",
       "   'https://swapi.co/api/people/30/',\n",
       "   'https://swapi.co/api/people/31/',\n",
       "   'https://swapi.co/api/people/45/'],\n",
       "  'planets': ['https://swapi.co/api/planets/5/',\n",
       "   'https://swapi.co/api/planets/7/',\n",
       "   'https://swapi.co/api/planets/8/',\n",
       "   'https://swapi.co/api/planets/9/',\n",
       "   'https://swapi.co/api/planets/1/'],\n",
       "  'starships': ['https://swapi.co/api/starships/15/',\n",
       "   'https://swapi.co/api/starships/10/',\n",
       "   'https://swapi.co/api/starships/11/',\n",
       "   'https://swapi.co/api/starships/12/',\n",
       "   'https://swapi.co/api/starships/22/',\n",
       "   'https://swapi.co/api/starships/23/',\n",
       "   'https://swapi.co/api/starships/27/',\n",
       "   'https://swapi.co/api/starships/28/',\n",
       "   'https://swapi.co/api/starships/29/',\n",
       "   'https://swapi.co/api/starships/3/',\n",
       "   'https://swapi.co/api/starships/17/',\n",
       "   'https://swapi.co/api/starships/2/'],\n",
       "  'vehicles': ['https://swapi.co/api/vehicles/8/',\n",
       "   'https://swapi.co/api/vehicles/16/',\n",
       "   'https://swapi.co/api/vehicles/18/',\n",
       "   'https://swapi.co/api/vehicles/19/',\n",
       "   'https://swapi.co/api/vehicles/24/',\n",
       "   'https://swapi.co/api/vehicles/25/',\n",
       "   'https://swapi.co/api/vehicles/26/',\n",
       "   'https://swapi.co/api/vehicles/30/'],\n",
       "  'species': ['https://swapi.co/api/species/1/',\n",
       "   'https://swapi.co/api/species/2/',\n",
       "   'https://swapi.co/api/species/3/',\n",
       "   'https://swapi.co/api/species/5/',\n",
       "   'https://swapi.co/api/species/6/',\n",
       "   'https://swapi.co/api/species/8/',\n",
       "   'https://swapi.co/api/species/9/',\n",
       "   'https://swapi.co/api/species/10/',\n",
       "   'https://swapi.co/api/species/15/'],\n",
       "  'created': '2014-12-18T10:39:33.255000Z',\n",
       "  'edited': '2015-04-11T09:46:05.220365Z',\n",
       "  'url': 'https://swapi.co/api/films/3/'},\n",
       " {'title': 'The Empire Strikes Back',\n",
       "  'episode_id': 5,\n",
       "  'opening_crawl': 'It is a dark time for the\\r\\nRebellion. Although the Death\\r\\nStar has been destroyed,\\r\\nImperial troops have driven the\\r\\nRebel forces from their hidden\\r\\nbase and pursued them across\\r\\nthe galaxy.\\r\\n\\r\\nEvading the dreaded Imperial\\r\\nStarfleet, a group of freedom\\r\\nfighters led by Luke Skywalker\\r\\nhas established a new secret\\r\\nbase on the remote ice world\\r\\nof Hoth.\\r\\n\\r\\nThe evil lord Darth Vader,\\r\\nobsessed with finding young\\r\\nSkywalker, has dispatched\\r\\nthousands of remote probes into\\r\\nthe far reaches of space....',\n",
       "  'director': 'Irvin Kershner',\n",
       "  'producer': 'Gary Kurtz, Rick McCallum',\n",
       "  'release_date': '1980-05-17',\n",
       "  'characters': ['https://swapi.co/api/people/1/',\n",
       "   'https://swapi.co/api/people/2/',\n",
       "   'https://swapi.co/api/people/3/',\n",
       "   'https://swapi.co/api/people/4/',\n",
       "   'https://swapi.co/api/people/5/',\n",
       "   'https://swapi.co/api/people/10/',\n",
       "   'https://swapi.co/api/people/13/',\n",
       "   'https://swapi.co/api/people/14/',\n",
       "   'https://swapi.co/api/people/18/',\n",
       "   'https://swapi.co/api/people/20/',\n",
       "   'https://swapi.co/api/people/21/',\n",
       "   'https://swapi.co/api/people/22/',\n",
       "   'https://swapi.co/api/people/23/',\n",
       "   'https://swapi.co/api/people/24/',\n",
       "   'https://swapi.co/api/people/25/',\n",
       "   'https://swapi.co/api/people/26/'],\n",
       "  'planets': ['https://swapi.co/api/planets/4/',\n",
       "   'https://swapi.co/api/planets/5/',\n",
       "   'https://swapi.co/api/planets/6/',\n",
       "   'https://swapi.co/api/planets/27/'],\n",
       "  'starships': ['https://swapi.co/api/starships/15/',\n",
       "   'https://swapi.co/api/starships/10/',\n",
       "   'https://swapi.co/api/starships/11/',\n",
       "   'https://swapi.co/api/starships/12/',\n",
       "   'https://swapi.co/api/starships/21/',\n",
       "   'https://swapi.co/api/starships/22/',\n",
       "   'https://swapi.co/api/starships/23/',\n",
       "   'https://swapi.co/api/starships/3/',\n",
       "   'https://swapi.co/api/starships/17/'],\n",
       "  'vehicles': ['https://swapi.co/api/vehicles/8/',\n",
       "   'https://swapi.co/api/vehicles/14/',\n",
       "   'https://swapi.co/api/vehicles/16/',\n",
       "   'https://swapi.co/api/vehicles/18/',\n",
       "   'https://swapi.co/api/vehicles/19/',\n",
       "   'https://swapi.co/api/vehicles/20/'],\n",
       "  'species': ['https://swapi.co/api/species/6/',\n",
       "   'https://swapi.co/api/species/7/',\n",
       "   'https://swapi.co/api/species/3/',\n",
       "   'https://swapi.co/api/species/2/',\n",
       "   'https://swapi.co/api/species/1/'],\n",
       "  'created': '2014-12-12T11:26:24.656000Z',\n",
       "  'edited': '2017-04-19T10:57:29.544256Z',\n",
       "  'url': 'https://swapi.co/api/films/2/'},\n",
       " {'title': 'The Force Awakens',\n",
       "  'episode_id': 7,\n",
       "  'opening_crawl': \"Luke Skywalker has vanished.\\r\\nIn his absence, the sinister\\r\\nFIRST ORDER has risen from\\r\\nthe ashes of the Empire\\r\\nand will not rest until\\r\\nSkywalker, the last Jedi,\\r\\nhas been destroyed.\\r\\n \\r\\nWith the support of the\\r\\nREPUBLIC, General Leia Organa\\r\\nleads a brave RESISTANCE.\\r\\nShe is desperate to find her\\r\\nbrother Luke and gain his\\r\\nhelp in restoring peace and\\r\\njustice to the galaxy.\\r\\n \\r\\nLeia has sent her most daring\\r\\npilot on a secret mission\\r\\nto Jakku, where an old ally\\r\\nhas discovered a clue to\\r\\nLuke's whereabouts....\",\n",
       "  'director': 'J. J. Abrams',\n",
       "  'producer': 'Kathleen Kennedy, J. J. Abrams, Bryan Burk',\n",
       "  'release_date': '2015-12-11',\n",
       "  'characters': ['https://swapi.co/api/people/1/',\n",
       "   'https://swapi.co/api/people/3/',\n",
       "   'https://swapi.co/api/people/5/',\n",
       "   'https://swapi.co/api/people/13/',\n",
       "   'https://swapi.co/api/people/14/',\n",
       "   'https://swapi.co/api/people/27/',\n",
       "   'https://swapi.co/api/people/84/',\n",
       "   'https://swapi.co/api/people/85/',\n",
       "   'https://swapi.co/api/people/86/',\n",
       "   'https://swapi.co/api/people/87/',\n",
       "   'https://swapi.co/api/people/88/'],\n",
       "  'planets': ['https://swapi.co/api/planets/61/'],\n",
       "  'starships': ['https://swapi.co/api/starships/77/',\n",
       "   'https://swapi.co/api/starships/10/'],\n",
       "  'vehicles': [],\n",
       "  'species': ['https://swapi.co/api/species/3/',\n",
       "   'https://swapi.co/api/species/2/',\n",
       "   'https://swapi.co/api/species/1/'],\n",
       "  'created': '2015-04-17T06:51:30.504780Z',\n",
       "  'edited': '2015-12-17T14:31:47.617768Z',\n",
       "  'url': 'https://swapi.co/api/films/7/'}]"
      ]
     },
     "execution_count": 15,
     "metadata": {},
     "output_type": "execute_result"
    }
   ],
   "source": [
    "Films_data ['results'] "
   ]
  },
  {
   "cell_type": "code",
   "execution_count": 16,
   "metadata": {},
   "outputs": [
    {
     "name": "stdout",
     "output_type": "stream",
     "text": [
      "A New Hope\n"
     ]
    }
   ],
   "source": [
    "print(Films_data['results'][0]['title'])  #['title']['release_date'] [0])"
   ]
  },
  {
   "cell_type": "code",
   "execution_count": 17,
   "metadata": {},
   "outputs": [
    {
     "name": "stdout",
     "output_type": "stream",
     "text": [
      "1977-05-25\n"
     ]
    }
   ],
   "source": [
    "print(Films_data['results'][0]['release_date']) "
   ]
  },
  {
   "cell_type": "markdown",
   "metadata": {},
   "source": [
    "## 3) But I want Han Solo! Use the API to search for people named \"Solo\"."
   ]
  },
  {
   "cell_type": "code",
   "execution_count": 18,
   "metadata": {},
   "outputs": [],
   "source": [
    "response = requests.get('https://swapi.co/api/people/?search=Solo')\n"
   ]
  },
  {
   "cell_type": "code",
   "execution_count": 19,
   "metadata": {},
   "outputs": [
    {
     "name": "stdout",
     "output_type": "stream",
     "text": [
      "{'count': 1, 'next': None, 'previous': None, 'results': [{'name': 'Han Solo', 'height': '180', 'mass': '80', 'hair_color': 'brown', 'skin_color': 'fair', 'eye_color': 'brown', 'birth_year': '29BBY', 'gender': 'male', 'homeworld': 'https://swapi.co/api/planets/22/', 'films': ['https://swapi.co/api/films/2/', 'https://swapi.co/api/films/3/', 'https://swapi.co/api/films/1/', 'https://swapi.co/api/films/7/'], 'species': ['https://swapi.co/api/species/1/'], 'vehicles': [], 'starships': ['https://swapi.co/api/starships/10/', 'https://swapi.co/api/starships/22/'], 'created': '2014-12-10T16:49:14.582000Z', 'edited': '2014-12-20T21:17:50.334000Z', 'url': 'https://swapi.co/api/people/14/'}]}\n"
     ]
    }
   ],
   "source": [
    "Solo_data = response.json()\n",
    "print(Solo_data)"
   ]
  },
  {
   "cell_type": "code",
   "execution_count": null,
   "metadata": {},
   "outputs": [],
   "source": []
  },
  {
   "cell_type": "markdown",
   "metadata": {},
   "source": [
    "## 4) How many results did you get?\n",
    "\n",
    "Show **two different ways** of displaying this number.\n",
    "\n",
    "- *Tip: One uses the API, and one uses a Python function*"
   ]
  },
  {
   "cell_type": "code",
   "execution_count": 20,
   "metadata": {},
   "outputs": [
    {
     "data": {
      "text/plain": [
       "1"
      ]
     },
     "execution_count": 20,
     "metadata": {},
     "output_type": "execute_result"
    }
   ],
   "source": [
    "Solo_data ['count']"
   ]
  },
  {
   "cell_type": "code",
   "execution_count": 21,
   "metadata": {},
   "outputs": [
    {
     "ename": "KeyError",
     "evalue": "0",
     "output_type": "error",
     "traceback": [
      "\u001b[0;31m---------------------------------------------------------------------------\u001b[0m",
      "\u001b[0;31mKeyError\u001b[0m                                  Traceback (most recent call last)",
      "\u001b[0;32m<ipython-input-21-01c4041eeafb>\u001b[0m in \u001b[0;36m<module>\u001b[0;34m\u001b[0m\n\u001b[1;32m      1\u001b[0m \u001b[0;32mfor\u001b[0m \u001b[0mi\u001b[0m \u001b[0;32min\u001b[0m \u001b[0mrange\u001b[0m\u001b[0;34m(\u001b[0m\u001b[0mlen\u001b[0m\u001b[0;34m(\u001b[0m\u001b[0mSolo_data\u001b[0m\u001b[0;34m)\u001b[0m\u001b[0;34m)\u001b[0m\u001b[0;34m:\u001b[0m\u001b[0;34m\u001b[0m\u001b[0m\n\u001b[0;32m----> 2\u001b[0;31m     \u001b[0mprint\u001b[0m\u001b[0;34m(\u001b[0m\u001b[0mSolo_data\u001b[0m\u001b[0;34m[\u001b[0m\u001b[0mi\u001b[0m\u001b[0;34m]\u001b[0m\u001b[0;34m)\u001b[0m\u001b[0;34m\u001b[0m\u001b[0m\n\u001b[0m",
      "\u001b[0;31mKeyError\u001b[0m: 0"
     ]
    }
   ],
   "source": [
    "for i in range(len(Solo_data)):\n",
    "    print(Solo_data[i])"
   ]
  },
  {
   "cell_type": "code",
   "execution_count": null,
   "metadata": {},
   "outputs": [],
   "source": []
  },
  {
   "cell_type": "markdown",
   "metadata": {},
   "source": [
    "## 5) Write me a sentence about Han Solo\n",
    "\n",
    "Your sentence should be say `\"____ has _____ hair, is _____cm tall and weighs ____kg.\"` - make sure you have **no spcaes** between the numbers and `cm`/`kg`."
   ]
  },
  {
   "cell_type": "code",
   "execution_count": 22,
   "metadata": {},
   "outputs": [
    {
     "data": {
      "text/plain": [
       "[{'name': 'Han Solo',\n",
       "  'height': '180',\n",
       "  'mass': '80',\n",
       "  'hair_color': 'brown',\n",
       "  'skin_color': 'fair',\n",
       "  'eye_color': 'brown',\n",
       "  'birth_year': '29BBY',\n",
       "  'gender': 'male',\n",
       "  'homeworld': 'https://swapi.co/api/planets/22/',\n",
       "  'films': ['https://swapi.co/api/films/2/',\n",
       "   'https://swapi.co/api/films/3/',\n",
       "   'https://swapi.co/api/films/1/',\n",
       "   'https://swapi.co/api/films/7/'],\n",
       "  'species': ['https://swapi.co/api/species/1/'],\n",
       "  'vehicles': [],\n",
       "  'starships': ['https://swapi.co/api/starships/10/',\n",
       "   'https://swapi.co/api/starships/22/'],\n",
       "  'created': '2014-12-10T16:49:14.582000Z',\n",
       "  'edited': '2014-12-20T21:17:50.334000Z',\n",
       "  'url': 'https://swapi.co/api/people/14/'}]"
      ]
     },
     "execution_count": 22,
     "metadata": {},
     "output_type": "execute_result"
    }
   ],
   "source": [
    "Solo_data['results']"
   ]
  },
  {
   "cell_type": "code",
   "execution_count": 23,
   "metadata": {},
   "outputs": [],
   "source": [
    "name = 'Han Solo' "
   ]
  },
  {
   "cell_type": "code",
   "execution_count": 24,
   "metadata": {},
   "outputs": [],
   "source": [
    "height ='180'"
   ]
  },
  {
   "cell_type": "code",
   "execution_count": 25,
   "metadata": {},
   "outputs": [],
   "source": [
    "hair_color ='brown'"
   ]
  },
  {
   "cell_type": "code",
   "execution_count": 26,
   "metadata": {},
   "outputs": [],
   "source": [
    "mass ='80'"
   ]
  },
  {
   "cell_type": "code",
   "execution_count": 27,
   "metadata": {},
   "outputs": [
    {
     "name": "stdout",
     "output_type": "stream",
     "text": [
      "Han Solo\n"
     ]
    }
   ],
   "source": [
    "print(name)"
   ]
  },
  {
   "cell_type": "code",
   "execution_count": 28,
   "metadata": {},
   "outputs": [
    {
     "name": "stdout",
     "output_type": "stream",
     "text": [
      "80\n"
     ]
    }
   ],
   "source": [
    "print(mass)"
   ]
  },
  {
   "cell_type": "code",
   "execution_count": 29,
   "metadata": {},
   "outputs": [
    {
     "data": {
      "text/plain": [
       "'Han Solo has brown hair, is 180cm tall and weighs 80kg.'"
      ]
     },
     "execution_count": 29,
     "metadata": {},
     "output_type": "execute_result"
    }
   ],
   "source": [
    " f\"{name} has {hair_color} hair, is {height}cm tall and weighs {mass}kg.\""
   ]
  },
  {
   "cell_type": "markdown",
   "metadata": {},
   "source": [
    "**Result: 'Han Solo has brown hair, is 180cm tall and weighs 80kg.'**"
   ]
  },
  {
   "cell_type": "markdown",
   "metadata": {},
   "source": [
    "## 5) Search for C-3PO"
   ]
  },
  {
   "cell_type": "code",
   "execution_count": 30,
   "metadata": {},
   "outputs": [],
   "source": [
    "response = requests.get('https://swapi.co/api/people/?search=C-3PO')"
   ]
  },
  {
   "cell_type": "code",
   "execution_count": 31,
   "metadata": {},
   "outputs": [
    {
     "name": "stdout",
     "output_type": "stream",
     "text": [
      "{'count': 1, 'next': None, 'previous': None, 'results': [{'name': 'C-3PO', 'height': '167', 'mass': '75', 'hair_color': 'n/a', 'skin_color': 'gold', 'eye_color': 'yellow', 'birth_year': '112BBY', 'gender': 'n/a', 'homeworld': 'https://swapi.co/api/planets/1/', 'films': ['https://swapi.co/api/films/2/', 'https://swapi.co/api/films/5/', 'https://swapi.co/api/films/4/', 'https://swapi.co/api/films/6/', 'https://swapi.co/api/films/3/', 'https://swapi.co/api/films/1/'], 'species': ['https://swapi.co/api/species/2/'], 'vehicles': [], 'starships': [], 'created': '2014-12-10T15:10:51.357000Z', 'edited': '2014-12-20T21:17:50.309000Z', 'url': 'https://swapi.co/api/people/2/'}]}\n"
     ]
    }
   ],
   "source": [
    "C_3POdata = response.json()\n",
    "print(C_3POdata)"
   ]
  },
  {
   "cell_type": "code",
   "execution_count": 32,
   "metadata": {},
   "outputs": [
    {
     "data": {
      "text/plain": [
       "dict_keys(['count', 'next', 'previous', 'results'])"
      ]
     },
     "execution_count": 32,
     "metadata": {},
     "output_type": "execute_result"
    }
   ],
   "source": [
    "C_3POdata.keys()"
   ]
  },
  {
   "cell_type": "code",
   "execution_count": 33,
   "metadata": {},
   "outputs": [
    {
     "data": {
      "text/plain": [
       "[{'name': 'C-3PO',\n",
       "  'height': '167',\n",
       "  'mass': '75',\n",
       "  'hair_color': 'n/a',\n",
       "  'skin_color': 'gold',\n",
       "  'eye_color': 'yellow',\n",
       "  'birth_year': '112BBY',\n",
       "  'gender': 'n/a',\n",
       "  'homeworld': 'https://swapi.co/api/planets/1/',\n",
       "  'films': ['https://swapi.co/api/films/2/',\n",
       "   'https://swapi.co/api/films/5/',\n",
       "   'https://swapi.co/api/films/4/',\n",
       "   'https://swapi.co/api/films/6/',\n",
       "   'https://swapi.co/api/films/3/',\n",
       "   'https://swapi.co/api/films/1/'],\n",
       "  'species': ['https://swapi.co/api/species/2/'],\n",
       "  'vehicles': [],\n",
       "  'starships': [],\n",
       "  'created': '2014-12-10T15:10:51.357000Z',\n",
       "  'edited': '2014-12-20T21:17:50.309000Z',\n",
       "  'url': 'https://swapi.co/api/people/2/'}]"
      ]
     },
     "execution_count": 33,
     "metadata": {},
     "output_type": "execute_result"
    }
   ],
   "source": [
    "C_3POdata ['results']"
   ]
  },
  {
   "cell_type": "markdown",
   "metadata": {},
   "source": [
    "## 6) What URL can tell me more about his species? Make a request to the corrent endpoint.\n",
    "\n",
    "Spoiler: he's a **droid**. Are robots a species? I guess so, maybe."
   ]
  },
  {
   "cell_type": "code",
   "execution_count": 34,
   "metadata": {},
   "outputs": [],
   "source": [
    "response = requests.get('https://swapi.co/api/species/2/')"
   ]
  },
  {
   "cell_type": "code",
   "execution_count": 35,
   "metadata": {},
   "outputs": [
    {
     "name": "stdout",
     "output_type": "stream",
     "text": [
      "{'name': 'Droid', 'classification': 'artificial', 'designation': 'sentient', 'average_height': 'n/a', 'skin_colors': 'n/a', 'hair_colors': 'n/a', 'eye_colors': 'n/a', 'average_lifespan': 'indefinite', 'homeworld': None, 'language': 'n/a', 'people': ['https://swapi.co/api/people/2/', 'https://swapi.co/api/people/3/', 'https://swapi.co/api/people/8/', 'https://swapi.co/api/people/23/', 'https://swapi.co/api/people/87/'], 'films': ['https://swapi.co/api/films/2/', 'https://swapi.co/api/films/7/', 'https://swapi.co/api/films/5/', 'https://swapi.co/api/films/4/', 'https://swapi.co/api/films/6/', 'https://swapi.co/api/films/3/', 'https://swapi.co/api/films/1/'], 'created': '2014-12-10T15:16:16.259000Z', 'edited': '2015-04-17T06:59:43.869528Z', 'url': 'https://swapi.co/api/species/2/'}\n"
     ]
    }
   ],
   "source": [
    "C_3POspecies = response.json()\n",
    "print(C_3POspecies)"
   ]
  },
  {
   "cell_type": "code",
   "execution_count": 36,
   "metadata": {},
   "outputs": [],
   "source": [
    "name = 'Droid'"
   ]
  },
  {
   "cell_type": "code",
   "execution_count": 37,
   "metadata": {},
   "outputs": [],
   "source": [
    "classification = 'artifical'"
   ]
  },
  {
   "cell_type": "code",
   "execution_count": 38,
   "metadata": {},
   "outputs": [],
   "source": [
    "designation = 'sentient'"
   ]
  },
  {
   "cell_type": "code",
   "execution_count": 39,
   "metadata": {},
   "outputs": [],
   "source": [
    "average_lifespan = 'indefinite'"
   ]
  },
  {
   "cell_type": "code",
   "execution_count": 40,
   "metadata": {},
   "outputs": [
    {
     "data": {
      "text/plain": [
       "'C_3PO is a Droid which is an artifical and a sentient robot. it is a Droid which lives in an indefinite time.'"
      ]
     },
     "execution_count": 40,
     "metadata": {},
     "output_type": "execute_result"
    }
   ],
   "source": [
    "f\"C_3PO is a {name} which is an {classification} and a {designation} robot. it is a {name} which lives in an {average_lifespan} time.\""
   ]
  },
  {
   "cell_type": "markdown",
   "metadata": {},
   "source": [
    "**Result:'C_3PO is a Droid which is an artifical and a sentient robot. it is a Droid which lives in an indefinite time.'**"
   ]
  },
  {
   "cell_type": "markdown",
   "metadata": {},
   "source": [
    "## 7) Print out the URL of every droid\n",
    "\n",
    "* *Tip: life will be easier if you don't say `for droid in...` or `for person in` because you aren't looping through droids or people. What are you looping through?*"
   ]
  },
  {
   "cell_type": "code",
   "execution_count": null,
   "metadata": {},
   "outputs": [],
   "source": []
  },
  {
   "cell_type": "code",
   "execution_count": 41,
   "metadata": {},
   "outputs": [
    {
     "name": "stdout",
     "output_type": "stream",
     "text": [
      "{'name': 'Droid', 'classification': 'artificial', 'designation': 'sentient', 'average_height': 'n/a', 'skin_colors': 'n/a', 'hair_colors': 'n/a', 'eye_colors': 'n/a', 'average_lifespan': 'indefinite', 'homeworld': None, 'language': 'n/a', 'people': ['https://swapi.co/api/people/2/', 'https://swapi.co/api/people/3/', 'https://swapi.co/api/people/8/', 'https://swapi.co/api/people/23/', 'https://swapi.co/api/people/87/'], 'films': ['https://swapi.co/api/films/2/', 'https://swapi.co/api/films/7/', 'https://swapi.co/api/films/5/', 'https://swapi.co/api/films/4/', 'https://swapi.co/api/films/6/', 'https://swapi.co/api/films/3/', 'https://swapi.co/api/films/1/'], 'created': '2014-12-10T15:16:16.259000Z', 'edited': '2015-04-17T06:59:43.869528Z', 'url': 'https://swapi.co/api/species/2/'}\n"
     ]
    }
   ],
   "source": [
    "response = requests.get('https://swapi.co/api/species/2/')\n",
    "C_3POspecies = response.json()\n",
    "print(C_3POspecies)"
   ]
  },
  {
   "cell_type": "code",
   "execution_count": 42,
   "metadata": {},
   "outputs": [
    {
     "name": "stdout",
     "output_type": "stream",
     "text": [
      "['https://swapi.co/api/people/2/', 'https://swapi.co/api/people/3/', 'https://swapi.co/api/people/8/', 'https://swapi.co/api/people/23/', 'https://swapi.co/api/people/87/']\n"
     ]
    }
   ],
   "source": [
    "print(C_3POspecies['people'])"
   ]
  },
  {
   "cell_type": "markdown",
   "metadata": {},
   "source": [
    "**RESULT OF URL OF EVERY DROID:\n",
    "['https://swapi.co/api/people/2/', 'https://swapi.co/api/people/3/', 'https://swapi.co/api/people/8/', 'https://swapi.co/api/people/23/', 'https://swapi.co/api/people/87/']**"
   ]
  },
  {
   "cell_type": "markdown",
   "metadata": {},
   "source": [
    "## 8) Print out the name of every droid\n",
    "\n",
    "* *Tip: You should start from the last answer, but add more stuff in!*\n",
    "* *Tip: You'll need to make a request every time you're in the loop*\n",
    "* *Tip: Be careful - f you re-use the variable name `data` you'll erase your old `data` variable*"
   ]
  },
  {
   "cell_type": "code",
   "execution_count": 43,
   "metadata": {
    "scrolled": true
   },
   "outputs": [
    {
     "name": "stdout",
     "output_type": "stream",
     "text": [
      "['https://swapi.co/api/people/2/', 'https://swapi.co/api/people/3/', 'https://swapi.co/api/people/8/', 'https://swapi.co/api/people/23/', 'https://swapi.co/api/people/87/']\n",
      "['https://swapi.co/api/people/2/', 'https://swapi.co/api/people/3/', 'https://swapi.co/api/people/8/', 'https://swapi.co/api/people/23/', 'https://swapi.co/api/people/87/']\n",
      "['https://swapi.co/api/people/2/', 'https://swapi.co/api/people/3/', 'https://swapi.co/api/people/8/', 'https://swapi.co/api/people/23/', 'https://swapi.co/api/people/87/']\n",
      "['https://swapi.co/api/people/2/', 'https://swapi.co/api/people/3/', 'https://swapi.co/api/people/8/', 'https://swapi.co/api/people/23/', 'https://swapi.co/api/people/87/']\n",
      "['https://swapi.co/api/people/2/', 'https://swapi.co/api/people/3/', 'https://swapi.co/api/people/8/', 'https://swapi.co/api/people/23/', 'https://swapi.co/api/people/87/']\n"
     ]
    }
   ],
   "source": [
    "droids = C_3POspecies['people']\n",
    "for droid in droids:\n",
    "    print(droids)\n",
    "    \n",
    "  \n",
    "        \n",
    "\n",
    "\n"
   ]
  },
  {
   "cell_type": "code",
   "execution_count": 44,
   "metadata": {},
   "outputs": [
    {
     "name": "stdout",
     "output_type": "stream",
     "text": [
      "C-3PO\n",
      "R2-D2\n",
      "R5-D4\n",
      "IG-88\n",
      "BB8\n"
     ]
    }
   ],
   "source": [
    "for droid in droids:\n",
    "    import requests\n",
    "    response = requests.get(droid)\n",
    "    droids_name = response.json()\n",
    "    print(droids_name['name'])\n",
    "    "
   ]
  },
  {
   "cell_type": "markdown",
   "metadata": {},
   "source": [
    "## 9) Print out more about the droid\n",
    "\n",
    "Count the number of films for each droid, printing `\"___ was in ___ films\"` for each of them\n",
    "\n",
    "* *Tip: You might want to look at a single droid result, or print the data in the for loop, so you know how to get the films. Or read the documentation!*"
   ]
  },
  {
   "cell_type": "code",
   "execution_count": 45,
   "metadata": {},
   "outputs": [
    {
     "name": "stdout",
     "output_type": "stream",
     "text": [
      "152\n"
     ]
    },
    {
     "data": {
      "text/plain": [
       "'The droid was in 152 films'"
      ]
     },
     "execution_count": 45,
     "metadata": {},
     "output_type": "execute_result"
    }
   ],
   "source": [
    "droids = C_3POspecies['people']\n",
    "counter = 0\n",
    "for x in range (0, len(droids)):\n",
    "    for y in range(0, len(droids[x])):\n",
    "        counter = counter + 1\n",
    "print(counter)\n",
    "f\"The droid was in {counter} films\""
   ]
  },
  {
   "cell_type": "markdown",
   "metadata": {},
   "source": [
    "## 10) Let's be smart and cache the results *[DIFFICULT, maybe!]*\n",
    "\n",
    "So far we've been using a for loop to go through each droid. Every droid, one more request. Every time we want more data, we run the loops again. I don't want that guy to get angry that we're asking for so much data!\n",
    "\n",
    "We want to our list of **droid urls** and turn it into a **list of dictionaries about those droids**. Save it as a variable called `droids`. If you get it correct, the following code should work if you cut and paste it.\n",
    "\n",
    "```python\n",
    "for droid in droids:\n",
    "    print(droid['name'])\n",
    "```\n",
    "\n",
    "* *Tip: Use a list comprehension*\n",
    "* *Tip: So far we've done `response = requests.get..` and `response.json()` on separate lines. You'll need to combine them!*"
   ]
  },
  {
   "cell_type": "code",
   "execution_count": 46,
   "metadata": {},
   "outputs": [
    {
     "name": "stdout",
     "output_type": "stream",
     "text": [
      "C-3PO\n",
      "R2-D2\n",
      "R5-D4\n",
      "IG-88\n",
      "BB8\n"
     ]
    }
   ],
   "source": [
    "droidslist = []\n",
    "droids = C_3POspecies['people']\n",
    "droidslist = [(requests.get(droid)).json() for droid in droids]\n",
    "droids = droidslist\n",
    "for droid in droids:\n",
    "    print(droid['name'])"
   ]
  },
  {
   "cell_type": "markdown",
   "metadata": {},
   "source": [
    "## 11) Get a list of every single planet in the Star Wars universe\n",
    "\n",
    "* *Tip: You'll want to use the API documentation for this, I think*"
   ]
  },
  {
   "cell_type": "code",
   "execution_count": 47,
   "metadata": {},
   "outputs": [
    {
     "data": {
      "text/plain": [
       "{'count': 61,\n",
       " 'next': 'https://swapi.co/api/planets/?page=2',\n",
       " 'previous': None,\n",
       " 'results': [{'name': 'Alderaan',\n",
       "   'rotation_period': '24',\n",
       "   'orbital_period': '364',\n",
       "   'diameter': '12500',\n",
       "   'climate': 'temperate',\n",
       "   'gravity': '1 standard',\n",
       "   'terrain': 'grasslands, mountains',\n",
       "   'surface_water': '40',\n",
       "   'population': '2000000000',\n",
       "   'residents': ['https://swapi.co/api/people/5/',\n",
       "    'https://swapi.co/api/people/68/',\n",
       "    'https://swapi.co/api/people/81/'],\n",
       "   'films': ['https://swapi.co/api/films/6/', 'https://swapi.co/api/films/1/'],\n",
       "   'created': '2014-12-10T11:35:48.479000Z',\n",
       "   'edited': '2014-12-20T20:58:18.420000Z',\n",
       "   'url': 'https://swapi.co/api/planets/2/'},\n",
       "  {'name': 'Yavin IV',\n",
       "   'rotation_period': '24',\n",
       "   'orbital_period': '4818',\n",
       "   'diameter': '10200',\n",
       "   'climate': 'temperate, tropical',\n",
       "   'gravity': '1 standard',\n",
       "   'terrain': 'jungle, rainforests',\n",
       "   'surface_water': '8',\n",
       "   'population': '1000',\n",
       "   'residents': [],\n",
       "   'films': ['https://swapi.co/api/films/1/'],\n",
       "   'created': '2014-12-10T11:37:19.144000Z',\n",
       "   'edited': '2014-12-20T20:58:18.421000Z',\n",
       "   'url': 'https://swapi.co/api/planets/3/'},\n",
       "  {'name': 'Hoth',\n",
       "   'rotation_period': '23',\n",
       "   'orbital_period': '549',\n",
       "   'diameter': '7200',\n",
       "   'climate': 'frozen',\n",
       "   'gravity': '1.1 standard',\n",
       "   'terrain': 'tundra, ice caves, mountain ranges',\n",
       "   'surface_water': '100',\n",
       "   'population': 'unknown',\n",
       "   'residents': [],\n",
       "   'films': ['https://swapi.co/api/films/2/'],\n",
       "   'created': '2014-12-10T11:39:13.934000Z',\n",
       "   'edited': '2014-12-20T20:58:18.423000Z',\n",
       "   'url': 'https://swapi.co/api/planets/4/'},\n",
       "  {'name': 'Dagobah',\n",
       "   'rotation_period': '23',\n",
       "   'orbital_period': '341',\n",
       "   'diameter': '8900',\n",
       "   'climate': 'murky',\n",
       "   'gravity': 'N/A',\n",
       "   'terrain': 'swamp, jungles',\n",
       "   'surface_water': '8',\n",
       "   'population': 'unknown',\n",
       "   'residents': [],\n",
       "   'films': ['https://swapi.co/api/films/2/',\n",
       "    'https://swapi.co/api/films/6/',\n",
       "    'https://swapi.co/api/films/3/'],\n",
       "   'created': '2014-12-10T11:42:22.590000Z',\n",
       "   'edited': '2014-12-20T20:58:18.425000Z',\n",
       "   'url': 'https://swapi.co/api/planets/5/'},\n",
       "  {'name': 'Bespin',\n",
       "   'rotation_period': '12',\n",
       "   'orbital_period': '5110',\n",
       "   'diameter': '118000',\n",
       "   'climate': 'temperate',\n",
       "   'gravity': '1.5 (surface), 1 standard (Cloud City)',\n",
       "   'terrain': 'gas giant',\n",
       "   'surface_water': '0',\n",
       "   'population': '6000000',\n",
       "   'residents': ['https://swapi.co/api/people/26/'],\n",
       "   'films': ['https://swapi.co/api/films/2/'],\n",
       "   'created': '2014-12-10T11:43:55.240000Z',\n",
       "   'edited': '2014-12-20T20:58:18.427000Z',\n",
       "   'url': 'https://swapi.co/api/planets/6/'},\n",
       "  {'name': 'Endor',\n",
       "   'rotation_period': '18',\n",
       "   'orbital_period': '402',\n",
       "   'diameter': '4900',\n",
       "   'climate': 'temperate',\n",
       "   'gravity': '0.85 standard',\n",
       "   'terrain': 'forests, mountains, lakes',\n",
       "   'surface_water': '8',\n",
       "   'population': '30000000',\n",
       "   'residents': ['https://swapi.co/api/people/30/'],\n",
       "   'films': ['https://swapi.co/api/films/3/'],\n",
       "   'created': '2014-12-10T11:50:29.349000Z',\n",
       "   'edited': '2014-12-20T20:58:18.429000Z',\n",
       "   'url': 'https://swapi.co/api/planets/7/'},\n",
       "  {'name': 'Naboo',\n",
       "   'rotation_period': '26',\n",
       "   'orbital_period': '312',\n",
       "   'diameter': '12120',\n",
       "   'climate': 'temperate',\n",
       "   'gravity': '1 standard',\n",
       "   'terrain': 'grassy hills, swamps, forests, mountains',\n",
       "   'surface_water': '12',\n",
       "   'population': '4500000000',\n",
       "   'residents': ['https://swapi.co/api/people/3/',\n",
       "    'https://swapi.co/api/people/21/',\n",
       "    'https://swapi.co/api/people/36/',\n",
       "    'https://swapi.co/api/people/37/',\n",
       "    'https://swapi.co/api/people/38/',\n",
       "    'https://swapi.co/api/people/39/',\n",
       "    'https://swapi.co/api/people/42/',\n",
       "    'https://swapi.co/api/people/60/',\n",
       "    'https://swapi.co/api/people/61/',\n",
       "    'https://swapi.co/api/people/66/',\n",
       "    'https://swapi.co/api/people/35/'],\n",
       "   'films': ['https://swapi.co/api/films/5/',\n",
       "    'https://swapi.co/api/films/4/',\n",
       "    'https://swapi.co/api/films/6/',\n",
       "    'https://swapi.co/api/films/3/'],\n",
       "   'created': '2014-12-10T11:52:31.066000Z',\n",
       "   'edited': '2014-12-20T20:58:18.430000Z',\n",
       "   'url': 'https://swapi.co/api/planets/8/'},\n",
       "  {'name': 'Coruscant',\n",
       "   'rotation_period': '24',\n",
       "   'orbital_period': '368',\n",
       "   'diameter': '12240',\n",
       "   'climate': 'temperate',\n",
       "   'gravity': '1 standard',\n",
       "   'terrain': 'cityscape, mountains',\n",
       "   'surface_water': 'unknown',\n",
       "   'population': '1000000000000',\n",
       "   'residents': ['https://swapi.co/api/people/34/',\n",
       "    'https://swapi.co/api/people/55/',\n",
       "    'https://swapi.co/api/people/74/'],\n",
       "   'films': ['https://swapi.co/api/films/5/',\n",
       "    'https://swapi.co/api/films/4/',\n",
       "    'https://swapi.co/api/films/6/',\n",
       "    'https://swapi.co/api/films/3/'],\n",
       "   'created': '2014-12-10T11:54:13.921000Z',\n",
       "   'edited': '2014-12-20T20:58:18.432000Z',\n",
       "   'url': 'https://swapi.co/api/planets/9/'},\n",
       "  {'name': 'Kamino',\n",
       "   'rotation_period': '27',\n",
       "   'orbital_period': '463',\n",
       "   'diameter': '19720',\n",
       "   'climate': 'temperate',\n",
       "   'gravity': '1 standard',\n",
       "   'terrain': 'ocean',\n",
       "   'surface_water': '100',\n",
       "   'population': '1000000000',\n",
       "   'residents': ['https://swapi.co/api/people/22/',\n",
       "    'https://swapi.co/api/people/72/',\n",
       "    'https://swapi.co/api/people/73/'],\n",
       "   'films': ['https://swapi.co/api/films/5/'],\n",
       "   'created': '2014-12-10T12:45:06.577000Z',\n",
       "   'edited': '2014-12-20T20:58:18.434000Z',\n",
       "   'url': 'https://swapi.co/api/planets/10/'},\n",
       "  {'name': 'Geonosis',\n",
       "   'rotation_period': '30',\n",
       "   'orbital_period': '256',\n",
       "   'diameter': '11370',\n",
       "   'climate': 'temperate, arid',\n",
       "   'gravity': '0.9 standard',\n",
       "   'terrain': 'rock, desert, mountain, barren',\n",
       "   'surface_water': '5',\n",
       "   'population': '100000000000',\n",
       "   'residents': ['https://swapi.co/api/people/63/'],\n",
       "   'films': ['https://swapi.co/api/films/5/'],\n",
       "   'created': '2014-12-10T12:47:22.350000Z',\n",
       "   'edited': '2014-12-20T20:58:18.437000Z',\n",
       "   'url': 'https://swapi.co/api/planets/11/'}]}"
      ]
     },
     "execution_count": 47,
     "metadata": {},
     "output_type": "execute_result"
    }
   ],
   "source": [
    "response = requests.get('https://swapi.co/api/planets/')\n",
    "Planets_data = response.json()\n",
    "Planets_data"
   ]
  },
  {
   "cell_type": "code",
   "execution_count": 48,
   "metadata": {},
   "outputs": [
    {
     "name": "stdout",
     "output_type": "stream",
     "text": [
      "dict_keys(['count', 'next', 'previous', 'results'])\n"
     ]
    },
    {
     "data": {
      "text/plain": [
       "[{'name': 'Alderaan',\n",
       "  'rotation_period': '24',\n",
       "  'orbital_period': '364',\n",
       "  'diameter': '12500',\n",
       "  'climate': 'temperate',\n",
       "  'gravity': '1 standard',\n",
       "  'terrain': 'grasslands, mountains',\n",
       "  'surface_water': '40',\n",
       "  'population': '2000000000',\n",
       "  'residents': ['https://swapi.co/api/people/5/',\n",
       "   'https://swapi.co/api/people/68/',\n",
       "   'https://swapi.co/api/people/81/'],\n",
       "  'films': ['https://swapi.co/api/films/6/', 'https://swapi.co/api/films/1/'],\n",
       "  'created': '2014-12-10T11:35:48.479000Z',\n",
       "  'edited': '2014-12-20T20:58:18.420000Z',\n",
       "  'url': 'https://swapi.co/api/planets/2/'},\n",
       " {'name': 'Yavin IV',\n",
       "  'rotation_period': '24',\n",
       "  'orbital_period': '4818',\n",
       "  'diameter': '10200',\n",
       "  'climate': 'temperate, tropical',\n",
       "  'gravity': '1 standard',\n",
       "  'terrain': 'jungle, rainforests',\n",
       "  'surface_water': '8',\n",
       "  'population': '1000',\n",
       "  'residents': [],\n",
       "  'films': ['https://swapi.co/api/films/1/'],\n",
       "  'created': '2014-12-10T11:37:19.144000Z',\n",
       "  'edited': '2014-12-20T20:58:18.421000Z',\n",
       "  'url': 'https://swapi.co/api/planets/3/'},\n",
       " {'name': 'Hoth',\n",
       "  'rotation_period': '23',\n",
       "  'orbital_period': '549',\n",
       "  'diameter': '7200',\n",
       "  'climate': 'frozen',\n",
       "  'gravity': '1.1 standard',\n",
       "  'terrain': 'tundra, ice caves, mountain ranges',\n",
       "  'surface_water': '100',\n",
       "  'population': 'unknown',\n",
       "  'residents': [],\n",
       "  'films': ['https://swapi.co/api/films/2/'],\n",
       "  'created': '2014-12-10T11:39:13.934000Z',\n",
       "  'edited': '2014-12-20T20:58:18.423000Z',\n",
       "  'url': 'https://swapi.co/api/planets/4/'},\n",
       " {'name': 'Dagobah',\n",
       "  'rotation_period': '23',\n",
       "  'orbital_period': '341',\n",
       "  'diameter': '8900',\n",
       "  'climate': 'murky',\n",
       "  'gravity': 'N/A',\n",
       "  'terrain': 'swamp, jungles',\n",
       "  'surface_water': '8',\n",
       "  'population': 'unknown',\n",
       "  'residents': [],\n",
       "  'films': ['https://swapi.co/api/films/2/',\n",
       "   'https://swapi.co/api/films/6/',\n",
       "   'https://swapi.co/api/films/3/'],\n",
       "  'created': '2014-12-10T11:42:22.590000Z',\n",
       "  'edited': '2014-12-20T20:58:18.425000Z',\n",
       "  'url': 'https://swapi.co/api/planets/5/'},\n",
       " {'name': 'Bespin',\n",
       "  'rotation_period': '12',\n",
       "  'orbital_period': '5110',\n",
       "  'diameter': '118000',\n",
       "  'climate': 'temperate',\n",
       "  'gravity': '1.5 (surface), 1 standard (Cloud City)',\n",
       "  'terrain': 'gas giant',\n",
       "  'surface_water': '0',\n",
       "  'population': '6000000',\n",
       "  'residents': ['https://swapi.co/api/people/26/'],\n",
       "  'films': ['https://swapi.co/api/films/2/'],\n",
       "  'created': '2014-12-10T11:43:55.240000Z',\n",
       "  'edited': '2014-12-20T20:58:18.427000Z',\n",
       "  'url': 'https://swapi.co/api/planets/6/'},\n",
       " {'name': 'Endor',\n",
       "  'rotation_period': '18',\n",
       "  'orbital_period': '402',\n",
       "  'diameter': '4900',\n",
       "  'climate': 'temperate',\n",
       "  'gravity': '0.85 standard',\n",
       "  'terrain': 'forests, mountains, lakes',\n",
       "  'surface_water': '8',\n",
       "  'population': '30000000',\n",
       "  'residents': ['https://swapi.co/api/people/30/'],\n",
       "  'films': ['https://swapi.co/api/films/3/'],\n",
       "  'created': '2014-12-10T11:50:29.349000Z',\n",
       "  'edited': '2014-12-20T20:58:18.429000Z',\n",
       "  'url': 'https://swapi.co/api/planets/7/'},\n",
       " {'name': 'Naboo',\n",
       "  'rotation_period': '26',\n",
       "  'orbital_period': '312',\n",
       "  'diameter': '12120',\n",
       "  'climate': 'temperate',\n",
       "  'gravity': '1 standard',\n",
       "  'terrain': 'grassy hills, swamps, forests, mountains',\n",
       "  'surface_water': '12',\n",
       "  'population': '4500000000',\n",
       "  'residents': ['https://swapi.co/api/people/3/',\n",
       "   'https://swapi.co/api/people/21/',\n",
       "   'https://swapi.co/api/people/36/',\n",
       "   'https://swapi.co/api/people/37/',\n",
       "   'https://swapi.co/api/people/38/',\n",
       "   'https://swapi.co/api/people/39/',\n",
       "   'https://swapi.co/api/people/42/',\n",
       "   'https://swapi.co/api/people/60/',\n",
       "   'https://swapi.co/api/people/61/',\n",
       "   'https://swapi.co/api/people/66/',\n",
       "   'https://swapi.co/api/people/35/'],\n",
       "  'films': ['https://swapi.co/api/films/5/',\n",
       "   'https://swapi.co/api/films/4/',\n",
       "   'https://swapi.co/api/films/6/',\n",
       "   'https://swapi.co/api/films/3/'],\n",
       "  'created': '2014-12-10T11:52:31.066000Z',\n",
       "  'edited': '2014-12-20T20:58:18.430000Z',\n",
       "  'url': 'https://swapi.co/api/planets/8/'},\n",
       " {'name': 'Coruscant',\n",
       "  'rotation_period': '24',\n",
       "  'orbital_period': '368',\n",
       "  'diameter': '12240',\n",
       "  'climate': 'temperate',\n",
       "  'gravity': '1 standard',\n",
       "  'terrain': 'cityscape, mountains',\n",
       "  'surface_water': 'unknown',\n",
       "  'population': '1000000000000',\n",
       "  'residents': ['https://swapi.co/api/people/34/',\n",
       "   'https://swapi.co/api/people/55/',\n",
       "   'https://swapi.co/api/people/74/'],\n",
       "  'films': ['https://swapi.co/api/films/5/',\n",
       "   'https://swapi.co/api/films/4/',\n",
       "   'https://swapi.co/api/films/6/',\n",
       "   'https://swapi.co/api/films/3/'],\n",
       "  'created': '2014-12-10T11:54:13.921000Z',\n",
       "  'edited': '2014-12-20T20:58:18.432000Z',\n",
       "  'url': 'https://swapi.co/api/planets/9/'},\n",
       " {'name': 'Kamino',\n",
       "  'rotation_period': '27',\n",
       "  'orbital_period': '463',\n",
       "  'diameter': '19720',\n",
       "  'climate': 'temperate',\n",
       "  'gravity': '1 standard',\n",
       "  'terrain': 'ocean',\n",
       "  'surface_water': '100',\n",
       "  'population': '1000000000',\n",
       "  'residents': ['https://swapi.co/api/people/22/',\n",
       "   'https://swapi.co/api/people/72/',\n",
       "   'https://swapi.co/api/people/73/'],\n",
       "  'films': ['https://swapi.co/api/films/5/'],\n",
       "  'created': '2014-12-10T12:45:06.577000Z',\n",
       "  'edited': '2014-12-20T20:58:18.434000Z',\n",
       "  'url': 'https://swapi.co/api/planets/10/'},\n",
       " {'name': 'Geonosis',\n",
       "  'rotation_period': '30',\n",
       "  'orbital_period': '256',\n",
       "  'diameter': '11370',\n",
       "  'climate': 'temperate, arid',\n",
       "  'gravity': '0.9 standard',\n",
       "  'terrain': 'rock, desert, mountain, barren',\n",
       "  'surface_water': '5',\n",
       "  'population': '100000000000',\n",
       "  'residents': ['https://swapi.co/api/people/63/'],\n",
       "  'films': ['https://swapi.co/api/films/5/'],\n",
       "  'created': '2014-12-10T12:47:22.350000Z',\n",
       "  'edited': '2014-12-20T20:58:18.437000Z',\n",
       "  'url': 'https://swapi.co/api/planets/11/'}]"
      ]
     },
     "execution_count": 48,
     "metadata": {},
     "output_type": "execute_result"
    }
   ],
   "source": [
    "print(Planets_data.keys())\n",
    "Planets_data ['results']"
   ]
  },
  {
   "cell_type": "code",
   "execution_count": 49,
   "metadata": {},
   "outputs": [
    {
     "name": "stdout",
     "output_type": "stream",
     "text": [
      "count\n",
      "next\n",
      "previous\n",
      "results\n"
     ]
    }
   ],
   "source": [
    "for planet in Planets_data:\n",
    "    print(planet)"
   ]
  },
  {
   "cell_type": "code",
   "execution_count": 50,
   "metadata": {},
   "outputs": [
    {
     "name": "stdout",
     "output_type": "stream",
     "text": [
      "Alderaan\n",
      "Yavin IV\n",
      "Hoth\n",
      "Dagobah\n",
      "Bespin\n",
      "Endor\n",
      "Naboo\n",
      "Coruscant\n",
      "Kamino\n",
      "Geonosis\n"
     ]
    }
   ],
   "source": [
    "sorted_planets = Planets_data['results']\n",
    "for planet in sorted_planets : \n",
    "    print (planet['name'])\n",
    "    \n",
    "\n",
    "\n",
    "\n"
   ]
  },
  {
   "cell_type": "code",
   "execution_count": 51,
   "metadata": {},
   "outputs": [
    {
     "name": "stdout",
     "output_type": "stream",
     "text": [
      "['Alderaan', 'Yavin IV', 'Hoth', 'Dagobah', 'Bespin', 'Endor', 'Naboo', 'Coruscant', 'Kamino', 'Geonosis']\n"
     ]
    }
   ],
   "source": [
    "planets_list = [\"Alderaan\", \"Yavin IV\", \"Hoth\", \"Dagobah\",\"Bespin\", \"Endor\", \"Naboo\", \"Coruscant\", \"Kamino\", \"Geonosis\"]\n",
    "print(planets_list)\n",
    "\n",
    "\n",
    "\n",
    "\n",
    "\n",
    "\n",
    "\n",
    "\n",
    "\n",
    "\n"
   ]
  },
  {
   "cell_type": "markdown",
   "metadata": {},
   "source": [
    "## 12) How many plants are there? Show me two different ways of displaying the answer.\n",
    "\n",
    "* *Tip: They won't match*"
   ]
  },
  {
   "cell_type": "code",
   "execution_count": null,
   "metadata": {},
   "outputs": [],
   "source": []
  },
  {
   "cell_type": "code",
   "execution_count": null,
   "metadata": {},
   "outputs": [],
   "source": []
  },
  {
   "cell_type": "code",
   "execution_count": null,
   "metadata": {},
   "outputs": [],
   "source": []
  },
  {
   "cell_type": "markdown",
   "metadata": {},
   "source": [
    "# These questions are all list comprehension questions, if you'd like\n",
    "\n",
    "## 13) Get the population of each of the planets\n",
    "\n",
    "* *Tip: Only use the 10 results for now*\n",
    "* *Tip: Use a list comprehension*"
   ]
  },
  {
   "cell_type": "code",
   "execution_count": 52,
   "metadata": {},
   "outputs": [
    {
     "name": "stdout",
     "output_type": "stream",
     "text": [
      "Alderaan 2000000000\n",
      "Yavin IV 1000\n",
      "Hoth unknown\n",
      "Dagobah unknown\n",
      "Bespin 6000000\n",
      "Endor 30000000\n",
      "Naboo 4500000000\n",
      "Coruscant 1000000000000\n",
      "Kamino 1000000000\n",
      "Geonosis 100000000000\n"
     ]
    }
   ],
   "source": [
    "sorted_planets = Planets_data['results']\n",
    "for population in sorted_planets : \n",
    "    print (population['name'], population['population'])"
   ]
  },
  {
   "cell_type": "code",
   "execution_count": null,
   "metadata": {},
   "outputs": [],
   "source": []
  },
  {
   "cell_type": "code",
   "execution_count": null,
   "metadata": {},
   "outputs": [],
   "source": []
  },
  {
   "cell_type": "markdown",
   "metadata": {},
   "source": [
    "## 14) Get the population of each of the planets, EXCEPT the ones that have a population of `'unknown'`\n",
    "\n",
    "* *Tip: Use a list comprehension with a filter (that's the `..if..` part at the end)*"
   ]
  },
  {
   "cell_type": "code",
   "execution_count": 53,
   "metadata": {},
   "outputs": [
    {
     "name": "stdout",
     "output_type": "stream",
     "text": [
      "Alderaan 2000000000\n",
      "Yavin IV 1000\n",
      "Bespin 6000000\n",
      "Endor 30000000\n",
      "Naboo 4500000000\n",
      "Coruscant 1000000000000\n",
      "Kamino 1000000000\n",
      "Geonosis 100000000000\n"
     ]
    }
   ],
   "source": [
    "sorted_planets = Planets_data['results']\n",
    "for population in sorted_planets : \n",
    "    if population['name'] and population['population']!= 'unknown':\n",
    "        print(population['name'], population ['population'])"
   ]
  },
  {
   "cell_type": "code",
   "execution_count": null,
   "metadata": {},
   "outputs": [],
   "source": []
  },
  {
   "cell_type": "code",
   "execution_count": null,
   "metadata": {},
   "outputs": [],
   "source": []
  },
  {
   "cell_type": "markdown",
   "metadata": {},
   "source": [
    "## 14) Add up the populations\n",
    "\n",
    "* *Tip: They're strings right now, so it isn't going to work unless you change something about them*"
   ]
  },
  {
   "cell_type": "code",
   "execution_count": 54,
   "metadata": {
    "scrolled": true
   },
   "outputs": [
    {
     "name": "stdout",
     "output_type": "stream",
     "text": [
      "2000000000\n",
      "1000\n",
      "6000000\n",
      "30000000\n",
      "4500000000\n",
      "1000000000000\n",
      "1000000000\n",
      "100000000000\n"
     ]
    }
   ],
   "source": [
    "sorted_planets = Planets_data['results']\n",
    "for population in sorted_planets:\n",
    "     if population['population']!= 'unknown':\n",
    "        print (population['population'])"
   ]
  },
  {
   "cell_type": "code",
   "execution_count": 55,
   "metadata": {},
   "outputs": [
    {
     "name": "stdout",
     "output_type": "stream",
     "text": [
      "1107536001000\n"
     ]
    }
   ],
   "source": [
    "list_population = [2000000000, 1000, 6000000, 30000000, 4500000000, 1000000000000, 1000000000, 100000000000]\n",
    "sum=0\n",
    "for element in list_population:\n",
    "    sum+=element\n",
    "print(sum)"
   ]
  },
  {
   "cell_type": "markdown",
   "metadata": {},
   "source": [
    "## 15) Print what percentage of the total population each planet has\n",
    "\n",
    "I would like the sentences to be `\"The planet ____ has a population of _____, which is ___% of the total population\"`. If we don't know the planet's population, say `\"We don't know the population of _____\"`.\n",
    "\n",
    "* *Tip: This finally uses a for loop, but also the result of the last question*"
   ]
  },
  {
   "cell_type": "code",
   "execution_count": 56,
   "metadata": {},
   "outputs": [
    {
     "name": "stdout",
     "output_type": "stream",
     "text": [
      "The planet Alderaan has a population of 2000000000, wich is 0.18058103738336176% of the total population.\n",
      "The planet Yavin IV has a population of 1000, wich is 9.029051869168088e-08% of the total population.\n",
      "We don't know the population of Hoth\n",
      "We don't know the population of Dagobah\n",
      "The planet Bespin has a population of 6000000, wich is 0.0005417431121500854% of the total population.\n",
      "The planet Endor has a population of 30000000, wich is 0.0027087155607504266% of the total population.\n",
      "The planet Naboo has a population of 4500000000, wich is 0.406307334112564% of the total population.\n",
      "The planet Coruscant has a population of 1000000000000, wich is 90.29051869168089% of the total population.\n",
      "The planet Kamino has a population of 1000000000, wich is 0.09029051869168088% of the total population.\n",
      "The planet Geonosis has a population of 100000000000, wich is 9.02905186916809% of the total population.\n"
     ]
    }
   ],
   "source": [
    "sorted_planets = Planets_data['results']\n",
    "for population in sorted_planets:\n",
    "    if population['population']== 'unknown':\n",
    "        print (f\"We don't know the population of {population['name']}\")\n",
    "    else:\n",
    "        percentage = (int(population['population']) * 100)/sum\n",
    "        print (f\"The planet {population['name']} has a population of {population['population']}, wich is {percentage}% of the total population.\")\n"
   ]
  }
 ],
 "metadata": {
  "kernelspec": {
   "display_name": "Python 3",
   "language": "python",
   "name": "python3"
  },
  "language_info": {
   "codemirror_mode": {
    "name": "ipython",
    "version": 3
   },
   "file_extension": ".py",
   "mimetype": "text/x-python",
   "name": "python",
   "nbconvert_exporter": "python",
   "pygments_lexer": "ipython3",
   "version": "3.6.5"
  }
 },
 "nbformat": 4,
 "nbformat_minor": 2
}
