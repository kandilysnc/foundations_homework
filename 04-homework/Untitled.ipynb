{
 "cells": [
  {
   "cell_type": "markdown",
   "metadata": {},
   "source": [
    "1) Search for and print a list of 50 musicians with lil in their name, along with the number of listeners they have\n",
    "There are a lot of musicians with \"Lil\" in their name - it used to be all Lil Wayne and Lil Kim, but we live in a new world now!\n",
    "Tip: Remember, the domain for the API is http://ws.audioscrobbler.com\n",
    "Tip: Make sure you ask the API for 50 musicians! This involves adding another parameter to the URL - notice they all have a & before them. Read the documentation to find the parameter's name.\n",
    "Tip: When you are looking at any piece of data - is it a dictionary? Look at the keys! Is it a list? Look at the first element!\n",
    "Tip: LOOK AT THE KEYS. and then the other keys and the other keys and the other keys. It's an ugly series of dictionaries!"
   ]
  },
  {
   "cell_type": "code",
   "execution_count": null,
   "metadata": {},
   "outputs": [],
   "source": []
  },
  {
   "cell_type": "code",
   "execution_count": 3,
   "metadata": {},
   "outputs": [],
   "source": [
    "import urllib\n",
    "from IPython.display import display, Image\n",
    "from IPython.core.display import HTML "
   ]
  },
  {
   "cell_type": "code",
   "execution_count": 8,
   "metadata": {},
   "outputs": [],
   "source": [
    "import requests"
   ]
  },
  {
   "cell_type": "code",
   "execution_count": null,
   "metadata": {},
   "outputs": [],
   "source": [
    "response = requests.get('')\n",
    "Films_data = response.json()\n",
    "print(Films_data)"
   ]
  },
  {
   "cell_type": "code",
   "execution_count": 4,
   "metadata": {},
   "outputs": [],
   "source": [
    "API_KEY = '1b5995077e0c53dc4c9b397f2098ca1f'"
   ]
  },
  {
   "cell_type": "code",
   "execution_count": null,
   "metadata": {},
   "outputs": [],
   "source": []
  },
  {
   "cell_type": "code",
   "execution_count": 7,
   "metadata": {},
   "outputs": [
    {
     "ename": "SyntaxError",
     "evalue": "invalid syntax (<ipython-input-7-f24f219e1c82>, line 1)",
     "output_type": "error",
     "traceback": [
      "\u001b[0;36m  File \u001b[0;32m\"<ipython-input-7-f24f219e1c82>\"\u001b[0;36m, line \u001b[0;32m1\u001b[0m\n\u001b[0;31m    def display_image('https://2.0/?method=library.getartists&api_key=1b5995077e0c53dc4c9b397f2098ca1f&user=joanofarctan&format=json'):\u001b[0m\n\u001b[0m                                                                                                                                    ^\u001b[0m\n\u001b[0;31mSyntaxError\u001b[0m\u001b[0;31m:\u001b[0m invalid syntax\n"
     ]
    }
   ],
   "source": [
    "def display_image('https://2.0/?method=library.getartists&api_key=1b5995077e0c53dc4c9b397f2098ca1f&user=joanofarctan&format=json'):\n",
    "    response = urllib.request.urlopen('https://2.0/?method=library.getartists&api_key=1b5995077e0c53dc4c9b397f2098ca1f&user=joanofarctan&format=json').read()\n",
    "    img = Image(response, width=200)\n",
    "    display(img)\n",
    "    \n",
    "#response = requests.get('https://2.0/?method=library.getartists&api_key=1b5995077e0c53dc4c9b397f2098ca1f&user=joanofarctan&format=json')\n",
    "3Music_data = response.json()\n",
    "#print(Music_data)\n",
    "\n",
    "#/2.0/?method=library.getartists&api_key=YOUR_API_KEY&user=joanofarctan&format=json"
   ]
  },
  {
   "cell_type": "code",
   "execution_count": null,
   "metadata": {},
   "outputs": [],
   "source": []
  }
 ],
 "metadata": {
  "kernelspec": {
   "display_name": "Python 3",
   "language": "python",
   "name": "python3"
  },
  "language_info": {
   "codemirror_mode": {
    "name": "ipython",
    "version": 3
   },
   "file_extension": ".py",
   "mimetype": "text/x-python",
   "name": "python",
   "nbconvert_exporter": "python",
   "pygments_lexer": "ipython3",
   "version": "3.6.5"
  }
 },
 "nbformat": 4,
 "nbformat_minor": 2
}
